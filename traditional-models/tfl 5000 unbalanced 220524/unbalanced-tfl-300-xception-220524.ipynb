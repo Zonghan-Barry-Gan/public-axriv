{
 "cells": [
  {
   "cell_type": "code",
   "execution_count": 1,
   "id": "61026db2",
   "metadata": {
    "_cell_guid": "b1076dfc-b9ad-4769-8c92-a6c4dae69d19",
    "_uuid": "8f2839f25d086af736a60e9eeb907d3b93b6e0e5",
    "execution": {
     "iopub.execute_input": "2022-05-24T16:04:14.536275Z",
     "iopub.status.busy": "2022-05-24T16:04:14.535615Z",
     "iopub.status.idle": "2022-05-24T16:04:25.794826Z",
     "shell.execute_reply": "2022-05-24T16:04:25.794040Z"
    },
    "papermill": {
     "duration": 11.298763,
     "end_time": "2022-05-24T16:04:25.797326",
     "exception": false,
     "start_time": "2022-05-24T16:04:14.498563",
     "status": "completed"
    },
    "tags": []
   },
   "outputs": [
    {
     "name": "stdout",
     "output_type": "stream",
     "text": [
      "Collecting Livelossplot\r\n",
      "  Downloading livelossplot-0.5.5-py3-none-any.whl (22 kB)\r\n",
      "Requirement already satisfied: ipython==7.* in /opt/conda/lib/python3.7/site-packages (from Livelossplot) (7.32.0)\r\n",
      "Requirement already satisfied: numpy<1.22 in /opt/conda/lib/python3.7/site-packages (from Livelossplot) (1.21.6)\r\n",
      "Requirement already satisfied: bokeh in /opt/conda/lib/python3.7/site-packages (from Livelossplot) (2.4.2)\r\n",
      "Requirement already satisfied: matplotlib in /opt/conda/lib/python3.7/site-packages (from Livelossplot) (3.5.2)\r\n",
      "Requirement already satisfied: traitlets>=4.2 in /opt/conda/lib/python3.7/site-packages (from ipython==7.*->Livelossplot) (5.1.1)\r\n",
      "Requirement already satisfied: pickleshare in /opt/conda/lib/python3.7/site-packages (from ipython==7.*->Livelossplot) (0.7.5)\r\n",
      "Requirement already satisfied: jedi>=0.16 in /opt/conda/lib/python3.7/site-packages (from ipython==7.*->Livelossplot) (0.18.1)\r\n",
      "Requirement already satisfied: decorator in /opt/conda/lib/python3.7/site-packages (from ipython==7.*->Livelossplot) (5.1.1)\r\n",
      "Requirement already satisfied: matplotlib-inline in /opt/conda/lib/python3.7/site-packages (from ipython==7.*->Livelossplot) (0.1.3)\r\n",
      "Requirement already satisfied: setuptools>=18.5 in /opt/conda/lib/python3.7/site-packages (from ipython==7.*->Livelossplot) (59.8.0)\r\n",
      "Requirement already satisfied: prompt-toolkit!=3.0.0,!=3.0.1,<3.1.0,>=2.0.0 in /opt/conda/lib/python3.7/site-packages (from ipython==7.*->Livelossplot) (3.0.27)\r\n",
      "Requirement already satisfied: pexpect>4.3 in /opt/conda/lib/python3.7/site-packages (from ipython==7.*->Livelossplot) (4.8.0)\r\n",
      "Requirement already satisfied: backcall in /opt/conda/lib/python3.7/site-packages (from ipython==7.*->Livelossplot) (0.2.0)\r\n",
      "Requirement already satisfied: pygments in /opt/conda/lib/python3.7/site-packages (from ipython==7.*->Livelossplot) (2.11.2)\r\n",
      "Requirement already satisfied: packaging>=16.8 in /opt/conda/lib/python3.7/site-packages (from bokeh->Livelossplot) (21.3)\r\n",
      "Requirement already satisfied: tornado>=5.1 in /opt/conda/lib/python3.7/site-packages (from bokeh->Livelossplot) (6.1)\r\n",
      "Requirement already satisfied: PyYAML>=3.10 in /opt/conda/lib/python3.7/site-packages (from bokeh->Livelossplot) (6.0)\r\n",
      "Requirement already satisfied: Jinja2>=2.9 in /opt/conda/lib/python3.7/site-packages (from bokeh->Livelossplot) (3.1.2)\r\n",
      "Requirement already satisfied: pillow>=7.1.0 in /opt/conda/lib/python3.7/site-packages (from bokeh->Livelossplot) (9.0.1)\r\n",
      "Requirement already satisfied: typing-extensions>=3.10.0 in /opt/conda/lib/python3.7/site-packages (from bokeh->Livelossplot) (4.2.0)\r\n",
      "Requirement already satisfied: fonttools>=4.22.0 in /opt/conda/lib/python3.7/site-packages (from matplotlib->Livelossplot) (4.30.0)\r\n",
      "Requirement already satisfied: python-dateutil>=2.7 in /opt/conda/lib/python3.7/site-packages (from matplotlib->Livelossplot) (2.8.2)\r\n",
      "Requirement already satisfied: kiwisolver>=1.0.1 in /opt/conda/lib/python3.7/site-packages (from matplotlib->Livelossplot) (1.4.0)\r\n",
      "Requirement already satisfied: pyparsing>=2.2.1 in /opt/conda/lib/python3.7/site-packages (from matplotlib->Livelossplot) (3.0.7)\r\n",
      "Requirement already satisfied: cycler>=0.10 in /opt/conda/lib/python3.7/site-packages (from matplotlib->Livelossplot) (0.11.0)\r\n",
      "Requirement already satisfied: parso<0.9.0,>=0.8.0 in /opt/conda/lib/python3.7/site-packages (from jedi>=0.16->ipython==7.*->Livelossplot) (0.8.3)\r\n",
      "Requirement already satisfied: MarkupSafe>=2.0 in /opt/conda/lib/python3.7/site-packages (from Jinja2>=2.9->bokeh->Livelossplot) (2.0.1)\r\n",
      "Requirement already satisfied: ptyprocess>=0.5 in /opt/conda/lib/python3.7/site-packages (from pexpect>4.3->ipython==7.*->Livelossplot) (0.7.0)\r\n",
      "Requirement already satisfied: wcwidth in /opt/conda/lib/python3.7/site-packages (from prompt-toolkit!=3.0.0,!=3.0.1,<3.1.0,>=2.0.0->ipython==7.*->Livelossplot) (0.2.5)\r\n",
      "Requirement already satisfied: six>=1.5 in /opt/conda/lib/python3.7/site-packages (from python-dateutil>=2.7->matplotlib->Livelossplot) (1.16.0)\r\n",
      "Installing collected packages: Livelossplot\r\n",
      "Successfully installed Livelossplot-0.5.5\r\n",
      "\u001b[33mWARNING: Running pip as the 'root' user can result in broken permissions and conflicting behaviour with the system package manager. It is recommended to use a virtual environment instead: https://pip.pypa.io/warnings/venv\u001b[0m\u001b[33m\r\n",
      "\u001b[0m"
     ]
    }
   ],
   "source": [
    "# This Python 3 environment comes with many helpful analytics libraries installed\n",
    "# It is defined by the kaggle/python Docker image: https://github.com/kaggle/docker-python\n",
    "# For example, here's several helpful packages to load\n",
    "\n",
    "import numpy as np # linear algebra\n",
    "import pandas as pd # data processing, CSV file I/O (e.g. pd.read_csv)\n",
    "\n",
    "# Input data files are available in the read-only \"../input/\" directory\n",
    "# For example, running this (by clicking run or pressing Shift+Enter) will list all files under the input directory\n",
    "\n",
    "import os\n",
    "\n",
    "import warnings\n",
    "warnings.filterwarnings('ignore')\n",
    "%matplotlib inline\n",
    "!pip install Livelossplot\n",
    "from livelossplot import PlotLossesKeras\n",
    "\n",
    "from glob import glob\n",
    "import os\n",
    "import shutil\n",
    "\n",
    "import numpy as np\n",
    "import pandas as pd\n",
    "# You can write up to 20GB to the current directory (/kaggle/working/) that gets preserved as output when you create a version using \"Save & Run All\" \n",
    "# You can also write temporary files to /kaggle/temp/, but they won't be saved outside of the current session"
   ]
  },
  {
   "cell_type": "markdown",
   "id": "15899b53",
   "metadata": {
    "papermill": {
     "duration": 0.036588,
     "end_time": "2022-05-24T16:04:25.873548",
     "exception": false,
     "start_time": "2022-05-24T16:04:25.836960",
     "status": "completed"
    },
    "tags": []
   },
   "source": [
    "# AIM\n",
    "## To classify the images into \n",
    "### IDC+\n",
    "### IDC-\n",
    "\n",
    "# Validation Strategy:\n",
    "\n",
    "\n",
    "# Augmentaions Used:\n",
    "## No Augmentation\n"
   ]
  },
  {
   "cell_type": "code",
   "execution_count": 2,
   "id": "234a4e39",
   "metadata": {
    "execution": {
     "iopub.execute_input": "2022-05-24T16:04:25.951290Z",
     "iopub.status.busy": "2022-05-24T16:04:25.950724Z",
     "iopub.status.idle": "2022-05-24T16:04:35.465361Z",
     "shell.execute_reply": "2022-05-24T16:04:35.464629Z"
    },
    "papermill": {
     "duration": 9.554702,
     "end_time": "2022-05-24T16:04:35.467390",
     "exception": false,
     "start_time": "2022-05-24T16:04:25.912688",
     "status": "completed"
    },
    "tags": []
   },
   "outputs": [
    {
     "data": {
      "text/html": [
       "<style type='text/css'>\n",
       ".datatable table.frame { margin-bottom: 0; }\n",
       ".datatable table.frame thead { border-bottom: none; }\n",
       ".datatable table.frame tr.coltypes td {  color: #FFFFFF;  line-height: 6px;  padding: 0 0.5em;}\n",
       ".datatable .bool    { background: #DDDD99; }\n",
       ".datatable .object  { background: #565656; }\n",
       ".datatable .int     { background: #5D9E5D; }\n",
       ".datatable .float   { background: #4040CC; }\n",
       ".datatable .str     { background: #CC4040; }\n",
       ".datatable .time    { background: #40CC40; }\n",
       ".datatable .row_index {  background: var(--jp-border-color3);  border-right: 1px solid var(--jp-border-color0);  color: var(--jp-ui-font-color3);  font-size: 9px;}\n",
       ".datatable .frame tbody td { text-align: left; }\n",
       ".datatable .frame tr.coltypes .row_index {  background: var(--jp-border-color0);}\n",
       ".datatable th:nth-child(2) { padding-left: 12px; }\n",
       ".datatable .hellipsis {  color: var(--jp-cell-editor-border-color);}\n",
       ".datatable .vellipsis {  background: var(--jp-layout-color0);  color: var(--jp-cell-editor-border-color);}\n",
       ".datatable .na {  color: var(--jp-cell-editor-border-color);  font-size: 80%;}\n",
       ".datatable .sp {  opacity: 0.25;}\n",
       ".datatable .footer { font-size: 9px; }\n",
       ".datatable .frame_dimensions {  background: var(--jp-border-color3);  border-top: 1px solid var(--jp-border-color0);  color: var(--jp-ui-font-color3);  display: inline-block;  opacity: 0.6;  padding: 1px 10px 1px 5px;}\n",
       "</style>\n"
      ],
      "text/plain": [
       "<IPython.core.display.HTML object>"
      ]
     },
     "metadata": {},
     "output_type": "display_data"
    },
    {
     "name": "stdout",
     "output_type": "stream",
     "text": [
      "All modules have been imported\n"
     ]
    }
   ],
   "source": [
    "\n",
    "import numpy as np\n",
    "import pandas as pd\n",
    "import cv2\n",
    "from PIL import Image\n",
    "import scipy\n",
    "\n",
    "import tensorflow as tf\n",
    "from tensorflow.keras.applications import *\n",
    "from tensorflow.keras.optimizers import *\n",
    "from tensorflow.keras.losses import *\n",
    "from tensorflow.keras.layers import *\n",
    "from tensorflow.keras.models import *\n",
    "from tensorflow.keras.callbacks import *\n",
    "from tensorflow.keras.preprocessing.image import *\n",
    "from tensorflow.keras.utils import *\n",
    "# import pydot\n",
    "\n",
    "from sklearn.metrics import *\n",
    "from sklearn.model_selection import *\n",
    "import tensorflow.keras.backend as K\n",
    "\n",
    "from tqdm import tqdm, tqdm_notebook\n",
    "from colorama import Fore\n",
    "import json\n",
    "import matplotlib.pyplot as plt\n",
    "import seaborn as sns\n",
    "from glob import glob\n",
    "from skimage.io import *\n",
    "%config Completer.use_jedi = False\n",
    "import time\n",
    "from sklearn.decomposition import PCA\n",
    "from sklearn.svm import LinearSVC\n",
    "from sklearn.linear_model import LogisticRegression\n",
    "from sklearn.metrics import accuracy_score\n",
    "import lightgbm as lgb\n",
    "import xgboost as xgb\n",
    "\n",
    "print(\"All modules have been imported\")"
   ]
  },
  {
   "cell_type": "code",
   "execution_count": 3,
   "id": "075241b7",
   "metadata": {
    "execution": {
     "iopub.execute_input": "2022-05-24T16:04:35.542622Z",
     "iopub.status.busy": "2022-05-24T16:04:35.542270Z",
     "iopub.status.idle": "2022-05-24T16:04:35.547534Z",
     "shell.execute_reply": "2022-05-24T16:04:35.546882Z"
    },
    "papermill": {
     "duration": 0.044535,
     "end_time": "2022-05-24T16:04:35.549126",
     "exception": false,
     "start_time": "2022-05-24T16:04:35.504591",
     "status": "completed"
    },
    "tags": []
   },
   "outputs": [],
   "source": [
    "import os\n",
    "os.makedirs('../working/data/train_seg/idc-minus/')     \n",
    "os.makedirs('../working/data/train_seg/idc-plus/')  \n",
    "os.makedirs('../working/data/test_seg/idc-minus/')     \n",
    "os.makedirs('../working/data/test_seg/idc-plus/')  \n",
    "os.makedirs('../working/data/val_seg/idc-minus/')     \n",
    "os.makedirs('../working/data/val_seg/idc-plus/')  "
   ]
  },
  {
   "cell_type": "code",
   "execution_count": 4,
   "id": "ef8d2ee1",
   "metadata": {
    "execution": {
     "iopub.execute_input": "2022-05-24T16:04:35.625173Z",
     "iopub.status.busy": "2022-05-24T16:04:35.624943Z",
     "iopub.status.idle": "2022-05-24T16:04:35.628809Z",
     "shell.execute_reply": "2022-05-24T16:04:35.628157Z"
    },
    "papermill": {
     "duration": 0.044393,
     "end_time": "2022-05-24T16:04:35.630406",
     "exception": false,
     "start_time": "2022-05-24T16:04:35.586013",
     "status": "completed"
    },
    "tags": []
   },
   "outputs": [],
   "source": [
    "sampling_seed=0\n",
    "size_4_training=300\n",
    "img_size=299\n",
    "epoch1=10\n",
    "epoch2=3\n",
    "training_reshape=(-1, img_size, img_size, 3)"
   ]
  },
  {
   "cell_type": "markdown",
   "id": "72e3cad5",
   "metadata": {
    "papermill": {
     "duration": 0.037562,
     "end_time": "2022-05-24T16:04:35.705620",
     "exception": false,
     "start_time": "2022-05-24T16:04:35.668058",
     "status": "completed"
    },
    "tags": []
   },
   "source": [
    "Image labelling"
   ]
  },
  {
   "cell_type": "code",
   "execution_count": 5,
   "id": "218f530e",
   "metadata": {
    "execution": {
     "iopub.execute_input": "2022-05-24T16:04:35.782885Z",
     "iopub.status.busy": "2022-05-24T16:04:35.782211Z",
     "iopub.status.idle": "2022-05-24T16:07:44.020795Z",
     "shell.execute_reply": "2022-05-24T16:07:44.019926Z"
    },
    "papermill": {
     "duration": 188.279367,
     "end_time": "2022-05-24T16:07:44.023248",
     "exception": false,
     "start_time": "2022-05-24T16:04:35.743881",
     "status": "completed"
    },
    "tags": []
   },
   "outputs": [
    {
     "name": "stdout",
     "output_type": "stream",
     "text": [
      "['../input/breast-histopathology-images/IDC_regular_ps50_idx5/10295/0/10295_idx5_x1351_y1101_class0.png', '../input/breast-histopathology-images/IDC_regular_ps50_idx5/10295/0/10295_idx5_x1501_y501_class0.png', '../input/breast-histopathology-images/IDC_regular_ps50_idx5/10295/0/10295_idx5_x1501_y1101_class0.png', '../input/breast-histopathology-images/IDC_regular_ps50_idx5/10295/0/10295_idx5_x451_y901_class0.png', '../input/breast-histopathology-images/IDC_regular_ps50_idx5/10295/0/10295_idx5_x801_y451_class0.png', '../input/breast-histopathology-images/IDC_regular_ps50_idx5/10295/0/10295_idx5_x151_y1051_class0.png', '../input/breast-histopathology-images/IDC_regular_ps50_idx5/10295/0/10295_idx5_x1351_y901_class0.png', '../input/breast-histopathology-images/IDC_regular_ps50_idx5/10295/0/10295_idx5_x701_y651_class0.png', '../input/breast-histopathology-images/IDC_regular_ps50_idx5/10295/0/10295_idx5_x951_y1401_class0.png', '../input/breast-histopathology-images/IDC_regular_ps50_idx5/10295/0/10295_idx5_x601_y501_class0.png']\n"
     ]
    }
   ],
   "source": [
    "import random\n",
    "#make directory for labelling\n",
    "os.makedirs('../working/idc2/idc-minus/')     \n",
    "os.makedirs('../working/idc2/idc-plus/')  \n",
    "\n",
    "\n",
    "class0 = [] # 0 = idc+\n",
    "class1 = [] # 1 = idc-\n",
    "imagePatches = glob('../input/breast-histopathology-images/IDC_regular_ps50_idx5/**/*.png', recursive=True)\n",
    "for filename in imagePatches:\n",
    "    if filename.endswith(\"class0.png\"):\n",
    "         class0.append(filename)\n",
    "    else:\n",
    "        class1.append(filename)\n",
    "\n",
    "print(class0[0:10])\n",
    "\n",
    "#sampling 10000 images from class 0 and class 1 to train the model\n",
    "\n",
    "random.seed(sampling_seed)\n",
    "class0sample=random.sample(class0,size_4_training)\n",
    "class1sample=random.sample(class1,size_4_training)\n",
    "\n",
    "\n",
    "def read_and_save_data(path, file_name_array):\n",
    "    j=0\n",
    "    for i in file_name_array:\n",
    "        if i.endswith('.png'):\n",
    "          \n",
    "            \n",
    "            #second copy method\n",
    "            head, tail = os.path.split(i)\n",
    "            outputname=str(path+tail)\n",
    "            #outputname=str(path+str(j)+'.png')\n",
    "            #print(outputname)\n",
    "            shutil.copy(i, outputname)\n",
    "   \n",
    "            #print(status2)\n",
    "            \n",
    "            j=j+1\n",
    "            if j==120000:\n",
    "                break\n",
    "            \n",
    "   \n",
    "class0path='../working/idc2/idc-minus/'\n",
    "class1path='../working/idc2/idc-plus/'\n",
    "\n",
    "\n",
    "\n",
    "\n",
    "read_and_save_data(class0path,class0sample)\n",
    "read_and_save_data(class1path,class1sample)"
   ]
  },
  {
   "cell_type": "code",
   "execution_count": null,
   "id": "dc7b71c7",
   "metadata": {
    "papermill": {
     "duration": 0.03869,
     "end_time": "2022-05-24T16:07:44.105097",
     "exception": false,
     "start_time": "2022-05-24T16:07:44.066407",
     "status": "completed"
    },
    "tags": []
   },
   "outputs": [],
   "source": []
  },
  {
   "cell_type": "code",
   "execution_count": 6,
   "id": "b9855e05",
   "metadata": {
    "execution": {
     "iopub.execute_input": "2022-05-24T16:07:44.187361Z",
     "iopub.status.busy": "2022-05-24T16:07:44.187104Z",
     "iopub.status.idle": "2022-05-24T16:07:44.190999Z",
     "shell.execute_reply": "2022-05-24T16:07:44.190177Z"
    },
    "papermill": {
     "duration": 0.048817,
     "end_time": "2022-05-24T16:07:44.193040",
     "exception": false,
     "start_time": "2022-05-24T16:07:44.144223",
     "status": "completed"
    },
    "tags": []
   },
   "outputs": [],
   "source": [
    "import os #Operating System\n",
    "import sys #System\n",
    "# train_generator = train_datagen.flow(x_train, y_train, batch_size =)\n",
    "# val_generator = val_datagen.flow(x_val, y_val, batch_size = 64)\n",
    "# test_generator=test_datagen.flow(x_test,y_test,batch_size = 64)"
   ]
  },
  {
   "cell_type": "code",
   "execution_count": 7,
   "id": "e65637ee",
   "metadata": {
    "execution": {
     "iopub.execute_input": "2022-05-24T16:07:44.271232Z",
     "iopub.status.busy": "2022-05-24T16:07:44.271001Z",
     "iopub.status.idle": "2022-05-24T16:07:44.671965Z",
     "shell.execute_reply": "2022-05-24T16:07:44.671215Z"
    },
    "papermill": {
     "duration": 0.441593,
     "end_time": "2022-05-24T16:07:44.674148",
     "exception": false,
     "start_time": "2022-05-24T16:07:44.232555",
     "status": "completed"
    },
    "tags": []
   },
   "outputs": [
    {
     "name": "stdout",
     "output_type": "stream",
     "text": [
      "(300, 2)\n",
      "(600, 2)\n",
      "(420, 299, 299, 3) (54, 299, 299, 3) (126, 299, 299, 3) (420, 2) (54, 2) (126, 2)\n"
     ]
    }
   ],
   "source": [
    "import cv2\n",
    "'''\n",
    "def readImage(path, X, Y, label):\n",
    "    j=0\n",
    " \n",
    "    for i in os.listdir(path):\n",
    "        imgname=path+i\n",
    "        #print(imgname)\n",
    "        img = cv2.imread(imgname, cv2.IMREAD_COLOR)\n",
    "        img =cv2.resize(img,(50, 50))\n",
    "        X.append(img)\n",
    "        Y.append(label)\n",
    "        j=j+1\n",
    "        #if j==10:\n",
    "        #    break\n",
    "        \n",
    "    return X, Y\n",
    "    '''\n",
    "def readImage(path, tag):\n",
    "    j=0\n",
    "    image_array = []\n",
    "    for i in os.listdir(path):\n",
    "        imgname=path+i\n",
    "        #print(imgname)\n",
    "        img = cv2.imread(imgname, cv2.IMREAD_COLOR)\n",
    "        img_resized = cv2.resize(img, (img_size,img_size), interpolation=cv2.INTER_LINEAR)\n",
    "        image_array.append([img_resized, tag])\n",
    "        #print(img[1])\n",
    "        j=j+1\n",
    "        #if j==10:\n",
    "        #    break\n",
    "        \n",
    "    return image_array\n",
    "import numpy as np\n",
    "\n",
    "\n",
    "class0_array = readImage(class0path, 0)\n",
    "class1_array = readImage(class1path, 1)\n",
    "class0_array=np.array(class0_array)\n",
    "class1_array=np.array(class1_array)\n",
    "combined_data = np.concatenate((class0_array, class1_array))\n",
    "random.seed(41)\n",
    "random.shuffle(combined_data)\n",
    "print(class0_array.shape)\n",
    "print(combined_data.shape)\n",
    "\n",
    "X = []\n",
    "y = []\n",
    "\n",
    "for features,label in combined_data:\n",
    "    X.append(features)\n",
    "    y.append(label)\n",
    "#print(X.shape)\n",
    "#pring(y.shape)\n",
    "\n",
    "# reshape X data\n",
    "X = np.array(X).reshape(training_reshape)\n",
    "\n",
    "\n",
    "X_train, X_test1, y_train, y_test1 = train_test_split(X, y, test_size=0.3, random_state=42)\n",
    "X_val, X_test, y_val, y_test = train_test_split(X_test1, y_test1, test_size=0.3, random_state=42)\n",
    "y_train = to_categorical(y_train)\n",
    "y_test = to_categorical(y_test)\n",
    "y_val = to_categorical(y_val)\n",
    "print(X_train.shape, X_test.shape, X_val.shape, y_train.shape, y_test.shape, y_val.shape)"
   ]
  },
  {
   "cell_type": "markdown",
   "id": "24bcd16c",
   "metadata": {
    "papermill": {
     "duration": 0.038528,
     "end_time": "2022-05-24T16:07:44.750972",
     "exception": false,
     "start_time": "2022-05-24T16:07:44.712444",
     "status": "completed"
    },
    "tags": []
   },
   "source": []
  },
  {
   "cell_type": "code",
   "execution_count": 8,
   "id": "9b796bcc",
   "metadata": {
    "execution": {
     "iopub.execute_input": "2022-05-24T16:07:44.829673Z",
     "iopub.status.busy": "2022-05-24T16:07:44.828790Z",
     "iopub.status.idle": "2022-05-24T16:07:44.834786Z",
     "shell.execute_reply": "2022-05-24T16:07:44.834052Z"
    },
    "papermill": {
     "duration": 0.047388,
     "end_time": "2022-05-24T16:07:44.836505",
     "exception": false,
     "start_time": "2022-05-24T16:07:44.789117",
     "status": "completed"
    },
    "tags": []
   },
   "outputs": [],
   "source": [
    "\n",
    "#Callbacks\n",
    "c2=tf.keras.callbacks.EarlyStopping(\n",
    "    monitor=\"val_loss\",\n",
    "    min_delta=0,\n",
    "    patience=6,\n",
    "    mode=\"auto\",\n",
    "    baseline=None,\n",
    "    restore_best_weights=True,\n",
    ")\n",
    "\n",
    "c3=tf.keras.callbacks.ReduceLROnPlateau(\n",
    "    monitor=\"val_loss\",\n",
    "    factor=0.1,\n",
    "    patience=6,\n",
    "    mode=\"auto\",\n",
    "    min_delta=0.0001,\n",
    "    cooldown=0,\n",
    "    min_lr=0.001\n",
    ")\n",
    "nClasses=3"
   ]
  },
  {
   "cell_type": "code",
   "execution_count": 9,
   "id": "b0cb4aac",
   "metadata": {
    "execution": {
     "iopub.execute_input": "2022-05-24T16:07:44.913634Z",
     "iopub.status.busy": "2022-05-24T16:07:44.913061Z",
     "iopub.status.idle": "2022-05-24T16:07:44.921326Z",
     "shell.execute_reply": "2022-05-24T16:07:44.920222Z"
    },
    "papermill": {
     "duration": 0.052019,
     "end_time": "2022-05-24T16:07:44.926405",
     "exception": false,
     "start_time": "2022-05-24T16:07:44.874386",
     "status": "completed"
    },
    "tags": []
   },
   "outputs": [],
   "source": [
    "\n",
    "from PIL import Image\n",
    "import glob\n"
   ]
  },
  {
   "cell_type": "code",
   "execution_count": null,
   "id": "13ebd6e1",
   "metadata": {
    "papermill": {
     "duration": 0.068898,
     "end_time": "2022-05-24T16:07:45.062120",
     "exception": false,
     "start_time": "2022-05-24T16:07:44.993222",
     "status": "completed"
    },
    "tags": []
   },
   "outputs": [],
   "source": []
  },
  {
   "cell_type": "code",
   "execution_count": null,
   "id": "7357ab00",
   "metadata": {
    "papermill": {
     "duration": 0.066232,
     "end_time": "2022-05-24T16:07:45.192476",
     "exception": false,
     "start_time": "2022-05-24T16:07:45.126244",
     "status": "completed"
    },
    "tags": []
   },
   "outputs": [],
   "source": []
  },
  {
   "cell_type": "code",
   "execution_count": 10,
   "id": "95650616",
   "metadata": {
    "execution": {
     "iopub.execute_input": "2022-05-24T16:07:45.319108Z",
     "iopub.status.busy": "2022-05-24T16:07:45.318860Z",
     "iopub.status.idle": "2022-05-24T16:07:45.322827Z",
     "shell.execute_reply": "2022-05-24T16:07:45.322150Z"
    },
    "papermill": {
     "duration": 0.06908,
     "end_time": "2022-05-24T16:07:45.324530",
     "exception": false,
     "start_time": "2022-05-24T16:07:45.255450",
     "status": "completed"
    },
    "tags": []
   },
   "outputs": [],
   "source": [
    "import os #Operating System\n",
    "import sys #System\n",
    "# train_generator = train_datagen.flow(x_train, y_train, batch_size =)\n",
    "# val_generator = val_datagen.flow(x_val, y_val, batch_size = 64)\n",
    "# test_generator=test_datagen.flow(x_test,y_test,batch_size = 64)\n"
   ]
  },
  {
   "cell_type": "markdown",
   "id": "59c5d1ac",
   "metadata": {
    "papermill": {
     "duration": 0.063412,
     "end_time": "2022-05-24T16:07:45.452655",
     "exception": false,
     "start_time": "2022-05-24T16:07:45.389243",
     "status": "completed"
    },
    "tags": []
   },
   "source": [
    "#import image"
   ]
  },
  {
   "cell_type": "code",
   "execution_count": null,
   "id": "8d871b7c",
   "metadata": {
    "papermill": {
     "duration": 0.037633,
     "end_time": "2022-05-24T16:07:45.544480",
     "exception": false,
     "start_time": "2022-05-24T16:07:45.506847",
     "status": "completed"
    },
    "tags": []
   },
   "outputs": [],
   "source": []
  },
  {
   "cell_type": "code",
   "execution_count": null,
   "id": "ccbafd02",
   "metadata": {
    "papermill": {
     "duration": 0.037749,
     "end_time": "2022-05-24T16:07:45.620452",
     "exception": false,
     "start_time": "2022-05-24T16:07:45.582703",
     "status": "completed"
    },
    "tags": []
   },
   "outputs": [],
   "source": []
  },
  {
   "cell_type": "code",
   "execution_count": 11,
   "id": "31eb1eb4",
   "metadata": {
    "execution": {
     "iopub.execute_input": "2022-05-24T16:07:45.697688Z",
     "iopub.status.busy": "2022-05-24T16:07:45.697443Z",
     "iopub.status.idle": "2022-05-24T16:07:45.703580Z",
     "shell.execute_reply": "2022-05-24T16:07:45.702896Z"
    },
    "papermill": {
     "duration": 0.047187,
     "end_time": "2022-05-24T16:07:45.705567",
     "exception": false,
     "start_time": "2022-05-24T16:07:45.658380",
     "status": "completed"
    },
    "tags": []
   },
   "outputs": [
    {
     "name": "stdout",
     "output_type": "stream",
     "text": [
      "(420, 299, 299, 3) (54, 299, 299, 3) (126, 299, 299, 3) (420, 2) (54, 2) (126, 2)\n"
     ]
    }
   ],
   "source": [
    "print(X_train.shape, X_test.shape, X_val.shape, y_train.shape, y_test.shape, y_val.shape)"
   ]
  },
  {
   "cell_type": "code",
   "execution_count": 12,
   "id": "c4c2d8ca",
   "metadata": {
    "execution": {
     "iopub.execute_input": "2022-05-24T16:07:45.783752Z",
     "iopub.status.busy": "2022-05-24T16:07:45.783543Z",
     "iopub.status.idle": "2022-05-24T16:07:45.788396Z",
     "shell.execute_reply": "2022-05-24T16:07:45.787717Z"
    },
    "papermill": {
     "duration": 0.045859,
     "end_time": "2022-05-24T16:07:45.790151",
     "exception": false,
     "start_time": "2022-05-24T16:07:45.744292",
     "status": "completed"
    },
    "tags": []
   },
   "outputs": [],
   "source": [
    "#Callbacks\n",
    "c2=tf.keras.callbacks.EarlyStopping(\n",
    "    monitor=\"val_loss\",\n",
    "    min_delta=0,\n",
    "    patience=6,\n",
    "    mode=\"auto\",\n",
    "    baseline=None,\n",
    "    restore_best_weights=True,\n",
    ")\n",
    "\n",
    "c3=tf.keras.callbacks.ReduceLROnPlateau(\n",
    "    monitor=\"val_loss\",\n",
    "    factor=0.1,\n",
    "    patience=6,\n",
    "    mode=\"auto\",\n",
    "    min_delta=0.0001,\n",
    "    cooldown=0,\n",
    "    min_lr=0.001\n",
    ")\n",
    "nClasses=2"
   ]
  },
  {
   "cell_type": "markdown",
   "id": "1c9ed97f",
   "metadata": {
    "papermill": {
     "duration": 0.037735,
     "end_time": "2022-05-24T16:07:45.867400",
     "exception": false,
     "start_time": "2022-05-24T16:07:45.829665",
     "status": "completed"
    },
    "tags": []
   },
   "source": [
    "# model"
   ]
  },
  {
   "cell_type": "code",
   "execution_count": 13,
   "id": "17e2af29",
   "metadata": {
    "execution": {
     "iopub.execute_input": "2022-05-24T16:07:45.946140Z",
     "iopub.status.busy": "2022-05-24T16:07:45.945888Z",
     "iopub.status.idle": "2022-05-24T16:08:12.045109Z",
     "shell.execute_reply": "2022-05-24T16:08:12.043827Z"
    },
    "papermill": {
     "duration": 26.141622,
     "end_time": "2022-05-24T16:08:12.047285",
     "exception": false,
     "start_time": "2022-05-24T16:07:45.905663",
     "status": "completed"
    },
    "tags": []
   },
   "outputs": [
    {
     "name": "stderr",
     "output_type": "stream",
     "text": [
      "2022-05-24 16:07:46.057682: I tensorflow/stream_executor/cuda/cuda_gpu_executor.cc:937] successful NUMA node read from SysFS had negative value (-1), but there must be at least one NUMA node, so returning NUMA node zero\n",
      "2022-05-24 16:07:46.063209: I tensorflow/stream_executor/cuda/cuda_gpu_executor.cc:937] successful NUMA node read from SysFS had negative value (-1), but there must be at least one NUMA node, so returning NUMA node zero\n",
      "2022-05-24 16:07:46.063908: I tensorflow/stream_executor/cuda/cuda_gpu_executor.cc:937] successful NUMA node read from SysFS had negative value (-1), but there must be at least one NUMA node, so returning NUMA node zero\n",
      "2022-05-24 16:07:46.065057: I tensorflow/core/platform/cpu_feature_guard.cc:142] This TensorFlow binary is optimized with oneAPI Deep Neural Network Library (oneDNN) to use the following CPU instructions in performance-critical operations:  AVX2 AVX512F FMA\n",
      "To enable them in other operations, rebuild TensorFlow with the appropriate compiler flags.\n",
      "2022-05-24 16:07:46.065372: I tensorflow/stream_executor/cuda/cuda_gpu_executor.cc:937] successful NUMA node read from SysFS had negative value (-1), but there must be at least one NUMA node, so returning NUMA node zero\n",
      "2022-05-24 16:07:46.066051: I tensorflow/stream_executor/cuda/cuda_gpu_executor.cc:937] successful NUMA node read from SysFS had negative value (-1), but there must be at least one NUMA node, so returning NUMA node zero\n",
      "2022-05-24 16:07:46.066735: I tensorflow/stream_executor/cuda/cuda_gpu_executor.cc:937] successful NUMA node read from SysFS had negative value (-1), but there must be at least one NUMA node, so returning NUMA node zero\n",
      "2022-05-24 16:07:48.566235: I tensorflow/stream_executor/cuda/cuda_gpu_executor.cc:937] successful NUMA node read from SysFS had negative value (-1), but there must be at least one NUMA node, so returning NUMA node zero\n",
      "2022-05-24 16:07:48.567072: I tensorflow/stream_executor/cuda/cuda_gpu_executor.cc:937] successful NUMA node read from SysFS had negative value (-1), but there must be at least one NUMA node, so returning NUMA node zero\n",
      "2022-05-24 16:07:48.567770: I tensorflow/stream_executor/cuda/cuda_gpu_executor.cc:937] successful NUMA node read from SysFS had negative value (-1), but there must be at least one NUMA node, so returning NUMA node zero\n",
      "2022-05-24 16:07:48.569149: I tensorflow/core/common_runtime/gpu/gpu_device.cc:1510] Created device /job:localhost/replica:0/task:0/device:GPU:0 with 15385 MB memory:  -> device: 0, name: Tesla P100-PCIE-16GB, pci bus id: 0000:00:04.0, compute capability: 6.0\n"
     ]
    },
    {
     "name": "stdout",
     "output_type": "stream",
     "text": [
      "Downloading data from https://storage.googleapis.com/tensorflow/keras-applications/xception/xception_weights_tf_dim_ordering_tf_kernels_notop.h5\n",
      "83689472/83683744 [==============================] - 22s 0us/step\n",
      "83697664/83683744 [==============================] - 22s 0us/step\n",
      "Model: \"sequential\"\n",
      "_________________________________________________________________\n",
      "Layer (type)                 Output Shape              Param #   \n",
      "=================================================================\n",
      "xception (Functional)        (None, 10, 10, 2048)      20861480  \n",
      "_________________________________________________________________\n",
      "flatten (Flatten)            (None, 204800)            0         \n",
      "_________________________________________________________________\n",
      "batch_normalization_4 (Batch (None, 204800)            819200    \n",
      "_________________________________________________________________\n",
      "dense (Dense)                (None, 4096)              838864896 \n",
      "_________________________________________________________________\n",
      "batch_normalization_5 (Batch (None, 4096)              16384     \n",
      "_________________________________________________________________\n",
      "dense_1 (Dense)              (None, 4096)              16781312  \n",
      "_________________________________________________________________\n",
      "dropout (Dropout)            (None, 4096)              0         \n",
      "_________________________________________________________________\n",
      "dense_2 (Dense)              (None, 2096)              8587312   \n",
      "_________________________________________________________________\n",
      "dense_3 (Dense)              (None, 2)                 4194      \n",
      "=================================================================\n",
      "Total params: 885,934,778\n",
      "Trainable params: 864,655,506\n",
      "Non-trainable params: 21,279,272\n",
      "_________________________________________________________________\n"
     ]
    }
   ],
   "source": [
    "RESNET50_POOLING_AVERAGE = 'avg'\n",
    "DENSE_LAYER_ACTIVATION = 'sigmoid'\n",
    "OBJECTIVE_FUNCTION = 'categorical_crossentropy'\n",
    "\n",
    "# Common accuracy metric for all outputs, but can use different metrics for different output\n",
    "LOSS_METRICS = ['accuracy']\n",
    "\n",
    "from tensorflow.keras.applications import Xception\n",
    "base_model = Xception(input_shape=(img_size, img_size, 3), weights='imagenet', include_top=False)\n",
    "#from tensorflow.keras.applications.mobilenet import MobileNet\n",
    "#base_model =  MobileNet(input_shape=(img_size, img_size, 3), weights='imagenet', include_top=False)\n",
    "#from tensorflow.keras.applications import MobileNetV2\n",
    "#base_Neural_Net= MobileNetV2(input_shape=(img_size, img_size, 3), weights='imagenet', include_top=False)\n",
    "base_model.trainable = False\n",
    "model=Sequential()\n",
    "model.add(base_model)\n",
    "model.add(Flatten())\n",
    "model.add(BatchNormalization())\n",
    "model.add(Dense(4096,kernel_initializer='he_uniform'))\n",
    "model.add(BatchNormalization())\n",
    "model.add(Dense(4096,activation=\"relu\"))\n",
    "#model.add(BatchNormalization())\n",
    "#model.add(Activation('relu'))\n",
    "model.add(Dropout(0.2))\n",
    "model.add(Dense(2096,activation=\"relu\"))\n",
    "model.add(Dense(2, activation='sigmoid'))\n",
    "#model = Model(inputs=resnet50_base_model.input, outputs=predictions)\n",
    "model.summary()\n"
   ]
  },
  {
   "cell_type": "code",
   "execution_count": 14,
   "id": "71f1a07e",
   "metadata": {
    "execution": {
     "iopub.execute_input": "2022-05-24T16:08:12.412578Z",
     "iopub.status.busy": "2022-05-24T16:08:12.412293Z",
     "iopub.status.idle": "2022-05-24T16:08:13.479649Z",
     "shell.execute_reply": "2022-05-24T16:08:13.478897Z"
    },
    "papermill": {
     "duration": 1.263526,
     "end_time": "2022-05-24T16:08:13.481771",
     "exception": false,
     "start_time": "2022-05-24T16:08:12.218245",
     "status": "completed"
    },
    "tags": []
   },
   "outputs": [
    {
     "data": {
      "image/png": "[encoded data removed]",
      "text/plain": [
       "<IPython.core.display.Image object>"
      ]
     },
     "execution_count": 14,
     "metadata": {},
     "output_type": "execute_result"
    }
   ],
   "source": [
    "from tensorflow.keras.utils import plot_model\n",
    "from IPython.display import Image\n",
    "plot_model(model, to_file='convnet.png', show_shapes=True,show_layer_names=True)\n",
    "Image(filename='convnet.png') "
   ]
  },
  {
   "cell_type": "code",
   "execution_count": 15,
   "id": "ff4bb620",
   "metadata": {
    "execution": {
     "iopub.execute_input": "2022-05-24T16:08:13.821178Z",
     "iopub.status.busy": "2022-05-24T16:08:13.820895Z",
     "iopub.status.idle": "2022-05-24T16:08:13.845768Z",
     "shell.execute_reply": "2022-05-24T16:08:13.845110Z"
    },
    "papermill": {
     "duration": 0.197019,
     "end_time": "2022-05-24T16:08:13.847596",
     "exception": false,
     "start_time": "2022-05-24T16:08:13.650577",
     "status": "completed"
    },
    "tags": []
   },
   "outputs": [],
   "source": [
    "def f1_score(y_true, y_pred): #taken from old keras source code\n",
    "    true_positives = K.sum(K.round(K.clip(y_true * y_pred, 0, 1)))\n",
    "    possible_positives = K.sum(K.round(K.clip(y_true, 0, 1)))\n",
    "    predicted_positives = K.sum(K.round(K.clip(y_pred, 0, 1)))\n",
    "    precision = true_positives / (predicted_positives + K.epsilon())\n",
    "    recall = true_positives / (possible_positives + K.epsilon())\n",
    "    f1_val = 2*(precision*recall)/(precision+recall+K.epsilon())\n",
    "    return f1_val\n",
    "\n",
    "METRICS = [\n",
    "      tf.keras.metrics.BinaryAccuracy(name='accuracy'),\n",
    "      tf.keras.metrics.Precision(name='precision'),\n",
    "      tf.keras.metrics.Recall(name='recall'),  \n",
    "      tf.keras.metrics.AUC(name='auc'),\n",
    "        f1_score,\n",
    "]"
   ]
  },
  {
   "cell_type": "code",
   "execution_count": 16,
   "id": "59083218",
   "metadata": {
    "execution": {
     "iopub.execute_input": "2022-05-24T16:08:14.195245Z",
     "iopub.status.busy": "2022-05-24T16:08:14.194955Z",
     "iopub.status.idle": "2022-05-24T16:08:14.206579Z",
     "shell.execute_reply": "2022-05-24T16:08:14.205908Z"
    },
    "papermill": {
     "duration": 0.183067,
     "end_time": "2022-05-24T16:08:14.208284",
     "exception": false,
     "start_time": "2022-05-24T16:08:14.025217",
     "status": "completed"
    },
    "tags": []
   },
   "outputs": [],
   "source": [
    "from sklearn.metrics import f1_score, roc_auc_score, cohen_kappa_score, precision_score, recall_score, accuracy_score, confusion_matrix\n",
    "def get_accuracy_metrics(model, X_train, y_train, X_val, y_val, X_test, y_test):\n",
    "    y_train=np.argmax(y_train, axis=1)\n",
    "    y_test=np.argmax(y_test, axis=1)\n",
    "    y_val=np.argmax(y_val, axis=1)\n",
    "    y_train_pred=np.argmax(model.predict(X_train),axis=1)\n",
    "    y_test_pred=np.argmax(model.predict(X_test),axis=1)\n",
    "    y_val_pred=np.argmax(model.predict(X_val),axis=1)\n",
    "    #ps:all the Y value must turn back to 1 dimension array. otherwise, the scoring functions in sklearn cannot compare, and will give an error\n",
    "    #classification metrics can't handle a mix of continuous-multioutput and multi-label-indicator targets\n",
    "    \n",
    "    print(\"Train accuracy Score------------>\")\n",
    "    print (\"{0:.3f}\".format(accuracy_score(y_train, y_train_pred)*100), \"%\")\n",
    "    \n",
    "    print(\"Val accuracy Score--------->\")\n",
    "    \n",
    "    print(\"{0:.3f}\".format(accuracy_score(y_val, y_val_pred)*100), \"%\")\n",
    "    \n",
    "  \n",
    "    print(\"Test accuracy Score--------->\")\n",
    "    print(\"{0:.3f}\".format(accuracy_score(y_test, y_test_pred)*100), \"%\")\n",
    "    \n",
    "    print(\"F1 Score--------------->\")\n",
    "    print(\"{0:.3f}\".format(f1_score(y_test, y_test_pred, average = 'weighted')*100), \"%\")\n",
    "    \n",
    "    print(\"Cohen Kappa Score------------->\")\n",
    "    print(\"{0:.3f}\".format(cohen_kappa_score(y_test, y_test_pred)*100), \"%\")\n",
    "    \n",
    "    print(\"Recall-------------->\")\n",
    "    print(\"{0:.3f}\".format(recall_score(y_test, y_test_pred, average = 'weighted')*100), \"%\")\n",
    "    \n",
    "    print(\"Precision-------------->\")\n",
    "    print(\"{0:.3f}\".format(precision_score(y_test, y_test_pred, average = 'weighted')*100), \"%\")\n",
    "    \n",
    "    cf_matrix_test = confusion_matrix(y_test, y_test_pred)\n",
    "    cf_matrix_val = confusion_matrix(y_val, y_val_pred)\n",
    "    \n",
    "    plt.figure(figsize = (12, 6))\n",
    "    plt.subplot(121)\n",
    "    sns.heatmap(cf_matrix_val, annot=True, cmap='Blues')\n",
    "    plt.title(\"Val Confusion matrix\")\n",
    "    \n",
    "    plt.subplot(122)\n",
    "    sns.heatmap(cf_matrix_test, annot=True, cmap='Blues')\n",
    "    plt.title(\"Test Confusion matrix\")\n",
    "    \n",
    "    plt.show()"
   ]
  },
  {
   "cell_type": "code",
   "execution_count": 17,
   "id": "658acb38",
   "metadata": {
    "execution": {
     "iopub.execute_input": "2022-05-24T16:08:14.548196Z",
     "iopub.status.busy": "2022-05-24T16:08:14.547923Z",
     "iopub.status.idle": "2022-05-24T16:08:14.563223Z",
     "shell.execute_reply": "2022-05-24T16:08:14.562528Z"
    },
    "papermill": {
     "duration": 0.188301,
     "end_time": "2022-05-24T16:08:14.565021",
     "exception": false,
     "start_time": "2022-05-24T16:08:14.376720",
     "status": "completed"
    },
    "tags": []
   },
   "outputs": [],
   "source": [
    "callbacks1 =  [EarlyStopping(monitor='val_loss', patience=5, verbose=1), ModelCheckpoint('init_model.h5', save_best_only=True)]\n",
    "opt = Adam(learning_rate=0.001)\n",
    "model.compile(loss='categorical_crossentropy', optimizer=opt, metrics=['accuracy'])"
   ]
  },
  {
   "cell_type": "code",
   "execution_count": 18,
   "id": "c75ffcd5",
   "metadata": {
    "execution": {
     "iopub.execute_input": "2022-05-24T16:08:14.916668Z",
     "iopub.status.busy": "2022-05-24T16:08:14.916389Z",
     "iopub.status.idle": "2022-05-24T16:16:40.207429Z",
     "shell.execute_reply": "2022-05-24T16:16:40.206607Z"
    },
    "papermill": {
     "duration": 505.477468,
     "end_time": "2022-05-24T16:16:40.212066",
     "exception": false,
     "start_time": "2022-05-24T16:08:14.734598",
     "status": "completed"
    },
    "tags": []
   },
   "outputs": [
    {
     "name": "stdout",
     "output_type": "stream",
     "text": [
      "CPU times: user 2 µs, sys: 1 µs, total: 3 µs\n",
      "Wall time: 7.15 µs\n"
     ]
    },
    {
     "name": "stderr",
     "output_type": "stream",
     "text": [
      "2022-05-24 16:08:15.179376: I tensorflow/compiler/mlir/mlir_graph_optimization_pass.cc:185] None of the MLIR Optimization Passes are enabled (registered 2)\n"
     ]
    },
    {
     "name": "stdout",
     "output_type": "stream",
     "text": [
      "Epoch 1/10\n"
     ]
    },
    {
     "name": "stderr",
     "output_type": "stream",
     "text": [
      "2022-05-24 16:08:19.065313: I tensorflow/stream_executor/cuda/cuda_dnn.cc:369] Loaded cuDNN version 8005\n"
     ]
    },
    {
     "name": "stdout",
     "output_type": "stream",
     "text": [
      " 1/14 [=>............................] - ETA: 2:08 - loss: 0.7908 - accuracy: 0.5000"
     ]
    },
    {
     "name": "stderr",
     "output_type": "stream",
     "text": [
      "2022-05-24 16:08:24.951506: W tensorflow/core/common_runtime/bfc_allocator.cc:272] Allocator (GPU_0_bfc) ran out of memory trying to allocate 3.47GiB with freed_by_count=0. The caller indicates that this is not a failure, but may mean that there could be performance gains if more memory were available.\n"
     ]
    },
    {
     "name": "stdout",
     "output_type": "stream",
     "text": [
      "14/14 [==============================] - ETA: 0s - loss: 3.2969 - accuracy: 0.7714"
     ]
    },
    {
     "name": "stderr",
     "output_type": "stream",
     "text": [
      "2022-05-24 16:08:27.821703: W tensorflow/core/common_runtime/bfc_allocator.cc:272] Allocator (GPU_0_bfc) ran out of memory trying to allocate 3.41GiB with freed_by_count=0. The caller indicates that this is not a failure, but may mean that there could be performance gains if more memory were available.\n"
     ]
    },
    {
     "name": "stdout",
     "output_type": "stream",
     "text": [
      "14/14 [==============================] - 14s 313ms/step - loss: 3.2969 - accuracy: 0.7714 - val_loss: 13.1651 - val_accuracy: 0.8519\n"
     ]
    },
    {
     "name": "stderr",
     "output_type": "stream",
     "text": [
      "2022-05-24 16:08:29.135045: W tensorflow/core/common_runtime/bfc_allocator.cc:272] Allocator (GPU_0_bfc) ran out of memory trying to allocate 3.44GiB with freed_by_count=0. The caller indicates that this is not a failure, but may mean that there could be performance gains if more memory were available.\n",
      "2022-05-24 16:08:29.321147: W tensorflow/core/framework/cpu_allocator_impl.cc:80] Allocation of 3355443200 exceeds 10% of free system memory.\n",
      "2022-05-24 16:08:44.601120: W tensorflow/core/framework/cpu_allocator_impl.cc:80] Allocation of 3355443200 exceeds 10% of free system memory.\n",
      "2022-05-24 16:08:50.921863: W tensorflow/core/framework/cpu_allocator_impl.cc:80] Allocation of 3355443200 exceeds 10% of free system memory.\n"
     ]
    },
    {
     "name": "stdout",
     "output_type": "stream",
     "text": [
      "Epoch 2/10\n",
      "14/14 [==============================] - 4s 238ms/step - loss: 0.4055 - accuracy: 0.8952 - val_loss: 10.1717 - val_accuracy: 0.8519\n"
     ]
    },
    {
     "name": "stderr",
     "output_type": "stream",
     "text": [
      "2022-05-24 16:09:26.922526: W tensorflow/core/framework/cpu_allocator_impl.cc:80] Allocation of 3355443200 exceeds 10% of free system memory.\n",
      "2022-05-24 16:09:40.572087: W tensorflow/core/framework/cpu_allocator_impl.cc:80] Allocation of 3355443200 exceeds 10% of free system memory.\n"
     ]
    },
    {
     "name": "stdout",
     "output_type": "stream",
     "text": [
      "Epoch 3/10\n",
      "14/14 [==============================] - 3s 233ms/step - loss: 0.1922 - accuracy: 0.9381 - val_loss: 3.2993 - val_accuracy: 0.8519\n",
      "Epoch 4/10\n",
      "14/14 [==============================] - 3s 226ms/step - loss: 0.2671 - accuracy: 0.9143 - val_loss: 6.8902 - val_accuracy: 0.8519\n",
      "Epoch 5/10\n",
      "14/14 [==============================] - 3s 225ms/step - loss: 0.2159 - accuracy: 0.9548 - val_loss: 2.9236 - val_accuracy: 0.8704\n",
      "Epoch 6/10\n",
      "14/14 [==============================] - 3s 226ms/step - loss: 0.1253 - accuracy: 0.9571 - val_loss: 2.3981 - val_accuracy: 0.8704\n",
      "Epoch 7/10\n",
      "14/14 [==============================] - 3s 226ms/step - loss: 0.1089 - accuracy: 0.9595 - val_loss: 1.7046 - val_accuracy: 0.8704\n",
      "Epoch 8/10\n",
      "14/14 [==============================] - 3s 229ms/step - loss: 0.2005 - accuracy: 0.9524 - val_loss: 2.1682 - val_accuracy: 0.8704\n",
      "Epoch 9/10\n",
      "14/14 [==============================] - 3s 225ms/step - loss: 0.1813 - accuracy: 0.9595 - val_loss: 1.8319 - val_accuracy: 0.8704\n",
      "Epoch 10/10\n",
      "14/14 [==============================] - 3s 224ms/step - loss: 0.0481 - accuracy: 0.9810 - val_loss: 1.7519 - val_accuracy: 0.8704\n"
     ]
    }
   ],
   "source": [
    "%time\n",
    "history1=model.fit(X_train, y_train,validation_data=(X_test, y_test),verbose = 1,epochs = epoch1,callbacks=callbacks1)"
   ]
  },
  {
   "cell_type": "code",
   "execution_count": 19,
   "id": "c02c2ad8",
   "metadata": {
    "execution": {
     "iopub.execute_input": "2022-05-24T16:16:40.657490Z",
     "iopub.status.busy": "2022-05-24T16:16:40.657130Z",
     "iopub.status.idle": "2022-05-24T16:16:45.948728Z",
     "shell.execute_reply": "2022-05-24T16:16:45.948025Z"
    },
    "papermill": {
     "duration": 5.517423,
     "end_time": "2022-05-24T16:16:45.950552",
     "exception": false,
     "start_time": "2022-05-24T16:16:40.433129",
     "status": "completed"
    },
    "tags": []
   },
   "outputs": [
    {
     "name": "stderr",
     "output_type": "stream",
     "text": [
      "2022-05-24 16:16:45.474075: W tensorflow/core/common_runtime/bfc_allocator.cc:272] Allocator (GPU_0_bfc) ran out of memory trying to allocate 3.46GiB with freed_by_count=0. The caller indicates that this is not a failure, but may mean that there could be performance gains if more memory were available.\n"
     ]
    },
    {
     "name": "stdout",
     "output_type": "stream",
     "text": [
      "Train accuracy Score------------>\n",
      "95.714 %\n",
      "Val accuracy Score--------->\n",
      "88.095 %\n",
      "Test accuracy Score--------->\n",
      "87.037 %\n",
      "F1 Score--------------->\n",
      "82.454 %\n",
      "Cohen Kappa Score------------->\n",
      "19.574 %\n",
      "Recall-------------->\n",
      "87.037 %\n",
      "Precision-------------->\n",
      "88.749 %\n"
     ]
    },
    {
     "data": {
      "image/png": "[encoded data removed]",
      "text/plain": [
       "<Figure size 864x432 with 4 Axes>"
      ]
     },
     "metadata": {
      "needs_background": "light"
     },
     "output_type": "display_data"
    }
   ],
   "source": [
    "#MODEL_PATH = './test_model.hdf5'\n",
    "#from keras.models import load_model\n",
    "##best_model = load_model('./test_model.h5')\n",
    "#init_model = load_model('./init_model.h5', compile=False)\n",
    "#best_model = load_model(\"./test_model.h5\", custom_objects={'focal_loss_fixed': focal_loss()})\n",
    "get_accuracy_metrics(model,  X_train, y_train, X_val, y_val, X_test, y_test)"
   ]
  },
  {
   "cell_type": "markdown",
   "id": "e20b0984",
   "metadata": {
    "papermill": {
     "duration": 0.222759,
     "end_time": "2022-05-24T16:16:46.395312",
     "exception": false,
     "start_time": "2022-05-24T16:16:46.172553",
     "status": "completed"
    },
    "tags": []
   },
   "source": [
    "plot training history"
   ]
  },
  {
   "cell_type": "code",
   "execution_count": 20,
   "id": "29307f05",
   "metadata": {
    "execution": {
     "iopub.execute_input": "2022-05-24T16:16:46.991119Z",
     "iopub.status.busy": "2022-05-24T16:16:46.990714Z",
     "iopub.status.idle": "2022-05-24T16:16:47.425046Z",
     "shell.execute_reply": "2022-05-24T16:16:47.424361Z"
    },
    "papermill": {
     "duration": 0.79456,
     "end_time": "2022-05-24T16:16:47.427456",
     "exception": false,
     "start_time": "2022-05-24T16:16:46.632896",
     "status": "completed"
    },
    "tags": []
   },
   "outputs": [
    {
     "data": {
      "image/png": "[encoded data removed]",
      "text/plain": [
       "<Figure size 864x432 with 2 Axes>"
      ]
     },
     "metadata": {
      "needs_background": "light"
     },
     "output_type": "display_data"
    }
   ],
   "source": [
    "import matplotlib.pyplot as plt\n",
    "import seaborn as sns\n",
    "plt.figure(figsize = (12, 6))\n",
    "plt.subplot(121)\n",
    "#plotting the Accuracy of test and training sets\n",
    "plt.plot(history1.history['accuracy'])\n",
    "plt.plot(history1.history['val_accuracy'])\n",
    "plt.title('1st training Model Accuracy')\n",
    "plt.ylabel('accuracy')\n",
    "plt.xlabel('epoch')\n",
    "plt.legend(['train', 'test'], loc='upper left')\n",
    "\n",
    "plt.subplot(122)\n",
    "#plotting the loss of test and training sets\n",
    "plt.plot(history1.history['loss'])\n",
    "plt.plot(history1.history['val_loss'])\n",
    "plt.title('1st training Model Loss')\n",
    "plt.ylabel('loss')\n",
    "plt.xlabel('epoch')\n",
    "plt.legend(['train', 'test'], loc='upper left')\n",
    "plt.show()\n"
   ]
  },
  {
   "cell_type": "markdown",
   "id": "2c0504e9",
   "metadata": {
    "papermill": {
     "duration": 0.289047,
     "end_time": "2022-05-24T16:16:48.084790",
     "exception": false,
     "start_time": "2022-05-24T16:16:47.795743",
     "status": "completed"
    },
    "tags": []
   },
   "source": [
    "plot confusion report"
   ]
  },
  {
   "cell_type": "code",
   "execution_count": 21,
   "id": "965a41bc",
   "metadata": {
    "execution": {
     "iopub.execute_input": "2022-05-24T16:16:48.532123Z",
     "iopub.status.busy": "2022-05-24T16:16:48.531873Z",
     "iopub.status.idle": "2022-05-24T16:16:49.338979Z",
     "shell.execute_reply": "2022-05-24T16:16:49.338319Z"
    },
    "papermill": {
     "duration": 1.032253,
     "end_time": "2022-05-24T16:16:49.340835",
     "exception": false,
     "start_time": "2022-05-24T16:16:48.308582",
     "status": "completed"
    },
    "tags": []
   },
   "outputs": [
    {
     "data": {
      "image/png": "[encoded data removed]",
      "text/plain": [
       "<Figure size 576x576 with 2 Axes>"
      ]
     },
     "metadata": {
      "needs_background": "light"
     },
     "output_type": "display_data"
    }
   ],
   "source": [
    "from sklearn.metrics import confusion_matrix\n",
    "import seaborn as sns\n",
    "\n",
    "Y_pred = model.predict(X_val)\n",
    "Y_pred_classes = np.argmax(Y_pred,axis = 1) \n",
    "Y_true = np.argmax(y_val,axis = 1) \n",
    "\n",
    "confusion_mtx = confusion_matrix(Y_true, Y_pred_classes) \n",
    "\n",
    "f,ax = plt.subplots(figsize=(8, 8))\n",
    "sns.heatmap(confusion_mtx, annot=True, linewidths=0.01,cmap=\"OrRd\",linecolor=\"black\", fmt= '.1f',ax=ax)\n",
    "plt.xlabel(\"Predicted Label\")\n",
    "plt.ylabel(\"True Label\")\n",
    "plt.title(\"Confusion Matrix\")\n",
    "plt.show()"
   ]
  },
  {
   "cell_type": "code",
   "execution_count": 22,
   "id": "ba387cf6",
   "metadata": {
    "execution": {
     "iopub.execute_input": "2022-05-24T16:16:49.788431Z",
     "iopub.status.busy": "2022-05-24T16:16:49.788120Z",
     "iopub.status.idle": "2022-05-24T16:16:49.797718Z",
     "shell.execute_reply": "2022-05-24T16:16:49.796917Z"
    },
    "papermill": {
     "duration": 0.235752,
     "end_time": "2022-05-24T16:16:49.799688",
     "exception": false,
     "start_time": "2022-05-24T16:16:49.563936",
     "status": "completed"
    },
    "tags": []
   },
   "outputs": [
    {
     "name": "stdout",
     "output_type": "stream",
     "text": [
      "              precision    recall  f1-score   support\n",
      "\n",
      "           0       0.88      1.00      0.94       111\n",
      "           1       0.00      0.00      0.00        15\n",
      "\n",
      "    accuracy                           0.88       126\n",
      "   macro avg       0.44      0.50      0.47       126\n",
      "weighted avg       0.78      0.88      0.83       126\n",
      "\n"
     ]
    }
   ],
   "source": [
    "from sklearn.metrics import classification_report\n",
    "\n",
    "print(classification_report(Y_true, Y_pred_classes))"
   ]
  },
  {
   "cell_type": "markdown",
   "id": "b47b2ebb",
   "metadata": {
    "papermill": {
     "duration": 0.229856,
     "end_time": "2022-05-24T16:16:50.259312",
     "exception": false,
     "start_time": "2022-05-24T16:16:50.029456",
     "status": "completed"
    },
    "tags": []
   },
   "source": [
    "# second train: Fine Tune"
   ]
  },
  {
   "cell_type": "code",
   "execution_count": 23,
   "id": "bba189b5",
   "metadata": {
    "execution": {
     "iopub.execute_input": "2022-05-24T16:16:50.718091Z",
     "iopub.status.busy": "2022-05-24T16:16:50.717842Z",
     "iopub.status.idle": "2022-05-24T16:21:56.501756Z",
     "shell.execute_reply": "2022-05-24T16:21:56.500960Z"
    },
    "papermill": {
     "duration": 306.01619,
     "end_time": "2022-05-24T16:21:56.504236",
     "exception": false,
     "start_time": "2022-05-24T16:16:50.488046",
     "status": "completed"
    },
    "tags": []
   },
   "outputs": [
    {
     "name": "stdout",
     "output_type": "stream",
     "text": [
      "Epoch 1/3\n",
      "14/14 [==============================] - 3s 227ms/step - loss: 0.0130 - accuracy: 0.9976 - val_loss: 1.3090 - val_accuracy: 0.8889\n",
      "Epoch 2/3\n",
      "14/14 [==============================] - 3s 236ms/step - loss: 0.0107 - accuracy: 0.9952 - val_loss: 1.0729 - val_accuracy: 0.8704\n",
      "Epoch 3/3\n",
      "14/14 [==============================] - 4s 238ms/step - loss: 0.1386 - accuracy: 0.9714 - val_loss: 1.6262 - val_accuracy: 0.8704\n"
     ]
    }
   ],
   "source": [
    "for model1 in model.layers:\n",
    "    model1.trainable = True\n",
    "callbacks2 = [EarlyStopping(monitor='val_loss', patience=5, verbose=1), ModelCheckpoint('test_model.h5', save_best_only=True)]\n",
    "history2=model.fit(X_train, y_train,validation_data=(X_test, y_test),verbose = 1,epochs = epoch2,callbacks=callbacks2)"
   ]
  },
  {
   "cell_type": "code",
   "execution_count": 24,
   "id": "cc9fb4bd",
   "metadata": {
    "execution": {
     "iopub.execute_input": "2022-05-24T16:21:56.988250Z",
     "iopub.status.busy": "2022-05-24T16:21:56.987687Z",
     "iopub.status.idle": "2022-05-24T16:22:00.412320Z",
     "shell.execute_reply": "2022-05-24T16:22:00.411625Z"
    },
    "papermill": {
     "duration": 3.668431,
     "end_time": "2022-05-24T16:22:00.414238",
     "exception": false,
     "start_time": "2022-05-24T16:21:56.745807",
     "status": "completed"
    },
    "tags": []
   },
   "outputs": [
    {
     "name": "stdout",
     "output_type": "stream",
     "text": [
      "Train accuracy Score------------>\n",
      "98.095 %\n",
      "Val accuracy Score--------->\n",
      "86.508 %\n",
      "Test accuracy Score--------->\n",
      "87.037 %\n",
      "F1 Score--------------->\n",
      "82.454 %\n",
      "Cohen Kappa Score------------->\n",
      "19.574 %\n",
      "Recall-------------->\n",
      "87.037 %\n",
      "Precision-------------->\n",
      "88.749 %\n"
     ]
    },
    {
     "data": {
      "image/png": "[encoded data removed]",
      "text/plain": [
       "<Figure size 864x432 with 4 Axes>"
      ]
     },
     "metadata": {
      "needs_background": "light"
     },
     "output_type": "display_data"
    }
   ],
   "source": [
    "#MODEL_PATH = './test_model.hdf5'\n",
    "#from keras.models import load_model\n",
    "#best_model = load_model('./test_model.h5')\n",
    "#best_model = load_model('./test_model.h5', compile=False)\n",
    "#best_model = load_model(\"./test_model.h5\", custom_objects={'focal_loss_fixed': focal_loss()})\n",
    "get_accuracy_metrics(model,  X_train, y_train, X_val, y_val, X_test, y_test)"
   ]
  },
  {
   "cell_type": "markdown",
   "id": "74595030",
   "metadata": {
    "papermill": {
     "duration": 0.236029,
     "end_time": "2022-05-24T16:22:00.888138",
     "exception": false,
     "start_time": "2022-05-24T16:22:00.652109",
     "status": "completed"
    },
    "tags": []
   },
   "source": [
    "plot training history"
   ]
  },
  {
   "cell_type": "code",
   "execution_count": 25,
   "id": "fbbe2d36",
   "metadata": {
    "execution": {
     "iopub.execute_input": "2022-05-24T16:22:01.399650Z",
     "iopub.status.busy": "2022-05-24T16:22:01.399393Z",
     "iopub.status.idle": "2022-05-24T16:22:01.714854Z",
     "shell.execute_reply": "2022-05-24T16:22:01.714201Z"
    },
    "papermill": {
     "duration": 0.564004,
     "end_time": "2022-05-24T16:22:01.716717",
     "exception": false,
     "start_time": "2022-05-24T16:22:01.152713",
     "status": "completed"
    },
    "tags": []
   },
   "outputs": [
    {
     "data": {
      "image/png": "[encoded data removed]",
      "text/plain": [
       "<Figure size 864x432 with 2 Axes>"
      ]
     },
     "metadata": {
      "needs_background": "light"
     },
     "output_type": "display_data"
    }
   ],
   "source": [
    "import matplotlib.pyplot as plt\n",
    "import seaborn as sns\n",
    "plt.figure(figsize = (12, 6))\n",
    "plt.subplot(121)\n",
    "#plotting the Accuracy of test and training sets\n",
    "plt.plot(history2.history['accuracy'])\n",
    "plt.plot(history2.history['val_accuracy'])\n",
    "plt.title('2nd training Model Accuracy')\n",
    "plt.ylabel('accuracy')\n",
    "plt.xlabel('epoch')\n",
    "plt.legend(['train', 'test'], loc='upper left')\n",
    "\n",
    "plt.subplot(122)\n",
    "#plotting the loss of test and training sets\n",
    "plt.plot(history2.history['loss'])\n",
    "plt.plot(history2.history['val_loss'])\n",
    "plt.title('2nd training Model Loss')\n",
    "plt.ylabel('loss')\n",
    "plt.xlabel('epoch')\n",
    "plt.legend(['train', 'test'], loc='upper left')\n",
    "plt.show()\n",
    "\n"
   ]
  },
  {
   "cell_type": "markdown",
   "id": "036ec309",
   "metadata": {
    "papermill": {
     "duration": 0.238607,
     "end_time": "2022-05-24T16:22:02.202146",
     "exception": false,
     "start_time": "2022-05-24T16:22:01.963539",
     "status": "completed"
    },
    "tags": []
   },
   "source": [
    "plot confusion report"
   ]
  },
  {
   "cell_type": "code",
   "execution_count": 26,
   "id": "b8e95ef8",
   "metadata": {
    "execution": {
     "iopub.execute_input": "2022-05-24T16:22:02.684631Z",
     "iopub.status.busy": "2022-05-24T16:22:02.684384Z",
     "iopub.status.idle": "2022-05-24T16:22:03.670993Z",
     "shell.execute_reply": "2022-05-24T16:22:03.670217Z"
    },
    "papermill": {
     "duration": 1.230776,
     "end_time": "2022-05-24T16:22:03.673275",
     "exception": false,
     "start_time": "2022-05-24T16:22:02.442499",
     "status": "completed"
    },
    "tags": []
   },
   "outputs": [
    {
     "data": {
      "image/png": "[encoded data removed]",
      "text/plain": [
       "<Figure size 576x576 with 2 Axes>"
      ]
     },
     "metadata": {
      "needs_background": "light"
     },
     "output_type": "display_data"
    }
   ],
   "source": [
    "Y_pred = model.predict(X_val)\n",
    "Y_pred_classes = np.argmax(Y_pred,axis = 1) \n",
    "Y_true = np.argmax(y_val,axis = 1) \n",
    "\n",
    "confusion_mtx = confusion_matrix(Y_true, Y_pred_classes) \n",
    "\n",
    "f,ax = plt.subplots(figsize=(8, 8))\n",
    "sns.heatmap(confusion_mtx, annot=True, linewidths=0.01,cmap=\"OrRd\",linecolor=\"black\", fmt= '.1f',ax=ax)\n",
    "plt.xlabel(\"Predicted Label\")\n",
    "plt.ylabel(\"True Label\")\n",
    "plt.title(\"Confusion Matrix\")\n",
    "plt.show()"
   ]
  },
  {
   "cell_type": "code",
   "execution_count": 27,
   "id": "c9df2807",
   "metadata": {
    "execution": {
     "iopub.execute_input": "2022-05-24T16:22:04.280030Z",
     "iopub.status.busy": "2022-05-24T16:22:04.279698Z",
     "iopub.status.idle": "2022-05-24T16:22:04.291310Z",
     "shell.execute_reply": "2022-05-24T16:22:04.290325Z"
    },
    "papermill": {
     "duration": 0.326827,
     "end_time": "2022-05-24T16:22:04.293763",
     "exception": false,
     "start_time": "2022-05-24T16:22:03.966936",
     "status": "completed"
    },
    "tags": []
   },
   "outputs": [
    {
     "name": "stdout",
     "output_type": "stream",
     "text": [
      "              precision    recall  f1-score   support\n",
      "\n",
      "           0       0.88      0.98      0.93       111\n",
      "           1       0.00      0.00      0.00        15\n",
      "\n",
      "    accuracy                           0.87       126\n",
      "   macro avg       0.44      0.49      0.46       126\n",
      "weighted avg       0.77      0.87      0.82       126\n",
      "\n"
     ]
    }
   ],
   "source": [
    "from sklearn.metrics import classification_report\n",
    "\n",
    "print(classification_report(Y_true, Y_pred_classes))"
   ]
  },
  {
   "cell_type": "markdown",
   "id": "d2c1f920",
   "metadata": {
    "papermill": {
     "duration": 0.266469,
     "end_time": "2022-05-24T16:22:04.855622",
     "exception": false,
     "start_time": "2022-05-24T16:22:04.589153",
     "status": "completed"
    },
    "tags": []
   },
   "source": []
  },
  {
   "cell_type": "code",
   "execution_count": 28,
   "id": "72b66965",
   "metadata": {
    "execution": {
     "iopub.execute_input": "2022-05-24T16:22:05.434090Z",
     "iopub.status.busy": "2022-05-24T16:22:05.433805Z",
     "iopub.status.idle": "2022-05-24T16:22:05.445759Z",
     "shell.execute_reply": "2022-05-24T16:22:05.444625Z"
    },
    "papermill": {
     "duration": 0.30524,
     "end_time": "2022-05-24T16:22:05.448271",
     "exception": false,
     "start_time": "2022-05-24T16:22:05.143031",
     "status": "completed"
    },
    "tags": []
   },
   "outputs": [
    {
     "name": "stdout",
     "output_type": "stream",
     "text": [
      "/kaggle/working\n"
     ]
    },
    {
     "data": {
      "text/html": [
       "Path (<tt>model.hdf5</tt>) doesn't exist. It may still be in the process of being generated, or you may have the incorrect path."
      ],
      "text/plain": [
       "/kaggle/working/model.hdf5"
      ]
     },
     "execution_count": 28,
     "metadata": {},
     "output_type": "execute_result"
    }
   ],
   "source": [
    "%cd /kaggle/working\n",
    "from IPython.display import FileLink\n",
    "FileLink('model.hdf5')"
   ]
  },
  {
   "cell_type": "code",
   "execution_count": null,
   "id": "532ad730",
   "metadata": {
    "execution": {
     "iopub.execute_input": "2022-05-15T23:30:18.954666Z",
     "iopub.status.busy": "2022-05-15T23:30:18.954168Z",
     "iopub.status.idle": "2022-05-15T23:30:18.969708Z",
     "shell.execute_reply": "2022-05-15T23:30:18.968654Z",
     "shell.execute_reply.started": "2022-05-15T23:30:18.954628Z"
    },
    "papermill": {
     "duration": 0.245721,
     "end_time": "2022-05-24T16:22:05.969173",
     "exception": false,
     "start_time": "2022-05-24T16:22:05.723452",
     "status": "completed"
    },
    "tags": []
   },
   "outputs": [],
   "source": []
  },
  {
   "cell_type": "code",
   "execution_count": null,
   "id": "4e761ce8",
   "metadata": {
    "execution": {
     "iopub.execute_input": "2022-05-15T23:30:22.177825Z",
     "iopub.status.busy": "2022-05-15T23:30:22.177496Z",
     "iopub.status.idle": "2022-05-15T23:31:10.029631Z",
     "shell.execute_reply": "2022-05-15T23:31:10.028641Z",
     "shell.execute_reply.started": "2022-05-15T23:30:22.177789Z"
    },
    "papermill": {
     "duration": 0.242043,
     "end_time": "2022-05-24T16:22:06.454685",
     "exception": false,
     "start_time": "2022-05-24T16:22:06.212642",
     "status": "completed"
    },
    "tags": []
   },
   "outputs": [],
   "source": []
  },
  {
   "cell_type": "code",
   "execution_count": null,
   "id": "ecb45c6d",
   "metadata": {
    "execution": {
     "iopub.execute_input": "2022-05-15T23:31:15.676043Z",
     "iopub.status.busy": "2022-05-15T23:31:15.675717Z",
     "iopub.status.idle": "2022-05-15T23:32:34.061816Z",
     "shell.execute_reply": "2022-05-15T23:32:34.061153Z",
     "shell.execute_reply.started": "2022-05-15T23:31:15.676006Z"
    },
    "papermill": {
     "duration": 0.238577,
     "end_time": "2022-05-24T16:22:06.934075",
     "exception": false,
     "start_time": "2022-05-24T16:22:06.695498",
     "status": "completed"
    },
    "tags": []
   },
   "outputs": [],
   "source": []
  }
 ],
 "metadata": {
  "kernelspec": {
   "display_name": "Python 3",
   "language": "python",
   "name": "python3"
  },
  "language_info": {
   "codemirror_mode": {
    "name": "ipython",
    "version": 3
   },
   "file_extension": ".py",
   "mimetype": "text/x-python",
   "name": "python",
   "nbconvert_exporter": "python",
   "pygments_lexer": "ipython3",
   "version": "3.7.12"
  },
  "papermill": {
   "default_parameters": {},
   "duration": 1084.098558,
   "end_time": "2022-05-24T16:22:10.455404",
   "environment_variables": {},
   "exception": null,
   "input_path": "__notebook__.ipynb",
   "output_path": "__notebook__.ipynb",
   "parameters": {},
   "start_time": "2022-05-24T16:04:06.356846",
   "version": "2.3.4"
  }
 },
 "nbformat": 4,
 "nbformat_minor": 5
}
