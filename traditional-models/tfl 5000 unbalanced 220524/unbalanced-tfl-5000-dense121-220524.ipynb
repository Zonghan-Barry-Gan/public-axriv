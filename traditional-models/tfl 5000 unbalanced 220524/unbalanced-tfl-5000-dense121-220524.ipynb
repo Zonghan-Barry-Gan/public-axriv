{
 "cells": [
  {
   "cell_type": "code",
   "execution_count": 1,
   "id": "f7f7a0cf",
   "metadata": {
    "_cell_guid": "b1076dfc-b9ad-4769-8c92-a6c4dae69d19",
    "_uuid": "8f2839f25d086af736a60e9eeb907d3b93b6e0e5",
    "execution": {
     "iopub.execute_input": "2022-05-24T14:27:21.867783Z",
     "iopub.status.busy": "2022-05-24T14:27:21.867387Z",
     "iopub.status.idle": "2022-05-24T14:27:37.367961Z",
     "shell.execute_reply": "2022-05-24T14:27:37.367111Z"
    },
    "papermill": {
     "duration": 15.544488,
     "end_time": "2022-05-24T14:27:37.370597",
     "exception": false,
     "start_time": "2022-05-24T14:27:21.826109",
     "status": "completed"
    },
    "tags": []
   },
   "outputs": [
    {
     "name": "stdout",
     "output_type": "stream",
     "text": [
      "Collecting Livelossplot\r\n",
      "  Downloading livelossplot-0.5.5-py3-none-any.whl (22 kB)\r\n",
      "Requirement already satisfied: bokeh in /opt/conda/lib/python3.7/site-packages (from Livelossplot) (2.4.2)\r\n",
      "Requirement already satisfied: numpy<1.22 in /opt/conda/lib/python3.7/site-packages (from Livelossplot) (1.21.6)\r\n",
      "Requirement already satisfied: matplotlib in /opt/conda/lib/python3.7/site-packages (from Livelossplot) (3.5.2)\r\n",
      "Requirement already satisfied: ipython==7.* in /opt/conda/lib/python3.7/site-packages (from Livelossplot) (7.32.0)\r\n",
      "Requirement already satisfied: pexpect>4.3 in /opt/conda/lib/python3.7/site-packages (from ipython==7.*->Livelossplot) (4.8.0)\r\n",
      "Requirement already satisfied: setuptools>=18.5 in /opt/conda/lib/python3.7/site-packages (from ipython==7.*->Livelossplot) (59.8.0)\r\n",
      "Requirement already satisfied: pickleshare in /opt/conda/lib/python3.7/site-packages (from ipython==7.*->Livelossplot) (0.7.5)\r\n",
      "Requirement already satisfied: prompt-toolkit!=3.0.0,!=3.0.1,<3.1.0,>=2.0.0 in /opt/conda/lib/python3.7/site-packages (from ipython==7.*->Livelossplot) (3.0.27)\r\n",
      "Requirement already satisfied: matplotlib-inline in /opt/conda/lib/python3.7/site-packages (from ipython==7.*->Livelossplot) (0.1.3)\r\n",
      "Requirement already satisfied: decorator in /opt/conda/lib/python3.7/site-packages (from ipython==7.*->Livelossplot) (5.1.1)\r\n",
      "Requirement already satisfied: jedi>=0.16 in /opt/conda/lib/python3.7/site-packages (from ipython==7.*->Livelossplot) (0.18.1)\r\n",
      "Requirement already satisfied: pygments in /opt/conda/lib/python3.7/site-packages (from ipython==7.*->Livelossplot) (2.11.2)\r\n",
      "Requirement already satisfied: backcall in /opt/conda/lib/python3.7/site-packages (from ipython==7.*->Livelossplot) (0.2.0)\r\n",
      "Requirement already satisfied: traitlets>=4.2 in /opt/conda/lib/python3.7/site-packages (from ipython==7.*->Livelossplot) (5.1.1)\r\n",
      "Requirement already satisfied: typing-extensions>=3.10.0 in /opt/conda/lib/python3.7/site-packages (from bokeh->Livelossplot) (4.2.0)\r\n",
      "Requirement already satisfied: pillow>=7.1.0 in /opt/conda/lib/python3.7/site-packages (from bokeh->Livelossplot) (9.0.1)\r\n",
      "Requirement already satisfied: tornado>=5.1 in /opt/conda/lib/python3.7/site-packages (from bokeh->Livelossplot) (6.1)\r\n",
      "Requirement already satisfied: PyYAML>=3.10 in /opt/conda/lib/python3.7/site-packages (from bokeh->Livelossplot) (6.0)\r\n",
      "Requirement already satisfied: packaging>=16.8 in /opt/conda/lib/python3.7/site-packages (from bokeh->Livelossplot) (21.3)\r\n",
      "Requirement already satisfied: Jinja2>=2.9 in /opt/conda/lib/python3.7/site-packages (from bokeh->Livelossplot) (3.1.2)\r\n",
      "Requirement already satisfied: fonttools>=4.22.0 in /opt/conda/lib/python3.7/site-packages (from matplotlib->Livelossplot) (4.30.0)\r\n",
      "Requirement already satisfied: python-dateutil>=2.7 in /opt/conda/lib/python3.7/site-packages (from matplotlib->Livelossplot) (2.8.2)\r\n",
      "Requirement already satisfied: cycler>=0.10 in /opt/conda/lib/python3.7/site-packages (from matplotlib->Livelossplot) (0.11.0)\r\n",
      "Requirement already satisfied: pyparsing>=2.2.1 in /opt/conda/lib/python3.7/site-packages (from matplotlib->Livelossplot) (3.0.7)\r\n",
      "Requirement already satisfied: kiwisolver>=1.0.1 in /opt/conda/lib/python3.7/site-packages (from matplotlib->Livelossplot) (1.4.0)\r\n",
      "Requirement already satisfied: parso<0.9.0,>=0.8.0 in /opt/conda/lib/python3.7/site-packages (from jedi>=0.16->ipython==7.*->Livelossplot) (0.8.3)\r\n",
      "Requirement already satisfied: MarkupSafe>=2.0 in /opt/conda/lib/python3.7/site-packages (from Jinja2>=2.9->bokeh->Livelossplot) (2.0.1)\r\n",
      "Requirement already satisfied: ptyprocess>=0.5 in /opt/conda/lib/python3.7/site-packages (from pexpect>4.3->ipython==7.*->Livelossplot) (0.7.0)\r\n",
      "Requirement already satisfied: wcwidth in /opt/conda/lib/python3.7/site-packages (from prompt-toolkit!=3.0.0,!=3.0.1,<3.1.0,>=2.0.0->ipython==7.*->Livelossplot) (0.2.5)\r\n",
      "Requirement already satisfied: six>=1.5 in /opt/conda/lib/python3.7/site-packages (from python-dateutil>=2.7->matplotlib->Livelossplot) (1.16.0)\r\n",
      "Installing collected packages: Livelossplot\r\n",
      "Successfully installed Livelossplot-0.5.5\r\n",
      "\u001b[33mWARNING: Running pip as the 'root' user can result in broken permissions and conflicting behaviour with the system package manager. It is recommended to use a virtual environment instead: https://pip.pypa.io/warnings/venv\u001b[0m\u001b[33m\r\n",
      "\u001b[0m"
     ]
    }
   ],
   "source": [
    "# This Python 3 environment comes with many helpful analytics libraries installed\n",
    "# It is defined by the kaggle/python Docker image: https://github.com/kaggle/docker-python\n",
    "# For example, here's several helpful packages to load\n",
    "\n",
    "import numpy as np # linear algebra\n",
    "import pandas as pd # data processing, CSV file I/O (e.g. pd.read_csv)\n",
    "\n",
    "# Input data files are available in the read-only \"../input/\" directory\n",
    "# For example, running this (by clicking run or pressing Shift+Enter) will list all files under the input directory\n",
    "\n",
    "import os\n",
    "\n",
    "import warnings\n",
    "warnings.filterwarnings('ignore')\n",
    "%matplotlib inline\n",
    "!pip install Livelossplot\n",
    "from livelossplot import PlotLossesKeras\n",
    "\n",
    "from glob import glob\n",
    "import os\n",
    "import shutil\n",
    "\n",
    "import numpy as np\n",
    "import pandas as pd\n",
    "# You can write up to 20GB to the current directory (/kaggle/working/) that gets preserved as output when you create a version using \"Save & Run All\" \n",
    "# You can also write temporary files to /kaggle/temp/, but they won't be saved outside of the current session"
   ]
  },
  {
   "cell_type": "markdown",
   "id": "dc35d0e8",
   "metadata": {
    "papermill": {
     "duration": 0.040899,
     "end_time": "2022-05-24T14:27:37.453661",
     "exception": false,
     "start_time": "2022-05-24T14:27:37.412762",
     "status": "completed"
    },
    "tags": []
   },
   "source": [
    "# AIM\n",
    "## To classify the images into \n",
    "### IDC+\n",
    "### IDC-\n",
    "\n",
    "# Validation Strategy:\n",
    "\n",
    "## Train Data Size= 0.7*Total_Data\n",
    "## Validation Data Size= 0.21* Total_Data\n",
    "## Test Data Size= 0.09 * Total_Data\n",
    "\n",
    "# Augmentaions Used:\n",
    "## Each Image is rotated through 45 angles\n"
   ]
  },
  {
   "cell_type": "code",
   "execution_count": 2,
   "id": "e22d9cb2",
   "metadata": {
    "execution": {
     "iopub.execute_input": "2022-05-24T14:27:37.537879Z",
     "iopub.status.busy": "2022-05-24T14:27:37.537571Z",
     "iopub.status.idle": "2022-05-24T14:27:47.131663Z",
     "shell.execute_reply": "2022-05-24T14:27:47.130668Z"
    },
    "papermill": {
     "duration": 9.63947,
     "end_time": "2022-05-24T14:27:47.134101",
     "exception": false,
     "start_time": "2022-05-24T14:27:37.494631",
     "status": "completed"
    },
    "tags": []
   },
   "outputs": [
    {
     "data": {
      "text/html": [
       "<style type='text/css'>\n",
       ".datatable table.frame { margin-bottom: 0; }\n",
       ".datatable table.frame thead { border-bottom: none; }\n",
       ".datatable table.frame tr.coltypes td {  color: #FFFFFF;  line-height: 6px;  padding: 0 0.5em;}\n",
       ".datatable .bool    { background: #DDDD99; }\n",
       ".datatable .object  { background: #565656; }\n",
       ".datatable .int     { background: #5D9E5D; }\n",
       ".datatable .float   { background: #4040CC; }\n",
       ".datatable .str     { background: #CC4040; }\n",
       ".datatable .time    { background: #40CC40; }\n",
       ".datatable .row_index {  background: var(--jp-border-color3);  border-right: 1px solid var(--jp-border-color0);  color: var(--jp-ui-font-color3);  font-size: 9px;}\n",
       ".datatable .frame tbody td { text-align: left; }\n",
       ".datatable .frame tr.coltypes .row_index {  background: var(--jp-border-color0);}\n",
       ".datatable th:nth-child(2) { padding-left: 12px; }\n",
       ".datatable .hellipsis {  color: var(--jp-cell-editor-border-color);}\n",
       ".datatable .vellipsis {  background: var(--jp-layout-color0);  color: var(--jp-cell-editor-border-color);}\n",
       ".datatable .na {  color: var(--jp-cell-editor-border-color);  font-size: 80%;}\n",
       ".datatable .sp {  opacity: 0.25;}\n",
       ".datatable .footer { font-size: 9px; }\n",
       ".datatable .frame_dimensions {  background: var(--jp-border-color3);  border-top: 1px solid var(--jp-border-color0);  color: var(--jp-ui-font-color3);  display: inline-block;  opacity: 0.6;  padding: 1px 10px 1px 5px;}\n",
       "</style>\n"
      ],
      "text/plain": [
       "<IPython.core.display.HTML object>"
      ]
     },
     "metadata": {},
     "output_type": "display_data"
    },
    {
     "name": "stdout",
     "output_type": "stream",
     "text": [
      "All modules have been imported\n"
     ]
    }
   ],
   "source": [
    "\n",
    "import numpy as np\n",
    "import pandas as pd\n",
    "import cv2\n",
    "from PIL import Image\n",
    "import scipy\n",
    "\n",
    "import tensorflow as tf\n",
    "from tensorflow.keras.applications import *\n",
    "from tensorflow.keras.optimizers import *\n",
    "from tensorflow.keras.losses import *\n",
    "from tensorflow.keras.layers import *\n",
    "from tensorflow.keras.models import *\n",
    "from tensorflow.keras.callbacks import *\n",
    "from tensorflow.keras.preprocessing.image import *\n",
    "from tensorflow.keras.utils import *\n",
    "# import pydot\n",
    "\n",
    "from sklearn.metrics import *\n",
    "from sklearn.model_selection import *\n",
    "import tensorflow.keras.backend as K\n",
    "\n",
    "from tqdm import tqdm, tqdm_notebook\n",
    "from colorama import Fore\n",
    "import json\n",
    "import matplotlib.pyplot as plt\n",
    "import seaborn as sns\n",
    "from glob import glob\n",
    "from skimage.io import *\n",
    "%config Completer.use_jedi = False\n",
    "import time\n",
    "from sklearn.decomposition import PCA\n",
    "from sklearn.svm import LinearSVC\n",
    "from sklearn.linear_model import LogisticRegression\n",
    "from sklearn.metrics import accuracy_score\n",
    "import lightgbm as lgb\n",
    "import xgboost as xgb\n",
    "\n",
    "print(\"All modules have been imported\")"
   ]
  },
  {
   "cell_type": "code",
   "execution_count": 3,
   "id": "40645e79",
   "metadata": {
    "execution": {
     "iopub.execute_input": "2022-05-24T14:27:47.222960Z",
     "iopub.status.busy": "2022-05-24T14:27:47.222452Z",
     "iopub.status.idle": "2022-05-24T14:27:47.227148Z",
     "shell.execute_reply": "2022-05-24T14:27:47.226447Z"
    },
    "papermill": {
     "duration": 0.050647,
     "end_time": "2022-05-24T14:27:47.229260",
     "exception": false,
     "start_time": "2022-05-24T14:27:47.178613",
     "status": "completed"
    },
    "tags": []
   },
   "outputs": [],
   "source": [
    "sampling_seed=0\n",
    "size_4_training=5000\n",
    "img_size=224\n",
    "training_reshape=(-1, img_size, img_size, 3)\n",
    "epoch_4_test=10"
   ]
  },
  {
   "cell_type": "markdown",
   "id": "bc4d9698",
   "metadata": {
    "papermill": {
     "duration": 0.043536,
     "end_time": "2022-05-24T14:27:47.315126",
     "exception": false,
     "start_time": "2022-05-24T14:27:47.271590",
     "status": "completed"
    },
    "tags": []
   },
   "source": [
    "Image labelling"
   ]
  },
  {
   "cell_type": "code",
   "execution_count": 4,
   "id": "e65e9498",
   "metadata": {
    "execution": {
     "iopub.execute_input": "2022-05-24T14:27:47.400887Z",
     "iopub.status.busy": "2022-05-24T14:27:47.400228Z",
     "iopub.status.idle": "2022-05-24T14:32:14.195730Z",
     "shell.execute_reply": "2022-05-24T14:32:14.194696Z"
    },
    "papermill": {
     "duration": 266.841132,
     "end_time": "2022-05-24T14:32:14.198259",
     "exception": false,
     "start_time": "2022-05-24T14:27:47.357127",
     "status": "completed"
    },
    "tags": []
   },
   "outputs": [
    {
     "name": "stdout",
     "output_type": "stream",
     "text": [
      "['../input/breast-histopathology-images/IDC_regular_ps50_idx5/10295/0/10295_idx5_x1351_y1101_class0.png', '../input/breast-histopathology-images/IDC_regular_ps50_idx5/10295/0/10295_idx5_x1501_y501_class0.png', '../input/breast-histopathology-images/IDC_regular_ps50_idx5/10295/0/10295_idx5_x1501_y1101_class0.png', '../input/breast-histopathology-images/IDC_regular_ps50_idx5/10295/0/10295_idx5_x451_y901_class0.png', '../input/breast-histopathology-images/IDC_regular_ps50_idx5/10295/0/10295_idx5_x801_y451_class0.png', '../input/breast-histopathology-images/IDC_regular_ps50_idx5/10295/0/10295_idx5_x151_y1051_class0.png', '../input/breast-histopathology-images/IDC_regular_ps50_idx5/10295/0/10295_idx5_x1351_y901_class0.png', '../input/breast-histopathology-images/IDC_regular_ps50_idx5/10295/0/10295_idx5_x701_y651_class0.png', '../input/breast-histopathology-images/IDC_regular_ps50_idx5/10295/0/10295_idx5_x951_y1401_class0.png', '../input/breast-histopathology-images/IDC_regular_ps50_idx5/10295/0/10295_idx5_x601_y501_class0.png']\n"
     ]
    }
   ],
   "source": [
    "import random\n",
    "#make directory for labelling\n",
    "os.makedirs('../working/idc2/idc-minus/')     \n",
    "os.makedirs('../working/idc2/idc-plus/')  \n",
    "\n",
    "\n",
    "class0 = [] # 0 = idc+\n",
    "class1 = [] # 1 = idc-\n",
    "imagePatches = glob('../input/breast-histopathology-images/IDC_regular_ps50_idx5/**/*.png', recursive=True)\n",
    "for filename in imagePatches:\n",
    "    if filename.endswith(\"class0.png\"):\n",
    "         class0.append(filename)\n",
    "    else:\n",
    "        class1.append(filename)\n",
    "\n",
    "print(class0[0:10])\n",
    "\n",
    "#sampling 10000 images from class 0 and class 1 to train the model\n",
    "\n",
    "random.seed(sampling_seed)\n",
    "class0sample=random.sample(class0,size_4_training)\n",
    "class1sample=random.sample(class1,size_4_training)\n",
    "\n",
    "\n",
    "def read_and_save_data(path, file_name_array):\n",
    "    j=0\n",
    "    for i in file_name_array:\n",
    "        if i.endswith('.png'):\n",
    "          \n",
    "            \n",
    "            #second copy method\n",
    "            head, tail = os.path.split(i)\n",
    "            outputname=str(path+tail)\n",
    "            #outputname=str(path+str(j)+'.png')\n",
    "            #print(outputname)\n",
    "            shutil.copy(i, outputname)\n",
    "   \n",
    "            #print(status2)\n",
    "            \n",
    "            j=j+1\n",
    "            if j==120000:\n",
    "                break\n",
    "            \n",
    "   \n",
    "class0path='../working/idc2/idc-minus/'\n",
    "class1path='../working/idc2/idc-plus/'\n",
    "\n",
    "\n",
    "\n",
    "\n",
    "read_and_save_data(class0path,class0sample)\n",
    "read_and_save_data(class1path,class1sample)"
   ]
  },
  {
   "cell_type": "markdown",
   "id": "2a3eec88",
   "metadata": {
    "papermill": {
     "duration": 0.04157,
     "end_time": "2022-05-24T14:32:14.282444",
     "exception": false,
     "start_time": "2022-05-24T14:32:14.240874",
     "status": "completed"
    },
    "tags": []
   },
   "source": []
  },
  {
   "cell_type": "code",
   "execution_count": null,
   "id": "94d05b53",
   "metadata": {
    "papermill": {
     "duration": 0.041564,
     "end_time": "2022-05-24T14:32:14.365884",
     "exception": false,
     "start_time": "2022-05-24T14:32:14.324320",
     "status": "completed"
    },
    "tags": []
   },
   "outputs": [],
   "source": [
    "\n"
   ]
  },
  {
   "cell_type": "code",
   "execution_count": 5,
   "id": "3b0abcfa",
   "metadata": {
    "execution": {
     "iopub.execute_input": "2022-05-24T14:32:14.452222Z",
     "iopub.status.busy": "2022-05-24T14:32:14.451922Z",
     "iopub.status.idle": "2022-05-24T14:32:14.456032Z",
     "shell.execute_reply": "2022-05-24T14:32:14.455065Z"
    },
    "papermill": {
     "duration": 0.049433,
     "end_time": "2022-05-24T14:32:14.458030",
     "exception": false,
     "start_time": "2022-05-24T14:32:14.408597",
     "status": "completed"
    },
    "tags": []
   },
   "outputs": [],
   "source": [
    "\n",
    "from PIL import Image\n",
    "import glob\n"
   ]
  },
  {
   "cell_type": "code",
   "execution_count": null,
   "id": "9c9ed1f5",
   "metadata": {
    "papermill": {
     "duration": 0.041354,
     "end_time": "2022-05-24T14:32:14.541189",
     "exception": false,
     "start_time": "2022-05-24T14:32:14.499835",
     "status": "completed"
    },
    "tags": []
   },
   "outputs": [],
   "source": []
  },
  {
   "cell_type": "code",
   "execution_count": null,
   "id": "3ccdd93c",
   "metadata": {
    "papermill": {
     "duration": 0.041523,
     "end_time": "2022-05-24T14:32:14.624551",
     "exception": false,
     "start_time": "2022-05-24T14:32:14.583028",
     "status": "completed"
    },
    "tags": []
   },
   "outputs": [],
   "source": []
  },
  {
   "cell_type": "code",
   "execution_count": 6,
   "id": "9b9896db",
   "metadata": {
    "execution": {
     "iopub.execute_input": "2022-05-24T14:32:14.710085Z",
     "iopub.status.busy": "2022-05-24T14:32:14.709821Z",
     "iopub.status.idle": "2022-05-24T14:32:14.713807Z",
     "shell.execute_reply": "2022-05-24T14:32:14.712892Z"
    },
    "papermill": {
     "duration": 0.049285,
     "end_time": "2022-05-24T14:32:14.715831",
     "exception": false,
     "start_time": "2022-05-24T14:32:14.666546",
     "status": "completed"
    },
    "tags": []
   },
   "outputs": [],
   "source": [
    "import os #Operating System\n",
    "import sys #System\n",
    "# train_generator = train_datagen.flow(x_train, y_train, batch_size =)\n",
    "# val_generator = val_datagen.flow(x_val, y_val, batch_size = 64)\n",
    "# test_generator=test_datagen.flow(x_test,y_test,batch_size = 64)\n"
   ]
  },
  {
   "cell_type": "markdown",
   "id": "df89f991",
   "metadata": {
    "papermill": {
     "duration": 0.041808,
     "end_time": "2022-05-24T14:32:14.801192",
     "exception": false,
     "start_time": "2022-05-24T14:32:14.759384",
     "status": "completed"
    },
    "tags": []
   },
   "source": [
    "#import image"
   ]
  },
  {
   "cell_type": "code",
   "execution_count": 7,
   "id": "74024b61",
   "metadata": {
    "execution": {
     "iopub.execute_input": "2022-05-24T14:32:14.887190Z",
     "iopub.status.busy": "2022-05-24T14:32:14.886916Z",
     "iopub.status.idle": "2022-05-24T14:32:14.895718Z",
     "shell.execute_reply": "2022-05-24T14:32:14.894746Z"
    },
    "papermill": {
     "duration": 0.0552,
     "end_time": "2022-05-24T14:32:14.898245",
     "exception": false,
     "start_time": "2022-05-24T14:32:14.843045",
     "status": "completed"
    },
    "tags": []
   },
   "outputs": [],
   "source": [
    "import cv2\n",
    "'''\n",
    "def readImage(path, X, Y, label):\n",
    "    j=0\n",
    " \n",
    "    for i in os.listdir(path):\n",
    "        imgname=path+i\n",
    "        #print(imgname)\n",
    "        img = cv2.imread(imgname, cv2.IMREAD_COLOR)\n",
    "        img =cv2.resize(img,(50, 50))\n",
    "        X.append(img)\n",
    "        Y.append(label)\n",
    "        j=j+1\n",
    "        #if j==10:\n",
    "        #    break\n",
    "        \n",
    "    return X, Y\n",
    "    '''\n",
    "def readImage(path, tag):\n",
    "    j=0\n",
    "    image_array = []\n",
    "    for i in os.listdir(path):\n",
    "        imgname=path+i\n",
    "        #print(imgname)\n",
    "        img = cv2.imread(imgname, cv2.IMREAD_COLOR)\n",
    "        img_resized = cv2.resize(img, (img_size,img_size), interpolation=cv2.INTER_LINEAR)\n",
    "        image_array.append([img_resized, tag])\n",
    "        #print(img[1])\n",
    "        j=j+1\n",
    "        #if j==10:\n",
    "        #    break\n",
    "        \n",
    "    return image_array"
   ]
  },
  {
   "cell_type": "code",
   "execution_count": 8,
   "id": "c5de53cb",
   "metadata": {
    "execution": {
     "iopub.execute_input": "2022-05-24T14:32:14.984995Z",
     "iopub.status.busy": "2022-05-24T14:32:14.984734Z",
     "iopub.status.idle": "2022-05-24T14:32:18.720463Z",
     "shell.execute_reply": "2022-05-24T14:32:18.719271Z"
    },
    "papermill": {
     "duration": 3.783464,
     "end_time": "2022-05-24T14:32:18.724044",
     "exception": false,
     "start_time": "2022-05-24T14:32:14.940580",
     "status": "completed"
    },
    "tags": []
   },
   "outputs": [
    {
     "name": "stdout",
     "output_type": "stream",
     "text": [
      "(5000, 2)\n",
      "(10000, 2)\n",
      "(10000, 224, 224, 3)\n"
     ]
    }
   ],
   "source": [
    "import numpy as np\n",
    "\n",
    "\n",
    "class0_array = readImage(class0path, 0)\n",
    "class1_array = readImage(class1path, 1)\n",
    "class0_array=np.array(class0_array)\n",
    "class1_array=np.array(class1_array)\n",
    "combined_data = np.concatenate((class0_array, class1_array))\n",
    "random.seed(41)\n",
    "random.shuffle(combined_data)\n",
    "print(class0_array.shape)\n",
    "print(combined_data.shape)\n",
    "\n",
    "X = []\n",
    "y = []\n",
    "\n",
    "for features,label in combined_data:\n",
    "    X.append(features)\n",
    "    y.append(label)\n",
    "#print(X.shape)\n",
    "#pring(y.shape)\n",
    "\n",
    "# reshape X data\n",
    "X = np.array(X).reshape(training_reshape)\n",
    "print(X.shape)"
   ]
  },
  {
   "cell_type": "code",
   "execution_count": 9,
   "id": "62d340e8",
   "metadata": {
    "execution": {
     "iopub.execute_input": "2022-05-24T14:32:18.819856Z",
     "iopub.status.busy": "2022-05-24T14:32:18.819116Z",
     "iopub.status.idle": "2022-05-24T14:32:19.603645Z",
     "shell.execute_reply": "2022-05-24T14:32:19.602797Z"
    },
    "papermill": {
     "duration": 0.836114,
     "end_time": "2022-05-24T14:32:19.606226",
     "exception": false,
     "start_time": "2022-05-24T14:32:18.770112",
     "status": "completed"
    },
    "tags": []
   },
   "outputs": [
    {
     "name": "stdout",
     "output_type": "stream",
     "text": [
      "(7000, 224, 224, 3) (900, 224, 224, 3) (2100, 224, 224, 3) (7000, 2) (900, 2) (2100, 2)\n"
     ]
    }
   ],
   "source": [
    "X_train, X_test1, y_train, y_test1 = train_test_split(X, y, test_size=0.3, random_state=42)\n",
    "X_val, X_test, y_val, y_test = train_test_split(X_test1, y_test1, test_size=0.3, random_state=42)\n",
    "y_train = to_categorical(y_train)\n",
    "y_test = to_categorical(y_test)\n",
    "y_val = to_categorical(y_val)\n",
    "print(X_train.shape, X_test.shape, X_val.shape, y_train.shape, y_test.shape, y_val.shape)"
   ]
  },
  {
   "cell_type": "code",
   "execution_count": 10,
   "id": "d62b5762",
   "metadata": {
    "execution": {
     "iopub.execute_input": "2022-05-24T14:32:19.695894Z",
     "iopub.status.busy": "2022-05-24T14:32:19.695571Z",
     "iopub.status.idle": "2022-05-24T14:32:19.702111Z",
     "shell.execute_reply": "2022-05-24T14:32:19.701076Z"
    },
    "papermill": {
     "duration": 0.053698,
     "end_time": "2022-05-24T14:32:19.704314",
     "exception": false,
     "start_time": "2022-05-24T14:32:19.650616",
     "status": "completed"
    },
    "tags": []
   },
   "outputs": [],
   "source": [
    "#Callbacks\n",
    "c2=tf.keras.callbacks.EarlyStopping(\n",
    "    monitor=\"val_loss\",\n",
    "    min_delta=0,\n",
    "    patience=6,\n",
    "    mode=\"auto\",\n",
    "    baseline=None,\n",
    "    restore_best_weights=True,\n",
    ")\n",
    "\n",
    "c3=tf.keras.callbacks.ReduceLROnPlateau(\n",
    "    monitor=\"val_loss\",\n",
    "    factor=0.1,\n",
    "    patience=6,\n",
    "    mode=\"auto\",\n",
    "    min_delta=0.0001,\n",
    "    cooldown=0,\n",
    "    min_lr=0.001\n",
    ")\n",
    "nClasses=2"
   ]
  },
  {
   "cell_type": "markdown",
   "id": "5d2e09ef",
   "metadata": {
    "papermill": {
     "duration": 0.044326,
     "end_time": "2022-05-24T14:32:19.794955",
     "exception": false,
     "start_time": "2022-05-24T14:32:19.750629",
     "status": "completed"
    },
    "tags": []
   },
   "source": [
    "# Model configure"
   ]
  },
  {
   "cell_type": "code",
   "execution_count": 11,
   "id": "5018a991",
   "metadata": {
    "execution": {
     "iopub.execute_input": "2022-05-24T14:32:19.884728Z",
     "iopub.status.busy": "2022-05-24T14:32:19.884194Z",
     "iopub.status.idle": "2022-05-24T14:32:26.447747Z",
     "shell.execute_reply": "2022-05-24T14:32:26.447101Z"
    },
    "papermill": {
     "duration": 6.612024,
     "end_time": "2022-05-24T14:32:26.451356",
     "exception": false,
     "start_time": "2022-05-24T14:32:19.839332",
     "status": "completed"
    },
    "tags": []
   },
   "outputs": [
    {
     "name": "stderr",
     "output_type": "stream",
     "text": [
      "2022-05-24 14:32:19.950394: I tensorflow/core/common_runtime/process_util.cc:146] Creating new thread pool with default inter op setting: 2. Tune using inter_op_parallelism_threads for best performance.\n"
     ]
    },
    {
     "name": "stdout",
     "output_type": "stream",
     "text": [
      "Downloading data from https://storage.googleapis.com/tensorflow/keras-applications/densenet/densenet121_weights_tf_dim_ordering_tf_kernels_notop.h5\n",
      "29089792/29084464 [==============================] - 0s 0us/step\n",
      "29097984/29084464 [==============================] - 0s 0us/step\n",
      "Model: \"sequential\"\n",
      "_________________________________________________________________\n",
      "Layer (type)                 Output Shape              Param #   \n",
      "=================================================================\n",
      "densenet121 (Functional)     (None, 7, 7, 1024)        7037504   \n",
      "_________________________________________________________________\n",
      "flatten (Flatten)            (None, 50176)             0         \n",
      "_________________________________________________________________\n",
      "batch_normalization (BatchNo (None, 50176)             200704    \n",
      "_________________________________________________________________\n",
      "dense (Dense)                (None, 4096)              205524992 \n",
      "_________________________________________________________________\n",
      "batch_normalization_1 (Batch (None, 4096)              16384     \n",
      "_________________________________________________________________\n",
      "dense_1 (Dense)              (None, 4096)              16781312  \n",
      "_________________________________________________________________\n",
      "dropout (Dropout)            (None, 4096)              0         \n",
      "_________________________________________________________________\n",
      "dense_2 (Dense)              (None, 2096)              8587312   \n",
      "_________________________________________________________________\n",
      "dense_3 (Dense)              (None, 2)                 4194      \n",
      "=================================================================\n",
      "Total params: 238,152,402\n",
      "Trainable params: 231,006,354\n",
      "Non-trainable params: 7,146,048\n",
      "_________________________________________________________________\n"
     ]
    }
   ],
   "source": [
    "RESNET50_POOLING_AVERAGE = 'avg'\n",
    "DENSE_LAYER_ACTIVATION = 'sigmoid'\n",
    "OBJECTIVE_FUNCTION = 'categorical_crossentropy'\n",
    "\n",
    "# Common accuracy metric for all outputs, but can use different metrics for different output\n",
    "LOSS_METRICS = ['accuracy']\n",
    "\n",
    "# EARLY_STOP_PATIENCE must be < NUM_EPOCHS\n",
    "NUM_EPOCHS = 30\n",
    "EARLY_STOP_PATIENCE = 3\n",
    "#resnet_weights_path = '../input/resnet50/resnet50_weights_tf_dim_ordering_tf_kernels_notop.h5'\n",
    "\n",
    "\n",
    "# fix pretrained layers for deep fea\n",
    "from tensorflow.keras.applications import DenseNet121\n",
    "base_model = DenseNet121(weights='imagenet', include_top=False, input_shape=(224,224,3))\n",
    "base_model.trainable = False\n",
    "model=Sequential()\n",
    "model.add(base_model)\n",
    "model.add(Flatten())\n",
    "model.add(BatchNormalization())\n",
    "model.add(Dense(4096,kernel_initializer='he_uniform'))\n",
    "model.add(BatchNormalization())\n",
    "model.add(Dense(4096,activation=\"relu\"))\n",
    "#model.add(BatchNormalization())\n",
    "#model.add(Activation('relu'))\n",
    "model.add(Dropout(0.2))\n",
    "model.add(Dense(2096,activation=\"relu\"))\n",
    "model.add(Dense(2, activation='sigmoid'))\n",
    "#model = Model(inputs=resnet50_base_model.input, outputs=predictions)\n",
    "model.summary()\n"
   ]
  },
  {
   "cell_type": "code",
   "execution_count": 12,
   "id": "258817ff",
   "metadata": {
    "execution": {
     "iopub.execute_input": "2022-05-24T14:32:26.547306Z",
     "iopub.status.busy": "2022-05-24T14:32:26.546995Z",
     "iopub.status.idle": "2022-05-24T14:32:27.903106Z",
     "shell.execute_reply": "2022-05-24T14:32:27.902345Z"
    },
    "papermill": {
     "duration": 1.407454,
     "end_time": "2022-05-24T14:32:27.906074",
     "exception": false,
     "start_time": "2022-05-24T14:32:26.498620",
     "status": "completed"
    },
    "tags": []
   },
   "outputs": [
    {
     "data": {
      "image/png": "[encoded data removed]",
      "text/plain": [
       "<IPython.core.display.Image object>"
      ]
     },
     "execution_count": 12,
     "metadata": {},
     "output_type": "execute_result"
    }
   ],
   "source": [
    "from tensorflow.keras.utils import plot_model\n",
    "from IPython.display import Image\n",
    "plot_model(model, to_file='convnet.png', show_shapes=True,show_layer_names=True)\n",
    "Image(filename='convnet.png') "
   ]
  },
  {
   "cell_type": "code",
   "execution_count": 13,
   "id": "96768a2d",
   "metadata": {
    "execution": {
     "iopub.execute_input": "2022-05-24T14:32:28.008365Z",
     "iopub.status.busy": "2022-05-24T14:32:28.007768Z",
     "iopub.status.idle": "2022-05-24T14:32:28.035083Z",
     "shell.execute_reply": "2022-05-24T14:32:28.034392Z"
    },
    "papermill": {
     "duration": 0.08099,
     "end_time": "2022-05-24T14:32:28.037181",
     "exception": false,
     "start_time": "2022-05-24T14:32:27.956191",
     "status": "completed"
    },
    "tags": []
   },
   "outputs": [],
   "source": [
    "callbacks1 = [EarlyStopping(monitor='val_loss', patience=5, verbose=1), ModelCheckpoint('model.hdf5', save_best_only=True)]\n",
    "opt = Adam(learning_rate=0.001)\n",
    "model.compile(loss='categorical_crossentropy', optimizer=opt, metrics=['accuracy'])"
   ]
  },
  {
   "cell_type": "code",
   "execution_count": 14,
   "id": "cdd3df8b",
   "metadata": {
    "execution": {
     "iopub.execute_input": "2022-05-24T14:32:28.138184Z",
     "iopub.status.busy": "2022-05-24T14:32:28.137706Z",
     "iopub.status.idle": "2022-05-24T16:12:24.552024Z",
     "shell.execute_reply": "2022-05-24T16:12:24.550620Z"
    },
    "papermill": {
     "duration": 5997.280246,
     "end_time": "2022-05-24T16:12:25.366844",
     "exception": false,
     "start_time": "2022-05-24T14:32:28.086598",
     "status": "completed"
    },
    "tags": []
   },
   "outputs": [
    {
     "name": "stdout",
     "output_type": "stream",
     "text": [
      "CPU times: user 2 µs, sys: 2 µs, total: 4 µs\n",
      "Wall time: 7.87 µs\n"
     ]
    },
    {
     "name": "stderr",
     "output_type": "stream",
     "text": [
      "2022-05-24 14:32:28.911445: I tensorflow/compiler/mlir/mlir_graph_optimization_pass.cc:185] None of the MLIR Optimization Passes are enabled (registered 2)\n"
     ]
    },
    {
     "name": "stdout",
     "output_type": "stream",
     "text": [
      "Epoch 1/10\n",
      "219/219 [==============================] - 662s 3s/step - loss: 0.5123 - accuracy: 0.8540 - val_loss: 0.3580 - val_accuracy: 0.8622\n",
      "Epoch 2/10\n",
      "219/219 [==============================] - 667s 3s/step - loss: 0.2864 - accuracy: 0.8844 - val_loss: 0.3161 - val_accuracy: 0.8744\n",
      "Epoch 3/10\n",
      "219/219 [==============================] - 660s 3s/step - loss: 0.2495 - accuracy: 0.8967 - val_loss: 0.2950 - val_accuracy: 0.9000\n",
      "Epoch 4/10\n",
      "219/219 [==============================] - 662s 3s/step - loss: 0.2120 - accuracy: 0.9144 - val_loss: 0.2575 - val_accuracy: 0.9078\n",
      "Epoch 5/10\n",
      "219/219 [==============================] - 656s 3s/step - loss: 0.1908 - accuracy: 0.9226 - val_loss: 0.3059 - val_accuracy: 0.9044\n",
      "Epoch 6/10\n",
      "219/219 [==============================] - 656s 3s/step - loss: 0.1914 - accuracy: 0.9341 - val_loss: 0.3892 - val_accuracy: 0.8967\n",
      "Epoch 7/10\n",
      "219/219 [==============================] - 662s 3s/step - loss: 0.2082 - accuracy: 0.9301 - val_loss: 0.8597 - val_accuracy: 0.8367\n",
      "Epoch 8/10\n",
      "219/219 [==============================] - 656s 3s/step - loss: 0.2934 - accuracy: 0.9224 - val_loss: 1.3284 - val_accuracy: 0.8933\n",
      "Epoch 9/10\n",
      "219/219 [==============================] - 658s 3s/step - loss: 0.3270 - accuracy: 0.9209 - val_loss: 0.7402 - val_accuracy: 0.8511\n",
      "Epoch 00009: early stopping\n"
     ]
    }
   ],
   "source": [
    "%time\n",
    "history1=model.fit(X_train, y_train,validation_data=(X_test, y_test),verbose = 1,epochs = epoch_4_test,callbacks=callbacks1)"
   ]
  },
  {
   "cell_type": "code",
   "execution_count": 15,
   "id": "8da75874",
   "metadata": {
    "execution": {
     "iopub.execute_input": "2022-05-24T16:12:27.025885Z",
     "iopub.status.busy": "2022-05-24T16:12:27.025155Z",
     "iopub.status.idle": "2022-05-24T16:12:27.035738Z",
     "shell.execute_reply": "2022-05-24T16:12:27.034967Z"
    },
    "papermill": {
     "duration": 0.855253,
     "end_time": "2022-05-24T16:12:27.037860",
     "exception": false,
     "start_time": "2022-05-24T16:12:26.182607",
     "status": "completed"
    },
    "tags": []
   },
   "outputs": [],
   "source": [
    "def f1_score(y_true, y_pred): #taken from old keras source code\n",
    "    true_positives = K.sum(K.round(K.clip(y_true * y_pred, 0, 1)))\n",
    "    possible_positives = K.sum(K.round(K.clip(y_true, 0, 1)))\n",
    "    predicted_positives = K.sum(K.round(K.clip(y_pred, 0, 1)))\n",
    "    precision = true_positives / (predicted_positives + K.epsilon())\n",
    "    recall = true_positives / (possible_positives + K.epsilon())\n",
    "    f1_val = 2*(precision*recall)/(precision+recall+K.epsilon())\n",
    "    return f1_val"
   ]
  },
  {
   "cell_type": "code",
   "execution_count": 16,
   "id": "d89aec80",
   "metadata": {
    "execution": {
     "iopub.execute_input": "2022-05-24T16:12:28.595477Z",
     "iopub.status.busy": "2022-05-24T16:12:28.595103Z",
     "iopub.status.idle": "2022-05-24T16:12:59.276566Z",
     "shell.execute_reply": "2022-05-24T16:12:59.275492Z"
    },
    "papermill": {
     "duration": 31.455926,
     "end_time": "2022-05-24T16:12:59.279578",
     "exception": false,
     "start_time": "2022-05-24T16:12:27.823652",
     "status": "completed"
    },
    "tags": []
   },
   "outputs": [],
   "source": [
    "METRICS = [\n",
    "      tf.keras.metrics.BinaryAccuracy(name='accuracy'),\n",
    "      tf.keras.metrics.Precision(name='precision'),\n",
    "      tf.keras.metrics.Recall(name='recall'),  \n",
    "      tf.keras.metrics.AUC(name='auc'),\n",
    "        f1_score,\n",
    "]"
   ]
  },
  {
   "cell_type": "code",
   "execution_count": null,
   "id": "72c25598",
   "metadata": {
    "execution": {
     "iopub.execute_input": "2022-05-06T15:08:04.489795Z",
     "iopub.status.busy": "2022-05-06T15:08:04.488846Z",
     "iopub.status.idle": "2022-05-06T15:08:04.918152Z",
     "shell.execute_reply": "2022-05-06T15:08:04.917046Z",
     "shell.execute_reply.started": "2022-05-06T15:08:04.489742Z"
    },
    "papermill": {
     "duration": 0.772202,
     "end_time": "2022-05-24T16:13:00.839249",
     "exception": false,
     "start_time": "2022-05-24T16:13:00.067047",
     "status": "completed"
    },
    "tags": []
   },
   "outputs": [],
   "source": []
  },
  {
   "cell_type": "code",
   "execution_count": 17,
   "id": "026a5e4a",
   "metadata": {
    "execution": {
     "iopub.execute_input": "2022-05-24T16:13:02.382101Z",
     "iopub.status.busy": "2022-05-24T16:13:02.381507Z",
     "iopub.status.idle": "2022-05-24T16:15:18.062492Z",
     "shell.execute_reply": "2022-05-24T16:15:18.061521Z"
    },
    "papermill": {
     "duration": 137.231276,
     "end_time": "2022-05-24T16:15:18.841788",
     "exception": false,
     "start_time": "2022-05-24T16:13:01.610512",
     "status": "completed"
    },
    "tags": []
   },
   "outputs": [
    {
     "data": {
      "image/png": "[encoded data removed]",
      "text/plain": [
       "<Figure size 576x576 with 2 Axes>"
      ]
     },
     "metadata": {
      "needs_background": "light"
     },
     "output_type": "display_data"
    }
   ],
   "source": [
    "from sklearn.metrics import confusion_matrix\n",
    "import seaborn as sns\n",
    "\n",
    "Y_pred = model.predict(X_val)\n",
    "Y_pred_classes = np.argmax(Y_pred,axis = 1) \n",
    "Y_true = np.argmax(y_val,axis = 1) \n",
    "\n",
    "confusion_mtx = confusion_matrix(Y_true, Y_pred_classes) \n",
    "\n",
    "f,ax = plt.subplots(figsize=(8, 8))\n",
    "sns.heatmap(confusion_mtx, annot=True, linewidths=0.01,cmap=\"OrRd\",linecolor=\"black\", fmt= '.1f',ax=ax)\n",
    "plt.xlabel(\"Predicted Label\")\n",
    "plt.ylabel(\"True Label\")\n",
    "plt.title(\"Confusion Matrix\")\n",
    "plt.show()"
   ]
  },
  {
   "cell_type": "code",
   "execution_count": 18,
   "id": "debf7c18",
   "metadata": {
    "execution": {
     "iopub.execute_input": "2022-05-24T16:15:20.433677Z",
     "iopub.status.busy": "2022-05-24T16:15:20.433032Z",
     "iopub.status.idle": "2022-05-24T16:15:20.446176Z",
     "shell.execute_reply": "2022-05-24T16:15:20.445157Z"
    },
    "papermill": {
     "duration": 0.822786,
     "end_time": "2022-05-24T16:15:20.448227",
     "exception": false,
     "start_time": "2022-05-24T16:15:19.625441",
     "status": "completed"
    },
    "tags": []
   },
   "outputs": [
    {
     "name": "stdout",
     "output_type": "stream",
     "text": [
      "              precision    recall  f1-score   support\n",
      "\n",
      "           0       0.96      0.88      0.92      1806\n",
      "           1       0.51      0.78      0.62       294\n",
      "\n",
      "    accuracy                           0.87      2100\n",
      "   macro avg       0.74      0.83      0.77      2100\n",
      "weighted avg       0.90      0.87      0.88      2100\n",
      "\n"
     ]
    }
   ],
   "source": [
    "from sklearn.metrics import classification_report\n",
    "\n",
    "print(classification_report(Y_true, Y_pred_classes))"
   ]
  },
  {
   "cell_type": "markdown",
   "id": "61c51844",
   "metadata": {
    "papermill": {
     "duration": 0.773682,
     "end_time": "2022-05-24T16:15:22.003819",
     "exception": false,
     "start_time": "2022-05-24T16:15:21.230137",
     "status": "completed"
    },
    "tags": []
   },
   "source": []
  },
  {
   "cell_type": "code",
   "execution_count": null,
   "id": "b48f924e",
   "metadata": {
    "execution": {
     "iopub.execute_input": "2022-05-06T15:08:41.911737Z",
     "iopub.status.busy": "2022-05-06T15:08:41.911171Z",
     "iopub.status.idle": "2022-05-06T15:08:41.922881Z",
     "shell.execute_reply": "2022-05-06T15:08:41.922041Z",
     "shell.execute_reply.started": "2022-05-06T15:08:41.911677Z"
    },
    "papermill": {
     "duration": 0.774255,
     "end_time": "2022-05-24T16:15:23.552597",
     "exception": false,
     "start_time": "2022-05-24T16:15:22.778342",
     "status": "completed"
    },
    "tags": []
   },
   "outputs": [],
   "source": []
  },
  {
   "cell_type": "code",
   "execution_count": 19,
   "id": "962dcce3",
   "metadata": {
    "execution": {
     "iopub.execute_input": "2022-05-24T16:15:25.111218Z",
     "iopub.status.busy": "2022-05-24T16:15:25.110908Z",
     "iopub.status.idle": "2022-05-24T16:15:25.126804Z",
     "shell.execute_reply": "2022-05-24T16:15:25.125791Z"
    },
    "papermill": {
     "duration": 0.800644,
     "end_time": "2022-05-24T16:15:25.129043",
     "exception": false,
     "start_time": "2022-05-24T16:15:24.328399",
     "status": "completed"
    },
    "tags": []
   },
   "outputs": [],
   "source": [
    "from sklearn.metrics import f1_score, roc_auc_score, cohen_kappa_score, precision_score, recall_score, accuracy_score, confusion_matrix\n",
    "def get_accuracy_metrics(model, X_train, y_train, X_val, y_val, X_test, y_test):\n",
    "    y_train=np.argmax(y_train, axis=1)\n",
    "    y_test=np.argmax(y_test, axis=1)\n",
    "    y_val=np.argmax(y_val, axis=1)\n",
    "    y_train_pred=np.argmax(model.predict(X_train),axis=1)\n",
    "    y_test_pred=np.argmax(model.predict(X_test),axis=1)\n",
    "    y_val_pred=np.argmax(model.predict(X_val),axis=1)\n",
    "    #ps:all the Y value must turn back to 1 dimension array. otherwise, the scoring functions in sklearn cannot compare, and will give an error\n",
    "    #classification metrics can't handle a mix of continuous-multioutput and multi-label-indicator targets\n",
    "    \n",
    "    print(\"Train accuracy Score------------>\")\n",
    "    print (\"{0:.3f}\".format(accuracy_score(y_train, y_train_pred)*100), \"%\")\n",
    "    \n",
    "    print(\"Val accuracy Score--------->\")\n",
    "    \n",
    "    print(\"{0:.3f}\".format(accuracy_score(y_val, y_val_pred)*100), \"%\")\n",
    "    \n",
    "  \n",
    "    print(\"Test accuracy Score--------->\")\n",
    "    print(\"{0:.3f}\".format(accuracy_score(y_test, y_test_pred)*100), \"%\")\n",
    "    \n",
    "    print(\"F1 Score--------------->\")\n",
    "    print(\"{0:.3f}\".format(f1_score(y_test, y_test_pred, average = 'weighted')*100), \"%\")\n",
    "    \n",
    "    print(\"Cohen Kappa Score------------->\")\n",
    "    print(\"{0:.3f}\".format(cohen_kappa_score(y_test, y_test_pred)*100), \"%\")\n",
    "    \n",
    "    print(\"Recall-------------->\")\n",
    "    print(\"{0:.3f}\".format(recall_score(y_test, y_test_pred, average = 'weighted')*100), \"%\")\n",
    "    \n",
    "    print(\"Precision-------------->\")\n",
    "    print(\"{0:.3f}\".format(precision_score(y_test, y_test_pred, average = 'weighted')*100), \"%\")\n",
    "    \n",
    "    cf_matrix_test = confusion_matrix(y_test, y_test_pred)\n",
    "    cf_matrix_val = confusion_matrix(y_val, y_val_pred)\n",
    "    \n",
    "    plt.figure(figsize = (12, 6))\n",
    "    plt.subplot(121)\n",
    "    sns.heatmap(cf_matrix_val, annot=True, cmap='Blues')\n",
    "    plt.title(\"Val Confusion matrix\")\n",
    "    \n",
    "    plt.subplot(122)\n",
    "    sns.heatmap(cf_matrix_test, annot=True, cmap='Blues')\n",
    "    plt.title(\"Test Confusion matrix\")\n",
    "    \n",
    "    plt.show()"
   ]
  },
  {
   "cell_type": "code",
   "execution_count": null,
   "id": "0af393f4",
   "metadata": {
    "papermill": {
     "duration": 0.775934,
     "end_time": "2022-05-24T16:15:26.681715",
     "exception": false,
     "start_time": "2022-05-24T16:15:25.905781",
     "status": "completed"
    },
    "tags": []
   },
   "outputs": [],
   "source": []
  },
  {
   "cell_type": "code",
   "execution_count": 20,
   "id": "4a43f75b",
   "metadata": {
    "execution": {
     "iopub.execute_input": "2022-05-24T16:15:28.245141Z",
     "iopub.status.busy": "2022-05-24T16:15:28.244860Z",
     "iopub.status.idle": "2022-05-24T16:26:10.106549Z",
     "shell.execute_reply": "2022-05-24T16:26:10.105528Z"
    },
    "papermill": {
     "duration": 643.26353,
     "end_time": "2022-05-24T16:26:10.725389",
     "exception": false,
     "start_time": "2022-05-24T16:15:27.461859",
     "status": "completed"
    },
    "tags": []
   },
   "outputs": [
    {
     "name": "stdout",
     "output_type": "stream",
     "text": [
      "Train accuracy Score------------>\n",
      "89.500 %\n",
      "Val accuracy Score--------->\n",
      "86.524 %\n",
      "Test accuracy Score--------->\n",
      "85.111 %\n",
      "F1 Score--------------->\n",
      "85.893 %\n",
      "Cohen Kappa Score------------->\n",
      "53.502 %\n",
      "Recall-------------->\n",
      "85.111 %\n",
      "Precision-------------->\n",
      "87.281 %\n"
     ]
    },
    {
     "data": {
      "image/png": "[encoded data removed]",
      "text/plain": [
       "<Figure size 864x432 with 4 Axes>"
      ]
     },
     "metadata": {
      "needs_background": "light"
     },
     "output_type": "display_data"
    }
   ],
   "source": [
    "get_accuracy_metrics(model,  X_train, y_train, X_val, y_val, X_test, y_test)"
   ]
  },
  {
   "cell_type": "code",
   "execution_count": 21,
   "id": "29061bf8",
   "metadata": {
    "execution": {
     "iopub.execute_input": "2022-05-24T16:26:12.408995Z",
     "iopub.status.busy": "2022-05-24T16:26:12.408686Z",
     "iopub.status.idle": "2022-05-24T16:26:12.786112Z",
     "shell.execute_reply": "2022-05-24T16:26:12.785199Z"
    },
    "papermill": {
     "duration": 1.231543,
     "end_time": "2022-05-24T16:26:12.788471",
     "exception": false,
     "start_time": "2022-05-24T16:26:11.556928",
     "status": "completed"
    },
    "tags": []
   },
   "outputs": [
    {
     "data": {
      "image/png": "[encoded data removed]",
      "text/plain": [
       "<Figure size 864x432 with 2 Axes>"
      ]
     },
     "metadata": {
      "needs_background": "light"
     },
     "output_type": "display_data"
    }
   ],
   "source": [
    "import matplotlib.pyplot as plt\n",
    "import seaborn as sns\n",
    "plt.figure(figsize = (12, 6))\n",
    "plt.subplot(121)\n",
    "#plotting the Accuracy of test and training sets\n",
    "plt.plot(history1.history['accuracy'])\n",
    "plt.plot(history1.history['val_accuracy'])\n",
    "plt.title('1st training Model Accuracy')\n",
    "plt.ylabel('accuracy')\n",
    "plt.xlabel('epoch')\n",
    "plt.legend(['train', 'test'], loc='upper left')\n",
    "\n",
    "plt.subplot(122)\n",
    "#plotting the loss of test and training sets\n",
    "plt.plot(history1.history['loss'])\n",
    "plt.plot(history1.history['val_loss'])\n",
    "plt.title('1st training Model Loss')\n",
    "plt.ylabel('loss')\n",
    "plt.xlabel('epoch')\n",
    "plt.legend(['train', 'test'], loc='upper left')\n",
    "plt.show()"
   ]
  },
  {
   "cell_type": "markdown",
   "id": "d3e46132",
   "metadata": {
    "papermill": {
     "duration": 0.779077,
     "end_time": "2022-05-24T16:26:14.348145",
     "exception": false,
     "start_time": "2022-05-24T16:26:13.569068",
     "status": "completed"
    },
    "tags": []
   },
   "source": [
    "# Second Training Fine Tune"
   ]
  },
  {
   "cell_type": "code",
   "execution_count": 22,
   "id": "0f304704",
   "metadata": {
    "execution": {
     "iopub.execute_input": "2022-05-24T16:26:15.975903Z",
     "iopub.status.busy": "2022-05-24T16:26:15.975188Z",
     "iopub.status.idle": "2022-05-24T16:26:15.996506Z",
     "shell.execute_reply": "2022-05-24T16:26:15.995628Z"
    },
    "papermill": {
     "duration": 0.866573,
     "end_time": "2022-05-24T16:26:15.998891",
     "exception": false,
     "start_time": "2022-05-24T16:26:15.132318",
     "status": "completed"
    },
    "tags": []
   },
   "outputs": [],
   "source": [
    "for model1 in model.layers:\n",
    "    model1.trainable = True"
   ]
  },
  {
   "cell_type": "code",
   "execution_count": 23,
   "id": "af1b4947",
   "metadata": {
    "execution": {
     "iopub.execute_input": "2022-05-24T16:26:17.681811Z",
     "iopub.status.busy": "2022-05-24T16:26:17.681521Z",
     "iopub.status.idle": "2022-05-24T16:26:17.687451Z",
     "shell.execute_reply": "2022-05-24T16:26:17.686448Z"
    },
    "papermill": {
     "duration": 0.882859,
     "end_time": "2022-05-24T16:26:17.689772",
     "exception": false,
     "start_time": "2022-05-24T16:26:16.806913",
     "status": "completed"
    },
    "tags": []
   },
   "outputs": [],
   "source": [
    "callbacks2 = [EarlyStopping(monitor='val_loss', patience=5, verbose=1), ModelCheckpoint('test_model.hdf5', save_best_only=True)]\n",
    "opt = Adam(learning_rate=0.001)\n",
    "#model.compile(loss='categorical_crossentropy', optimizer=opt, metrics=['accuracy'])"
   ]
  },
  {
   "cell_type": "code",
   "execution_count": 24,
   "id": "eb0b3b6d",
   "metadata": {
    "execution": {
     "iopub.execute_input": "2022-05-24T16:26:19.278992Z",
     "iopub.status.busy": "2022-05-24T16:26:19.278338Z",
     "iopub.status.idle": "2022-05-24T17:01:41.731654Z",
     "shell.execute_reply": "2022-05-24T17:01:41.730338Z"
    },
    "papermill": {
     "duration": 2123.248712,
     "end_time": "2022-05-24T17:01:41.734896",
     "exception": false,
     "start_time": "2022-05-24T16:26:18.486184",
     "status": "completed"
    },
    "tags": []
   },
   "outputs": [
    {
     "name": "stdout",
     "output_type": "stream",
     "text": [
      "Epoch 1/3\n",
      "219/219 [==============================] - 667s 3s/step - loss: 0.1791 - accuracy: 0.9366 - val_loss: 1.8683 - val_accuracy: 0.9167\n",
      "Epoch 2/3\n",
      "219/219 [==============================] - 684s 3s/step - loss: 0.1336 - accuracy: 0.9550 - val_loss: 1.2563 - val_accuracy: 0.9178\n",
      "Epoch 3/3\n",
      "219/219 [==============================] - 698s 3s/step - loss: 0.0942 - accuracy: 0.9639 - val_loss: 1.1812 - val_accuracy: 0.9156\n"
     ]
    }
   ],
   "source": [
    "history2=model.fit(X_train, y_train,validation_data=(X_test, y_test),verbose = 1,epochs = 3,callbacks=callbacks2)"
   ]
  },
  {
   "cell_type": "code",
   "execution_count": 25,
   "id": "f355e57c",
   "metadata": {
    "execution": {
     "iopub.execute_input": "2022-05-24T17:01:44.052462Z",
     "iopub.status.busy": "2022-05-24T17:01:44.051577Z",
     "iopub.status.idle": "2022-05-24T17:04:00.185115Z",
     "shell.execute_reply": "2022-05-24T17:04:00.183670Z"
    },
    "papermill": {
     "duration": 138.39936,
     "end_time": "2022-05-24T17:04:01.218290",
     "exception": false,
     "start_time": "2022-05-24T17:01:42.818930",
     "status": "completed"
    },
    "tags": []
   },
   "outputs": [
    {
     "data": {
      "image/png": "[encoded data removed]",
      "text/plain": [
       "<Figure size 576x576 with 2 Axes>"
      ]
     },
     "metadata": {
      "needs_background": "light"
     },
     "output_type": "display_data"
    }
   ],
   "source": [
    "Y_pred = model.predict(X_val)\n",
    "Y_pred_classes = np.argmax(Y_pred,axis = 1) \n",
    "Y_true = np.argmax(y_val,axis = 1) \n",
    "\n",
    "confusion_mtx = confusion_matrix(Y_true, Y_pred_classes) \n",
    "\n",
    "f,ax = plt.subplots(figsize=(8, 8))\n",
    "sns.heatmap(confusion_mtx, annot=True, linewidths=0.01,cmap=\"OrRd\",linecolor=\"black\", fmt= '.1f',ax=ax)\n",
    "plt.xlabel(\"Predicted Label\")\n",
    "plt.ylabel(\"True Label\")\n",
    "plt.title(\"Confusion Matrix\")\n",
    "plt.show()"
   ]
  },
  {
   "cell_type": "code",
   "execution_count": 26,
   "id": "93c6fc38",
   "metadata": {
    "execution": {
     "iopub.execute_input": "2022-05-24T17:04:03.417230Z",
     "iopub.status.busy": "2022-05-24T17:04:03.416856Z",
     "iopub.status.idle": "2022-05-24T17:04:03.429479Z",
     "shell.execute_reply": "2022-05-24T17:04:03.428488Z"
    },
    "papermill": {
     "duration": 1.185345,
     "end_time": "2022-05-24T17:04:03.431725",
     "exception": false,
     "start_time": "2022-05-24T17:04:02.246380",
     "status": "completed"
    },
    "tags": []
   },
   "outputs": [
    {
     "name": "stdout",
     "output_type": "stream",
     "text": [
      "              precision    recall  f1-score   support\n",
      "\n",
      "           0       0.95      0.97      0.96      1806\n",
      "           1       0.77      0.66      0.71       294\n",
      "\n",
      "    accuracy                           0.93      2100\n",
      "   macro avg       0.86      0.82      0.84      2100\n",
      "weighted avg       0.92      0.93      0.92      2100\n",
      "\n"
     ]
    }
   ],
   "source": [
    "print(classification_report(Y_true, Y_pred_classes))"
   ]
  },
  {
   "cell_type": "code",
   "execution_count": 27,
   "id": "2ac813e5",
   "metadata": {
    "execution": {
     "iopub.execute_input": "2022-05-24T17:04:05.537290Z",
     "iopub.status.busy": "2022-05-24T17:04:05.536320Z",
     "iopub.status.idle": "2022-05-24T17:14:50.566829Z",
     "shell.execute_reply": "2022-05-24T17:14:50.565387Z"
    },
    "papermill": {
     "duration": 646.889034,
     "end_time": "2022-05-24T17:14:51.393939",
     "exception": false,
     "start_time": "2022-05-24T17:04:04.504905",
     "status": "completed"
    },
    "tags": []
   },
   "outputs": [
    {
     "name": "stdout",
     "output_type": "stream",
     "text": [
      "Train accuracy Score------------>\n",
      "98.457 %\n",
      "Val accuracy Score--------->\n",
      "92.524 %\n",
      "Test accuracy Score--------->\n",
      "91.556 %\n",
      "F1 Score--------------->\n",
      "91.211 %\n",
      "Cohen Kappa Score------------->\n",
      "67.916 %\n",
      "Recall-------------->\n",
      "91.556 %\n",
      "Precision-------------->\n",
      "91.172 %\n"
     ]
    },
    {
     "data": {
      "image/png": "[encoded data removed]",
      "text/plain": [
       "<Figure size 864x432 with 4 Axes>"
      ]
     },
     "metadata": {
      "needs_background": "light"
     },
     "output_type": "display_data"
    }
   ],
   "source": [
    "get_accuracy_metrics(model,  X_train, y_train, X_val, y_val, X_test, y_test)"
   ]
  },
  {
   "cell_type": "code",
   "execution_count": 28,
   "id": "6b8a4cdc",
   "metadata": {
    "execution": {
     "iopub.execute_input": "2022-05-24T17:14:53.459132Z",
     "iopub.status.busy": "2022-05-24T17:14:53.458270Z",
     "iopub.status.idle": "2022-05-24T17:14:53.823700Z",
     "shell.execute_reply": "2022-05-24T17:14:53.822847Z"
    },
    "papermill": {
     "duration": 1.395426,
     "end_time": "2022-05-24T17:14:53.825902",
     "exception": false,
     "start_time": "2022-05-24T17:14:52.430476",
     "status": "completed"
    },
    "tags": []
   },
   "outputs": [
    {
     "data": {
      "image/png": "[encoded data removed]",
      "text/plain": [
       "<Figure size 864x432 with 2 Axes>"
      ]
     },
     "metadata": {
      "needs_background": "light"
     },
     "output_type": "display_data"
    }
   ],
   "source": [
    "plt.figure(figsize = (12, 6))\n",
    "plt.subplot(121)\n",
    "#plotting the Accuracy of test and training sets\n",
    "plt.plot(history2.history['accuracy'])\n",
    "plt.plot(history2.history['val_accuracy'])\n",
    "plt.title('2nd training Model Accuracy')\n",
    "plt.ylabel('accuracy')\n",
    "plt.xlabel('epoch')\n",
    "plt.legend(['train', 'test'], loc='upper left')\n",
    "\n",
    "plt.subplot(122)\n",
    "#plotting the loss of test and training sets\n",
    "plt.plot(history2.history['loss'])\n",
    "plt.plot(history2.history['val_loss'])\n",
    "plt.title('2nd training Model Loss')\n",
    "plt.ylabel('loss')\n",
    "plt.xlabel('epoch')\n",
    "plt.legend(['train', 'test'], loc='upper left')\n",
    "plt.show()"
   ]
  }
 ],
 "metadata": {
  "kernelspec": {
   "display_name": "Python 3",
   "language": "python",
   "name": "python3"
  },
  "language_info": {
   "codemirror_mode": {
    "name": "ipython",
    "version": 3
   },
   "file_extension": ".py",
   "mimetype": "text/x-python",
   "name": "python",
   "nbconvert_exporter": "python",
   "pygments_lexer": "ipython3",
   "version": "3.7.12"
  },
  "papermill": {
   "default_parameters": {},
   "duration": 10066.926582,
   "end_time": "2022-05-24T17:14:58.029593",
   "environment_variables": {},
   "exception": null,
   "input_path": "__notebook__.ipynb",
   "output_path": "__notebook__.ipynb",
   "parameters": {},
   "start_time": "2022-05-24T14:27:11.103011",
   "version": "2.3.4"
  }
 },
 "nbformat": 4,
 "nbformat_minor": 5
}
