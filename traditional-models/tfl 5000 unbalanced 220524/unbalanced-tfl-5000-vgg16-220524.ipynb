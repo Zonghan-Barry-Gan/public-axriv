{
 "cells": [
  {
   "cell_type": "code",
   "execution_count": 1,
   "id": "f9801a50",
   "metadata": {
    "_cell_guid": "b1076dfc-b9ad-4769-8c92-a6c4dae69d19",
    "_uuid": "8f2839f25d086af736a60e9eeb907d3b93b6e0e5",
    "execution": {
     "iopub.execute_input": "2022-05-24T14:59:56.634268Z",
     "iopub.status.busy": "2022-05-24T14:59:56.633809Z",
     "iopub.status.idle": "2022-05-24T15:00:09.729337Z",
     "shell.execute_reply": "2022-05-24T15:00:09.728366Z"
    },
    "papermill": {
     "duration": 13.139476,
     "end_time": "2022-05-24T15:00:09.732364",
     "exception": false,
     "start_time": "2022-05-24T14:59:56.592888",
     "status": "completed"
    },
    "tags": []
   },
   "outputs": [
    {
     "name": "stdout",
     "output_type": "stream",
     "text": [
      "Collecting Livelossplot\r\n",
      "  Downloading livelossplot-0.5.5-py3-none-any.whl (22 kB)\r\n",
      "Requirement already satisfied: bokeh in /opt/conda/lib/python3.7/site-packages (from Livelossplot) (2.4.2)\r\n",
      "Requirement already satisfied: matplotlib in /opt/conda/lib/python3.7/site-packages (from Livelossplot) (3.5.2)\r\n",
      "Requirement already satisfied: numpy<1.22 in /opt/conda/lib/python3.7/site-packages (from Livelossplot) (1.21.6)\r\n",
      "Requirement already satisfied: ipython==7.* in /opt/conda/lib/python3.7/site-packages (from Livelossplot) (7.32.0)\r\n",
      "Requirement already satisfied: matplotlib-inline in /opt/conda/lib/python3.7/site-packages (from ipython==7.*->Livelossplot) (0.1.3)\r\n",
      "Requirement already satisfied: backcall in /opt/conda/lib/python3.7/site-packages (from ipython==7.*->Livelossplot) (0.2.0)\r\n",
      "Requirement already satisfied: jedi>=0.16 in /opt/conda/lib/python3.7/site-packages (from ipython==7.*->Livelossplot) (0.18.1)\r\n",
      "Requirement already satisfied: traitlets>=4.2 in /opt/conda/lib/python3.7/site-packages (from ipython==7.*->Livelossplot) (5.1.1)\r\n",
      "Requirement already satisfied: pickleshare in /opt/conda/lib/python3.7/site-packages (from ipython==7.*->Livelossplot) (0.7.5)\r\n",
      "Requirement already satisfied: decorator in /opt/conda/lib/python3.7/site-packages (from ipython==7.*->Livelossplot) (5.1.1)\r\n",
      "Requirement already satisfied: pygments in /opt/conda/lib/python3.7/site-packages (from ipython==7.*->Livelossplot) (2.11.2)\r\n",
      "Requirement already satisfied: pexpect>4.3 in /opt/conda/lib/python3.7/site-packages (from ipython==7.*->Livelossplot) (4.8.0)\r\n",
      "Requirement already satisfied: prompt-toolkit!=3.0.0,!=3.0.1,<3.1.0,>=2.0.0 in /opt/conda/lib/python3.7/site-packages (from ipython==7.*->Livelossplot) (3.0.27)\r\n",
      "Requirement already satisfied: setuptools>=18.5 in /opt/conda/lib/python3.7/site-packages (from ipython==7.*->Livelossplot) (59.8.0)\r\n",
      "Requirement already satisfied: tornado>=5.1 in /opt/conda/lib/python3.7/site-packages (from bokeh->Livelossplot) (6.1)\r\n",
      "Requirement already satisfied: typing-extensions>=3.10.0 in /opt/conda/lib/python3.7/site-packages (from bokeh->Livelossplot) (4.2.0)\r\n",
      "Requirement already satisfied: packaging>=16.8 in /opt/conda/lib/python3.7/site-packages (from bokeh->Livelossplot) (21.3)\r\n",
      "Requirement already satisfied: pillow>=7.1.0 in /opt/conda/lib/python3.7/site-packages (from bokeh->Livelossplot) (9.0.1)\r\n",
      "Requirement already satisfied: Jinja2>=2.9 in /opt/conda/lib/python3.7/site-packages (from bokeh->Livelossplot) (3.1.2)\r\n",
      "Requirement already satisfied: PyYAML>=3.10 in /opt/conda/lib/python3.7/site-packages (from bokeh->Livelossplot) (6.0)\r\n",
      "Requirement already satisfied: pyparsing>=2.2.1 in /opt/conda/lib/python3.7/site-packages (from matplotlib->Livelossplot) (3.0.7)\r\n",
      "Requirement already satisfied: python-dateutil>=2.7 in /opt/conda/lib/python3.7/site-packages (from matplotlib->Livelossplot) (2.8.2)\r\n",
      "Requirement already satisfied: fonttools>=4.22.0 in /opt/conda/lib/python3.7/site-packages (from matplotlib->Livelossplot) (4.30.0)\r\n",
      "Requirement already satisfied: cycler>=0.10 in /opt/conda/lib/python3.7/site-packages (from matplotlib->Livelossplot) (0.11.0)\r\n",
      "Requirement already satisfied: kiwisolver>=1.0.1 in /opt/conda/lib/python3.7/site-packages (from matplotlib->Livelossplot) (1.4.0)\r\n",
      "Requirement already satisfied: parso<0.9.0,>=0.8.0 in /opt/conda/lib/python3.7/site-packages (from jedi>=0.16->ipython==7.*->Livelossplot) (0.8.3)\r\n",
      "Requirement already satisfied: MarkupSafe>=2.0 in /opt/conda/lib/python3.7/site-packages (from Jinja2>=2.9->bokeh->Livelossplot) (2.0.1)\r\n",
      "Requirement already satisfied: ptyprocess>=0.5 in /opt/conda/lib/python3.7/site-packages (from pexpect>4.3->ipython==7.*->Livelossplot) (0.7.0)\r\n",
      "Requirement already satisfied: wcwidth in /opt/conda/lib/python3.7/site-packages (from prompt-toolkit!=3.0.0,!=3.0.1,<3.1.0,>=2.0.0->ipython==7.*->Livelossplot) (0.2.5)\r\n",
      "Requirement already satisfied: six>=1.5 in /opt/conda/lib/python3.7/site-packages (from python-dateutil>=2.7->matplotlib->Livelossplot) (1.16.0)\r\n",
      "Installing collected packages: Livelossplot\r\n",
      "Successfully installed Livelossplot-0.5.5\r\n",
      "\u001b[33mWARNING: Running pip as the 'root' user can result in broken permissions and conflicting behaviour with the system package manager. It is recommended to use a virtual environment instead: https://pip.pypa.io/warnings/venv\u001b[0m\u001b[33m\r\n",
      "\u001b[0m"
     ]
    }
   ],
   "source": [
    "# This Python 3 environment comes with many helpful analytics libraries installed\n",
    "# It is defined by the kaggle/python Docker image: https://github.com/kaggle/docker-python\n",
    "# For example, here's several helpful packages to load\n",
    "\n",
    "import numpy as np # linear algebra\n",
    "import pandas as pd # data processing, CSV file I/O (e.g. pd.read_csv)\n",
    "\n",
    "# Input data files are available in the read-only \"../input/\" directory\n",
    "# For example, running this (by clicking run or pressing Shift+Enter) will list all files under the input directory\n",
    "\n",
    "import os\n",
    "\n",
    "import warnings\n",
    "warnings.filterwarnings('ignore')\n",
    "%matplotlib inline\n",
    "!pip install Livelossplot\n",
    "from livelossplot import PlotLossesKeras\n",
    "\n",
    "from glob import glob\n",
    "import os\n",
    "import shutil\n",
    "\n",
    "import numpy as np\n",
    "import pandas as pd\n",
    "# You can write up to 20GB to the current directory (/kaggle/working/) that gets preserved as output when you create a version using \"Save & Run All\" \n",
    "# You can also write temporary files to /kaggle/temp/, but they won't be saved outside of the current session"
   ]
  },
  {
   "cell_type": "markdown",
   "id": "e65c06ab",
   "metadata": {
    "papermill": {
     "duration": 0.039888,
     "end_time": "2022-05-24T15:00:09.813079",
     "exception": false,
     "start_time": "2022-05-24T15:00:09.773191",
     "status": "completed"
    },
    "tags": []
   },
   "source": [
    "# AIM\n",
    "## To classify the images into \n",
    "### IDC+\n",
    "### IDC-\n",
    "\n",
    "# Validation Strategy:\n",
    "\n",
    "## Train Data Size= 0.7*Total_Data\n",
    "## Validation Data Size= 0.21* Total_Data\n",
    "## Test Data Size= 0.09 * Total_Data\n",
    "\n",
    "# Augmentaions Used:\n",
    "## Each Image is rotated through 45 angles\n"
   ]
  },
  {
   "cell_type": "code",
   "execution_count": 2,
   "id": "063a661e",
   "metadata": {
    "execution": {
     "iopub.execute_input": "2022-05-24T15:00:09.894495Z",
     "iopub.status.busy": "2022-05-24T15:00:09.894221Z",
     "iopub.status.idle": "2022-05-24T15:00:19.014188Z",
     "shell.execute_reply": "2022-05-24T15:00:19.013272Z"
    },
    "papermill": {
     "duration": 9.163637,
     "end_time": "2022-05-24T15:00:19.016519",
     "exception": false,
     "start_time": "2022-05-24T15:00:09.852882",
     "status": "completed"
    },
    "tags": []
   },
   "outputs": [
    {
     "data": {
      "text/html": [
       "<style type='text/css'>\n",
       ".datatable table.frame { margin-bottom: 0; }\n",
       ".datatable table.frame thead { border-bottom: none; }\n",
       ".datatable table.frame tr.coltypes td {  color: #FFFFFF;  line-height: 6px;  padding: 0 0.5em;}\n",
       ".datatable .bool    { background: #DDDD99; }\n",
       ".datatable .object  { background: #565656; }\n",
       ".datatable .int     { background: #5D9E5D; }\n",
       ".datatable .float   { background: #4040CC; }\n",
       ".datatable .str     { background: #CC4040; }\n",
       ".datatable .time    { background: #40CC40; }\n",
       ".datatable .row_index {  background: var(--jp-border-color3);  border-right: 1px solid var(--jp-border-color0);  color: var(--jp-ui-font-color3);  font-size: 9px;}\n",
       ".datatable .frame tbody td { text-align: left; }\n",
       ".datatable .frame tr.coltypes .row_index {  background: var(--jp-border-color0);}\n",
       ".datatable th:nth-child(2) { padding-left: 12px; }\n",
       ".datatable .hellipsis {  color: var(--jp-cell-editor-border-color);}\n",
       ".datatable .vellipsis {  background: var(--jp-layout-color0);  color: var(--jp-cell-editor-border-color);}\n",
       ".datatable .na {  color: var(--jp-cell-editor-border-color);  font-size: 80%;}\n",
       ".datatable .sp {  opacity: 0.25;}\n",
       ".datatable .footer { font-size: 9px; }\n",
       ".datatable .frame_dimensions {  background: var(--jp-border-color3);  border-top: 1px solid var(--jp-border-color0);  color: var(--jp-ui-font-color3);  display: inline-block;  opacity: 0.6;  padding: 1px 10px 1px 5px;}\n",
       "</style>\n"
      ],
      "text/plain": [
       "<IPython.core.display.HTML object>"
      ]
     },
     "metadata": {},
     "output_type": "display_data"
    },
    {
     "name": "stdout",
     "output_type": "stream",
     "text": [
      "All modules have been imported\n"
     ]
    }
   ],
   "source": [
    "\n",
    "import numpy as np\n",
    "import pandas as pd\n",
    "import cv2\n",
    "from PIL import Image\n",
    "import scipy\n",
    "\n",
    "import tensorflow as tf\n",
    "from tensorflow.keras.applications import *\n",
    "from tensorflow.keras.optimizers import *\n",
    "from tensorflow.keras.losses import *\n",
    "from tensorflow.keras.layers import *\n",
    "from tensorflow.keras.models import *\n",
    "from tensorflow.keras.callbacks import *\n",
    "from tensorflow.keras.preprocessing.image import *\n",
    "from tensorflow.keras.utils import *\n",
    "# import pydot\n",
    "\n",
    "from sklearn.metrics import *\n",
    "from sklearn.model_selection import *\n",
    "import tensorflow.keras.backend as K\n",
    "\n",
    "from tqdm import tqdm, tqdm_notebook\n",
    "from colorama import Fore\n",
    "import json\n",
    "import matplotlib.pyplot as plt\n",
    "import seaborn as sns\n",
    "from glob import glob\n",
    "from skimage.io import *\n",
    "%config Completer.use_jedi = False\n",
    "import time\n",
    "from sklearn.decomposition import PCA\n",
    "from sklearn.svm import LinearSVC\n",
    "from sklearn.linear_model import LogisticRegression\n",
    "from sklearn.metrics import accuracy_score\n",
    "import lightgbm as lgb\n",
    "import xgboost as xgb\n",
    "\n",
    "print(\"All modules have been imported\")"
   ]
  },
  {
   "cell_type": "code",
   "execution_count": 3,
   "id": "5987e976",
   "metadata": {
    "execution": {
     "iopub.execute_input": "2022-05-24T15:00:19.102653Z",
     "iopub.status.busy": "2022-05-24T15:00:19.102087Z",
     "iopub.status.idle": "2022-05-24T15:00:19.106605Z",
     "shell.execute_reply": "2022-05-24T15:00:19.106030Z"
    },
    "papermill": {
     "duration": 0.048505,
     "end_time": "2022-05-24T15:00:19.108396",
     "exception": false,
     "start_time": "2022-05-24T15:00:19.059891",
     "status": "completed"
    },
    "tags": []
   },
   "outputs": [],
   "source": [
    "sampling_seed=0\n",
    "size_4_training=5000\n",
    "img_size=224\n",
    "training_reshape=(-1, img_size, img_size, 3)\n",
    "epoch_4_test=10\n",
    "epoch1=10\n",
    "epoch2=3"
   ]
  },
  {
   "cell_type": "markdown",
   "id": "94fbc47f",
   "metadata": {
    "papermill": {
     "duration": 0.040067,
     "end_time": "2022-05-24T15:00:19.189287",
     "exception": false,
     "start_time": "2022-05-24T15:00:19.149220",
     "status": "completed"
    },
    "tags": []
   },
   "source": [
    "Image labelling"
   ]
  },
  {
   "cell_type": "code",
   "execution_count": 4,
   "id": "54f6da13",
   "metadata": {
    "execution": {
     "iopub.execute_input": "2022-05-24T15:00:19.271866Z",
     "iopub.status.busy": "2022-05-24T15:00:19.271542Z",
     "iopub.status.idle": "2022-05-24T15:04:16.732613Z",
     "shell.execute_reply": "2022-05-24T15:04:16.731847Z"
    },
    "papermill": {
     "duration": 237.505136,
     "end_time": "2022-05-24T15:04:16.734966",
     "exception": false,
     "start_time": "2022-05-24T15:00:19.229830",
     "status": "completed"
    },
    "tags": []
   },
   "outputs": [
    {
     "name": "stdout",
     "output_type": "stream",
     "text": [
      "['../input/breast-histopathology-images/IDC_regular_ps50_idx5/10295/0/10295_idx5_x1351_y1101_class0.png', '../input/breast-histopathology-images/IDC_regular_ps50_idx5/10295/0/10295_idx5_x1501_y501_class0.png', '../input/breast-histopathology-images/IDC_regular_ps50_idx5/10295/0/10295_idx5_x1501_y1101_class0.png', '../input/breast-histopathology-images/IDC_regular_ps50_idx5/10295/0/10295_idx5_x451_y901_class0.png', '../input/breast-histopathology-images/IDC_regular_ps50_idx5/10295/0/10295_idx5_x801_y451_class0.png', '../input/breast-histopathology-images/IDC_regular_ps50_idx5/10295/0/10295_idx5_x151_y1051_class0.png', '../input/breast-histopathology-images/IDC_regular_ps50_idx5/10295/0/10295_idx5_x1351_y901_class0.png', '../input/breast-histopathology-images/IDC_regular_ps50_idx5/10295/0/10295_idx5_x701_y651_class0.png', '../input/breast-histopathology-images/IDC_regular_ps50_idx5/10295/0/10295_idx5_x951_y1401_class0.png', '../input/breast-histopathology-images/IDC_regular_ps50_idx5/10295/0/10295_idx5_x601_y501_class0.png']\n"
     ]
    }
   ],
   "source": [
    "import random\n",
    "#make directory for labelling\n",
    "os.makedirs('../working/idc2/idc-minus/')     \n",
    "os.makedirs('../working/idc2/idc-plus/')  \n",
    "\n",
    "\n",
    "class0 = [] # 0 = idc+\n",
    "class1 = [] # 1 = idc-\n",
    "imagePatches = glob('../input/breast-histopathology-images/IDC_regular_ps50_idx5/**/*.png', recursive=True)\n",
    "for filename in imagePatches:\n",
    "    if filename.endswith(\"class0.png\"):\n",
    "         class0.append(filename)\n",
    "    else:\n",
    "        class1.append(filename)\n",
    "\n",
    "print(class0[0:10])\n",
    "\n",
    "#sampling 10000 images from class 0 and class 1 to train the model\n",
    "\n",
    "random.seed(sampling_seed)\n",
    "class0sample=random.sample(class0,size_4_training)\n",
    "class1sample=random.sample(class1,size_4_training)\n",
    "\n",
    "\n",
    "def read_and_save_data(path, file_name_array):\n",
    "    j=0\n",
    "    for i in file_name_array:\n",
    "        if i.endswith('.png'):\n",
    "          \n",
    "            \n",
    "            #second copy method\n",
    "            head, tail = os.path.split(i)\n",
    "            outputname=str(path+tail)\n",
    "            #outputname=str(path+str(j)+'.png')\n",
    "            #print(outputname)\n",
    "            shutil.copy(i, outputname)\n",
    "   \n",
    "            #print(status2)\n",
    "            \n",
    "            j=j+1\n",
    "            if j==120000:\n",
    "                break\n",
    "            \n",
    "   \n",
    "class0path='../working/idc2/idc-minus/'\n",
    "class1path='../working/idc2/idc-plus/'\n",
    "\n",
    "\n",
    "\n",
    "\n",
    "read_and_save_data(class0path,class0sample)\n",
    "read_and_save_data(class1path,class1sample)"
   ]
  },
  {
   "cell_type": "markdown",
   "id": "49497e48",
   "metadata": {
    "papermill": {
     "duration": 0.040685,
     "end_time": "2022-05-24T15:04:16.817650",
     "exception": false,
     "start_time": "2022-05-24T15:04:16.776965",
     "status": "completed"
    },
    "tags": []
   },
   "source": []
  },
  {
   "cell_type": "code",
   "execution_count": null,
   "id": "2faf83e7",
   "metadata": {
    "papermill": {
     "duration": 0.040368,
     "end_time": "2022-05-24T15:04:16.898746",
     "exception": false,
     "start_time": "2022-05-24T15:04:16.858378",
     "status": "completed"
    },
    "tags": []
   },
   "outputs": [],
   "source": [
    "\n"
   ]
  },
  {
   "cell_type": "code",
   "execution_count": 5,
   "id": "1797baea",
   "metadata": {
    "execution": {
     "iopub.execute_input": "2022-05-24T15:04:16.983428Z",
     "iopub.status.busy": "2022-05-24T15:04:16.982615Z",
     "iopub.status.idle": "2022-05-24T15:04:16.988405Z",
     "shell.execute_reply": "2022-05-24T15:04:16.987453Z"
    },
    "papermill": {
     "duration": 0.051065,
     "end_time": "2022-05-24T15:04:16.990509",
     "exception": false,
     "start_time": "2022-05-24T15:04:16.939444",
     "status": "completed"
    },
    "tags": []
   },
   "outputs": [],
   "source": [
    "\n",
    "from PIL import Image\n",
    "import glob\n"
   ]
  },
  {
   "cell_type": "code",
   "execution_count": null,
   "id": "0a9523c5",
   "metadata": {
    "papermill": {
     "duration": 0.040568,
     "end_time": "2022-05-24T15:04:17.072173",
     "exception": false,
     "start_time": "2022-05-24T15:04:17.031605",
     "status": "completed"
    },
    "tags": []
   },
   "outputs": [],
   "source": []
  },
  {
   "cell_type": "code",
   "execution_count": null,
   "id": "57ded041",
   "metadata": {
    "papermill": {
     "duration": 0.040693,
     "end_time": "2022-05-24T15:04:17.154597",
     "exception": false,
     "start_time": "2022-05-24T15:04:17.113904",
     "status": "completed"
    },
    "tags": []
   },
   "outputs": [],
   "source": []
  },
  {
   "cell_type": "code",
   "execution_count": 6,
   "id": "10eea32e",
   "metadata": {
    "execution": {
     "iopub.execute_input": "2022-05-24T15:04:17.237551Z",
     "iopub.status.busy": "2022-05-24T15:04:17.237271Z",
     "iopub.status.idle": "2022-05-24T15:04:17.241362Z",
     "shell.execute_reply": "2022-05-24T15:04:17.240439Z"
    },
    "papermill": {
     "duration": 0.047992,
     "end_time": "2022-05-24T15:04:17.243279",
     "exception": false,
     "start_time": "2022-05-24T15:04:17.195287",
     "status": "completed"
    },
    "tags": []
   },
   "outputs": [],
   "source": [
    "import os #Operating System\n",
    "import sys #System\n",
    "# train_generator = train_datagen.flow(x_train, y_train, batch_size =)\n",
    "# val_generator = val_datagen.flow(x_val, y_val, batch_size = 64)\n",
    "# test_generator=test_datagen.flow(x_test,y_test,batch_size = 64)\n"
   ]
  },
  {
   "cell_type": "markdown",
   "id": "7b1ad5f2",
   "metadata": {
    "papermill": {
     "duration": 0.040609,
     "end_time": "2022-05-24T15:04:17.325182",
     "exception": false,
     "start_time": "2022-05-24T15:04:17.284573",
     "status": "completed"
    },
    "tags": []
   },
   "source": [
    "#import image"
   ]
  },
  {
   "cell_type": "code",
   "execution_count": 7,
   "id": "a728bea8",
   "metadata": {
    "execution": {
     "iopub.execute_input": "2022-05-24T15:04:17.409667Z",
     "iopub.status.busy": "2022-05-24T15:04:17.408777Z",
     "iopub.status.idle": "2022-05-24T15:04:17.415436Z",
     "shell.execute_reply": "2022-05-24T15:04:17.414885Z"
    },
    "papermill": {
     "duration": 0.051166,
     "end_time": "2022-05-24T15:04:17.417269",
     "exception": false,
     "start_time": "2022-05-24T15:04:17.366103",
     "status": "completed"
    },
    "tags": []
   },
   "outputs": [],
   "source": [
    "import cv2\n",
    "'''\n",
    "def readImage(path, X, Y, label):\n",
    "    j=0\n",
    " \n",
    "    for i in os.listdir(path):\n",
    "        imgname=path+i\n",
    "        #print(imgname)\n",
    "        img = cv2.imread(imgname, cv2.IMREAD_COLOR)\n",
    "        img =cv2.resize(img,(50, 50))\n",
    "        X.append(img)\n",
    "        Y.append(label)\n",
    "        j=j+1\n",
    "        #if j==10:\n",
    "        #    break\n",
    "        \n",
    "    return X, Y\n",
    "    '''\n",
    "def readImage(path, tag):\n",
    "    j=0\n",
    "    image_array = []\n",
    "    for i in os.listdir(path):\n",
    "        imgname=path+i\n",
    "        #print(imgname)\n",
    "        img = cv2.imread(imgname, cv2.IMREAD_COLOR)\n",
    "        img_resized = cv2.resize(img, (img_size,img_size), interpolation=cv2.INTER_LINEAR)\n",
    "        image_array.append([img_resized, tag])\n",
    "        #print(img[1])\n",
    "        j=j+1\n",
    "        #if j==10:\n",
    "        #    break\n",
    "        \n",
    "    return image_array"
   ]
  },
  {
   "cell_type": "code",
   "execution_count": 8,
   "id": "e2d3f8cd",
   "metadata": {
    "execution": {
     "iopub.execute_input": "2022-05-24T15:04:17.501345Z",
     "iopub.status.busy": "2022-05-24T15:04:17.500433Z",
     "iopub.status.idle": "2022-05-24T15:04:22.058170Z",
     "shell.execute_reply": "2022-05-24T15:04:22.057265Z"
    },
    "papermill": {
     "duration": 4.602188,
     "end_time": "2022-05-24T15:04:22.060635",
     "exception": false,
     "start_time": "2022-05-24T15:04:17.458447",
     "status": "completed"
    },
    "tags": []
   },
   "outputs": [
    {
     "name": "stdout",
     "output_type": "stream",
     "text": [
      "(5000, 2)\n",
      "(10000, 2)\n",
      "(10000, 224, 224, 3)\n"
     ]
    }
   ],
   "source": [
    "import numpy as np\n",
    "\n",
    "\n",
    "class0_array = readImage(class0path, 0)\n",
    "class1_array = readImage(class1path, 1)\n",
    "class0_array=np.array(class0_array)\n",
    "class1_array=np.array(class1_array)\n",
    "combined_data = np.concatenate((class0_array, class1_array))\n",
    "random.seed(41)\n",
    "random.shuffle(combined_data)\n",
    "print(class0_array.shape)\n",
    "print(combined_data.shape)\n",
    "\n",
    "X = []\n",
    "y = []\n",
    "\n",
    "for features,label in combined_data:\n",
    "    X.append(features)\n",
    "    y.append(label)\n",
    "#print(X.shape)\n",
    "#pring(y.shape)\n",
    "\n",
    "# reshape X data\n",
    "X = np.array(X).reshape(training_reshape)\n",
    "print(X.shape)"
   ]
  },
  {
   "cell_type": "code",
   "execution_count": 9,
   "id": "65c42486",
   "metadata": {
    "execution": {
     "iopub.execute_input": "2022-05-24T15:04:22.146832Z",
     "iopub.status.busy": "2022-05-24T15:04:22.146323Z",
     "iopub.status.idle": "2022-05-24T15:04:23.362870Z",
     "shell.execute_reply": "2022-05-24T15:04:23.362041Z"
    },
    "papermill": {
     "duration": 1.261782,
     "end_time": "2022-05-24T15:04:23.364969",
     "exception": false,
     "start_time": "2022-05-24T15:04:22.103187",
     "status": "completed"
    },
    "tags": []
   },
   "outputs": [
    {
     "name": "stdout",
     "output_type": "stream",
     "text": [
      "(7000, 224, 224, 3) (900, 224, 224, 3) (2100, 224, 224, 3) (7000, 2) (900, 2) (2100, 2)\n"
     ]
    }
   ],
   "source": [
    "X_train, X_test1, y_train, y_test1 = train_test_split(X, y, test_size=0.3, random_state=42)\n",
    "X_val, X_test, y_val, y_test = train_test_split(X_test1, y_test1, test_size=0.3, random_state=42)\n",
    "y_train = to_categorical(y_train)\n",
    "y_test = to_categorical(y_test)\n",
    "y_val = to_categorical(y_val)\n",
    "print(X_train.shape, X_test.shape, X_val.shape, y_train.shape, y_test.shape, y_val.shape)"
   ]
  },
  {
   "cell_type": "code",
   "execution_count": 10,
   "id": "b090335f",
   "metadata": {
    "execution": {
     "iopub.execute_input": "2022-05-24T15:04:23.454212Z",
     "iopub.status.busy": "2022-05-24T15:04:23.453952Z",
     "iopub.status.idle": "2022-05-24T15:04:23.459595Z",
     "shell.execute_reply": "2022-05-24T15:04:23.458974Z"
    },
    "papermill": {
     "duration": 0.053512,
     "end_time": "2022-05-24T15:04:23.461262",
     "exception": false,
     "start_time": "2022-05-24T15:04:23.407750",
     "status": "completed"
    },
    "tags": []
   },
   "outputs": [],
   "source": [
    "#Callbacks\n",
    "c2=tf.keras.callbacks.EarlyStopping(\n",
    "    monitor=\"val_loss\",\n",
    "    min_delta=0,\n",
    "    patience=6,\n",
    "    mode=\"auto\",\n",
    "    baseline=None,\n",
    "    restore_best_weights=True,\n",
    ")\n",
    "\n",
    "c3=tf.keras.callbacks.ReduceLROnPlateau(\n",
    "    monitor=\"val_loss\",\n",
    "    factor=0.1,\n",
    "    patience=6,\n",
    "    mode=\"auto\",\n",
    "    min_delta=0.0001,\n",
    "    cooldown=0,\n",
    "    min_lr=0.001\n",
    ")\n",
    "nClasses=2"
   ]
  },
  {
   "cell_type": "markdown",
   "id": "f61d56ff",
   "metadata": {
    "papermill": {
     "duration": 0.041844,
     "end_time": "2022-05-24T15:04:23.545168",
     "exception": false,
     "start_time": "2022-05-24T15:04:23.503324",
     "status": "completed"
    },
    "tags": []
   },
   "source": [
    "# Model configure"
   ]
  },
  {
   "cell_type": "code",
   "execution_count": 11,
   "id": "c61e705d",
   "metadata": {
    "execution": {
     "iopub.execute_input": "2022-05-24T15:04:23.631639Z",
     "iopub.status.busy": "2022-05-24T15:04:23.631142Z",
     "iopub.status.idle": "2022-05-24T15:04:26.224959Z",
     "shell.execute_reply": "2022-05-24T15:04:26.224054Z"
    },
    "papermill": {
     "duration": 2.639383,
     "end_time": "2022-05-24T15:04:26.227160",
     "exception": false,
     "start_time": "2022-05-24T15:04:23.587777",
     "status": "completed"
    },
    "tags": []
   },
   "outputs": [
    {
     "name": "stderr",
     "output_type": "stream",
     "text": [
      "2022-05-24 15:04:23.686895: I tensorflow/core/common_runtime/process_util.cc:146] Creating new thread pool with default inter op setting: 2. Tune using inter_op_parallelism_threads for best performance.\n"
     ]
    },
    {
     "name": "stdout",
     "output_type": "stream",
     "text": [
      "Downloading data from https://storage.googleapis.com/tensorflow/keras-applications/vgg16/vgg16_weights_tf_dim_ordering_tf_kernels_notop.h5\n",
      "58892288/58889256 [==============================] - 0s 0us/step\n",
      "58900480/58889256 [==============================] - 0s 0us/step\n",
      "Model: \"sequential\"\n",
      "_________________________________________________________________\n",
      "Layer (type)                 Output Shape              Param #   \n",
      "=================================================================\n",
      "vgg16 (Functional)           (None, 7, 7, 512)         14714688  \n",
      "_________________________________________________________________\n",
      "flatten (Flatten)            (None, 25088)             0         \n",
      "_________________________________________________________________\n",
      "batch_normalization (BatchNo (None, 25088)             100352    \n",
      "_________________________________________________________________\n",
      "dense (Dense)                (None, 4096)              102764544 \n",
      "_________________________________________________________________\n",
      "batch_normalization_1 (Batch (None, 4096)              16384     \n",
      "_________________________________________________________________\n",
      "dense_1 (Dense)              (None, 4096)              16781312  \n",
      "_________________________________________________________________\n",
      "dropout (Dropout)            (None, 4096)              0         \n",
      "_________________________________________________________________\n",
      "dense_2 (Dense)              (None, 2096)              8587312   \n",
      "_________________________________________________________________\n",
      "dense_3 (Dense)              (None, 2)                 4194      \n",
      "=================================================================\n",
      "Total params: 142,968,786\n",
      "Trainable params: 128,195,730\n",
      "Non-trainable params: 14,773,056\n",
      "_________________________________________________________________\n"
     ]
    }
   ],
   "source": [
    "RESNET50_POOLING_AVERAGE = 'avg'\n",
    "DENSE_LAYER_ACTIVATION = 'sigmoid'\n",
    "OBJECTIVE_FUNCTION = 'categorical_crossentropy'\n",
    "\n",
    "# Common accuracy metric for all outputs, but can use different metrics for different output\n",
    "LOSS_METRICS = ['accuracy']\n",
    "\n",
    "# EARLY_STOP_PATIENCE must be < NUM_EPOCHS\n",
    "NUM_EPOCHS = 30\n",
    "EARLY_STOP_PATIENCE = 3\n",
    "#resnet_weights_path = '../input/resnet50/resnet50_weights_tf_dim_ordering_tf_kernels_notop.h5'\n",
    "\n",
    "\n",
    "# fix pretrained layers for deep fea\n",
    "from keras.applications.vgg16 import VGG16\n",
    "base_model=VGG16(include_top=False, input_shape=(img_size, img_size,3), weights='imagenet')\n",
    "base_model.trainable = False\n",
    "model=Sequential()\n",
    "model.add(base_model)\n",
    "model.add(Flatten())\n",
    "model.add(BatchNormalization())\n",
    "model.add(Dense(4096,kernel_initializer='he_uniform'))\n",
    "model.add(BatchNormalization())\n",
    "model.add(Dense(4096,activation=\"relu\"))\n",
    "#model.add(BatchNormalization())\n",
    "#model.add(Activation('relu'))\n",
    "model.add(Dropout(0.2))\n",
    "model.add(Dense(2096,activation=\"relu\"))\n",
    "model.add(Dense(2, activation='sigmoid'))\n",
    "#model = Model(inputs=resnet50_base_model.input, outputs=predictions)\n",
    "model.summary()\n"
   ]
  },
  {
   "cell_type": "code",
   "execution_count": 12,
   "id": "02d39a80",
   "metadata": {
    "execution": {
     "iopub.execute_input": "2022-05-24T15:04:26.326539Z",
     "iopub.status.busy": "2022-05-24T15:04:26.326255Z",
     "iopub.status.idle": "2022-05-24T15:04:27.649017Z",
     "shell.execute_reply": "2022-05-24T15:04:27.648164Z"
    },
    "papermill": {
     "duration": 1.375663,
     "end_time": "2022-05-24T15:04:27.652199",
     "exception": false,
     "start_time": "2022-05-24T15:04:26.276536",
     "status": "completed"
    },
    "tags": []
   },
   "outputs": [
    {
     "data": {
      "image/png": "[encoded data removed]",
      "text/plain": [
       "<IPython.core.display.Image object>"
      ]
     },
     "execution_count": 12,
     "metadata": {},
     "output_type": "execute_result"
    }
   ],
   "source": [
    "from tensorflow.keras.utils import plot_model\n",
    "from IPython.display import Image\n",
    "plot_model(model, to_file='convnet.png', show_shapes=True,show_layer_names=True)\n",
    "Image(filename='convnet.png') "
   ]
  },
  {
   "cell_type": "code",
   "execution_count": 13,
   "id": "73ed9a2c",
   "metadata": {
    "execution": {
     "iopub.execute_input": "2022-05-24T15:04:27.755221Z",
     "iopub.status.busy": "2022-05-24T15:04:27.754661Z",
     "iopub.status.idle": "2022-05-24T15:04:27.772816Z",
     "shell.execute_reply": "2022-05-24T15:04:27.772180Z"
    },
    "papermill": {
     "duration": 0.071789,
     "end_time": "2022-05-24T15:04:27.774805",
     "exception": false,
     "start_time": "2022-05-24T15:04:27.703016",
     "status": "completed"
    },
    "tags": []
   },
   "outputs": [],
   "source": [
    "callbacks1 = [EarlyStopping(monitor='val_loss', patience=5, verbose=1), ModelCheckpoint('model.hdf5', save_best_only=True)]\n",
    "opt = Adam(learning_rate=0.001)\n",
    "model.compile(loss='categorical_crossentropy', optimizer=opt, metrics=['accuracy'])"
   ]
  },
  {
   "cell_type": "code",
   "execution_count": 14,
   "id": "5dd4ac63",
   "metadata": {
    "execution": {
     "iopub.execute_input": "2022-05-24T15:04:27.876693Z",
     "iopub.status.busy": "2022-05-24T15:04:27.876171Z",
     "iopub.status.idle": "2022-05-24T19:20:17.204812Z",
     "shell.execute_reply": "2022-05-24T19:20:17.202604Z"
    },
    "papermill": {
     "duration": 15349.989075,
     "end_time": "2022-05-24T19:20:17.813921",
     "exception": false,
     "start_time": "2022-05-24T15:04:27.824846",
     "status": "completed"
    },
    "tags": []
   },
   "outputs": [
    {
     "name": "stdout",
     "output_type": "stream",
     "text": [
      "CPU times: user 2 µs, sys: 2 µs, total: 4 µs\n",
      "Wall time: 7.63 µs\n"
     ]
    },
    {
     "name": "stderr",
     "output_type": "stream",
     "text": [
      "2022-05-24 15:04:29.427544: I tensorflow/compiler/mlir/mlir_graph_optimization_pass.cc:185] None of the MLIR Optimization Passes are enabled (registered 2)\n"
     ]
    },
    {
     "name": "stdout",
     "output_type": "stream",
     "text": [
      "Epoch 1/10\n",
      "219/219 [==============================] - 2197s 10s/step - loss: 0.6008 - accuracy: 0.8527 - val_loss: 0.4170 - val_accuracy: 0.8311\n",
      "Epoch 2/10\n",
      "219/219 [==============================] - 2191s 10s/step - loss: 0.1894 - accuracy: 0.9273 - val_loss: 0.3686 - val_accuracy: 0.9211\n",
      "Epoch 3/10\n",
      "219/219 [==============================] - 2194s 10s/step - loss: 0.1057 - accuracy: 0.9651 - val_loss: 0.6815 - val_accuracy: 0.8889\n",
      "Epoch 4/10\n",
      "219/219 [==============================] - 2190s 10s/step - loss: 0.0784 - accuracy: 0.9786 - val_loss: 1.3054 - val_accuracy: 0.8989\n",
      "Epoch 5/10\n",
      "219/219 [==============================] - 2197s 10s/step - loss: 0.0714 - accuracy: 0.9780 - val_loss: 1.4967 - val_accuracy: 0.9078\n",
      "Epoch 6/10\n",
      "219/219 [==============================] - 2193s 10s/step - loss: 0.0930 - accuracy: 0.9734 - val_loss: 3.9144 - val_accuracy: 0.9011\n",
      "Epoch 7/10\n",
      "219/219 [==============================] - 2178s 10s/step - loss: 0.0794 - accuracy: 0.9786 - val_loss: 1.6885 - val_accuracy: 0.9011\n",
      "Epoch 00007: early stopping\n"
     ]
    }
   ],
   "source": [
    "%time\n",
    "history1=model.fit(X_train, y_train,validation_data=(X_test, y_test),verbose = 1,epochs = epoch1,callbacks=callbacks1)"
   ]
  },
  {
   "cell_type": "code",
   "execution_count": 15,
   "id": "ca051c5d",
   "metadata": {
    "execution": {
     "iopub.execute_input": "2022-05-24T19:20:19.046219Z",
     "iopub.status.busy": "2022-05-24T19:20:19.045626Z",
     "iopub.status.idle": "2022-05-24T19:20:19.059052Z",
     "shell.execute_reply": "2022-05-24T19:20:19.058067Z"
    },
    "papermill": {
     "duration": 0.62989,
     "end_time": "2022-05-24T19:20:19.060971",
     "exception": false,
     "start_time": "2022-05-24T19:20:18.431081",
     "status": "completed"
    },
    "tags": []
   },
   "outputs": [],
   "source": [
    "def f1_score(y_true, y_pred): #taken from old keras source code\n",
    "    true_positives = K.sum(K.round(K.clip(y_true * y_pred, 0, 1)))\n",
    "    possible_positives = K.sum(K.round(K.clip(y_true, 0, 1)))\n",
    "    predicted_positives = K.sum(K.round(K.clip(y_pred, 0, 1)))\n",
    "    precision = true_positives / (predicted_positives + K.epsilon())\n",
    "    recall = true_positives / (possible_positives + K.epsilon())\n",
    "    f1_val = 2*(precision*recall)/(precision+recall+K.epsilon())\n",
    "    return f1_val"
   ]
  },
  {
   "cell_type": "code",
   "execution_count": 16,
   "id": "5d904814",
   "metadata": {
    "execution": {
     "iopub.execute_input": "2022-05-24T19:20:20.279275Z",
     "iopub.status.busy": "2022-05-24T19:20:20.278967Z",
     "iopub.status.idle": "2022-05-24T19:20:20.331730Z",
     "shell.execute_reply": "2022-05-24T19:20:20.330799Z"
    },
    "papermill": {
     "duration": 0.665808,
     "end_time": "2022-05-24T19:20:20.334041",
     "exception": false,
     "start_time": "2022-05-24T19:20:19.668233",
     "status": "completed"
    },
    "tags": []
   },
   "outputs": [],
   "source": [
    "METRICS = [\n",
    "      tf.keras.metrics.BinaryAccuracy(name='accuracy'),\n",
    "      tf.keras.metrics.Precision(name='precision'),\n",
    "      tf.keras.metrics.Recall(name='recall'),  \n",
    "      tf.keras.metrics.AUC(name='auc'),\n",
    "        f1_score,\n",
    "]"
   ]
  },
  {
   "cell_type": "code",
   "execution_count": null,
   "id": "90683ce2",
   "metadata": {
    "execution": {
     "iopub.execute_input": "2022-05-06T15:08:04.489795Z",
     "iopub.status.busy": "2022-05-06T15:08:04.488846Z",
     "iopub.status.idle": "2022-05-06T15:08:04.918152Z",
     "shell.execute_reply": "2022-05-06T15:08:04.917046Z",
     "shell.execute_reply.started": "2022-05-06T15:08:04.489742Z"
    },
    "papermill": {
     "duration": 0.60913,
     "end_time": "2022-05-24T19:20:21.558752",
     "exception": false,
     "start_time": "2022-05-24T19:20:20.949622",
     "status": "completed"
    },
    "tags": []
   },
   "outputs": [],
   "source": []
  },
  {
   "cell_type": "code",
   "execution_count": 17,
   "id": "e329d1b9",
   "metadata": {
    "execution": {
     "iopub.execute_input": "2022-05-24T19:20:22.780257Z",
     "iopub.status.busy": "2022-05-24T19:20:22.779900Z",
     "iopub.status.idle": "2022-05-24T19:29:33.524464Z",
     "shell.execute_reply": "2022-05-24T19:29:33.523448Z"
    },
    "papermill": {
     "duration": 551.972681,
     "end_time": "2022-05-24T19:29:34.142402",
     "exception": false,
     "start_time": "2022-05-24T19:20:22.169721",
     "status": "completed"
    },
    "tags": []
   },
   "outputs": [
    {
     "data": {
      "image/png": "[encoded data removed]",
      "text/plain": [
       "<Figure size 576x576 with 2 Axes>"
      ]
     },
     "metadata": {
      "needs_background": "light"
     },
     "output_type": "display_data"
    }
   ],
   "source": [
    "from sklearn.metrics import confusion_matrix\n",
    "import seaborn as sns\n",
    "\n",
    "Y_pred = model.predict(X_val)\n",
    "Y_pred_classes = np.argmax(Y_pred,axis = 1) \n",
    "Y_true = np.argmax(y_val,axis = 1) \n",
    "\n",
    "confusion_mtx = confusion_matrix(Y_true, Y_pred_classes) \n",
    "\n",
    "f,ax = plt.subplots(figsize=(8, 8))\n",
    "sns.heatmap(confusion_mtx, annot=True, linewidths=0.01,cmap=\"OrRd\",linecolor=\"black\", fmt= '.1f',ax=ax)\n",
    "plt.xlabel(\"Predicted Label\")\n",
    "plt.ylabel(\"True Label\")\n",
    "plt.title(\"Confusion Matrix\")\n",
    "plt.show()"
   ]
  },
  {
   "cell_type": "code",
   "execution_count": 18,
   "id": "0236362a",
   "metadata": {
    "execution": {
     "iopub.execute_input": "2022-05-24T19:29:35.377590Z",
     "iopub.status.busy": "2022-05-24T19:29:35.377304Z",
     "iopub.status.idle": "2022-05-24T19:29:35.391215Z",
     "shell.execute_reply": "2022-05-24T19:29:35.390340Z"
    },
    "papermill": {
     "duration": 0.632259,
     "end_time": "2022-05-24T19:29:35.393358",
     "exception": false,
     "start_time": "2022-05-24T19:29:34.761099",
     "status": "completed"
    },
    "tags": []
   },
   "outputs": [
    {
     "name": "stdout",
     "output_type": "stream",
     "text": [
      "              precision    recall  f1-score   support\n",
      "\n",
      "           0       0.95      0.96      0.96      1806\n",
      "           1       0.73      0.71      0.72       294\n",
      "\n",
      "    accuracy                           0.92      2100\n",
      "   macro avg       0.84      0.84      0.84      2100\n",
      "weighted avg       0.92      0.92      0.92      2100\n",
      "\n"
     ]
    }
   ],
   "source": [
    "from sklearn.metrics import classification_report\n",
    "\n",
    "print(classification_report(Y_true, Y_pred_classes))"
   ]
  },
  {
   "cell_type": "markdown",
   "id": "1166280b",
   "metadata": {
    "papermill": {
     "duration": 0.613057,
     "end_time": "2022-05-24T19:29:36.623346",
     "exception": false,
     "start_time": "2022-05-24T19:29:36.010289",
     "status": "completed"
    },
    "tags": []
   },
   "source": []
  },
  {
   "cell_type": "code",
   "execution_count": null,
   "id": "46a0377d",
   "metadata": {
    "execution": {
     "iopub.execute_input": "2022-05-06T15:08:41.911737Z",
     "iopub.status.busy": "2022-05-06T15:08:41.911171Z",
     "iopub.status.idle": "2022-05-06T15:08:41.922881Z",
     "shell.execute_reply": "2022-05-06T15:08:41.922041Z",
     "shell.execute_reply.started": "2022-05-06T15:08:41.911677Z"
    },
    "papermill": {
     "duration": 0.64677,
     "end_time": "2022-05-24T19:29:37.891828",
     "exception": false,
     "start_time": "2022-05-24T19:29:37.245058",
     "status": "completed"
    },
    "tags": []
   },
   "outputs": [],
   "source": []
  },
  {
   "cell_type": "code",
   "execution_count": 19,
   "id": "207a6ae3",
   "metadata": {
    "execution": {
     "iopub.execute_input": "2022-05-24T19:29:39.161613Z",
     "iopub.status.busy": "2022-05-24T19:29:39.161289Z",
     "iopub.status.idle": "2022-05-24T19:29:39.176965Z",
     "shell.execute_reply": "2022-05-24T19:29:39.176239Z"
    },
    "papermill": {
     "duration": 0.643313,
     "end_time": "2022-05-24T19:29:39.178857",
     "exception": false,
     "start_time": "2022-05-24T19:29:38.535544",
     "status": "completed"
    },
    "tags": []
   },
   "outputs": [],
   "source": [
    "from sklearn.metrics import f1_score, roc_auc_score, cohen_kappa_score, precision_score, recall_score, accuracy_score, confusion_matrix\n",
    "def get_accuracy_metrics(model, X_train, y_train, X_val, y_val, X_test, y_test):\n",
    "    y_train=np.argmax(y_train, axis=1)\n",
    "    y_test=np.argmax(y_test, axis=1)\n",
    "    y_val=np.argmax(y_val, axis=1)\n",
    "    y_train_pred=np.argmax(model.predict(X_train),axis=1)\n",
    "    y_test_pred=np.argmax(model.predict(X_test),axis=1)\n",
    "    y_val_pred=np.argmax(model.predict(X_val),axis=1)\n",
    "    #ps:all the Y value must turn back to 1 dimension array. otherwise, the scoring functions in sklearn cannot compare, and will give an error\n",
    "    #classification metrics can't handle a mix of continuous-multioutput and multi-label-indicator targets\n",
    "    \n",
    "    print(\"Train accuracy Score------------>\")\n",
    "    print (\"{0:.3f}\".format(accuracy_score(y_train, y_train_pred)*100), \"%\")\n",
    "    \n",
    "    print(\"Val accuracy Score--------->\")\n",
    "    \n",
    "    print(\"{0:.3f}\".format(accuracy_score(y_val, y_val_pred)*100), \"%\")\n",
    "    \n",
    "  \n",
    "    print(\"Test accuracy Score--------->\")\n",
    "    print(\"{0:.3f}\".format(accuracy_score(y_test, y_test_pred)*100), \"%\")\n",
    "    \n",
    "    print(\"F1 Score--------------->\")\n",
    "    print(\"{0:.3f}\".format(f1_score(y_test, y_test_pred, average = 'weighted')*100), \"%\")\n",
    "    \n",
    "    print(\"Cohen Kappa Score------------->\")\n",
    "    print(\"{0:.3f}\".format(cohen_kappa_score(y_test, y_test_pred)*100), \"%\")\n",
    "    \n",
    "    print(\"Recall-------------->\")\n",
    "    print(\"{0:.3f}\".format(recall_score(y_test, y_test_pred, average = 'weighted')*100), \"%\")\n",
    "    \n",
    "    print(\"Precision-------------->\")\n",
    "    print(\"{0:.3f}\".format(precision_score(y_test, y_test_pred, average = 'weighted')*100), \"%\")\n",
    "    \n",
    "    cf_matrix_test = confusion_matrix(y_test, y_test_pred)\n",
    "    cf_matrix_val = confusion_matrix(y_val, y_val_pred)\n",
    "    \n",
    "    plt.figure(figsize = (12, 6))\n",
    "    plt.subplot(121)\n",
    "    sns.heatmap(cf_matrix_val, annot=True, cmap='Blues')\n",
    "    plt.title(\"Val Confusion matrix\")\n",
    "    \n",
    "    plt.subplot(122)\n",
    "    sns.heatmap(cf_matrix_test, annot=True, cmap='Blues')\n",
    "    plt.title(\"Test Confusion matrix\")\n",
    "    \n",
    "    plt.show()"
   ]
  },
  {
   "cell_type": "code",
   "execution_count": null,
   "id": "aeb69427",
   "metadata": {
    "papermill": {
     "duration": 0.687886,
     "end_time": "2022-05-24T19:29:40.518511",
     "exception": false,
     "start_time": "2022-05-24T19:29:39.830625",
     "status": "completed"
    },
    "tags": []
   },
   "outputs": [],
   "source": []
  },
  {
   "cell_type": "code",
   "execution_count": 20,
   "id": "4ae1d004",
   "metadata": {
    "execution": {
     "iopub.execute_input": "2022-05-24T19:29:41.816517Z",
     "iopub.status.busy": "2022-05-24T19:29:41.816211Z",
     "iopub.status.idle": "2022-05-24T20:13:18.907772Z",
     "shell.execute_reply": "2022-05-24T20:13:18.906908Z"
    },
    "papermill": {
     "duration": 2618.29511,
     "end_time": "2022-05-24T20:13:19.492421",
     "exception": false,
     "start_time": "2022-05-24T19:29:41.197311",
     "status": "completed"
    },
    "tags": []
   },
   "outputs": [
    {
     "name": "stdout",
     "output_type": "stream",
     "text": [
      "Train accuracy Score------------>\n",
      "98.143 %\n",
      "Val accuracy Score--------->\n",
      "92.286 %\n",
      "Test accuracy Score--------->\n",
      "90.111 %\n",
      "F1 Score--------------->\n",
      "89.591 %\n",
      "Cohen Kappa Score------------->\n",
      "61.683 %\n",
      "Recall-------------->\n",
      "90.111 %\n",
      "Precision-------------->\n",
      "89.537 %\n"
     ]
    },
    {
     "data": {
      "image/png": "[encoded data removed]",
      "text/plain": [
       "<Figure size 864x432 with 4 Axes>"
      ]
     },
     "metadata": {
      "needs_background": "light"
     },
     "output_type": "display_data"
    }
   ],
   "source": [
    "get_accuracy_metrics(model,  X_train, y_train, X_val, y_val, X_test, y_test)"
   ]
  },
  {
   "cell_type": "code",
   "execution_count": 21,
   "id": "3b3b5084",
   "metadata": {
    "execution": {
     "iopub.execute_input": "2022-05-24T20:13:20.733273Z",
     "iopub.status.busy": "2022-05-24T20:13:20.732428Z",
     "iopub.status.idle": "2022-05-24T20:13:21.090649Z",
     "shell.execute_reply": "2022-05-24T20:13:21.089968Z"
    },
    "papermill": {
     "duration": 0.976432,
     "end_time": "2022-05-24T20:13:21.092728",
     "exception": false,
     "start_time": "2022-05-24T20:13:20.116296",
     "status": "completed"
    },
    "tags": []
   },
   "outputs": [
    {
     "data": {
      "image/png": "[encoded data removed]",
      "text/plain": [
       "<Figure size 864x432 with 2 Axes>"
      ]
     },
     "metadata": {
      "needs_background": "light"
     },
     "output_type": "display_data"
    }
   ],
   "source": [
    "import matplotlib.pyplot as plt\n",
    "import seaborn as sns\n",
    "plt.figure(figsize = (12, 6))\n",
    "plt.subplot(121)\n",
    "#plotting the Accuracy of test and training sets\n",
    "plt.plot(history1.history['accuracy'])\n",
    "plt.plot(history1.history['val_accuracy'])\n",
    "plt.title('1st training Model Accuracy')\n",
    "plt.ylabel('accuracy')\n",
    "plt.xlabel('epoch')\n",
    "plt.legend(['train', 'test'], loc='upper left')\n",
    "\n",
    "plt.subplot(122)\n",
    "#plotting the loss of test and training sets\n",
    "plt.plot(history1.history['loss'])\n",
    "plt.plot(history1.history['val_loss'])\n",
    "plt.title('1st training Model Loss')\n",
    "plt.ylabel('loss')\n",
    "plt.xlabel('epoch')\n",
    "plt.legend(['train', 'test'], loc='upper left')\n",
    "plt.show()"
   ]
  },
  {
   "cell_type": "markdown",
   "id": "c1d78e16",
   "metadata": {
    "papermill": {
     "duration": 0.621196,
     "end_time": "2022-05-24T20:13:22.331072",
     "exception": false,
     "start_time": "2022-05-24T20:13:21.709876",
     "status": "completed"
    },
    "tags": []
   },
   "source": [
    "# Second Training Fine Tune"
   ]
  },
  {
   "cell_type": "code",
   "execution_count": 22,
   "id": "fbbf475e",
   "metadata": {
    "execution": {
     "iopub.execute_input": "2022-05-24T20:13:23.579400Z",
     "iopub.status.busy": "2022-05-24T20:13:23.578493Z",
     "iopub.status.idle": "2022-05-24T20:13:23.586069Z",
     "shell.execute_reply": "2022-05-24T20:13:23.585220Z"
    },
    "papermill": {
     "duration": 0.635391,
     "end_time": "2022-05-24T20:13:23.587947",
     "exception": false,
     "start_time": "2022-05-24T20:13:22.952556",
     "status": "completed"
    },
    "tags": []
   },
   "outputs": [],
   "source": [
    "for model1 in model.layers:\n",
    "    model1.trainable = True"
   ]
  },
  {
   "cell_type": "code",
   "execution_count": 23,
   "id": "3f888604",
   "metadata": {
    "execution": {
     "iopub.execute_input": "2022-05-24T20:13:24.824671Z",
     "iopub.status.busy": "2022-05-24T20:13:24.824091Z",
     "iopub.status.idle": "2022-05-24T20:13:24.830446Z",
     "shell.execute_reply": "2022-05-24T20:13:24.829789Z"
    },
    "papermill": {
     "duration": 0.627222,
     "end_time": "2022-05-24T20:13:24.832331",
     "exception": false,
     "start_time": "2022-05-24T20:13:24.205109",
     "status": "completed"
    },
    "tags": []
   },
   "outputs": [],
   "source": [
    "callbacks2 = [EarlyStopping(monitor='val_loss', patience=5, verbose=1), ModelCheckpoint('test_model.hdf5', save_best_only=True)]\n",
    "opt = Adam(learning_rate=0.001)\n",
    "#model.compile(loss='categorical_crossentropy', optimizer=opt, metrics=['accuracy'])"
   ]
  },
  {
   "cell_type": "code",
   "execution_count": 24,
   "id": "f5f38d0b",
   "metadata": {
    "execution": {
     "iopub.execute_input": "2022-05-24T20:13:26.073755Z",
     "iopub.status.busy": "2022-05-24T20:13:26.073237Z",
     "iopub.status.idle": "2022-05-24T22:02:27.991222Z",
     "shell.execute_reply": "2022-05-24T22:02:27.987561Z"
    },
    "papermill": {
     "duration": 6542.550791,
     "end_time": "2022-05-24T22:02:28.001648",
     "exception": false,
     "start_time": "2022-05-24T20:13:25.450857",
     "status": "completed"
    },
    "tags": []
   },
   "outputs": [
    {
     "name": "stdout",
     "output_type": "stream",
     "text": [
      "Epoch 1/3\n",
      "219/219 [==============================] - 2178s 10s/step - loss: 0.0807 - accuracy: 0.9799 - val_loss: 3.6757 - val_accuracy: 0.9056\n",
      "Epoch 2/3\n",
      "219/219 [==============================] - 2178s 10s/step - loss: 0.0492 - accuracy: 0.9846 - val_loss: 3.1303 - val_accuracy: 0.9033\n",
      "Epoch 3/3\n",
      "219/219 [==============================] - 2165s 10s/step - loss: 0.0396 - accuracy: 0.9903 - val_loss: 2.9418 - val_accuracy: 0.9000\n"
     ]
    }
   ],
   "source": [
    "history2=model.fit(X_train, y_train,validation_data=(X_test, y_test),verbose = 1,epochs = epoch2,callbacks=callbacks2)"
   ]
  },
  {
   "cell_type": "code",
   "execution_count": 25,
   "id": "dff09f32",
   "metadata": {
    "execution": {
     "iopub.execute_input": "2022-05-24T22:02:31.328649Z",
     "iopub.status.busy": "2022-05-24T22:02:31.328247Z",
     "iopub.status.idle": "2022-05-24T22:11:38.945566Z",
     "shell.execute_reply": "2022-05-24T22:11:38.944655Z"
    },
    "papermill": {
     "duration": 550.188854,
     "end_time": "2022-05-24T22:11:39.812466",
     "exception": false,
     "start_time": "2022-05-24T22:02:29.623612",
     "status": "completed"
    },
    "tags": []
   },
   "outputs": [
    {
     "data": {
      "image/png": "[encoded data removed]",
      "text/plain": [
       "<Figure size 576x576 with 2 Axes>"
      ]
     },
     "metadata": {
      "needs_background": "light"
     },
     "output_type": "display_data"
    }
   ],
   "source": [
    "Y_pred = model.predict(X_val)\n",
    "Y_pred_classes = np.argmax(Y_pred,axis = 1) \n",
    "Y_true = np.argmax(y_val,axis = 1) \n",
    "\n",
    "confusion_mtx = confusion_matrix(Y_true, Y_pred_classes) \n",
    "\n",
    "f,ax = plt.subplots(figsize=(8, 8))\n",
    "sns.heatmap(confusion_mtx, annot=True, linewidths=0.01,cmap=\"OrRd\",linecolor=\"black\", fmt= '.1f',ax=ax)\n",
    "plt.xlabel(\"Predicted Label\")\n",
    "plt.ylabel(\"True Label\")\n",
    "plt.title(\"Confusion Matrix\")\n",
    "plt.show()"
   ]
  },
  {
   "cell_type": "code",
   "execution_count": 26,
   "id": "6256953c",
   "metadata": {
    "execution": {
     "iopub.execute_input": "2022-05-24T22:11:41.570240Z",
     "iopub.status.busy": "2022-05-24T22:11:41.569557Z",
     "iopub.status.idle": "2022-05-24T22:11:41.584134Z",
     "shell.execute_reply": "2022-05-24T22:11:41.583265Z"
    },
    "papermill": {
     "duration": 0.881921,
     "end_time": "2022-05-24T22:11:41.586364",
     "exception": false,
     "start_time": "2022-05-24T22:11:40.704443",
     "status": "completed"
    },
    "tags": []
   },
   "outputs": [
    {
     "name": "stdout",
     "output_type": "stream",
     "text": [
      "              precision    recall  f1-score   support\n",
      "\n",
      "           0       0.96      0.93      0.95      1806\n",
      "           1       0.65      0.77      0.70       294\n",
      "\n",
      "    accuracy                           0.91      2100\n",
      "   macro avg       0.81      0.85      0.83      2100\n",
      "weighted avg       0.92      0.91      0.91      2100\n",
      "\n"
     ]
    }
   ],
   "source": [
    "print(classification_report(Y_true, Y_pred_classes))"
   ]
  },
  {
   "cell_type": "code",
   "execution_count": 27,
   "id": "b7376108",
   "metadata": {
    "execution": {
     "iopub.execute_input": "2022-05-24T22:11:43.305209Z",
     "iopub.status.busy": "2022-05-24T22:11:43.304939Z",
     "iopub.status.idle": "2022-05-24T22:55:12.979048Z",
     "shell.execute_reply": "2022-05-24T22:55:12.977612Z"
    },
    "papermill": {
     "duration": 2611.3229,
     "end_time": "2022-05-24T22:55:13.768033",
     "exception": false,
     "start_time": "2022-05-24T22:11:42.445133",
     "status": "completed"
    },
    "tags": []
   },
   "outputs": [
    {
     "name": "stdout",
     "output_type": "stream",
     "text": [
      "Train accuracy Score------------>\n",
      "97.429 %\n",
      "Val accuracy Score--------->\n",
      "90.952 %\n",
      "Test accuracy Score--------->\n",
      "90.000 %\n",
      "F1 Score--------------->\n",
      "90.051 %\n",
      "Cohen Kappa Score------------->\n",
      "65.107 %\n",
      "Recall-------------->\n",
      "90.000 %\n",
      "Precision-------------->\n",
      "90.106 %\n"
     ]
    },
    {
     "data": {
      "image/png": "[encoded data removed]",
      "text/plain": [
       "<Figure size 864x432 with 4 Axes>"
      ]
     },
     "metadata": {
      "needs_background": "light"
     },
     "output_type": "display_data"
    }
   ],
   "source": [
    "get_accuracy_metrics(model,  X_train, y_train, X_val, y_val, X_test, y_test)"
   ]
  },
  {
   "cell_type": "code",
   "execution_count": 28,
   "id": "d4a66bec",
   "metadata": {
    "execution": {
     "iopub.execute_input": "2022-05-24T22:55:15.504244Z",
     "iopub.status.busy": "2022-05-24T22:55:15.503240Z",
     "iopub.status.idle": "2022-05-24T22:55:15.868061Z",
     "shell.execute_reply": "2022-05-24T22:55:15.867321Z"
    },
    "papermill": {
     "duration": 1.235283,
     "end_time": "2022-05-24T22:55:15.869977",
     "exception": false,
     "start_time": "2022-05-24T22:55:14.634694",
     "status": "completed"
    },
    "tags": []
   },
   "outputs": [
    {
     "data": {
      "image/png": "[encoded data removed]",
      "text/plain": [
       "<Figure size 864x432 with 2 Axes>"
      ]
     },
     "metadata": {
      "needs_background": "light"
     },
     "output_type": "display_data"
    }
   ],
   "source": [
    "plt.figure(figsize = (12, 6))\n",
    "plt.subplot(121)\n",
    "#plotting the Accuracy of test and training sets\n",
    "plt.plot(history2.history['accuracy'])\n",
    "plt.plot(history2.history['val_accuracy'])\n",
    "plt.title('2nd training Model Accuracy')\n",
    "plt.ylabel('accuracy')\n",
    "plt.xlabel('epoch')\n",
    "plt.legend(['train', 'test'], loc='upper left')\n",
    "\n",
    "plt.subplot(122)\n",
    "#plotting the loss of test and training sets\n",
    "plt.plot(history2.history['loss'])\n",
    "plt.plot(history2.history['val_loss'])\n",
    "plt.title('2nd training Model Loss')\n",
    "plt.ylabel('loss')\n",
    "plt.xlabel('epoch')\n",
    "plt.legend(['train', 'test'], loc='upper left')\n",
    "plt.show()"
   ]
  }
 ],
 "metadata": {
  "kernelspec": {
   "display_name": "Python 3",
   "language": "python",
   "name": "python3"
  },
  "language_info": {
   "codemirror_mode": {
    "name": "ipython",
    "version": 3
   },
   "file_extension": ".py",
   "mimetype": "text/x-python",
   "name": "python",
   "nbconvert_exporter": "python",
   "pygments_lexer": "ipython3",
   "version": "3.7.12"
  },
  "papermill": {
   "default_parameters": {},
   "duration": 28533.401503,
   "end_time": "2022-05-24T22:55:20.225690",
   "environment_variables": {},
   "exception": null,
   "input_path": "__notebook__.ipynb",
   "output_path": "__notebook__.ipynb",
   "parameters": {},
   "start_time": "2022-05-24T14:59:46.824187",
   "version": "2.3.4"
  }
 },
 "nbformat": 4,
 "nbformat_minor": 5
}
