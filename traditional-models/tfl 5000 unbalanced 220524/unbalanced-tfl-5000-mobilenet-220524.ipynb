{
 "cells": [
  {
   "cell_type": "code",
   "execution_count": 1,
   "id": "44134e4a",
   "metadata": {
    "_cell_guid": "b1076dfc-b9ad-4769-8c92-a6c4dae69d19",
    "_uuid": "8f2839f25d086af736a60e9eeb907d3b93b6e0e5",
    "execution": {
     "iopub.execute_input": "2022-05-24T14:41:18.611976Z",
     "iopub.status.busy": "2022-05-24T14:41:18.611501Z",
     "iopub.status.idle": "2022-05-24T14:41:31.733954Z",
     "shell.execute_reply": "2022-05-24T14:41:31.733176Z"
    },
    "papermill": {
     "duration": 13.166343,
     "end_time": "2022-05-24T14:41:31.736213",
     "exception": false,
     "start_time": "2022-05-24T14:41:18.569870",
     "status": "completed"
    },
    "tags": []
   },
   "outputs": [
    {
     "name": "stdout",
     "output_type": "stream",
     "text": [
      "Collecting Livelossplot\r\n",
      "  Downloading livelossplot-0.5.5-py3-none-any.whl (22 kB)\r\n",
      "Requirement already satisfied: ipython==7.* in /opt/conda/lib/python3.7/site-packages (from Livelossplot) (7.32.0)\r\n",
      "Requirement already satisfied: matplotlib in /opt/conda/lib/python3.7/site-packages (from Livelossplot) (3.5.2)\r\n",
      "Requirement already satisfied: numpy<1.22 in /opt/conda/lib/python3.7/site-packages (from Livelossplot) (1.21.6)\r\n",
      "Requirement already satisfied: bokeh in /opt/conda/lib/python3.7/site-packages (from Livelossplot) (2.4.2)\r\n",
      "Requirement already satisfied: prompt-toolkit!=3.0.0,!=3.0.1,<3.1.0,>=2.0.0 in /opt/conda/lib/python3.7/site-packages (from ipython==7.*->Livelossplot) (3.0.27)\r\n",
      "Requirement already satisfied: jedi>=0.16 in /opt/conda/lib/python3.7/site-packages (from ipython==7.*->Livelossplot) (0.18.1)\r\n",
      "Requirement already satisfied: backcall in /opt/conda/lib/python3.7/site-packages (from ipython==7.*->Livelossplot) (0.2.0)\r\n",
      "Requirement already satisfied: traitlets>=4.2 in /opt/conda/lib/python3.7/site-packages (from ipython==7.*->Livelossplot) (5.1.1)\r\n",
      "Requirement already satisfied: setuptools>=18.5 in /opt/conda/lib/python3.7/site-packages (from ipython==7.*->Livelossplot) (59.8.0)\r\n",
      "Requirement already satisfied: pygments in /opt/conda/lib/python3.7/site-packages (from ipython==7.*->Livelossplot) (2.11.2)\r\n",
      "Requirement already satisfied: decorator in /opt/conda/lib/python3.7/site-packages (from ipython==7.*->Livelossplot) (5.1.1)\r\n",
      "Requirement already satisfied: pickleshare in /opt/conda/lib/python3.7/site-packages (from ipython==7.*->Livelossplot) (0.7.5)\r\n",
      "Requirement already satisfied: pexpect>4.3 in /opt/conda/lib/python3.7/site-packages (from ipython==7.*->Livelossplot) (4.8.0)\r\n",
      "Requirement already satisfied: matplotlib-inline in /opt/conda/lib/python3.7/site-packages (from ipython==7.*->Livelossplot) (0.1.3)\r\n",
      "Requirement already satisfied: typing-extensions>=3.10.0 in /opt/conda/lib/python3.7/site-packages (from bokeh->Livelossplot) (4.2.0)\r\n",
      "Requirement already satisfied: packaging>=16.8 in /opt/conda/lib/python3.7/site-packages (from bokeh->Livelossplot) (21.3)\r\n",
      "Requirement already satisfied: tornado>=5.1 in /opt/conda/lib/python3.7/site-packages (from bokeh->Livelossplot) (6.1)\r\n",
      "Requirement already satisfied: PyYAML>=3.10 in /opt/conda/lib/python3.7/site-packages (from bokeh->Livelossplot) (6.0)\r\n",
      "Requirement already satisfied: pillow>=7.1.0 in /opt/conda/lib/python3.7/site-packages (from bokeh->Livelossplot) (9.0.1)\r\n",
      "Requirement already satisfied: Jinja2>=2.9 in /opt/conda/lib/python3.7/site-packages (from bokeh->Livelossplot) (3.1.2)\r\n",
      "Requirement already satisfied: fonttools>=4.22.0 in /opt/conda/lib/python3.7/site-packages (from matplotlib->Livelossplot) (4.30.0)\r\n",
      "Requirement already satisfied: pyparsing>=2.2.1 in /opt/conda/lib/python3.7/site-packages (from matplotlib->Livelossplot) (3.0.7)\r\n",
      "Requirement already satisfied: python-dateutil>=2.7 in /opt/conda/lib/python3.7/site-packages (from matplotlib->Livelossplot) (2.8.2)\r\n",
      "Requirement already satisfied: cycler>=0.10 in /opt/conda/lib/python3.7/site-packages (from matplotlib->Livelossplot) (0.11.0)\r\n",
      "Requirement already satisfied: kiwisolver>=1.0.1 in /opt/conda/lib/python3.7/site-packages (from matplotlib->Livelossplot) (1.4.0)\r\n",
      "Requirement already satisfied: parso<0.9.0,>=0.8.0 in /opt/conda/lib/python3.7/site-packages (from jedi>=0.16->ipython==7.*->Livelossplot) (0.8.3)\r\n",
      "Requirement already satisfied: MarkupSafe>=2.0 in /opt/conda/lib/python3.7/site-packages (from Jinja2>=2.9->bokeh->Livelossplot) (2.0.1)\r\n",
      "Requirement already satisfied: ptyprocess>=0.5 in /opt/conda/lib/python3.7/site-packages (from pexpect>4.3->ipython==7.*->Livelossplot) (0.7.0)\r\n",
      "Requirement already satisfied: wcwidth in /opt/conda/lib/python3.7/site-packages (from prompt-toolkit!=3.0.0,!=3.0.1,<3.1.0,>=2.0.0->ipython==7.*->Livelossplot) (0.2.5)\r\n",
      "Requirement already satisfied: six>=1.5 in /opt/conda/lib/python3.7/site-packages (from python-dateutil>=2.7->matplotlib->Livelossplot) (1.16.0)\r\n",
      "Installing collected packages: Livelossplot\r\n",
      "Successfully installed Livelossplot-0.5.5\r\n",
      "\u001b[33mWARNING: Running pip as the 'root' user can result in broken permissions and conflicting behaviour with the system package manager. It is recommended to use a virtual environment instead: https://pip.pypa.io/warnings/venv\u001b[0m\u001b[33m\r\n",
      "\u001b[0m"
     ]
    }
   ],
   "source": [
    "# This Python 3 environment comes with many helpful analytics libraries installed\n",
    "# It is defined by the kaggle/python Docker image: https://github.com/kaggle/docker-python\n",
    "# For example, here's several helpful packages to load\n",
    "\n",
    "import numpy as np # linear algebra\n",
    "import pandas as pd # data processing, CSV file I/O (e.g. pd.read_csv)\n",
    "\n",
    "# Input data files are available in the read-only \"../input/\" directory\n",
    "# For example, running this (by clicking run or pressing Shift+Enter) will list all files under the input directory\n",
    "\n",
    "import os\n",
    "\n",
    "import warnings\n",
    "warnings.filterwarnings('ignore')\n",
    "%matplotlib inline\n",
    "!pip install Livelossplot\n",
    "from livelossplot import PlotLossesKeras\n",
    "\n",
    "from glob import glob\n",
    "import os\n",
    "import shutil\n",
    "\n",
    "import numpy as np\n",
    "import pandas as pd\n",
    "# You can write up to 20GB to the current directory (/kaggle/working/) that gets preserved as output when you create a version using \"Save & Run All\" \n",
    "# You can also write temporary files to /kaggle/temp/, but they won't be saved outside of the current session"
   ]
  },
  {
   "cell_type": "markdown",
   "id": "c2d04e24",
   "metadata": {
    "papermill": {
     "duration": 0.040712,
     "end_time": "2022-05-24T14:41:31.818770",
     "exception": false,
     "start_time": "2022-05-24T14:41:31.778058",
     "status": "completed"
    },
    "tags": []
   },
   "source": [
    "# AIM\n",
    "## To classify the images into \n",
    "### IDC+\n",
    "### IDC-\n",
    "\n",
    "# Validation Strategy:\n",
    "\n",
    "## Train Data Size= 0.7*Total_Data\n",
    "## Validation Data Size= 0.21* Total_Data\n",
    "## Test Data Size= 0.09 * Total_Data\n",
    "\n",
    "# Augmentaions Used:\n",
    "## Each Image is rotated through 45 angles\n"
   ]
  },
  {
   "cell_type": "code",
   "execution_count": 2,
   "id": "502b7aef",
   "metadata": {
    "execution": {
     "iopub.execute_input": "2022-05-24T14:41:31.904505Z",
     "iopub.status.busy": "2022-05-24T14:41:31.903969Z",
     "iopub.status.idle": "2022-05-24T14:41:42.387683Z",
     "shell.execute_reply": "2022-05-24T14:41:42.386432Z"
    },
    "papermill": {
     "duration": 10.529015,
     "end_time": "2022-05-24T14:41:42.390809",
     "exception": false,
     "start_time": "2022-05-24T14:41:31.861794",
     "status": "completed"
    },
    "tags": []
   },
   "outputs": [
    {
     "data": {
      "text/html": [
       "<style type='text/css'>\n",
       ".datatable table.frame { margin-bottom: 0; }\n",
       ".datatable table.frame thead { border-bottom: none; }\n",
       ".datatable table.frame tr.coltypes td {  color: #FFFFFF;  line-height: 6px;  padding: 0 0.5em;}\n",
       ".datatable .bool    { background: #DDDD99; }\n",
       ".datatable .object  { background: #565656; }\n",
       ".datatable .int     { background: #5D9E5D; }\n",
       ".datatable .float   { background: #4040CC; }\n",
       ".datatable .str     { background: #CC4040; }\n",
       ".datatable .time    { background: #40CC40; }\n",
       ".datatable .row_index {  background: var(--jp-border-color3);  border-right: 1px solid var(--jp-border-color0);  color: var(--jp-ui-font-color3);  font-size: 9px;}\n",
       ".datatable .frame tbody td { text-align: left; }\n",
       ".datatable .frame tr.coltypes .row_index {  background: var(--jp-border-color0);}\n",
       ".datatable th:nth-child(2) { padding-left: 12px; }\n",
       ".datatable .hellipsis {  color: var(--jp-cell-editor-border-color);}\n",
       ".datatable .vellipsis {  background: var(--jp-layout-color0);  color: var(--jp-cell-editor-border-color);}\n",
       ".datatable .na {  color: var(--jp-cell-editor-border-color);  font-size: 80%;}\n",
       ".datatable .sp {  opacity: 0.25;}\n",
       ".datatable .footer { font-size: 9px; }\n",
       ".datatable .frame_dimensions {  background: var(--jp-border-color3);  border-top: 1px solid var(--jp-border-color0);  color: var(--jp-ui-font-color3);  display: inline-block;  opacity: 0.6;  padding: 1px 10px 1px 5px;}\n",
       "</style>\n"
      ],
      "text/plain": [
       "<IPython.core.display.HTML object>"
      ]
     },
     "metadata": {},
     "output_type": "display_data"
    },
    {
     "name": "stdout",
     "output_type": "stream",
     "text": [
      "All modules have been imported\n"
     ]
    }
   ],
   "source": [
    "\n",
    "import numpy as np\n",
    "import pandas as pd\n",
    "import cv2\n",
    "from PIL import Image\n",
    "import scipy\n",
    "\n",
    "import tensorflow as tf\n",
    "from tensorflow.keras.applications import *\n",
    "from tensorflow.keras.optimizers import *\n",
    "from tensorflow.keras.losses import *\n",
    "from tensorflow.keras.layers import *\n",
    "from tensorflow.keras.models import *\n",
    "from tensorflow.keras.callbacks import *\n",
    "from tensorflow.keras.preprocessing.image import *\n",
    "from tensorflow.keras.utils import *\n",
    "# import pydot\n",
    "\n",
    "from sklearn.metrics import *\n",
    "from sklearn.model_selection import *\n",
    "import tensorflow.keras.backend as K\n",
    "\n",
    "from tqdm import tqdm, tqdm_notebook\n",
    "from colorama import Fore\n",
    "import json\n",
    "import matplotlib.pyplot as plt\n",
    "import seaborn as sns\n",
    "from glob import glob\n",
    "from skimage.io import *\n",
    "%config Completer.use_jedi = False\n",
    "import time\n",
    "from sklearn.decomposition import PCA\n",
    "from sklearn.svm import LinearSVC\n",
    "from sklearn.linear_model import LogisticRegression\n",
    "from sklearn.metrics import accuracy_score\n",
    "import lightgbm as lgb\n",
    "import xgboost as xgb\n",
    "\n",
    "print(\"All modules have been imported\")"
   ]
  },
  {
   "cell_type": "code",
   "execution_count": 3,
   "id": "27eeb604",
   "metadata": {
    "execution": {
     "iopub.execute_input": "2022-05-24T14:41:42.484547Z",
     "iopub.status.busy": "2022-05-24T14:41:42.484278Z",
     "iopub.status.idle": "2022-05-24T14:41:42.489056Z",
     "shell.execute_reply": "2022-05-24T14:41:42.488073Z"
    },
    "papermill": {
     "duration": 0.050903,
     "end_time": "2022-05-24T14:41:42.491550",
     "exception": false,
     "start_time": "2022-05-24T14:41:42.440647",
     "status": "completed"
    },
    "tags": []
   },
   "outputs": [],
   "source": [
    "sampling_seed=0\n",
    "size_4_training=5000\n",
    "img_size=224\n",
    "training_reshape=(-1, img_size, img_size, 3)\n",
    "epoch1=10\n",
    "epoch2=3\n"
   ]
  },
  {
   "cell_type": "markdown",
   "id": "91b6ea0b",
   "metadata": {
    "papermill": {
     "duration": 0.042854,
     "end_time": "2022-05-24T14:41:42.579326",
     "exception": false,
     "start_time": "2022-05-24T14:41:42.536472",
     "status": "completed"
    },
    "tags": []
   },
   "source": [
    "Image labelling"
   ]
  },
  {
   "cell_type": "code",
   "execution_count": 4,
   "id": "ff7bae5b",
   "metadata": {
    "execution": {
     "iopub.execute_input": "2022-05-24T14:41:42.672010Z",
     "iopub.status.busy": "2022-05-24T14:41:42.670301Z",
     "iopub.status.idle": "2022-05-24T14:43:47.622488Z",
     "shell.execute_reply": "2022-05-24T14:43:47.620016Z"
    },
    "papermill": {
     "duration": 125.003587,
     "end_time": "2022-05-24T14:43:47.627182",
     "exception": false,
     "start_time": "2022-05-24T14:41:42.623595",
     "status": "completed"
    },
    "tags": []
   },
   "outputs": [
    {
     "name": "stdout",
     "output_type": "stream",
     "text": [
      "['../input/breast-histopathology-images/IDC_regular_ps50_idx5/10295/0/10295_idx5_x1351_y1101_class0.png', '../input/breast-histopathology-images/IDC_regular_ps50_idx5/10295/0/10295_idx5_x1501_y501_class0.png', '../input/breast-histopathology-images/IDC_regular_ps50_idx5/10295/0/10295_idx5_x1501_y1101_class0.png', '../input/breast-histopathology-images/IDC_regular_ps50_idx5/10295/0/10295_idx5_x451_y901_class0.png', '../input/breast-histopathology-images/IDC_regular_ps50_idx5/10295/0/10295_idx5_x801_y451_class0.png', '../input/breast-histopathology-images/IDC_regular_ps50_idx5/10295/0/10295_idx5_x151_y1051_class0.png', '../input/breast-histopathology-images/IDC_regular_ps50_idx5/10295/0/10295_idx5_x1351_y901_class0.png', '../input/breast-histopathology-images/IDC_regular_ps50_idx5/10295/0/10295_idx5_x701_y651_class0.png', '../input/breast-histopathology-images/IDC_regular_ps50_idx5/10295/0/10295_idx5_x951_y1401_class0.png', '../input/breast-histopathology-images/IDC_regular_ps50_idx5/10295/0/10295_idx5_x601_y501_class0.png']\n"
     ]
    }
   ],
   "source": [
    "import random\n",
    "#make directory for labelling\n",
    "os.makedirs('../working/idc2/idc-minus/')     \n",
    "os.makedirs('../working/idc2/idc-plus/')  \n",
    "\n",
    "\n",
    "class0 = [] # 0 = idc+\n",
    "class1 = [] # 1 = idc-\n",
    "imagePatches = glob('../input/breast-histopathology-images/IDC_regular_ps50_idx5/**/*.png', recursive=True)\n",
    "for filename in imagePatches:\n",
    "    if filename.endswith(\"class0.png\"):\n",
    "         class0.append(filename)\n",
    "    else:\n",
    "        class1.append(filename)\n",
    "\n",
    "print(class0[0:10])\n",
    "\n",
    "#sampling 10000 images from class 0 and class 1 to train the model\n",
    "\n",
    "random.seed(sampling_seed)\n",
    "class0sample=random.sample(class0,size_4_training)\n",
    "class1sample=random.sample(class1,size_4_training)\n",
    "\n",
    "\n",
    "def read_and_save_data(path, file_name_array):\n",
    "    j=0\n",
    "    for i in file_name_array:\n",
    "        if i.endswith('.png'):\n",
    "          \n",
    "            \n",
    "            #second copy method\n",
    "            head, tail = os.path.split(i)\n",
    "            outputname=str(path+tail)\n",
    "            #outputname=str(path+str(j)+'.png')\n",
    "            #print(outputname)\n",
    "            shutil.copy(i, outputname)\n",
    "   \n",
    "            #print(status2)\n",
    "            \n",
    "            j=j+1\n",
    "            if j==120000:\n",
    "                break\n",
    "            \n",
    "   \n",
    "class0path='../working/idc2/idc-minus/'\n",
    "class1path='../working/idc2/idc-plus/'\n",
    "\n",
    "\n",
    "\n",
    "\n",
    "read_and_save_data(class0path,class0sample)\n",
    "read_and_save_data(class1path,class1sample)"
   ]
  },
  {
   "cell_type": "markdown",
   "id": "fe55e47f",
   "metadata": {
    "papermill": {
     "duration": 0.041781,
     "end_time": "2022-05-24T14:43:47.720180",
     "exception": false,
     "start_time": "2022-05-24T14:43:47.678399",
     "status": "completed"
    },
    "tags": []
   },
   "source": []
  },
  {
   "cell_type": "code",
   "execution_count": null,
   "id": "8f6e1cc0",
   "metadata": {
    "papermill": {
     "duration": 0.041522,
     "end_time": "2022-05-24T14:43:47.803487",
     "exception": false,
     "start_time": "2022-05-24T14:43:47.761965",
     "status": "completed"
    },
    "tags": []
   },
   "outputs": [],
   "source": [
    "\n"
   ]
  },
  {
   "cell_type": "code",
   "execution_count": 5,
   "id": "9fd50dc6",
   "metadata": {
    "execution": {
     "iopub.execute_input": "2022-05-24T14:43:47.899558Z",
     "iopub.status.busy": "2022-05-24T14:43:47.898822Z",
     "iopub.status.idle": "2022-05-24T14:43:47.903182Z",
     "shell.execute_reply": "2022-05-24T14:43:47.902360Z"
    },
    "papermill": {
     "duration": 0.058785,
     "end_time": "2022-05-24T14:43:47.905376",
     "exception": false,
     "start_time": "2022-05-24T14:43:47.846591",
     "status": "completed"
    },
    "tags": []
   },
   "outputs": [],
   "source": [
    "\n",
    "from PIL import Image\n",
    "import glob\n"
   ]
  },
  {
   "cell_type": "code",
   "execution_count": null,
   "id": "1c2e5947",
   "metadata": {
    "papermill": {
     "duration": 0.04292,
     "end_time": "2022-05-24T14:43:47.997262",
     "exception": false,
     "start_time": "2022-05-24T14:43:47.954342",
     "status": "completed"
    },
    "tags": []
   },
   "outputs": [],
   "source": []
  },
  {
   "cell_type": "code",
   "execution_count": null,
   "id": "9f702d37",
   "metadata": {
    "papermill": {
     "duration": 0.054108,
     "end_time": "2022-05-24T14:43:48.096598",
     "exception": false,
     "start_time": "2022-05-24T14:43:48.042490",
     "status": "completed"
    },
    "tags": []
   },
   "outputs": [],
   "source": []
  },
  {
   "cell_type": "code",
   "execution_count": 6,
   "id": "a0c144c1",
   "metadata": {
    "execution": {
     "iopub.execute_input": "2022-05-24T14:43:48.189492Z",
     "iopub.status.busy": "2022-05-24T14:43:48.189227Z",
     "iopub.status.idle": "2022-05-24T14:43:48.194503Z",
     "shell.execute_reply": "2022-05-24T14:43:48.193626Z"
    },
    "papermill": {
     "duration": 0.056023,
     "end_time": "2022-05-24T14:43:48.197125",
     "exception": false,
     "start_time": "2022-05-24T14:43:48.141102",
     "status": "completed"
    },
    "tags": []
   },
   "outputs": [],
   "source": [
    "import os #Operating System\n",
    "import sys #System\n",
    "# train_generator = train_datagen.flow(x_train, y_train, batch_size =)\n",
    "# val_generator = val_datagen.flow(x_val, y_val, batch_size = 64)\n",
    "# test_generator=test_datagen.flow(x_test,y_test,batch_size = 64)\n"
   ]
  },
  {
   "cell_type": "markdown",
   "id": "1c9c1056",
   "metadata": {
    "papermill": {
     "duration": 0.042417,
     "end_time": "2022-05-24T14:43:48.289139",
     "exception": false,
     "start_time": "2022-05-24T14:43:48.246722",
     "status": "completed"
    },
    "tags": []
   },
   "source": [
    "#import image"
   ]
  },
  {
   "cell_type": "code",
   "execution_count": 7,
   "id": "e1b9292d",
   "metadata": {
    "execution": {
     "iopub.execute_input": "2022-05-24T14:43:48.376487Z",
     "iopub.status.busy": "2022-05-24T14:43:48.375692Z",
     "iopub.status.idle": "2022-05-24T14:43:48.385001Z",
     "shell.execute_reply": "2022-05-24T14:43:48.384215Z"
    },
    "papermill": {
     "duration": 0.055419,
     "end_time": "2022-05-24T14:43:48.387212",
     "exception": false,
     "start_time": "2022-05-24T14:43:48.331793",
     "status": "completed"
    },
    "tags": []
   },
   "outputs": [],
   "source": [
    "import cv2\n",
    "'''\n",
    "def readImage(path, X, Y, label):\n",
    "    j=0\n",
    " \n",
    "    for i in os.listdir(path):\n",
    "        imgname=path+i\n",
    "        #print(imgname)\n",
    "        img = cv2.imread(imgname, cv2.IMREAD_COLOR)\n",
    "        img =cv2.resize(img,(50, 50))\n",
    "        X.append(img)\n",
    "        Y.append(label)\n",
    "        j=j+1\n",
    "        #if j==10:\n",
    "        #    break\n",
    "        \n",
    "    return X, Y\n",
    "    '''\n",
    "def readImage(path, tag):\n",
    "    j=0\n",
    "    image_array = []\n",
    "    for i in os.listdir(path):\n",
    "        imgname=path+i\n",
    "        #print(imgname)\n",
    "        img = cv2.imread(imgname, cv2.IMREAD_COLOR)\n",
    "        img_resized = cv2.resize(img, (img_size,img_size), interpolation=cv2.INTER_LINEAR)\n",
    "        image_array.append([img_resized, tag])\n",
    "        #print(img[1])\n",
    "        j=j+1\n",
    "        #if j==10:\n",
    "        #    break\n",
    "        \n",
    "    return image_array"
   ]
  },
  {
   "cell_type": "code",
   "execution_count": 8,
   "id": "4995f89e",
   "metadata": {
    "execution": {
     "iopub.execute_input": "2022-05-24T14:43:48.474867Z",
     "iopub.status.busy": "2022-05-24T14:43:48.474189Z",
     "iopub.status.idle": "2022-05-24T14:43:52.533560Z",
     "shell.execute_reply": "2022-05-24T14:43:52.532518Z"
    },
    "papermill": {
     "duration": 4.105638,
     "end_time": "2022-05-24T14:43:52.535770",
     "exception": false,
     "start_time": "2022-05-24T14:43:48.430132",
     "status": "completed"
    },
    "tags": []
   },
   "outputs": [
    {
     "name": "stdout",
     "output_type": "stream",
     "text": [
      "(5000, 2)\n",
      "(10000, 2)\n",
      "(10000, 224, 224, 3)\n"
     ]
    }
   ],
   "source": [
    "import numpy as np\n",
    "\n",
    "\n",
    "class0_array = readImage(class0path, 0)\n",
    "class1_array = readImage(class1path, 1)\n",
    "class0_array=np.array(class0_array)\n",
    "class1_array=np.array(class1_array)\n",
    "combined_data = np.concatenate((class0_array, class1_array))\n",
    "random.seed(41)\n",
    "random.shuffle(combined_data)\n",
    "print(class0_array.shape)\n",
    "print(combined_data.shape)\n",
    "\n",
    "X = []\n",
    "y = []\n",
    "\n",
    "for features,label in combined_data:\n",
    "    X.append(features)\n",
    "    y.append(label)\n",
    "#print(X.shape)\n",
    "#pring(y.shape)\n",
    "\n",
    "# reshape X data\n",
    "X = np.array(X).reshape(training_reshape)\n",
    "print(X.shape)"
   ]
  },
  {
   "cell_type": "code",
   "execution_count": 9,
   "id": "546f1368",
   "metadata": {
    "execution": {
     "iopub.execute_input": "2022-05-24T14:43:52.624284Z",
     "iopub.status.busy": "2022-05-24T14:43:52.623796Z",
     "iopub.status.idle": "2022-05-24T14:43:53.396852Z",
     "shell.execute_reply": "2022-05-24T14:43:53.395654Z"
    },
    "papermill": {
     "duration": 0.820491,
     "end_time": "2022-05-24T14:43:53.399055",
     "exception": false,
     "start_time": "2022-05-24T14:43:52.578564",
     "status": "completed"
    },
    "tags": []
   },
   "outputs": [
    {
     "name": "stdout",
     "output_type": "stream",
     "text": [
      "(7000, 224, 224, 3) (900, 224, 224, 3) (2100, 224, 224, 3) (7000, 2) (900, 2) (2100, 2)\n"
     ]
    }
   ],
   "source": [
    "X_train, X_test1, y_train, y_test1 = train_test_split(X, y, test_size=0.3, random_state=42)\n",
    "X_val, X_test, y_val, y_test = train_test_split(X_test1, y_test1, test_size=0.3, random_state=42)\n",
    "y_train = to_categorical(y_train)\n",
    "y_test = to_categorical(y_test)\n",
    "y_val = to_categorical(y_val)\n",
    "print(X_train.shape, X_test.shape, X_val.shape, y_train.shape, y_test.shape, y_val.shape)"
   ]
  },
  {
   "cell_type": "code",
   "execution_count": 10,
   "id": "746d704f",
   "metadata": {
    "execution": {
     "iopub.execute_input": "2022-05-24T14:43:53.487421Z",
     "iopub.status.busy": "2022-05-24T14:43:53.486780Z",
     "iopub.status.idle": "2022-05-24T14:43:53.492655Z",
     "shell.execute_reply": "2022-05-24T14:43:53.492078Z"
    },
    "papermill": {
     "duration": 0.05227,
     "end_time": "2022-05-24T14:43:53.494559",
     "exception": false,
     "start_time": "2022-05-24T14:43:53.442289",
     "status": "completed"
    },
    "tags": []
   },
   "outputs": [],
   "source": [
    "#Callbacks\n",
    "c2=tf.keras.callbacks.EarlyStopping(\n",
    "    monitor=\"val_loss\",\n",
    "    min_delta=0,\n",
    "    patience=6,\n",
    "    mode=\"auto\",\n",
    "    baseline=None,\n",
    "    restore_best_weights=True,\n",
    ")\n",
    "\n",
    "c3=tf.keras.callbacks.ReduceLROnPlateau(\n",
    "    monitor=\"val_loss\",\n",
    "    factor=0.1,\n",
    "    patience=6,\n",
    "    mode=\"auto\",\n",
    "    min_delta=0.0001,\n",
    "    cooldown=0,\n",
    "    min_lr=0.001\n",
    ")\n",
    "nClasses=2"
   ]
  },
  {
   "cell_type": "markdown",
   "id": "1427b1e5",
   "metadata": {
    "papermill": {
     "duration": 0.042723,
     "end_time": "2022-05-24T14:43:53.581588",
     "exception": false,
     "start_time": "2022-05-24T14:43:53.538865",
     "status": "completed"
    },
    "tags": []
   },
   "source": [
    "# MobileNet"
   ]
  },
  {
   "cell_type": "code",
   "execution_count": 11,
   "id": "7eaef383",
   "metadata": {
    "execution": {
     "iopub.execute_input": "2022-05-24T14:43:53.669072Z",
     "iopub.status.busy": "2022-05-24T14:43:53.668799Z",
     "iopub.status.idle": "2022-05-24T14:43:57.333616Z",
     "shell.execute_reply": "2022-05-24T14:43:57.332695Z"
    },
    "papermill": {
     "duration": 3.712395,
     "end_time": "2022-05-24T14:43:57.336985",
     "exception": false,
     "start_time": "2022-05-24T14:43:53.624590",
     "status": "completed"
    },
    "tags": []
   },
   "outputs": [
    {
     "name": "stderr",
     "output_type": "stream",
     "text": [
      "2022-05-24 14:43:53.721033: I tensorflow/core/common_runtime/process_util.cc:146] Creating new thread pool with default inter op setting: 2. Tune using inter_op_parallelism_threads for best performance.\n"
     ]
    },
    {
     "name": "stdout",
     "output_type": "stream",
     "text": [
      "Downloading data from https://storage.googleapis.com/tensorflow/keras-applications/mobilenet/mobilenet_1_0_224_tf_no_top.h5\n",
      "17227776/17225924 [==============================] - 0s 0us/step\n",
      "17235968/17225924 [==============================] - 0s 0us/step\n",
      "Model: \"sequential\"\n",
      "_________________________________________________________________\n",
      "Layer (type)                 Output Shape              Param #   \n",
      "=================================================================\n",
      "mobilenet_1.00_224 (Function (None, 7, 7, 1024)        3228864   \n",
      "_________________________________________________________________\n",
      "flatten (Flatten)            (None, 50176)             0         \n",
      "_________________________________________________________________\n",
      "batch_normalization (BatchNo (None, 50176)             200704    \n",
      "_________________________________________________________________\n",
      "dense (Dense)                (None, 4096)              205524992 \n",
      "_________________________________________________________________\n",
      "batch_normalization_1 (Batch (None, 4096)              16384     \n",
      "_________________________________________________________________\n",
      "dense_1 (Dense)              (None, 4096)              16781312  \n",
      "_________________________________________________________________\n",
      "dropout (Dropout)            (None, 4096)              0         \n",
      "_________________________________________________________________\n",
      "dense_2 (Dense)              (None, 2096)              8587312   \n",
      "_________________________________________________________________\n",
      "dense_3 (Dense)              (None, 2)                 4194      \n",
      "=================================================================\n",
      "Total params: 234,343,762\n",
      "Trainable params: 231,006,354\n",
      "Non-trainable params: 3,337,408\n",
      "_________________________________________________________________\n"
     ]
    }
   ],
   "source": [
    "\n",
    "\n",
    "from tensorflow.keras.applications import MobileNet\n",
    "base_Neural_Net= MobileNet(input_shape=(img_size, img_size, 3), weights='imagenet', include_top=False)\n",
    "base_Neural_Net.trainable = False\n",
    "model=Sequential()\n",
    "model.add(base_Neural_Net)\n",
    "model.add(Flatten())\n",
    "model.add(BatchNormalization())\n",
    "model.add(Dense(4096,kernel_initializer='he_uniform'))\n",
    "model.add(BatchNormalization())\n",
    "model.add(Dense(4096,activation=\"relu\"))\n",
    "#model.add(BatchNormalization())\n",
    "#model.add(Activation('relu'))\n",
    "model.add(Dropout(0.2))\n",
    "model.add(Dense(2096,activation=\"relu\"))\n",
    "model.add(Dense(2, activation='sigmoid'))\n",
    "#model = Model(inputs=resnet50_base_model.input, outputs=predictions)\n",
    "model.summary()\n"
   ]
  },
  {
   "cell_type": "code",
   "execution_count": 12,
   "id": "6aa81a9f",
   "metadata": {
    "execution": {
     "iopub.execute_input": "2022-05-24T14:43:57.436586Z",
     "iopub.status.busy": "2022-05-24T14:43:57.436014Z",
     "iopub.status.idle": "2022-05-24T14:43:58.777779Z",
     "shell.execute_reply": "2022-05-24T14:43:58.777026Z"
    },
    "papermill": {
     "duration": 1.394415,
     "end_time": "2022-05-24T14:43:58.781460",
     "exception": false,
     "start_time": "2022-05-24T14:43:57.387045",
     "status": "completed"
    },
    "tags": []
   },
   "outputs": [
    {
     "data": {
      "image/png": "[encoded data removed]",
      "text/plain": [
       "<IPython.core.display.Image object>"
      ]
     },
     "execution_count": 12,
     "metadata": {},
     "output_type": "execute_result"
    }
   ],
   "source": [
    "from tensorflow.keras.utils import plot_model\n",
    "from IPython.display import Image\n",
    "plot_model(model, to_file='convnet.png', show_shapes=True,show_layer_names=True)\n",
    "Image(filename='convnet.png') "
   ]
  },
  {
   "cell_type": "code",
   "execution_count": 13,
   "id": "0270a2c0",
   "metadata": {
    "execution": {
     "iopub.execute_input": "2022-05-24T14:43:58.881837Z",
     "iopub.status.busy": "2022-05-24T14:43:58.881047Z",
     "iopub.status.idle": "2022-05-24T14:43:58.905946Z",
     "shell.execute_reply": "2022-05-24T14:43:58.905057Z"
    },
    "papermill": {
     "duration": 0.078034,
     "end_time": "2022-05-24T14:43:58.908114",
     "exception": false,
     "start_time": "2022-05-24T14:43:58.830080",
     "status": "completed"
    },
    "tags": []
   },
   "outputs": [],
   "source": [
    "callbacks1 = [EarlyStopping(monitor='val_loss', patience=5, verbose=1), ModelCheckpoint('model.hdf5', save_best_only=True)]\n",
    "opt = Adam(learning_rate=0.001)\n",
    "model.compile(loss='categorical_crossentropy', optimizer=opt, metrics=['accuracy'])"
   ]
  },
  {
   "cell_type": "code",
   "execution_count": 14,
   "id": "11ff39f2",
   "metadata": {
    "execution": {
     "iopub.execute_input": "2022-05-24T14:43:59.008066Z",
     "iopub.status.busy": "2022-05-24T14:43:59.007590Z",
     "iopub.status.idle": "2022-05-24T15:25:39.513796Z",
     "shell.execute_reply": "2022-05-24T15:25:39.512282Z"
    },
    "papermill": {
     "duration": 2501.215529,
     "end_time": "2022-05-24T15:25:40.172633",
     "exception": false,
     "start_time": "2022-05-24T14:43:58.957104",
     "status": "completed"
    },
    "tags": []
   },
   "outputs": [
    {
     "name": "stdout",
     "output_type": "stream",
     "text": [
      "CPU times: user 3 µs, sys: 2 µs, total: 5 µs\n",
      "Wall time: 8.11 µs\n"
     ]
    },
    {
     "name": "stderr",
     "output_type": "stream",
     "text": [
      "2022-05-24 14:43:59.819508: I tensorflow/compiler/mlir/mlir_graph_optimization_pass.cc:185] None of the MLIR Optimization Passes are enabled (registered 2)\n"
     ]
    },
    {
     "name": "stdout",
     "output_type": "stream",
     "text": [
      "Epoch 1/10\n",
      "219/219 [==============================] - 351s 2s/step - loss: 0.5578 - accuracy: 0.8630 - val_loss: 0.3099 - val_accuracy: 0.8922\n",
      "Epoch 2/10\n",
      "219/219 [==============================] - 344s 2s/step - loss: 0.2187 - accuracy: 0.9161 - val_loss: 0.3021 - val_accuracy: 0.9133\n",
      "Epoch 3/10\n",
      "219/219 [==============================] - 346s 2s/step - loss: 0.1120 - accuracy: 0.9581 - val_loss: 0.4480 - val_accuracy: 0.9122\n",
      "Epoch 4/10\n",
      "219/219 [==============================] - 356s 2s/step - loss: 0.0831 - accuracy: 0.9693 - val_loss: 0.5244 - val_accuracy: 0.9289\n",
      "Epoch 5/10\n",
      "219/219 [==============================] - 363s 2s/step - loss: 0.0484 - accuracy: 0.9831 - val_loss: 0.7183 - val_accuracy: 0.9244\n",
      "Epoch 6/10\n",
      "219/219 [==============================] - 358s 2s/step - loss: 0.0546 - accuracy: 0.9823 - val_loss: 0.8247 - val_accuracy: 0.9178\n",
      "Epoch 7/10\n",
      "219/219 [==============================] - 359s 2s/step - loss: 0.0435 - accuracy: 0.9844 - val_loss: 0.9217 - val_accuracy: 0.9178\n",
      "Epoch 00007: early stopping\n"
     ]
    }
   ],
   "source": [
    "%time\n",
    "history1=model.fit(X_train, y_train,validation_data=(X_test, y_test),verbose = 1,epochs = epoch1,callbacks=callbacks1)"
   ]
  },
  {
   "cell_type": "code",
   "execution_count": 15,
   "id": "3310fe4e",
   "metadata": {
    "execution": {
     "iopub.execute_input": "2022-05-24T15:25:41.454979Z",
     "iopub.status.busy": "2022-05-24T15:25:41.453817Z",
     "iopub.status.idle": "2022-05-24T15:25:41.463266Z",
     "shell.execute_reply": "2022-05-24T15:25:41.462512Z"
    },
    "papermill": {
     "duration": 0.652793,
     "end_time": "2022-05-24T15:25:41.465380",
     "exception": false,
     "start_time": "2022-05-24T15:25:40.812587",
     "status": "completed"
    },
    "tags": []
   },
   "outputs": [],
   "source": [
    "def f1_score(y_true, y_pred): #taken from old keras source code\n",
    "    true_positives = K.sum(K.round(K.clip(y_true * y_pred, 0, 1)))\n",
    "    possible_positives = K.sum(K.round(K.clip(y_true, 0, 1)))\n",
    "    predicted_positives = K.sum(K.round(K.clip(y_pred, 0, 1)))\n",
    "    precision = true_positives / (predicted_positives + K.epsilon())\n",
    "    recall = true_positives / (possible_positives + K.epsilon())\n",
    "    f1_val = 2*(precision*recall)/(precision+recall+K.epsilon())\n",
    "    return f1_val"
   ]
  },
  {
   "cell_type": "code",
   "execution_count": 16,
   "id": "f38ea84e",
   "metadata": {
    "execution": {
     "iopub.execute_input": "2022-05-24T15:25:42.764523Z",
     "iopub.status.busy": "2022-05-24T15:25:42.763912Z",
     "iopub.status.idle": "2022-05-24T15:25:42.800303Z",
     "shell.execute_reply": "2022-05-24T15:25:42.799515Z"
    },
    "papermill": {
     "duration": 0.701483,
     "end_time": "2022-05-24T15:25:42.802597",
     "exception": false,
     "start_time": "2022-05-24T15:25:42.101114",
     "status": "completed"
    },
    "tags": []
   },
   "outputs": [],
   "source": [
    "METRICS = [\n",
    "      tf.keras.metrics.BinaryAccuracy(name='accuracy'),\n",
    "      tf.keras.metrics.Precision(name='precision'),\n",
    "      tf.keras.metrics.Recall(name='recall'),  \n",
    "      tf.keras.metrics.AUC(name='auc'),\n",
    "        f1_score,\n",
    "]"
   ]
  },
  {
   "cell_type": "code",
   "execution_count": null,
   "id": "90e95c89",
   "metadata": {
    "execution": {
     "iopub.execute_input": "2022-05-06T15:08:04.489795Z",
     "iopub.status.busy": "2022-05-06T15:08:04.488846Z",
     "iopub.status.idle": "2022-05-06T15:08:04.918152Z",
     "shell.execute_reply": "2022-05-06T15:08:04.917046Z",
     "shell.execute_reply.started": "2022-05-06T15:08:04.489742Z"
    },
    "papermill": {
     "duration": 0.655448,
     "end_time": "2022-05-24T15:25:44.122199",
     "exception": false,
     "start_time": "2022-05-24T15:25:43.466751",
     "status": "completed"
    },
    "tags": []
   },
   "outputs": [],
   "source": []
  },
  {
   "cell_type": "code",
   "execution_count": 17,
   "id": "0f2d10c3",
   "metadata": {
    "execution": {
     "iopub.execute_input": "2022-05-24T15:25:45.436330Z",
     "iopub.status.busy": "2022-05-24T15:25:45.435576Z",
     "iopub.status.idle": "2022-05-24T15:26:34.729620Z",
     "shell.execute_reply": "2022-05-24T15:26:34.727690Z"
    },
    "papermill": {
     "duration": 50.752611,
     "end_time": "2022-05-24T15:26:35.518560",
     "exception": false,
     "start_time": "2022-05-24T15:25:44.765949",
     "status": "completed"
    },
    "tags": []
   },
   "outputs": [
    {
     "data": {
      "image/png": "[encoded data removed]",
      "text/plain": [
       "<Figure size 576x576 with 2 Axes>"
      ]
     },
     "metadata": {
      "needs_background": "light"
     },
     "output_type": "display_data"
    }
   ],
   "source": [
    "from sklearn.metrics import confusion_matrix\n",
    "import seaborn as sns\n",
    "\n",
    "Y_pred = model.predict(X_val)\n",
    "Y_pred_classes = np.argmax(Y_pred,axis = 1) \n",
    "Y_true = np.argmax(y_val,axis = 1) \n",
    "\n",
    "confusion_mtx = confusion_matrix(Y_true, Y_pred_classes) \n",
    "\n",
    "f,ax = plt.subplots(figsize=(8, 8))\n",
    "sns.heatmap(confusion_mtx, annot=True, linewidths=0.01,cmap=\"OrRd\",linecolor=\"black\", fmt= '.1f',ax=ax)\n",
    "plt.xlabel(\"Predicted Label\")\n",
    "plt.ylabel(\"True Label\")\n",
    "plt.title(\"Confusion Matrix\")\n",
    "plt.show()"
   ]
  },
  {
   "cell_type": "code",
   "execution_count": 18,
   "id": "75b516e0",
   "metadata": {
    "execution": {
     "iopub.execute_input": "2022-05-24T15:26:36.892170Z",
     "iopub.status.busy": "2022-05-24T15:26:36.891860Z",
     "iopub.status.idle": "2022-05-24T15:26:36.908731Z",
     "shell.execute_reply": "2022-05-24T15:26:36.906983Z"
    },
    "papermill": {
     "duration": 0.729557,
     "end_time": "2022-05-24T15:26:36.911323",
     "exception": false,
     "start_time": "2022-05-24T15:26:36.181766",
     "status": "completed"
    },
    "tags": []
   },
   "outputs": [
    {
     "name": "stdout",
     "output_type": "stream",
     "text": [
      "              precision    recall  f1-score   support\n",
      "\n",
      "           0       0.95      0.95      0.95      1806\n",
      "           1       0.68      0.70      0.69       294\n",
      "\n",
      "    accuracy                           0.91      2100\n",
      "   macro avg       0.81      0.82      0.82      2100\n",
      "weighted avg       0.91      0.91      0.91      2100\n",
      "\n"
     ]
    }
   ],
   "source": [
    "from sklearn.metrics import classification_report\n",
    "\n",
    "print(classification_report(Y_true, Y_pred_classes))"
   ]
  },
  {
   "cell_type": "markdown",
   "id": "22551083",
   "metadata": {
    "papermill": {
     "duration": 0.695558,
     "end_time": "2022-05-24T15:26:38.292574",
     "exception": false,
     "start_time": "2022-05-24T15:26:37.597016",
     "status": "completed"
    },
    "tags": []
   },
   "source": []
  },
  {
   "cell_type": "code",
   "execution_count": null,
   "id": "bb119a26",
   "metadata": {
    "execution": {
     "iopub.execute_input": "2022-05-06T15:08:41.911737Z",
     "iopub.status.busy": "2022-05-06T15:08:41.911171Z",
     "iopub.status.idle": "2022-05-06T15:08:41.922881Z",
     "shell.execute_reply": "2022-05-06T15:08:41.922041Z",
     "shell.execute_reply.started": "2022-05-06T15:08:41.911677Z"
    },
    "papermill": {
     "duration": 0.667338,
     "end_time": "2022-05-24T15:26:39.630457",
     "exception": false,
     "start_time": "2022-05-24T15:26:38.963119",
     "status": "completed"
    },
    "tags": []
   },
   "outputs": [],
   "source": []
  },
  {
   "cell_type": "code",
   "execution_count": 19,
   "id": "9b501c7f",
   "metadata": {
    "execution": {
     "iopub.execute_input": "2022-05-24T15:26:40.941861Z",
     "iopub.status.busy": "2022-05-24T15:26:40.941239Z",
     "iopub.status.idle": "2022-05-24T15:26:40.957991Z",
     "shell.execute_reply": "2022-05-24T15:26:40.956942Z"
    },
    "papermill": {
     "duration": 0.667443,
     "end_time": "2022-05-24T15:26:40.960345",
     "exception": false,
     "start_time": "2022-05-24T15:26:40.292902",
     "status": "completed"
    },
    "tags": []
   },
   "outputs": [],
   "source": [
    "from sklearn.metrics import f1_score, roc_auc_score, cohen_kappa_score, precision_score, recall_score, accuracy_score, confusion_matrix\n",
    "def get_accuracy_metrics(model, X_train, y_train, X_val, y_val, X_test, y_test):\n",
    "    y_train=np.argmax(y_train, axis=1)\n",
    "    y_test=np.argmax(y_test, axis=1)\n",
    "    y_val=np.argmax(y_val, axis=1)\n",
    "    y_train_pred=np.argmax(model.predict(X_train),axis=1)\n",
    "    y_test_pred=np.argmax(model.predict(X_test),axis=1)\n",
    "    y_val_pred=np.argmax(model.predict(X_val),axis=1)\n",
    "    #ps:all the Y value must turn back to 1 dimension array. otherwise, the scoring functions in sklearn cannot compare, and will give an error\n",
    "    #classification metrics can't handle a mix of continuous-multioutput and multi-label-indicator targets\n",
    "    \n",
    "    print(\"Train accuracy Score------------>\")\n",
    "    print (\"{0:.3f}\".format(accuracy_score(y_train, y_train_pred)*100), \"%\")\n",
    "    \n",
    "    print(\"Val accuracy Score--------->\")\n",
    "    \n",
    "    print(\"{0:.3f}\".format(accuracy_score(y_val, y_val_pred)*100), \"%\")\n",
    "    \n",
    "  \n",
    "    print(\"Test accuracy Score--------->\")\n",
    "    print(\"{0:.3f}\".format(accuracy_score(y_test, y_test_pred)*100), \"%\")\n",
    "    \n",
    "    print(\"F1 Score--------------->\")\n",
    "    print(\"{0:.3f}\".format(f1_score(y_test, y_test_pred, average = 'weighted')*100), \"%\")\n",
    "    \n",
    "    print(\"Cohen Kappa Score------------->\")\n",
    "    print(\"{0:.3f}\".format(cohen_kappa_score(y_test, y_test_pred)*100), \"%\")\n",
    "    \n",
    "    print(\"Recall-------------->\")\n",
    "    print(\"{0:.3f}\".format(recall_score(y_test, y_test_pred, average = 'weighted')*100), \"%\")\n",
    "    \n",
    "    print(\"Precision-------------->\")\n",
    "    print(\"{0:.3f}\".format(precision_score(y_test, y_test_pred, average = 'weighted')*100), \"%\")\n",
    "    \n",
    "    cf_matrix_test = confusion_matrix(y_test, y_test_pred)\n",
    "    cf_matrix_val = confusion_matrix(y_val, y_val_pred)\n",
    "    \n",
    "    plt.figure(figsize = (12, 6))\n",
    "    plt.subplot(121)\n",
    "    sns.heatmap(cf_matrix_val, annot=True, cmap='Blues')\n",
    "    plt.title(\"Val Confusion matrix\")\n",
    "    \n",
    "    plt.subplot(122)\n",
    "    sns.heatmap(cf_matrix_test, annot=True, cmap='Blues')\n",
    "    plt.title(\"Test Confusion matrix\")\n",
    "    \n",
    "    plt.show()"
   ]
  },
  {
   "cell_type": "code",
   "execution_count": null,
   "id": "368f6fc7",
   "metadata": {
    "papermill": {
     "duration": 0.682913,
     "end_time": "2022-05-24T15:26:42.303464",
     "exception": false,
     "start_time": "2022-05-24T15:26:41.620551",
     "status": "completed"
    },
    "tags": []
   },
   "outputs": [],
   "source": []
  },
  {
   "cell_type": "code",
   "execution_count": 20,
   "id": "6717b893",
   "metadata": {
    "execution": {
     "iopub.execute_input": "2022-05-24T15:26:43.661770Z",
     "iopub.status.busy": "2022-05-24T15:26:43.661191Z",
     "iopub.status.idle": "2022-05-24T15:30:28.831966Z",
     "shell.execute_reply": "2022-05-24T15:30:28.831246Z"
    },
    "papermill": {
     "duration": 226.244566,
     "end_time": "2022-05-24T15:30:29.243886",
     "exception": false,
     "start_time": "2022-05-24T15:26:42.999320",
     "status": "completed"
    },
    "tags": []
   },
   "outputs": [
    {
     "name": "stdout",
     "output_type": "stream",
     "text": [
      "Train accuracy Score------------>\n",
      "98.629 %\n",
      "Val accuracy Score--------->\n",
      "91.143 %\n",
      "Test accuracy Score--------->\n",
      "91.778 %\n",
      "F1 Score--------------->\n",
      "91.819 %\n",
      "Cohen Kappa Score------------->\n",
      "71.310 %\n",
      "Recall-------------->\n",
      "91.778 %\n",
      "Precision-------------->\n",
      "91.867 %\n"
     ]
    },
    {
     "data": {
      "image/png": "[encoded data removed]",
      "text/plain": [
       "<Figure size 864x432 with 4 Axes>"
      ]
     },
     "metadata": {
      "needs_background": "light"
     },
     "output_type": "display_data"
    }
   ],
   "source": [
    "get_accuracy_metrics(model,  X_train, y_train, X_val, y_val, X_test, y_test)"
   ]
  },
  {
   "cell_type": "code",
   "execution_count": 21,
   "id": "6fbe470e",
   "metadata": {
    "execution": {
     "iopub.execute_input": "2022-05-24T15:30:30.562953Z",
     "iopub.status.busy": "2022-05-24T15:30:30.562607Z",
     "iopub.status.idle": "2022-05-24T15:30:30.931512Z",
     "shell.execute_reply": "2022-05-24T15:30:30.930645Z"
    },
    "papermill": {
     "duration": 1.034171,
     "end_time": "2022-05-24T15:30:30.934061",
     "exception": false,
     "start_time": "2022-05-24T15:30:29.899890",
     "status": "completed"
    },
    "tags": []
   },
   "outputs": [
    {
     "data": {
      "image/png": "[encoded data removed]",
      "text/plain": [
       "<Figure size 864x432 with 2 Axes>"
      ]
     },
     "metadata": {
      "needs_background": "light"
     },
     "output_type": "display_data"
    }
   ],
   "source": [
    "import matplotlib.pyplot as plt\n",
    "import seaborn as sns\n",
    "plt.figure(figsize = (12, 6))\n",
    "plt.subplot(121)\n",
    "#plotting the Accuracy of test and training sets\n",
    "plt.plot(history1.history['accuracy'])\n",
    "plt.plot(history1.history['val_accuracy'])\n",
    "plt.title('1st training Model Accuracy')\n",
    "plt.ylabel('accuracy')\n",
    "plt.xlabel('epoch')\n",
    "plt.legend(['train', 'test'], loc='upper left')\n",
    "\n",
    "plt.subplot(122)\n",
    "#plotting the loss of test and training sets\n",
    "plt.plot(history1.history['loss'])\n",
    "plt.plot(history1.history['val_loss'])\n",
    "plt.title('1st training Model Loss')\n",
    "plt.ylabel('loss')\n",
    "plt.xlabel('epoch')\n",
    "plt.legend(['train', 'test'], loc='upper left')\n",
    "plt.show()"
   ]
  },
  {
   "cell_type": "markdown",
   "id": "ffa7a791",
   "metadata": {
    "papermill": {
     "duration": 0.660241,
     "end_time": "2022-05-24T15:30:32.254014",
     "exception": false,
     "start_time": "2022-05-24T15:30:31.593773",
     "status": "completed"
    },
    "tags": []
   },
   "source": [
    "# Second Training Fine Tune"
   ]
  },
  {
   "cell_type": "code",
   "execution_count": 22,
   "id": "fefa4879",
   "metadata": {
    "execution": {
     "iopub.execute_input": "2022-05-24T15:30:33.572610Z",
     "iopub.status.busy": "2022-05-24T15:30:33.572304Z",
     "iopub.status.idle": "2022-05-24T15:30:33.582409Z",
     "shell.execute_reply": "2022-05-24T15:30:33.581458Z"
    },
    "papermill": {
     "duration": 0.670481,
     "end_time": "2022-05-24T15:30:33.585429",
     "exception": false,
     "start_time": "2022-05-24T15:30:32.914948",
     "status": "completed"
    },
    "tags": []
   },
   "outputs": [],
   "source": [
    "for model1 in model.layers:\n",
    "    model1.trainable = True"
   ]
  },
  {
   "cell_type": "code",
   "execution_count": 23,
   "id": "b6dc8820",
   "metadata": {
    "execution": {
     "iopub.execute_input": "2022-05-24T15:30:34.936349Z",
     "iopub.status.busy": "2022-05-24T15:30:34.935597Z",
     "iopub.status.idle": "2022-05-24T15:30:34.942303Z",
     "shell.execute_reply": "2022-05-24T15:30:34.941027Z"
    },
    "papermill": {
     "duration": 0.695058,
     "end_time": "2022-05-24T15:30:34.945023",
     "exception": false,
     "start_time": "2022-05-24T15:30:34.249965",
     "status": "completed"
    },
    "tags": []
   },
   "outputs": [],
   "source": [
    "callbacks2 = [EarlyStopping(monitor='val_loss', patience=5, verbose=1), ModelCheckpoint('test_model.hdf5', save_best_only=True)]\n",
    "opt = Adam(learning_rate=0.001)\n",
    "#model.compile(loss='categorical_crossentropy', optimizer=opt, metrics=['accuracy'])"
   ]
  },
  {
   "cell_type": "code",
   "execution_count": 24,
   "id": "303dd672",
   "metadata": {
    "execution": {
     "iopub.execute_input": "2022-05-24T15:30:36.361140Z",
     "iopub.status.busy": "2022-05-24T15:30:36.360461Z",
     "iopub.status.idle": "2022-05-24T15:48:39.500613Z",
     "shell.execute_reply": "2022-05-24T15:48:39.499736Z"
    },
    "papermill": {
     "duration": 1083.827094,
     "end_time": "2022-05-24T15:48:39.502871",
     "exception": false,
     "start_time": "2022-05-24T15:30:35.675777",
     "status": "completed"
    },
    "tags": []
   },
   "outputs": [
    {
     "name": "stdout",
     "output_type": "stream",
     "text": [
      "Epoch 1/3\n",
      "219/219 [==============================] - 365s 2s/step - loss: 0.0424 - accuracy: 0.9871 - val_loss: 1.8997 - val_accuracy: 0.9222\n",
      "Epoch 2/3\n",
      "219/219 [==============================] - 350s 2s/step - loss: 0.0463 - accuracy: 0.9847 - val_loss: 1.1806 - val_accuracy: 0.9300\n",
      "Epoch 3/3\n",
      "219/219 [==============================] - 343s 2s/step - loss: 0.0243 - accuracy: 0.9917 - val_loss: 1.3189 - val_accuracy: 0.9378\n"
     ]
    }
   ],
   "source": [
    "history2=model.fit(X_train, y_train,validation_data=(X_test, y_test),verbose = 1,epochs = epoch2,callbacks=callbacks2)"
   ]
  },
  {
   "cell_type": "code",
   "execution_count": 25,
   "id": "357be0cb",
   "metadata": {
    "execution": {
     "iopub.execute_input": "2022-05-24T15:48:41.216339Z",
     "iopub.status.busy": "2022-05-24T15:48:41.216048Z",
     "iopub.status.idle": "2022-05-24T15:49:23.696359Z",
     "shell.execute_reply": "2022-05-24T15:49:23.695428Z"
    },
    "papermill": {
     "duration": 44.205494,
     "end_time": "2022-05-24T15:49:24.567161",
     "exception": false,
     "start_time": "2022-05-24T15:48:40.361667",
     "status": "completed"
    },
    "tags": []
   },
   "outputs": [
    {
     "data": {
      "image/png": "[encoded data removed]",
      "text/plain": [
       "<Figure size 576x576 with 2 Axes>"
      ]
     },
     "metadata": {
      "needs_background": "light"
     },
     "output_type": "display_data"
    }
   ],
   "source": [
    "Y_pred = model.predict(X_val)\n",
    "Y_pred_classes = np.argmax(Y_pred,axis = 1) \n",
    "Y_true = np.argmax(y_val,axis = 1) \n",
    "\n",
    "confusion_mtx = confusion_matrix(Y_true, Y_pred_classes) \n",
    "\n",
    "f,ax = plt.subplots(figsize=(8, 8))\n",
    "sns.heatmap(confusion_mtx, annot=True, linewidths=0.01,cmap=\"OrRd\",linecolor=\"black\", fmt= '.1f',ax=ax)\n",
    "plt.xlabel(\"Predicted Label\")\n",
    "plt.ylabel(\"True Label\")\n",
    "plt.title(\"Confusion Matrix\")\n",
    "plt.show()"
   ]
  },
  {
   "cell_type": "code",
   "execution_count": 26,
   "id": "0dfbade5",
   "metadata": {
    "execution": {
     "iopub.execute_input": "2022-05-24T15:49:26.293992Z",
     "iopub.status.busy": "2022-05-24T15:49:26.293367Z",
     "iopub.status.idle": "2022-05-24T15:49:26.305268Z",
     "shell.execute_reply": "2022-05-24T15:49:26.304341Z"
    },
    "papermill": {
     "duration": 0.872853,
     "end_time": "2022-05-24T15:49:26.307789",
     "exception": false,
     "start_time": "2022-05-24T15:49:25.434936",
     "status": "completed"
    },
    "tags": []
   },
   "outputs": [
    {
     "name": "stdout",
     "output_type": "stream",
     "text": [
      "              precision    recall  f1-score   support\n",
      "\n",
      "           0       0.95      0.97      0.96      1806\n",
      "           1       0.78      0.70      0.74       294\n",
      "\n",
      "    accuracy                           0.93      2100\n",
      "   macro avg       0.86      0.83      0.85      2100\n",
      "weighted avg       0.93      0.93      0.93      2100\n",
      "\n"
     ]
    }
   ],
   "source": [
    "print(classification_report(Y_true, Y_pred_classes))"
   ]
  },
  {
   "cell_type": "code",
   "execution_count": 27,
   "id": "95ce022d",
   "metadata": {
    "execution": {
     "iopub.execute_input": "2022-05-24T15:49:28.033766Z",
     "iopub.status.busy": "2022-05-24T15:49:28.033516Z",
     "iopub.status.idle": "2022-05-24T15:52:47.932626Z",
     "shell.execute_reply": "2022-05-24T15:52:47.931785Z"
    },
    "papermill": {
     "duration": 201.34886,
     "end_time": "2022-05-24T15:52:48.517616",
     "exception": false,
     "start_time": "2022-05-24T15:49:27.168756",
     "status": "completed"
    },
    "tags": []
   },
   "outputs": [
    {
     "name": "stdout",
     "output_type": "stream",
     "text": [
      "Train accuracy Score------------>\n",
      "99.443 %\n",
      "Val accuracy Score--------->\n",
      "93.000 %\n",
      "Test accuracy Score--------->\n",
      "93.778 %\n",
      "F1 Score--------------->\n",
      "93.584 %\n",
      "Cohen Kappa Score------------->\n",
      "76.747 %\n",
      "Recall-------------->\n",
      "93.778 %\n",
      "Precision-------------->\n",
      "93.587 %\n"
     ]
    },
    {
     "data": {
      "image/png": "[encoded data removed]",
      "text/plain": [
       "<Figure size 864x432 with 4 Axes>"
      ]
     },
     "metadata": {
      "needs_background": "light"
     },
     "output_type": "display_data"
    }
   ],
   "source": [
    "get_accuracy_metrics(model,  X_train, y_train, X_val, y_val, X_test, y_test)"
   ]
  },
  {
   "cell_type": "code",
   "execution_count": 28,
   "id": "54394e9f",
   "metadata": {
    "execution": {
     "iopub.execute_input": "2022-05-24T15:52:50.249798Z",
     "iopub.status.busy": "2022-05-24T15:52:50.249516Z",
     "iopub.status.idle": "2022-05-24T15:52:50.616855Z",
     "shell.execute_reply": "2022-05-24T15:52:50.615953Z"
    },
    "papermill": {
     "duration": 1.238081,
     "end_time": "2022-05-24T15:52:50.619286",
     "exception": false,
     "start_time": "2022-05-24T15:52:49.381205",
     "status": "completed"
    },
    "tags": []
   },
   "outputs": [
    {
     "data": {
      "image/png": "[encoded data removed]",
      "text/plain": [
       "<Figure size 864x432 with 2 Axes>"
      ]
     },
     "metadata": {
      "needs_background": "light"
     },
     "output_type": "display_data"
    }
   ],
   "source": [
    "plt.figure(figsize = (12, 6))\n",
    "plt.subplot(121)\n",
    "#plotting the Accuracy of test and training sets\n",
    "plt.plot(history2.history['accuracy'])\n",
    "plt.plot(history2.history['val_accuracy'])\n",
    "plt.title('1st training Model Accuracy')\n",
    "plt.ylabel('accuracy')\n",
    "plt.xlabel('epoch')\n",
    "plt.legend(['train', 'test'], loc='upper left')\n",
    "\n",
    "plt.subplot(122)\n",
    "#plotting the loss of test and training sets\n",
    "plt.plot(history2.history['loss'])\n",
    "plt.plot(history2.history['val_loss'])\n",
    "plt.title('1st training Model Loss')\n",
    "plt.ylabel('loss')\n",
    "plt.xlabel('epoch')\n",
    "plt.legend(['train', 'test'], loc='upper left')\n",
    "plt.show()"
   ]
  }
 ],
 "metadata": {
  "kernelspec": {
   "display_name": "Python 3",
   "language": "python",
   "name": "python3"
  },
  "language_info": {
   "codemirror_mode": {
    "name": "ipython",
    "version": 3
   },
   "file_extension": ".py",
   "mimetype": "text/x-python",
   "name": "python",
   "nbconvert_exporter": "python",
   "pygments_lexer": "ipython3",
   "version": "3.7.12"
  },
  "papermill": {
   "default_parameters": {},
   "duration": 4307.887142,
   "end_time": "2022-05-24T15:52:55.106675",
   "environment_variables": {},
   "exception": null,
   "input_path": "__notebook__.ipynb",
   "output_path": "__notebook__.ipynb",
   "parameters": {},
   "start_time": "2022-05-24T14:41:07.219533",
   "version": "2.3.4"
  }
 },
 "nbformat": 4,
 "nbformat_minor": 5
}
