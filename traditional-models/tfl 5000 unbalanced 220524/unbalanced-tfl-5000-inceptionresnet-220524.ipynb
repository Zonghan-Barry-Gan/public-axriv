{
 "cells": [
  {
   "cell_type": "code",
   "execution_count": 1,
   "id": "97eaf591",
   "metadata": {
    "_cell_guid": "b1076dfc-b9ad-4769-8c92-a6c4dae69d19",
    "_uuid": "8f2839f25d086af736a60e9eeb907d3b93b6e0e5",
    "execution": {
     "iopub.execute_input": "2022-05-24T14:36:01.079340Z",
     "iopub.status.busy": "2022-05-24T14:36:01.078929Z",
     "iopub.status.idle": "2022-05-24T14:36:15.710808Z",
     "shell.execute_reply": "2022-05-24T14:36:15.709626Z"
    },
    "papermill": {
     "duration": 14.676401,
     "end_time": "2022-05-24T14:36:15.713655",
     "exception": false,
     "start_time": "2022-05-24T14:36:01.037254",
     "status": "completed"
    },
    "tags": []
   },
   "outputs": [
    {
     "name": "stdout",
     "output_type": "stream",
     "text": [
      "Collecting Livelossplot\r\n",
      "  Downloading livelossplot-0.5.5-py3-none-any.whl (22 kB)\r\n",
      "Requirement already satisfied: numpy<1.22 in /opt/conda/lib/python3.7/site-packages (from Livelossplot) (1.21.6)\r\n",
      "Requirement already satisfied: matplotlib in /opt/conda/lib/python3.7/site-packages (from Livelossplot) (3.5.2)\r\n",
      "Requirement already satisfied: ipython==7.* in /opt/conda/lib/python3.7/site-packages (from Livelossplot) (7.32.0)\r\n",
      "Requirement already satisfied: bokeh in /opt/conda/lib/python3.7/site-packages (from Livelossplot) (2.4.2)\r\n",
      "Requirement already satisfied: setuptools>=18.5 in /opt/conda/lib/python3.7/site-packages (from ipython==7.*->Livelossplot) (59.8.0)\r\n",
      "Requirement already satisfied: prompt-toolkit!=3.0.0,!=3.0.1,<3.1.0,>=2.0.0 in /opt/conda/lib/python3.7/site-packages (from ipython==7.*->Livelossplot) (3.0.27)\r\n",
      "Requirement already satisfied: traitlets>=4.2 in /opt/conda/lib/python3.7/site-packages (from ipython==7.*->Livelossplot) (5.1.1)\r\n",
      "Requirement already satisfied: pickleshare in /opt/conda/lib/python3.7/site-packages (from ipython==7.*->Livelossplot) (0.7.5)\r\n",
      "Requirement already satisfied: pexpect>4.3 in /opt/conda/lib/python3.7/site-packages (from ipython==7.*->Livelossplot) (4.8.0)\r\n",
      "Requirement already satisfied: matplotlib-inline in /opt/conda/lib/python3.7/site-packages (from ipython==7.*->Livelossplot) (0.1.3)\r\n",
      "Requirement already satisfied: jedi>=0.16 in /opt/conda/lib/python3.7/site-packages (from ipython==7.*->Livelossplot) (0.18.1)\r\n",
      "Requirement already satisfied: pygments in /opt/conda/lib/python3.7/site-packages (from ipython==7.*->Livelossplot) (2.11.2)\r\n",
      "Requirement already satisfied: decorator in /opt/conda/lib/python3.7/site-packages (from ipython==7.*->Livelossplot) (5.1.1)\r\n",
      "Requirement already satisfied: backcall in /opt/conda/lib/python3.7/site-packages (from ipython==7.*->Livelossplot) (0.2.0)\r\n",
      "Requirement already satisfied: pillow>=7.1.0 in /opt/conda/lib/python3.7/site-packages (from bokeh->Livelossplot) (9.0.1)\r\n",
      "Requirement already satisfied: Jinja2>=2.9 in /opt/conda/lib/python3.7/site-packages (from bokeh->Livelossplot) (3.1.2)\r\n",
      "Requirement already satisfied: typing-extensions>=3.10.0 in /opt/conda/lib/python3.7/site-packages (from bokeh->Livelossplot) (4.2.0)\r\n",
      "Requirement already satisfied: tornado>=5.1 in /opt/conda/lib/python3.7/site-packages (from bokeh->Livelossplot) (6.1)\r\n",
      "Requirement already satisfied: packaging>=16.8 in /opt/conda/lib/python3.7/site-packages (from bokeh->Livelossplot) (21.3)\r\n",
      "Requirement already satisfied: PyYAML>=3.10 in /opt/conda/lib/python3.7/site-packages (from bokeh->Livelossplot) (6.0)\r\n",
      "Requirement already satisfied: fonttools>=4.22.0 in /opt/conda/lib/python3.7/site-packages (from matplotlib->Livelossplot) (4.30.0)\r\n",
      "Requirement already satisfied: kiwisolver>=1.0.1 in /opt/conda/lib/python3.7/site-packages (from matplotlib->Livelossplot) (1.4.0)\r\n",
      "Requirement already satisfied: cycler>=0.10 in /opt/conda/lib/python3.7/site-packages (from matplotlib->Livelossplot) (0.11.0)\r\n",
      "Requirement already satisfied: python-dateutil>=2.7 in /opt/conda/lib/python3.7/site-packages (from matplotlib->Livelossplot) (2.8.2)\r\n",
      "Requirement already satisfied: pyparsing>=2.2.1 in /opt/conda/lib/python3.7/site-packages (from matplotlib->Livelossplot) (3.0.7)\r\n",
      "Requirement already satisfied: parso<0.9.0,>=0.8.0 in /opt/conda/lib/python3.7/site-packages (from jedi>=0.16->ipython==7.*->Livelossplot) (0.8.3)\r\n",
      "Requirement already satisfied: MarkupSafe>=2.0 in /opt/conda/lib/python3.7/site-packages (from Jinja2>=2.9->bokeh->Livelossplot) (2.0.1)\r\n",
      "Requirement already satisfied: ptyprocess>=0.5 in /opt/conda/lib/python3.7/site-packages (from pexpect>4.3->ipython==7.*->Livelossplot) (0.7.0)\r\n",
      "Requirement already satisfied: wcwidth in /opt/conda/lib/python3.7/site-packages (from prompt-toolkit!=3.0.0,!=3.0.1,<3.1.0,>=2.0.0->ipython==7.*->Livelossplot) (0.2.5)\r\n",
      "Requirement already satisfied: six>=1.5 in /opt/conda/lib/python3.7/site-packages (from python-dateutil>=2.7->matplotlib->Livelossplot) (1.16.0)\r\n",
      "Installing collected packages: Livelossplot\r\n",
      "Successfully installed Livelossplot-0.5.5\r\n",
      "\u001b[33mWARNING: Running pip as the 'root' user can result in broken permissions and conflicting behaviour with the system package manager. It is recommended to use a virtual environment instead: https://pip.pypa.io/warnings/venv\u001b[0m\u001b[33m\r\n",
      "\u001b[0m"
     ]
    }
   ],
   "source": [
    "# This Python 3 environment comes with many helpful analytics libraries installed\n",
    "# It is defined by the kaggle/python Docker image: https://github.com/kaggle/docker-python\n",
    "# For example, here's several helpful packages to load\n",
    "\n",
    "import numpy as np # linear algebra\n",
    "import pandas as pd # data processing, CSV file I/O (e.g. pd.read_csv)\n",
    "\n",
    "# Input data files are available in the read-only \"../input/\" directory\n",
    "# For example, running this (by clicking run or pressing Shift+Enter) will list all files under the input directory\n",
    "\n",
    "import os\n",
    "\n",
    "import warnings\n",
    "warnings.filterwarnings('ignore')\n",
    "%matplotlib inline\n",
    "!pip install Livelossplot\n",
    "from livelossplot import PlotLossesKeras\n",
    "\n",
    "from glob import glob\n",
    "import os\n",
    "import shutil\n",
    "\n",
    "import numpy as np\n",
    "import pandas as pd\n",
    "# You can write up to 20GB to the current directory (/kaggle/working/) that gets preserved as output when you create a version using \"Save & Run All\" \n",
    "# You can also write temporary files to /kaggle/temp/, but they won't be saved outside of the current session"
   ]
  },
  {
   "cell_type": "markdown",
   "id": "4bf89647",
   "metadata": {
    "papermill": {
     "duration": 0.048173,
     "end_time": "2022-05-24T14:36:15.810334",
     "exception": false,
     "start_time": "2022-05-24T14:36:15.762161",
     "status": "completed"
    },
    "tags": []
   },
   "source": [
    "# AIM\n",
    "## To classify the images into \n",
    "### IDC+\n",
    "### IDC-\n",
    "\n",
    "# Validation Strategy:\n",
    "\n",
    "## Train Data Size= 0.7*Total_Data\n",
    "## Validation Data Size= 0.21* Total_Data\n",
    "## Test Data Size= 0.09 * Total_Data\n",
    "\n",
    "# Augmentaions Used:\n",
    "## Each Image is rotated through 45 angles\n"
   ]
  },
  {
   "cell_type": "code",
   "execution_count": 2,
   "id": "e9dec583",
   "metadata": {
    "execution": {
     "iopub.execute_input": "2022-05-24T14:36:15.905976Z",
     "iopub.status.busy": "2022-05-24T14:36:15.905649Z",
     "iopub.status.idle": "2022-05-24T14:36:27.621437Z",
     "shell.execute_reply": "2022-05-24T14:36:27.620338Z"
    },
    "papermill": {
     "duration": 11.765553,
     "end_time": "2022-05-24T14:36:27.624041",
     "exception": false,
     "start_time": "2022-05-24T14:36:15.858488",
     "status": "completed"
    },
    "tags": []
   },
   "outputs": [
    {
     "data": {
      "text/html": [
       "<style type='text/css'>\n",
       ".datatable table.frame { margin-bottom: 0; }\n",
       ".datatable table.frame thead { border-bottom: none; }\n",
       ".datatable table.frame tr.coltypes td {  color: #FFFFFF;  line-height: 6px;  padding: 0 0.5em;}\n",
       ".datatable .bool    { background: #DDDD99; }\n",
       ".datatable .object  { background: #565656; }\n",
       ".datatable .int     { background: #5D9E5D; }\n",
       ".datatable .float   { background: #4040CC; }\n",
       ".datatable .str     { background: #CC4040; }\n",
       ".datatable .time    { background: #40CC40; }\n",
       ".datatable .row_index {  background: var(--jp-border-color3);  border-right: 1px solid var(--jp-border-color0);  color: var(--jp-ui-font-color3);  font-size: 9px;}\n",
       ".datatable .frame tbody td { text-align: left; }\n",
       ".datatable .frame tr.coltypes .row_index {  background: var(--jp-border-color0);}\n",
       ".datatable th:nth-child(2) { padding-left: 12px; }\n",
       ".datatable .hellipsis {  color: var(--jp-cell-editor-border-color);}\n",
       ".datatable .vellipsis {  background: var(--jp-layout-color0);  color: var(--jp-cell-editor-border-color);}\n",
       ".datatable .na {  color: var(--jp-cell-editor-border-color);  font-size: 80%;}\n",
       ".datatable .sp {  opacity: 0.25;}\n",
       ".datatable .footer { font-size: 9px; }\n",
       ".datatable .frame_dimensions {  background: var(--jp-border-color3);  border-top: 1px solid var(--jp-border-color0);  color: var(--jp-ui-font-color3);  display: inline-block;  opacity: 0.6;  padding: 1px 10px 1px 5px;}\n",
       "</style>\n"
      ],
      "text/plain": [
       "<IPython.core.display.HTML object>"
      ]
     },
     "metadata": {},
     "output_type": "display_data"
    },
    {
     "name": "stdout",
     "output_type": "stream",
     "text": [
      "All modules have been imported\n"
     ]
    }
   ],
   "source": [
    "\n",
    "import numpy as np\n",
    "import pandas as pd\n",
    "import cv2\n",
    "from PIL import Image\n",
    "import scipy\n",
    "\n",
    "import tensorflow as tf\n",
    "from tensorflow.keras.applications import *\n",
    "from tensorflow.keras.optimizers import *\n",
    "from tensorflow.keras.losses import *\n",
    "from tensorflow.keras.layers import *\n",
    "from tensorflow.keras.models import *\n",
    "from tensorflow.keras.callbacks import *\n",
    "from tensorflow.keras.preprocessing.image import *\n",
    "from tensorflow.keras.utils import *\n",
    "# import pydot\n",
    "\n",
    "from sklearn.metrics import *\n",
    "from sklearn.model_selection import *\n",
    "import tensorflow.keras.backend as K\n",
    "\n",
    "from tqdm import tqdm, tqdm_notebook\n",
    "from colorama import Fore\n",
    "import json\n",
    "import matplotlib.pyplot as plt\n",
    "import seaborn as sns\n",
    "from glob import glob\n",
    "from skimage.io import *\n",
    "%config Completer.use_jedi = False\n",
    "import time\n",
    "from sklearn.decomposition import PCA\n",
    "from sklearn.svm import LinearSVC\n",
    "from sklearn.linear_model import LogisticRegression\n",
    "from sklearn.metrics import accuracy_score\n",
    "import lightgbm as lgb\n",
    "import xgboost as xgb\n",
    "\n",
    "print(\"All modules have been imported\")"
   ]
  },
  {
   "cell_type": "code",
   "execution_count": 3,
   "id": "3fc179f1",
   "metadata": {
    "execution": {
     "iopub.execute_input": "2022-05-24T14:36:27.714089Z",
     "iopub.status.busy": "2022-05-24T14:36:27.713602Z",
     "iopub.status.idle": "2022-05-24T14:36:27.718248Z",
     "shell.execute_reply": "2022-05-24T14:36:27.717498Z"
    },
    "papermill": {
     "duration": 0.051388,
     "end_time": "2022-05-24T14:36:27.720462",
     "exception": false,
     "start_time": "2022-05-24T14:36:27.669074",
     "status": "completed"
    },
    "tags": []
   },
   "outputs": [],
   "source": [
    "sampling_seed=0\n",
    "size_4_training=5000\n",
    "img_size=299\n",
    "training_reshape=(-1, img_size, img_size, 3)\n",
    "epoch_4_test=10\n",
    "epoch1=10\n",
    "epoch2=3"
   ]
  },
  {
   "cell_type": "markdown",
   "id": "f3a15f7e",
   "metadata": {
    "papermill": {
     "duration": 0.041897,
     "end_time": "2022-05-24T14:36:27.804801",
     "exception": false,
     "start_time": "2022-05-24T14:36:27.762904",
     "status": "completed"
    },
    "tags": []
   },
   "source": [
    "Image labelling"
   ]
  },
  {
   "cell_type": "code",
   "execution_count": 4,
   "id": "668c7aed",
   "metadata": {
    "execution": {
     "iopub.execute_input": "2022-05-24T14:36:27.891694Z",
     "iopub.status.busy": "2022-05-24T14:36:27.890978Z",
     "iopub.status.idle": "2022-05-24T14:41:18.067934Z",
     "shell.execute_reply": "2022-05-24T14:41:18.066941Z"
    },
    "papermill": {
     "duration": 290.22372,
     "end_time": "2022-05-24T14:41:18.071183",
     "exception": false,
     "start_time": "2022-05-24T14:36:27.847463",
     "status": "completed"
    },
    "tags": []
   },
   "outputs": [
    {
     "name": "stdout",
     "output_type": "stream",
     "text": [
      "['../input/breast-histopathology-images/IDC_regular_ps50_idx5/10295/0/10295_idx5_x1351_y1101_class0.png', '../input/breast-histopathology-images/IDC_regular_ps50_idx5/10295/0/10295_idx5_x1501_y501_class0.png', '../input/breast-histopathology-images/IDC_regular_ps50_idx5/10295/0/10295_idx5_x1501_y1101_class0.png', '../input/breast-histopathology-images/IDC_regular_ps50_idx5/10295/0/10295_idx5_x451_y901_class0.png', '../input/breast-histopathology-images/IDC_regular_ps50_idx5/10295/0/10295_idx5_x801_y451_class0.png', '../input/breast-histopathology-images/IDC_regular_ps50_idx5/10295/0/10295_idx5_x151_y1051_class0.png', '../input/breast-histopathology-images/IDC_regular_ps50_idx5/10295/0/10295_idx5_x1351_y901_class0.png', '../input/breast-histopathology-images/IDC_regular_ps50_idx5/10295/0/10295_idx5_x701_y651_class0.png', '../input/breast-histopathology-images/IDC_regular_ps50_idx5/10295/0/10295_idx5_x951_y1401_class0.png', '../input/breast-histopathology-images/IDC_regular_ps50_idx5/10295/0/10295_idx5_x601_y501_class0.png']\n"
     ]
    }
   ],
   "source": [
    "import random\n",
    "#make directory for labelling\n",
    "os.makedirs('../working/idc2/idc-minus/')     \n",
    "os.makedirs('../working/idc2/idc-plus/')  \n",
    "\n",
    "\n",
    "class0 = [] # 0 = idc+\n",
    "class1 = [] # 1 = idc-\n",
    "imagePatches = glob('../input/breast-histopathology-images/IDC_regular_ps50_idx5/**/*.png', recursive=True)\n",
    "for filename in imagePatches:\n",
    "    if filename.endswith(\"class0.png\"):\n",
    "         class0.append(filename)\n",
    "    else:\n",
    "        class1.append(filename)\n",
    "\n",
    "print(class0[0:10])\n",
    "\n",
    "#sampling 10000 images from class 0 and class 1 to train the model\n",
    "\n",
    "random.seed(sampling_seed)\n",
    "class0sample=random.sample(class0,size_4_training)\n",
    "class1sample=random.sample(class1,size_4_training)\n",
    "\n",
    "\n",
    "def read_and_save_data(path, file_name_array):\n",
    "    j=0\n",
    "    for i in file_name_array:\n",
    "        if i.endswith('.png'):\n",
    "          \n",
    "            \n",
    "            #second copy method\n",
    "            head, tail = os.path.split(i)\n",
    "            outputname=str(path+tail)\n",
    "            #outputname=str(path+str(j)+'.png')\n",
    "            #print(outputname)\n",
    "            shutil.copy(i, outputname)\n",
    "   \n",
    "            #print(status2)\n",
    "            \n",
    "            j=j+1\n",
    "            if j==120000:\n",
    "                break\n",
    "            \n",
    "   \n",
    "class0path='../working/idc2/idc-minus/'\n",
    "class1path='../working/idc2/idc-plus/'\n",
    "\n",
    "\n",
    "\n",
    "\n",
    "read_and_save_data(class0path,class0sample)\n",
    "read_and_save_data(class1path,class1sample)"
   ]
  },
  {
   "cell_type": "markdown",
   "id": "7a7e921a",
   "metadata": {
    "papermill": {
     "duration": 0.04534,
     "end_time": "2022-05-24T14:41:18.161297",
     "exception": false,
     "start_time": "2022-05-24T14:41:18.115957",
     "status": "completed"
    },
    "tags": []
   },
   "source": []
  },
  {
   "cell_type": "code",
   "execution_count": null,
   "id": "eacf97e8",
   "metadata": {
    "papermill": {
     "duration": 0.042922,
     "end_time": "2022-05-24T14:41:18.247513",
     "exception": false,
     "start_time": "2022-05-24T14:41:18.204591",
     "status": "completed"
    },
    "tags": []
   },
   "outputs": [],
   "source": [
    "\n"
   ]
  },
  {
   "cell_type": "code",
   "execution_count": 5,
   "id": "4ec8f471",
   "metadata": {
    "execution": {
     "iopub.execute_input": "2022-05-24T14:41:18.338081Z",
     "iopub.status.busy": "2022-05-24T14:41:18.337000Z",
     "iopub.status.idle": "2022-05-24T14:41:18.341180Z",
     "shell.execute_reply": "2022-05-24T14:41:18.340540Z"
    },
    "papermill": {
     "duration": 0.051375,
     "end_time": "2022-05-24T14:41:18.343136",
     "exception": false,
     "start_time": "2022-05-24T14:41:18.291761",
     "status": "completed"
    },
    "tags": []
   },
   "outputs": [],
   "source": [
    "\n",
    "from PIL import Image\n",
    "import glob\n"
   ]
  },
  {
   "cell_type": "code",
   "execution_count": null,
   "id": "d0cfb7f1",
   "metadata": {
    "papermill": {
     "duration": 0.044402,
     "end_time": "2022-05-24T14:41:18.432064",
     "exception": false,
     "start_time": "2022-05-24T14:41:18.387662",
     "status": "completed"
    },
    "tags": []
   },
   "outputs": [],
   "source": []
  },
  {
   "cell_type": "code",
   "execution_count": null,
   "id": "3da9c6c7",
   "metadata": {
    "papermill": {
     "duration": 0.04383,
     "end_time": "2022-05-24T14:41:18.519752",
     "exception": false,
     "start_time": "2022-05-24T14:41:18.475922",
     "status": "completed"
    },
    "tags": []
   },
   "outputs": [],
   "source": []
  },
  {
   "cell_type": "code",
   "execution_count": 6,
   "id": "e0ea31ee",
   "metadata": {
    "execution": {
     "iopub.execute_input": "2022-05-24T14:41:18.612061Z",
     "iopub.status.busy": "2022-05-24T14:41:18.611197Z",
     "iopub.status.idle": "2022-05-24T14:41:18.615615Z",
     "shell.execute_reply": "2022-05-24T14:41:18.614732Z"
    },
    "papermill": {
     "duration": 0.052126,
     "end_time": "2022-05-24T14:41:18.617632",
     "exception": false,
     "start_time": "2022-05-24T14:41:18.565506",
     "status": "completed"
    },
    "tags": []
   },
   "outputs": [],
   "source": [
    "import os #Operating System\n",
    "import sys #System\n",
    "# train_generator = train_datagen.flow(x_train, y_train, batch_size =)\n",
    "# val_generator = val_datagen.flow(x_val, y_val, batch_size = 64)\n",
    "# test_generator=test_datagen.flow(x_test,y_test,batch_size = 64)\n"
   ]
  },
  {
   "cell_type": "markdown",
   "id": "59e3a871",
   "metadata": {
    "papermill": {
     "duration": 0.042646,
     "end_time": "2022-05-24T14:41:18.703324",
     "exception": false,
     "start_time": "2022-05-24T14:41:18.660678",
     "status": "completed"
    },
    "tags": []
   },
   "source": [
    "#import image"
   ]
  },
  {
   "cell_type": "code",
   "execution_count": 7,
   "id": "957c36ed",
   "metadata": {
    "execution": {
     "iopub.execute_input": "2022-05-24T14:41:18.791022Z",
     "iopub.status.busy": "2022-05-24T14:41:18.790607Z",
     "iopub.status.idle": "2022-05-24T14:41:18.797885Z",
     "shell.execute_reply": "2022-05-24T14:41:18.797130Z"
    },
    "papermill": {
     "duration": 0.053959,
     "end_time": "2022-05-24T14:41:18.800039",
     "exception": false,
     "start_time": "2022-05-24T14:41:18.746080",
     "status": "completed"
    },
    "tags": []
   },
   "outputs": [],
   "source": [
    "import cv2\n",
    "'''\n",
    "def readImage(path, X, Y, label):\n",
    "    j=0\n",
    " \n",
    "    for i in os.listdir(path):\n",
    "        imgname=path+i\n",
    "        #print(imgname)\n",
    "        img = cv2.imread(imgname, cv2.IMREAD_COLOR)\n",
    "        img =cv2.resize(img,(50, 50))\n",
    "        X.append(img)\n",
    "        Y.append(label)\n",
    "        j=j+1\n",
    "        #if j==10:\n",
    "        #    break\n",
    "        \n",
    "    return X, Y\n",
    "    '''\n",
    "def readImage(path, tag):\n",
    "    j=0\n",
    "    image_array = []\n",
    "    for i in os.listdir(path):\n",
    "        imgname=path+i\n",
    "        #print(imgname)\n",
    "        img = cv2.imread(imgname, cv2.IMREAD_COLOR)\n",
    "        img_resized = cv2.resize(img, (img_size,img_size), interpolation=cv2.INTER_LINEAR)\n",
    "        image_array.append([img_resized, tag])\n",
    "        #print(img[1])\n",
    "        j=j+1\n",
    "        #if j==10:\n",
    "        #    break\n",
    "        \n",
    "    return image_array"
   ]
  },
  {
   "cell_type": "code",
   "execution_count": 8,
   "id": "994fe861",
   "metadata": {
    "execution": {
     "iopub.execute_input": "2022-05-24T14:41:18.890650Z",
     "iopub.status.busy": "2022-05-24T14:41:18.890319Z",
     "iopub.status.idle": "2022-05-24T14:41:25.073763Z",
     "shell.execute_reply": "2022-05-24T14:41:25.072606Z"
    },
    "papermill": {
     "duration": 6.231252,
     "end_time": "2022-05-24T14:41:25.076119",
     "exception": false,
     "start_time": "2022-05-24T14:41:18.844867",
     "status": "completed"
    },
    "tags": []
   },
   "outputs": [
    {
     "name": "stdout",
     "output_type": "stream",
     "text": [
      "(5000, 2)\n",
      "(10000, 2)\n",
      "(10000, 299, 299, 3)\n"
     ]
    }
   ],
   "source": [
    "import numpy as np\n",
    "\n",
    "\n",
    "class0_array = readImage(class0path, 0)\n",
    "class1_array = readImage(class1path, 1)\n",
    "class0_array=np.array(class0_array)\n",
    "class1_array=np.array(class1_array)\n",
    "combined_data = np.concatenate((class0_array, class1_array))\n",
    "random.seed(41)\n",
    "random.shuffle(combined_data)\n",
    "print(class0_array.shape)\n",
    "print(combined_data.shape)\n",
    "\n",
    "X = []\n",
    "y = []\n",
    "\n",
    "for features,label in combined_data:\n",
    "    X.append(features)\n",
    "    y.append(label)\n",
    "#print(X.shape)\n",
    "#pring(y.shape)\n",
    "\n",
    "# reshape X data\n",
    "X = np.array(X).reshape(training_reshape)\n",
    "print(X.shape)"
   ]
  },
  {
   "cell_type": "code",
   "execution_count": 9,
   "id": "15ad9afa",
   "metadata": {
    "execution": {
     "iopub.execute_input": "2022-05-24T14:41:25.169517Z",
     "iopub.status.busy": "2022-05-24T14:41:25.169217Z",
     "iopub.status.idle": "2022-05-24T14:41:27.469824Z",
     "shell.execute_reply": "2022-05-24T14:41:27.468800Z"
    },
    "papermill": {
     "duration": 2.351926,
     "end_time": "2022-05-24T14:41:27.472207",
     "exception": false,
     "start_time": "2022-05-24T14:41:25.120281",
     "status": "completed"
    },
    "tags": []
   },
   "outputs": [
    {
     "name": "stdout",
     "output_type": "stream",
     "text": [
      "(7000, 299, 299, 3) (900, 299, 299, 3) (2100, 299, 299, 3) (7000, 2) (900, 2) (2100, 2)\n"
     ]
    }
   ],
   "source": [
    "X_train, X_test1, y_train, y_test1 = train_test_split(X, y, test_size=0.3, random_state=42)\n",
    "X_val, X_test, y_val, y_test = train_test_split(X_test1, y_test1, test_size=0.3, random_state=42)\n",
    "y_train = to_categorical(y_train)\n",
    "y_test = to_categorical(y_test)\n",
    "y_val = to_categorical(y_val)\n",
    "print(X_train.shape, X_test.shape, X_val.shape, y_train.shape, y_test.shape, y_val.shape)"
   ]
  },
  {
   "cell_type": "code",
   "execution_count": 10,
   "id": "1bbf4166",
   "metadata": {
    "execution": {
     "iopub.execute_input": "2022-05-24T14:41:27.563737Z",
     "iopub.status.busy": "2022-05-24T14:41:27.563194Z",
     "iopub.status.idle": "2022-05-24T14:41:27.569805Z",
     "shell.execute_reply": "2022-05-24T14:41:27.569104Z"
    },
    "papermill": {
     "duration": 0.054781,
     "end_time": "2022-05-24T14:41:27.571915",
     "exception": false,
     "start_time": "2022-05-24T14:41:27.517134",
     "status": "completed"
    },
    "tags": []
   },
   "outputs": [],
   "source": [
    "#Callbacks\n",
    "c2=tf.keras.callbacks.EarlyStopping(\n",
    "    monitor=\"val_loss\",\n",
    "    min_delta=0,\n",
    "    patience=6,\n",
    "    mode=\"auto\",\n",
    "    baseline=None,\n",
    "    restore_best_weights=True,\n",
    ")\n",
    "\n",
    "c3=tf.keras.callbacks.ReduceLROnPlateau(\n",
    "    monitor=\"val_loss\",\n",
    "    factor=0.1,\n",
    "    patience=6,\n",
    "    mode=\"auto\",\n",
    "    min_delta=0.0001,\n",
    "    cooldown=0,\n",
    "    min_lr=0.001\n",
    ")\n",
    "nClasses=2"
   ]
  },
  {
   "cell_type": "markdown",
   "id": "bb10cd78",
   "metadata": {
    "papermill": {
     "duration": 0.04371,
     "end_time": "2022-05-24T14:41:27.659509",
     "exception": false,
     "start_time": "2022-05-24T14:41:27.615799",
     "status": "completed"
    },
    "tags": []
   },
   "source": [
    "# Model configure"
   ]
  },
  {
   "cell_type": "code",
   "execution_count": 11,
   "id": "bd1ae76b",
   "metadata": {
    "execution": {
     "iopub.execute_input": "2022-05-24T14:41:27.750210Z",
     "iopub.status.busy": "2022-05-24T14:41:27.749621Z",
     "iopub.status.idle": "2022-05-24T14:41:40.578072Z",
     "shell.execute_reply": "2022-05-24T14:41:40.576976Z"
    },
    "papermill": {
     "duration": 12.877377,
     "end_time": "2022-05-24T14:41:40.581085",
     "exception": false,
     "start_time": "2022-05-24T14:41:27.703708",
     "status": "completed"
    },
    "tags": []
   },
   "outputs": [
    {
     "name": "stderr",
     "output_type": "stream",
     "text": [
      "2022-05-24 14:41:27.831014: I tensorflow/core/common_runtime/process_util.cc:146] Creating new thread pool with default inter op setting: 2. Tune using inter_op_parallelism_threads for best performance.\n"
     ]
    },
    {
     "name": "stdout",
     "output_type": "stream",
     "text": [
      "Downloading data from https://storage.googleapis.com/tensorflow/keras-applications/inception_resnet_v2/inception_resnet_v2_weights_tf_dim_ordering_tf_kernels_notop.h5\n",
      "219062272/219055592 [==============================] - 2s 0us/step\n",
      "219070464/219055592 [==============================] - 2s 0us/step\n",
      "Model: \"sequential\"\n",
      "_________________________________________________________________\n",
      "Layer (type)                 Output Shape              Param #   \n",
      "=================================================================\n",
      "inception_resnet_v2 (Functio (None, 1536)              54336736  \n",
      "_________________________________________________________________\n",
      "flatten (Flatten)            (None, 1536)              0         \n",
      "_________________________________________________________________\n",
      "batch_normalization_203 (Bat (None, 1536)              6144      \n",
      "_________________________________________________________________\n",
      "dense (Dense)                (None, 4096)              6295552   \n",
      "_________________________________________________________________\n",
      "batch_normalization_204 (Bat (None, 4096)              16384     \n",
      "_________________________________________________________________\n",
      "dense_1 (Dense)              (None, 4096)              16781312  \n",
      "_________________________________________________________________\n",
      "dropout (Dropout)            (None, 4096)              0         \n",
      "_________________________________________________________________\n",
      "dense_2 (Dense)              (None, 2096)              8587312   \n",
      "_________________________________________________________________\n",
      "dense_3 (Dense)              (None, 2)                 4194      \n",
      "=================================================================\n",
      "Total params: 86,027,634\n",
      "Trainable params: 31,679,634\n",
      "Non-trainable params: 54,348,000\n",
      "_________________________________________________________________\n"
     ]
    }
   ],
   "source": [
    "IMAGE_RESIZE = 299\n",
    "InceptionResNetV2_POOLING_AVERAGE = 'avg'\n",
    "DENSE_LAYER_ACTIVATION = 'sigmoid'\n",
    "OBJECTIVE_FUNCTION = 'categorical_crossentropy'\n",
    "\n",
    "# Common accuracy metric for all outputs, but can use different metrics for different output\n",
    "LOSS_METRICS = ['accuracy']\n",
    "\n",
    "# EARLY_STOP_PATIENCE must be < NUM_EPOCHS\n",
    "NUM_EPOCHS = 10\n",
    "EARLY_STOP_PATIENCE = 3\n",
    "#resnet_weights_path = '../input/resnet50/resnet50_weights_tf_dim_ordering_tf_kernels_notop.h5'\n",
    "\n",
    "from tensorflow.keras.applications import inception_resnet_v2\n",
    "base_model=inception_resnet_v2.InceptionResNetV2(include_top = False, input_shape=(img_size, img_size,3), pooling = InceptionResNetV2_POOLING_AVERAGE, weights = 'imagenet')\n",
    "\n",
    "base_model.trainable = False\n",
    "model=Sequential()\n",
    "model.add(base_model)\n",
    "model.add(Flatten())\n",
    "model.add(BatchNormalization())\n",
    "model.add(Dense(4096,kernel_initializer='he_uniform'))\n",
    "model.add(BatchNormalization())\n",
    "model.add(Dense(4096,activation=\"relu\"))\n",
    "#model.add(BatchNormalization())\n",
    "#model.add(Activation('relu'))\n",
    "model.add(Dropout(0.2))\n",
    "model.add(Dense(2096,activation=\"relu\"))\n",
    "model.add(Dense(2, activation='sigmoid'))\n",
    "#model = Model(inputs=resnet50_base_model.input, outputs=predictions)\n",
    "model.summary()\n"
   ]
  },
  {
   "cell_type": "code",
   "execution_count": 12,
   "id": "cb002fe6",
   "metadata": {
    "execution": {
     "iopub.execute_input": "2022-05-24T14:41:40.705951Z",
     "iopub.status.busy": "2022-05-24T14:41:40.705643Z",
     "iopub.status.idle": "2022-05-24T14:41:42.346513Z",
     "shell.execute_reply": "2022-05-24T14:41:42.345435Z"
    },
    "papermill": {
     "duration": 1.705913,
     "end_time": "2022-05-24T14:41:42.349980",
     "exception": false,
     "start_time": "2022-05-24T14:41:40.644067",
     "status": "completed"
    },
    "tags": []
   },
   "outputs": [
    {
     "data": {
      "image/png": "[encoded data removed]",
      "text/plain": [
       "<IPython.core.display.Image object>"
      ]
     },
     "execution_count": 12,
     "metadata": {},
     "output_type": "execute_result"
    }
   ],
   "source": [
    "from tensorflow.keras.utils import plot_model\n",
    "from IPython.display import Image\n",
    "plot_model(model, to_file='convnet.png', show_shapes=True,show_layer_names=True)\n",
    "Image(filename='convnet.png') "
   ]
  },
  {
   "cell_type": "code",
   "execution_count": 13,
   "id": "0a6dc86b",
   "metadata": {
    "execution": {
     "iopub.execute_input": "2022-05-24T14:41:42.482197Z",
     "iopub.status.busy": "2022-05-24T14:41:42.481899Z",
     "iopub.status.idle": "2022-05-24T14:41:42.519610Z",
     "shell.execute_reply": "2022-05-24T14:41:42.518660Z"
    },
    "papermill": {
     "duration": 0.107185,
     "end_time": "2022-05-24T14:41:42.522069",
     "exception": false,
     "start_time": "2022-05-24T14:41:42.414884",
     "status": "completed"
    },
    "tags": []
   },
   "outputs": [],
   "source": [
    "callbacks1 = [EarlyStopping(monitor='val_loss', patience=5, verbose=1), ModelCheckpoint('model.hdf5', save_best_only=True)]\n",
    "opt = Adam(learning_rate=0.001)\n",
    "model.compile(loss='categorical_crossentropy', optimizer=opt, metrics=['accuracy'])"
   ]
  },
  {
   "cell_type": "code",
   "execution_count": 14,
   "id": "b667349f",
   "metadata": {
    "execution": {
     "iopub.execute_input": "2022-05-24T14:41:42.651181Z",
     "iopub.status.busy": "2022-05-24T14:41:42.650876Z",
     "iopub.status.idle": "2022-05-24T19:43:22.546377Z",
     "shell.execute_reply": "2022-05-24T19:43:22.543453Z"
    },
    "papermill": {
     "duration": 18099.963551,
     "end_time": "2022-05-24T19:43:22.550308",
     "exception": false,
     "start_time": "2022-05-24T14:41:42.586757",
     "status": "completed"
    },
    "tags": []
   },
   "outputs": [
    {
     "name": "stdout",
     "output_type": "stream",
     "text": [
      "CPU times: user 3 µs, sys: 1 µs, total: 4 µs\n",
      "Wall time: 8.11 µs\n"
     ]
    },
    {
     "name": "stderr",
     "output_type": "stream",
     "text": [
      "2022-05-24 14:41:46.057316: I tensorflow/compiler/mlir/mlir_graph_optimization_pass.cc:185] None of the MLIR Optimization Passes are enabled (registered 2)\n"
     ]
    },
    {
     "name": "stdout",
     "output_type": "stream",
     "text": [
      "Epoch 1/10\n",
      "219/219 [==============================] - 1825s 8s/step - loss: 1.0016 - accuracy: 0.8089 - val_loss: 0.3743 - val_accuracy: 0.8244\n",
      "Epoch 2/10\n",
      "219/219 [==============================] - 1815s 8s/step - loss: 0.3816 - accuracy: 0.8421 - val_loss: 0.3764 - val_accuracy: 0.8256\n",
      "Epoch 3/10\n",
      "219/219 [==============================] - 1805s 8s/step - loss: 0.3676 - accuracy: 0.8470 - val_loss: 0.3567 - val_accuracy: 0.8467\n",
      "Epoch 4/10\n",
      "219/219 [==============================] - 1796s 8s/step - loss: 0.3687 - accuracy: 0.8527 - val_loss: 0.3543 - val_accuracy: 0.8478\n",
      "Epoch 5/10\n",
      "219/219 [==============================] - 1803s 8s/step - loss: 0.3675 - accuracy: 0.8523 - val_loss: 0.3626 - val_accuracy: 0.8400\n",
      "Epoch 6/10\n",
      "219/219 [==============================] - 1804s 8s/step - loss: 0.3550 - accuracy: 0.8574 - val_loss: 0.3626 - val_accuracy: 0.8289\n",
      "Epoch 7/10\n",
      "219/219 [==============================] - 1800s 8s/step - loss: 0.3509 - accuracy: 0.8513 - val_loss: 0.3524 - val_accuracy: 0.8478\n",
      "Epoch 8/10\n",
      "219/219 [==============================] - 1797s 8s/step - loss: 0.3536 - accuracy: 0.8537 - val_loss: 0.3644 - val_accuracy: 0.8289\n",
      "Epoch 9/10\n",
      "219/219 [==============================] - 1798s 8s/step - loss: 0.3597 - accuracy: 0.8480 - val_loss: 0.3868 - val_accuracy: 0.8267\n",
      "Epoch 10/10\n",
      "219/219 [==============================] - 1809s 8s/step - loss: 0.3587 - accuracy: 0.8501 - val_loss: 0.3683 - val_accuracy: 0.8289\n"
     ]
    }
   ],
   "source": [
    "%time\n",
    "history1=model.fit(X_train, y_train,validation_data=(X_test, y_test),verbose = 1,epochs = epoch1,callbacks=callbacks1)"
   ]
  },
  {
   "cell_type": "code",
   "execution_count": 15,
   "id": "17ef9882",
   "metadata": {
    "execution": {
     "iopub.execute_input": "2022-05-24T19:43:24.335214Z",
     "iopub.status.busy": "2022-05-24T19:43:24.333889Z",
     "iopub.status.idle": "2022-05-24T19:43:24.348798Z",
     "shell.execute_reply": "2022-05-24T19:43:24.347988Z"
    },
    "papermill": {
     "duration": 0.89793,
     "end_time": "2022-05-24T19:43:24.351068",
     "exception": false,
     "start_time": "2022-05-24T19:43:23.453138",
     "status": "completed"
    },
    "tags": []
   },
   "outputs": [],
   "source": [
    "def f1_score(y_true, y_pred): #taken from old keras source code\n",
    "    true_positives = K.sum(K.round(K.clip(y_true * y_pred, 0, 1)))\n",
    "    possible_positives = K.sum(K.round(K.clip(y_true, 0, 1)))\n",
    "    predicted_positives = K.sum(K.round(K.clip(y_pred, 0, 1)))\n",
    "    precision = true_positives / (predicted_positives + K.epsilon())\n",
    "    recall = true_positives / (possible_positives + K.epsilon())\n",
    "    f1_val = 2*(precision*recall)/(precision+recall+K.epsilon())\n",
    "    return f1_val"
   ]
  },
  {
   "cell_type": "code",
   "execution_count": 16,
   "id": "9ae3e2fc",
   "metadata": {
    "execution": {
     "iopub.execute_input": "2022-05-24T19:43:26.111294Z",
     "iopub.status.busy": "2022-05-24T19:43:26.111020Z",
     "iopub.status.idle": "2022-05-24T19:43:26.168994Z",
     "shell.execute_reply": "2022-05-24T19:43:26.168022Z"
    },
    "papermill": {
     "duration": 0.946683,
     "end_time": "2022-05-24T19:43:26.171471",
     "exception": false,
     "start_time": "2022-05-24T19:43:25.224788",
     "status": "completed"
    },
    "tags": []
   },
   "outputs": [],
   "source": [
    "METRICS = [\n",
    "      tf.keras.metrics.BinaryAccuracy(name='accuracy'),\n",
    "      tf.keras.metrics.Precision(name='precision'),\n",
    "      tf.keras.metrics.Recall(name='recall'),  \n",
    "      tf.keras.metrics.AUC(name='auc'),\n",
    "        f1_score,\n",
    "]"
   ]
  },
  {
   "cell_type": "code",
   "execution_count": null,
   "id": "3c632643",
   "metadata": {
    "execution": {
     "iopub.execute_input": "2022-05-06T15:08:04.489795Z",
     "iopub.status.busy": "2022-05-06T15:08:04.488846Z",
     "iopub.status.idle": "2022-05-06T15:08:04.918152Z",
     "shell.execute_reply": "2022-05-06T15:08:04.917046Z",
     "shell.execute_reply.started": "2022-05-06T15:08:04.489742Z"
    },
    "papermill": {
     "duration": 0.888432,
     "end_time": "2022-05-24T19:43:27.945412",
     "exception": false,
     "start_time": "2022-05-24T19:43:27.056980",
     "status": "completed"
    },
    "tags": []
   },
   "outputs": [],
   "source": []
  },
  {
   "cell_type": "code",
   "execution_count": 17,
   "id": "424aa7da",
   "metadata": {
    "execution": {
     "iopub.execute_input": "2022-05-24T19:43:29.795868Z",
     "iopub.status.busy": "2022-05-24T19:43:29.795340Z",
     "iopub.status.idle": "2022-05-24T19:51:29.059302Z",
     "shell.execute_reply": "2022-05-24T19:51:29.058401Z"
    },
    "papermill": {
     "duration": 481.07792,
     "end_time": "2022-05-24T19:51:29.946439",
     "exception": false,
     "start_time": "2022-05-24T19:43:28.868519",
     "status": "completed"
    },
    "tags": []
   },
   "outputs": [
    {
     "data": {
      "image/png": "[encoded data removed]",
      "text/plain": [
       "<Figure size 576x576 with 2 Axes>"
      ]
     },
     "metadata": {
      "needs_background": "light"
     },
     "output_type": "display_data"
    }
   ],
   "source": [
    "from sklearn.metrics import confusion_matrix\n",
    "import seaborn as sns\n",
    "\n",
    "Y_pred = model.predict(X_val)\n",
    "Y_pred_classes = np.argmax(Y_pred,axis = 1) \n",
    "Y_true = np.argmax(y_val,axis = 1) \n",
    "\n",
    "confusion_mtx = confusion_matrix(Y_true, Y_pred_classes) \n",
    "\n",
    "f,ax = plt.subplots(figsize=(8, 8))\n",
    "sns.heatmap(confusion_mtx, annot=True, linewidths=0.01,cmap=\"OrRd\",linecolor=\"black\", fmt= '.1f',ax=ax)\n",
    "plt.xlabel(\"Predicted Label\")\n",
    "plt.ylabel(\"True Label\")\n",
    "plt.title(\"Confusion Matrix\")\n",
    "plt.show()"
   ]
  },
  {
   "cell_type": "code",
   "execution_count": 18,
   "id": "21016b7a",
   "metadata": {
    "execution": {
     "iopub.execute_input": "2022-05-24T19:51:31.828175Z",
     "iopub.status.busy": "2022-05-24T19:51:31.827309Z",
     "iopub.status.idle": "2022-05-24T19:51:31.840806Z",
     "shell.execute_reply": "2022-05-24T19:51:31.839707Z"
    },
    "papermill": {
     "duration": 0.920265,
     "end_time": "2022-05-24T19:51:31.843174",
     "exception": false,
     "start_time": "2022-05-24T19:51:30.922909",
     "status": "completed"
    },
    "tags": []
   },
   "outputs": [
    {
     "name": "stdout",
     "output_type": "stream",
     "text": [
      "              precision    recall  f1-score   support\n",
      "\n",
      "           0       0.86      1.00      0.92      1806\n",
      "           1       0.00      0.00      0.00       294\n",
      "\n",
      "    accuracy                           0.86      2100\n",
      "   macro avg       0.43      0.50      0.46      2100\n",
      "weighted avg       0.74      0.86      0.80      2100\n",
      "\n"
     ]
    }
   ],
   "source": [
    "from sklearn.metrics import classification_report\n",
    "\n",
    "print(classification_report(Y_true, Y_pred_classes))"
   ]
  },
  {
   "cell_type": "markdown",
   "id": "a9ccc0ce",
   "metadata": {
    "papermill": {
     "duration": 0.895872,
     "end_time": "2022-05-24T19:51:33.659288",
     "exception": false,
     "start_time": "2022-05-24T19:51:32.763416",
     "status": "completed"
    },
    "tags": []
   },
   "source": []
  },
  {
   "cell_type": "code",
   "execution_count": null,
   "id": "f8190761",
   "metadata": {
    "execution": {
     "iopub.execute_input": "2022-05-06T15:08:41.911737Z",
     "iopub.status.busy": "2022-05-06T15:08:41.911171Z",
     "iopub.status.idle": "2022-05-06T15:08:41.922881Z",
     "shell.execute_reply": "2022-05-06T15:08:41.922041Z",
     "shell.execute_reply.started": "2022-05-06T15:08:41.911677Z"
    },
    "papermill": {
     "duration": 0.898994,
     "end_time": "2022-05-24T19:51:35.442655",
     "exception": false,
     "start_time": "2022-05-24T19:51:34.543661",
     "status": "completed"
    },
    "tags": []
   },
   "outputs": [],
   "source": []
  },
  {
   "cell_type": "code",
   "execution_count": 19,
   "id": "dbdf315e",
   "metadata": {
    "execution": {
     "iopub.execute_input": "2022-05-24T19:51:37.241199Z",
     "iopub.status.busy": "2022-05-24T19:51:37.240723Z",
     "iopub.status.idle": "2022-05-24T19:51:37.255423Z",
     "shell.execute_reply": "2022-05-24T19:51:37.254614Z"
    },
    "papermill": {
     "duration": 0.91366,
     "end_time": "2022-05-24T19:51:37.257916",
     "exception": false,
     "start_time": "2022-05-24T19:51:36.344256",
     "status": "completed"
    },
    "tags": []
   },
   "outputs": [],
   "source": [
    "from sklearn.metrics import f1_score, roc_auc_score, cohen_kappa_score, precision_score, recall_score, accuracy_score, confusion_matrix\n",
    "def get_accuracy_metrics(model, X_train, y_train, X_val, y_val, X_test, y_test):\n",
    "    y_train=np.argmax(y_train, axis=1)\n",
    "    y_test=np.argmax(y_test, axis=1)\n",
    "    y_val=np.argmax(y_val, axis=1)\n",
    "    y_train_pred=np.argmax(model.predict(X_train),axis=1)\n",
    "    y_test_pred=np.argmax(model.predict(X_test),axis=1)\n",
    "    y_val_pred=np.argmax(model.predict(X_val),axis=1)\n",
    "    #ps:all the Y value must turn back to 1 dimension array. otherwise, the scoring functions in sklearn cannot compare, and will give an error\n",
    "    #classification metrics can't handle a mix of continuous-multioutput and multi-label-indicator targets\n",
    "    \n",
    "    print(\"Train accuracy Score------------>\")\n",
    "    print (\"{0:.3f}\".format(accuracy_score(y_train, y_train_pred)*100), \"%\")\n",
    "    \n",
    "    print(\"Val accuracy Score--------->\")\n",
    "    \n",
    "    print(\"{0:.3f}\".format(accuracy_score(y_val, y_val_pred)*100), \"%\")\n",
    "    \n",
    "  \n",
    "    print(\"Test accuracy Score--------->\")\n",
    "    print(\"{0:.3f}\".format(accuracy_score(y_test, y_test_pred)*100), \"%\")\n",
    "    \n",
    "    print(\"F1 Score--------------->\")\n",
    "    print(\"{0:.3f}\".format(f1_score(y_test, y_test_pred, average = 'weighted')*100), \"%\")\n",
    "    \n",
    "    print(\"Cohen Kappa Score------------->\")\n",
    "    print(\"{0:.3f}\".format(cohen_kappa_score(y_test, y_test_pred)*100), \"%\")\n",
    "    \n",
    "    print(\"Recall-------------->\")\n",
    "    print(\"{0:.3f}\".format(recall_score(y_test, y_test_pred, average = 'weighted')*100), \"%\")\n",
    "    \n",
    "    print(\"Precision-------------->\")\n",
    "    print(\"{0:.3f}\".format(precision_score(y_test, y_test_pred, average = 'weighted')*100), \"%\")\n",
    "    \n",
    "    cf_matrix_test = confusion_matrix(y_test, y_test_pred)\n",
    "    cf_matrix_val = confusion_matrix(y_val, y_val_pred)\n",
    "    \n",
    "    plt.figure(figsize = (12, 6))\n",
    "    plt.subplot(121)\n",
    "    sns.heatmap(cf_matrix_val, annot=True, cmap='Blues')\n",
    "    plt.title(\"Val Confusion matrix\")\n",
    "    \n",
    "    plt.subplot(122)\n",
    "    sns.heatmap(cf_matrix_test, annot=True, cmap='Blues')\n",
    "    plt.title(\"Test Confusion matrix\")\n",
    "    \n",
    "    plt.show()"
   ]
  },
  {
   "cell_type": "code",
   "execution_count": null,
   "id": "6d38ba79",
   "metadata": {
    "papermill": {
     "duration": 0.886803,
     "end_time": "2022-05-24T19:51:39.026032",
     "exception": false,
     "start_time": "2022-05-24T19:51:38.139229",
     "status": "completed"
    },
    "tags": []
   },
   "outputs": [],
   "source": []
  },
  {
   "cell_type": "code",
   "execution_count": 20,
   "id": "016890b7",
   "metadata": {
    "execution": {
     "iopub.execute_input": "2022-05-24T19:51:40.825364Z",
     "iopub.status.busy": "2022-05-24T19:51:40.825043Z",
     "iopub.status.idle": "2022-05-24T20:29:18.502186Z",
     "shell.execute_reply": "2022-05-24T20:29:18.500728Z"
    },
    "papermill": {
     "duration": 2259.198806,
     "end_time": "2022-05-24T20:29:19.121173",
     "exception": false,
     "start_time": "2022-05-24T19:51:39.922367",
     "status": "completed"
    },
    "tags": []
   },
   "outputs": [
    {
     "name": "stdout",
     "output_type": "stream",
     "text": [
      "Train accuracy Score------------>\n",
      "84.929 %\n",
      "Val accuracy Score--------->\n",
      "86.000 %\n",
      "Test accuracy Score--------->\n",
      "82.889 %\n",
      "F1 Score--------------->\n",
      "75.134 %\n",
      "Cohen Kappa Score------------->\n",
      "0.000 %\n",
      "Recall-------------->\n",
      "82.889 %\n",
      "Precision-------------->\n",
      "68.706 %\n"
     ]
    },
    {
     "data": {
      "image/png": "[encoded data removed]",
      "text/plain": [
       "<Figure size 864x432 with 4 Axes>"
      ]
     },
     "metadata": {
      "needs_background": "light"
     },
     "output_type": "display_data"
    }
   ],
   "source": [
    "get_accuracy_metrics(model,  X_train, y_train, X_val, y_val, X_test, y_test)"
   ]
  },
  {
   "cell_type": "code",
   "execution_count": 21,
   "id": "f60efe93",
   "metadata": {
    "execution": {
     "iopub.execute_input": "2022-05-24T20:29:20.916016Z",
     "iopub.status.busy": "2022-05-24T20:29:20.914931Z",
     "iopub.status.idle": "2022-05-24T20:29:21.276957Z",
     "shell.execute_reply": "2022-05-24T20:29:21.276120Z"
    },
    "papermill": {
     "duration": 1.264504,
     "end_time": "2022-05-24T20:29:21.279454",
     "exception": false,
     "start_time": "2022-05-24T20:29:20.014950",
     "status": "completed"
    },
    "tags": []
   },
   "outputs": [
    {
     "data": {
      "image/png": "[encoded data removed]",
      "text/plain": [
       "<Figure size 864x432 with 2 Axes>"
      ]
     },
     "metadata": {
      "needs_background": "light"
     },
     "output_type": "display_data"
    }
   ],
   "source": [
    "import matplotlib.pyplot as plt\n",
    "import seaborn as sns\n",
    "plt.figure(figsize = (12, 6))\n",
    "plt.subplot(121)\n",
    "#plotting the Accuracy of test and training sets\n",
    "plt.plot(history1.history['accuracy'])\n",
    "plt.plot(history1.history['val_accuracy'])\n",
    "plt.title('1st training Model Accuracy')\n",
    "plt.ylabel('accuracy')\n",
    "plt.xlabel('epoch')\n",
    "plt.legend(['train', 'test'], loc='upper left')\n",
    "\n",
    "plt.subplot(122)\n",
    "#plotting the loss of test and training sets\n",
    "plt.plot(history1.history['loss'])\n",
    "plt.plot(history1.history['val_loss'])\n",
    "plt.title('1st training Model Loss')\n",
    "plt.ylabel('loss')\n",
    "plt.xlabel('epoch')\n",
    "plt.legend(['train', 'test'], loc='upper left')\n",
    "plt.show()"
   ]
  },
  {
   "cell_type": "markdown",
   "id": "21b2510f",
   "metadata": {
    "papermill": {
     "duration": 0.895743,
     "end_time": "2022-05-24T20:29:23.073395",
     "exception": false,
     "start_time": "2022-05-24T20:29:22.177652",
     "status": "completed"
    },
    "tags": []
   },
   "source": [
    "# Second Training Fine Tune"
   ]
  },
  {
   "cell_type": "code",
   "execution_count": 22,
   "id": "c2f5dc9b",
   "metadata": {
    "execution": {
     "iopub.execute_input": "2022-05-24T20:29:24.852404Z",
     "iopub.status.busy": "2022-05-24T20:29:24.852083Z",
     "iopub.status.idle": "2022-05-24T20:29:24.897991Z",
     "shell.execute_reply": "2022-05-24T20:29:24.896905Z"
    },
    "papermill": {
     "duration": 0.93476,
     "end_time": "2022-05-24T20:29:24.900809",
     "exception": false,
     "start_time": "2022-05-24T20:29:23.966049",
     "status": "completed"
    },
    "tags": []
   },
   "outputs": [],
   "source": [
    "for model1 in model.layers:\n",
    "    model1.trainable = True"
   ]
  },
  {
   "cell_type": "code",
   "execution_count": 23,
   "id": "b55f09e3",
   "metadata": {
    "execution": {
     "iopub.execute_input": "2022-05-24T20:29:26.668475Z",
     "iopub.status.busy": "2022-05-24T20:29:26.668140Z",
     "iopub.status.idle": "2022-05-24T20:29:26.675793Z",
     "shell.execute_reply": "2022-05-24T20:29:26.674912Z"
    },
    "papermill": {
     "duration": 0.892749,
     "end_time": "2022-05-24T20:29:26.677832",
     "exception": false,
     "start_time": "2022-05-24T20:29:25.785083",
     "status": "completed"
    },
    "tags": []
   },
   "outputs": [],
   "source": [
    "callbacks2 = [EarlyStopping(monitor='val_loss', patience=5, verbose=1), ModelCheckpoint('test_model.hdf5', save_best_only=True)]\n",
    "opt = Adam(learning_rate=0.001)\n",
    "#model.compile(loss='categorical_crossentropy', optimizer=opt, metrics=['accuracy'])"
   ]
  },
  {
   "cell_type": "code",
   "execution_count": 24,
   "id": "e7beeb6e",
   "metadata": {
    "execution": {
     "iopub.execute_input": "2022-05-24T20:29:28.452834Z",
     "iopub.status.busy": "2022-05-24T20:29:28.451918Z",
     "iopub.status.idle": "2022-05-24T22:00:04.628603Z",
     "shell.execute_reply": "2022-05-24T22:00:04.625496Z"
    },
    "papermill": {
     "duration": 5437.071254,
     "end_time": "2022-05-24T22:00:04.633960",
     "exception": false,
     "start_time": "2022-05-24T20:29:27.562706",
     "status": "completed"
    },
    "tags": []
   },
   "outputs": [
    {
     "name": "stdout",
     "output_type": "stream",
     "text": [
      "Epoch 1/3\n",
      "219/219 [==============================] - 1809s 8s/step - loss: 0.3567 - accuracy: 0.8491 - val_loss: 0.4094 - val_accuracy: 0.8289\n",
      "Epoch 2/3\n",
      "219/219 [==============================] - 1801s 8s/step - loss: 0.3539 - accuracy: 0.8487 - val_loss: 0.3837 - val_accuracy: 0.8289\n",
      "Epoch 3/3\n",
      "219/219 [==============================] - 1816s 8s/step - loss: 0.3532 - accuracy: 0.8491 - val_loss: 0.3741 - val_accuracy: 0.8289\n"
     ]
    }
   ],
   "source": [
    "history2=model.fit(X_train, y_train,validation_data=(X_test, y_test),verbose = 1,epochs = epoch2,callbacks=callbacks2)"
   ]
  },
  {
   "cell_type": "code",
   "execution_count": 25,
   "id": "f97569ce",
   "metadata": {
    "execution": {
     "iopub.execute_input": "2022-05-24T22:00:07.564811Z",
     "iopub.status.busy": "2022-05-24T22:00:07.564076Z",
     "iopub.status.idle": "2022-05-24T22:08:02.846463Z",
     "shell.execute_reply": "2022-05-24T22:08:02.845464Z"
    },
    "papermill": {
     "duration": 477.78455,
     "end_time": "2022-05-24T22:08:04.014164",
     "exception": false,
     "start_time": "2022-05-24T22:00:06.229614",
     "status": "completed"
    },
    "tags": []
   },
   "outputs": [
    {
     "data": {
      "image/png": "[encoded data removed]",
      "text/plain": [
       "<Figure size 576x576 with 2 Axes>"
      ]
     },
     "metadata": {
      "needs_background": "light"
     },
     "output_type": "display_data"
    }
   ],
   "source": [
    "Y_pred = model.predict(X_val)\n",
    "Y_pred_classes = np.argmax(Y_pred,axis = 1) \n",
    "Y_true = np.argmax(y_val,axis = 1) \n",
    "\n",
    "confusion_mtx = confusion_matrix(Y_true, Y_pred_classes) \n",
    "\n",
    "f,ax = plt.subplots(figsize=(8, 8))\n",
    "sns.heatmap(confusion_mtx, annot=True, linewidths=0.01,cmap=\"OrRd\",linecolor=\"black\", fmt= '.1f',ax=ax)\n",
    "plt.xlabel(\"Predicted Label\")\n",
    "plt.ylabel(\"True Label\")\n",
    "plt.title(\"Confusion Matrix\")\n",
    "plt.show()"
   ]
  },
  {
   "cell_type": "code",
   "execution_count": 26,
   "id": "b889d241",
   "metadata": {
    "execution": {
     "iopub.execute_input": "2022-05-24T22:08:06.303220Z",
     "iopub.status.busy": "2022-05-24T22:08:06.302663Z",
     "iopub.status.idle": "2022-05-24T22:08:06.317073Z",
     "shell.execute_reply": "2022-05-24T22:08:06.316170Z"
    },
    "papermill": {
     "duration": 1.161943,
     "end_time": "2022-05-24T22:08:06.319759",
     "exception": false,
     "start_time": "2022-05-24T22:08:05.157816",
     "status": "completed"
    },
    "tags": []
   },
   "outputs": [
    {
     "name": "stdout",
     "output_type": "stream",
     "text": [
      "              precision    recall  f1-score   support\n",
      "\n",
      "           0       0.86      1.00      0.92      1806\n",
      "           1       0.00      0.00      0.00       294\n",
      "\n",
      "    accuracy                           0.86      2100\n",
      "   macro avg       0.43      0.50      0.46      2100\n",
      "weighted avg       0.74      0.86      0.80      2100\n",
      "\n"
     ]
    }
   ],
   "source": [
    "print(classification_report(Y_true, Y_pred_classes))"
   ]
  },
  {
   "cell_type": "code",
   "execution_count": 27,
   "id": "dbc7b6b7",
   "metadata": {
    "execution": {
     "iopub.execute_input": "2022-05-24T22:08:08.612266Z",
     "iopub.status.busy": "2022-05-24T22:08:08.611696Z",
     "iopub.status.idle": "2022-05-24T22:45:31.391927Z",
     "shell.execute_reply": "2022-05-24T22:45:31.390337Z"
    },
    "papermill": {
     "duration": 2244.802797,
     "end_time": "2022-05-24T22:45:32.268027",
     "exception": false,
     "start_time": "2022-05-24T22:08:07.465230",
     "status": "completed"
    },
    "tags": []
   },
   "outputs": [
    {
     "name": "stdout",
     "output_type": "stream",
     "text": [
      "Train accuracy Score------------>\n",
      "84.929 %\n",
      "Val accuracy Score--------->\n",
      "86.000 %\n",
      "Test accuracy Score--------->\n",
      "82.889 %\n",
      "F1 Score--------------->\n",
      "75.134 %\n",
      "Cohen Kappa Score------------->\n",
      "0.000 %\n",
      "Recall-------------->\n",
      "82.889 %\n",
      "Precision-------------->\n",
      "68.706 %\n"
     ]
    },
    {
     "data": {
      "image/png": "[encoded data removed]",
      "text/plain": [
       "<Figure size 864x432 with 4 Axes>"
      ]
     },
     "metadata": {
      "needs_background": "light"
     },
     "output_type": "display_data"
    }
   ],
   "source": [
    "get_accuracy_metrics(model,  X_train, y_train, X_val, y_val, X_test, y_test)"
   ]
  },
  {
   "cell_type": "code",
   "execution_count": 28,
   "id": "6dfdeb65",
   "metadata": {
    "execution": {
     "iopub.execute_input": "2022-05-24T22:45:34.594377Z",
     "iopub.status.busy": "2022-05-24T22:45:34.594027Z",
     "iopub.status.idle": "2022-05-24T22:45:34.975634Z",
     "shell.execute_reply": "2022-05-24T22:45:34.974788Z"
    },
    "papermill": {
     "duration": 1.562718,
     "end_time": "2022-05-24T22:45:34.977769",
     "exception": false,
     "start_time": "2022-05-24T22:45:33.415051",
     "status": "completed"
    },
    "tags": []
   },
   "outputs": [
    {
     "data": {
      "image/png": "[encoded data removed]",
      "text/plain": [
       "<Figure size 864x432 with 2 Axes>"
      ]
     },
     "metadata": {
      "needs_background": "light"
     },
     "output_type": "display_data"
    }
   ],
   "source": [
    "plt.figure(figsize = (12, 6))\n",
    "plt.subplot(121)\n",
    "#plotting the Accuracy of test and training sets\n",
    "plt.plot(history2.history['accuracy'])\n",
    "plt.plot(history2.history['val_accuracy'])\n",
    "plt.title('2nd training Model Accuracy')\n",
    "plt.ylabel('accuracy')\n",
    "plt.xlabel('epoch')\n",
    "plt.legend(['train', 'test'], loc='upper left')\n",
    "\n",
    "plt.subplot(122)\n",
    "#plotting the loss of test and training sets\n",
    "plt.plot(history2.history['loss'])\n",
    "plt.plot(history2.history['val_loss'])\n",
    "plt.title('2nd training Model Loss')\n",
    "plt.ylabel('loss')\n",
    "plt.xlabel('epoch')\n",
    "plt.legend(['train', 'test'], loc='upper left')\n",
    "plt.show()"
   ]
  }
 ],
 "metadata": {
  "kernelspec": {
   "display_name": "Python 3",
   "language": "python",
   "name": "python3"
  },
  "language_info": {
   "codemirror_mode": {
    "name": "ipython",
    "version": 3
   },
   "file_extension": ".py",
   "mimetype": "text/x-python",
   "name": "python",
   "nbconvert_exporter": "python",
   "pygments_lexer": "ipython3",
   "version": "3.7.12"
  },
  "papermill": {
   "default_parameters": {},
   "duration": 29389.50588,
   "end_time": "2022-05-24T22:45:40.167134",
   "environment_variables": {},
   "exception": null,
   "input_path": "__notebook__.ipynb",
   "output_path": "__notebook__.ipynb",
   "parameters": {},
   "start_time": "2022-05-24T14:35:50.661254",
   "version": "2.3.4"
  }
 },
 "nbformat": 4,
 "nbformat_minor": 5
}
