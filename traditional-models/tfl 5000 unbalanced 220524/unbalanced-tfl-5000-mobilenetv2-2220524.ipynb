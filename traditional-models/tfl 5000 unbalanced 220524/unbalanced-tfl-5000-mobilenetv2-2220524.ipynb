{
 "cells": [
  {
   "cell_type": "code",
   "execution_count": 1,
   "id": "044855ca",
   "metadata": {
    "_cell_guid": "b1076dfc-b9ad-4769-8c92-a6c4dae69d19",
    "_uuid": "8f2839f25d086af736a60e9eeb907d3b93b6e0e5",
    "execution": {
     "iopub.execute_input": "2022-05-24T14:54:22.792486Z",
     "iopub.status.busy": "2022-05-24T14:54:22.791951Z",
     "iopub.status.idle": "2022-05-24T14:54:37.395074Z",
     "shell.execute_reply": "2022-05-24T14:54:37.393913Z"
    },
    "papermill": {
     "duration": 14.649596,
     "end_time": "2022-05-24T14:54:37.397861",
     "exception": false,
     "start_time": "2022-05-24T14:54:22.748265",
     "status": "completed"
    },
    "tags": []
   },
   "outputs": [
    {
     "name": "stdout",
     "output_type": "stream",
     "text": [
      "Collecting Livelossplot\r\n",
      "  Downloading livelossplot-0.5.5-py3-none-any.whl (22 kB)\r\n",
      "Requirement already satisfied: numpy<1.22 in /opt/conda/lib/python3.7/site-packages (from Livelossplot) (1.21.6)\r\n",
      "Requirement already satisfied: matplotlib in /opt/conda/lib/python3.7/site-packages (from Livelossplot) (3.5.2)\r\n",
      "Requirement already satisfied: ipython==7.* in /opt/conda/lib/python3.7/site-packages (from Livelossplot) (7.32.0)\r\n",
      "Requirement already satisfied: bokeh in /opt/conda/lib/python3.7/site-packages (from Livelossplot) (2.4.2)\r\n",
      "Requirement already satisfied: setuptools>=18.5 in /opt/conda/lib/python3.7/site-packages (from ipython==7.*->Livelossplot) (59.8.0)\r\n",
      "Requirement already satisfied: pygments in /opt/conda/lib/python3.7/site-packages (from ipython==7.*->Livelossplot) (2.11.2)\r\n",
      "Requirement already satisfied: pexpect>4.3 in /opt/conda/lib/python3.7/site-packages (from ipython==7.*->Livelossplot) (4.8.0)\r\n",
      "Requirement already satisfied: backcall in /opt/conda/lib/python3.7/site-packages (from ipython==7.*->Livelossplot) (0.2.0)\r\n",
      "Requirement already satisfied: matplotlib-inline in /opt/conda/lib/python3.7/site-packages (from ipython==7.*->Livelossplot) (0.1.3)\r\n",
      "Requirement already satisfied: jedi>=0.16 in /opt/conda/lib/python3.7/site-packages (from ipython==7.*->Livelossplot) (0.18.1)\r\n",
      "Requirement already satisfied: traitlets>=4.2 in /opt/conda/lib/python3.7/site-packages (from ipython==7.*->Livelossplot) (5.1.1)\r\n",
      "Requirement already satisfied: pickleshare in /opt/conda/lib/python3.7/site-packages (from ipython==7.*->Livelossplot) (0.7.5)\r\n",
      "Requirement already satisfied: prompt-toolkit!=3.0.0,!=3.0.1,<3.1.0,>=2.0.0 in /opt/conda/lib/python3.7/site-packages (from ipython==7.*->Livelossplot) (3.0.27)\r\n",
      "Requirement already satisfied: decorator in /opt/conda/lib/python3.7/site-packages (from ipython==7.*->Livelossplot) (5.1.1)\r\n",
      "Requirement already satisfied: tornado>=5.1 in /opt/conda/lib/python3.7/site-packages (from bokeh->Livelossplot) (6.1)\r\n",
      "Requirement already satisfied: packaging>=16.8 in /opt/conda/lib/python3.7/site-packages (from bokeh->Livelossplot) (21.3)\r\n",
      "Requirement already satisfied: Jinja2>=2.9 in /opt/conda/lib/python3.7/site-packages (from bokeh->Livelossplot) (3.1.2)\r\n",
      "Requirement already satisfied: PyYAML>=3.10 in /opt/conda/lib/python3.7/site-packages (from bokeh->Livelossplot) (6.0)\r\n",
      "Requirement already satisfied: pillow>=7.1.0 in /opt/conda/lib/python3.7/site-packages (from bokeh->Livelossplot) (9.0.1)\r\n",
      "Requirement already satisfied: typing-extensions>=3.10.0 in /opt/conda/lib/python3.7/site-packages (from bokeh->Livelossplot) (4.2.0)\r\n",
      "Requirement already satisfied: fonttools>=4.22.0 in /opt/conda/lib/python3.7/site-packages (from matplotlib->Livelossplot) (4.30.0)\r\n",
      "Requirement already satisfied: kiwisolver>=1.0.1 in /opt/conda/lib/python3.7/site-packages (from matplotlib->Livelossplot) (1.4.0)\r\n",
      "Requirement already satisfied: cycler>=0.10 in /opt/conda/lib/python3.7/site-packages (from matplotlib->Livelossplot) (0.11.0)\r\n",
      "Requirement already satisfied: python-dateutil>=2.7 in /opt/conda/lib/python3.7/site-packages (from matplotlib->Livelossplot) (2.8.2)\r\n",
      "Requirement already satisfied: pyparsing>=2.2.1 in /opt/conda/lib/python3.7/site-packages (from matplotlib->Livelossplot) (3.0.7)\r\n",
      "Requirement already satisfied: parso<0.9.0,>=0.8.0 in /opt/conda/lib/python3.7/site-packages (from jedi>=0.16->ipython==7.*->Livelossplot) (0.8.3)\r\n",
      "Requirement already satisfied: MarkupSafe>=2.0 in /opt/conda/lib/python3.7/site-packages (from Jinja2>=2.9->bokeh->Livelossplot) (2.0.1)\r\n",
      "Requirement already satisfied: ptyprocess>=0.5 in /opt/conda/lib/python3.7/site-packages (from pexpect>4.3->ipython==7.*->Livelossplot) (0.7.0)\r\n",
      "Requirement already satisfied: wcwidth in /opt/conda/lib/python3.7/site-packages (from prompt-toolkit!=3.0.0,!=3.0.1,<3.1.0,>=2.0.0->ipython==7.*->Livelossplot) (0.2.5)\r\n",
      "Requirement already satisfied: six>=1.5 in /opt/conda/lib/python3.7/site-packages (from python-dateutil>=2.7->matplotlib->Livelossplot) (1.16.0)\r\n",
      "Installing collected packages: Livelossplot\r\n",
      "Successfully installed Livelossplot-0.5.5\r\n",
      "\u001b[33mWARNING: Running pip as the 'root' user can result in broken permissions and conflicting behaviour with the system package manager. It is recommended to use a virtual environment instead: https://pip.pypa.io/warnings/venv\u001b[0m\u001b[33m\r\n",
      "\u001b[0m"
     ]
    }
   ],
   "source": [
    "# This Python 3 environment comes with many helpful analytics libraries installed\n",
    "# It is defined by the kaggle/python Docker image: https://github.com/kaggle/docker-python\n",
    "# For example, here's several helpful packages to load\n",
    "\n",
    "import numpy as np # linear algebra\n",
    "import pandas as pd # data processing, CSV file I/O (e.g. pd.read_csv)\n",
    "\n",
    "# Input data files are available in the read-only \"../input/\" directory\n",
    "# For example, running this (by clicking run or pressing Shift+Enter) will list all files under the input directory\n",
    "\n",
    "import os\n",
    "\n",
    "import warnings\n",
    "warnings.filterwarnings('ignore')\n",
    "%matplotlib inline\n",
    "!pip install Livelossplot\n",
    "from livelossplot import PlotLossesKeras\n",
    "\n",
    "from glob import glob\n",
    "import os\n",
    "import shutil\n",
    "\n",
    "import numpy as np\n",
    "import pandas as pd\n",
    "# You can write up to 20GB to the current directory (/kaggle/working/) that gets preserved as output when you create a version using \"Save & Run All\" \n",
    "# You can also write temporary files to /kaggle/temp/, but they won't be saved outside of the current session"
   ]
  },
  {
   "cell_type": "markdown",
   "id": "8bbfa6b6",
   "metadata": {
    "papermill": {
     "duration": 0.041197,
     "end_time": "2022-05-24T14:54:37.481502",
     "exception": false,
     "start_time": "2022-05-24T14:54:37.440305",
     "status": "completed"
    },
    "tags": []
   },
   "source": [
    "# AIM\n",
    "## To classify the images into \n",
    "### IDC+\n",
    "### IDC-\n",
    "\n",
    "# Validation Strategy:\n",
    "\n",
    "## Train Data Size= 0.7*Total_Data\n",
    "## Validation Data Size= 0.21* Total_Data\n",
    "## Test Data Size= 0.09 * Total_Data\n",
    "\n",
    "# Augmentaions Used:\n",
    "## Each Image is rotated through 45 angles\n"
   ]
  },
  {
   "cell_type": "code",
   "execution_count": 2,
   "id": "7c686d0d",
   "metadata": {
    "execution": {
     "iopub.execute_input": "2022-05-24T14:54:37.565625Z",
     "iopub.status.busy": "2022-05-24T14:54:37.565233Z",
     "iopub.status.idle": "2022-05-24T14:54:48.428010Z",
     "shell.execute_reply": "2022-05-24T14:54:48.427055Z"
    },
    "papermill": {
     "duration": 10.907583,
     "end_time": "2022-05-24T14:54:48.430185",
     "exception": false,
     "start_time": "2022-05-24T14:54:37.522602",
     "status": "completed"
    },
    "tags": []
   },
   "outputs": [
    {
     "data": {
      "text/html": [
       "<style type='text/css'>\n",
       ".datatable table.frame { margin-bottom: 0; }\n",
       ".datatable table.frame thead { border-bottom: none; }\n",
       ".datatable table.frame tr.coltypes td {  color: #FFFFFF;  line-height: 6px;  padding: 0 0.5em;}\n",
       ".datatable .bool    { background: #DDDD99; }\n",
       ".datatable .object  { background: #565656; }\n",
       ".datatable .int     { background: #5D9E5D; }\n",
       ".datatable .float   { background: #4040CC; }\n",
       ".datatable .str     { background: #CC4040; }\n",
       ".datatable .time    { background: #40CC40; }\n",
       ".datatable .row_index {  background: var(--jp-border-color3);  border-right: 1px solid var(--jp-border-color0);  color: var(--jp-ui-font-color3);  font-size: 9px;}\n",
       ".datatable .frame tbody td { text-align: left; }\n",
       ".datatable .frame tr.coltypes .row_index {  background: var(--jp-border-color0);}\n",
       ".datatable th:nth-child(2) { padding-left: 12px; }\n",
       ".datatable .hellipsis {  color: var(--jp-cell-editor-border-color);}\n",
       ".datatable .vellipsis {  background: var(--jp-layout-color0);  color: var(--jp-cell-editor-border-color);}\n",
       ".datatable .na {  color: var(--jp-cell-editor-border-color);  font-size: 80%;}\n",
       ".datatable .sp {  opacity: 0.25;}\n",
       ".datatable .footer { font-size: 9px; }\n",
       ".datatable .frame_dimensions {  background: var(--jp-border-color3);  border-top: 1px solid var(--jp-border-color0);  color: var(--jp-ui-font-color3);  display: inline-block;  opacity: 0.6;  padding: 1px 10px 1px 5px;}\n",
       "</style>\n"
      ],
      "text/plain": [
       "<IPython.core.display.HTML object>"
      ]
     },
     "metadata": {},
     "output_type": "display_data"
    },
    {
     "name": "stdout",
     "output_type": "stream",
     "text": [
      "All modules have been imported\n"
     ]
    }
   ],
   "source": [
    "\n",
    "import numpy as np\n",
    "import pandas as pd\n",
    "import cv2\n",
    "from PIL import Image\n",
    "import scipy\n",
    "\n",
    "import tensorflow as tf\n",
    "from tensorflow.keras.applications import *\n",
    "from tensorflow.keras.optimizers import *\n",
    "from tensorflow.keras.losses import *\n",
    "from tensorflow.keras.layers import *\n",
    "from tensorflow.keras.models import *\n",
    "from tensorflow.keras.callbacks import *\n",
    "from tensorflow.keras.preprocessing.image import *\n",
    "from tensorflow.keras.utils import *\n",
    "# import pydot\n",
    "\n",
    "from sklearn.metrics import *\n",
    "from sklearn.model_selection import *\n",
    "import tensorflow.keras.backend as K\n",
    "\n",
    "from tqdm import tqdm, tqdm_notebook\n",
    "from colorama import Fore\n",
    "import json\n",
    "import matplotlib.pyplot as plt\n",
    "import seaborn as sns\n",
    "from glob import glob\n",
    "from skimage.io import *\n",
    "%config Completer.use_jedi = False\n",
    "import time\n",
    "from sklearn.decomposition import PCA\n",
    "from sklearn.svm import LinearSVC\n",
    "from sklearn.linear_model import LogisticRegression\n",
    "from sklearn.metrics import accuracy_score\n",
    "import lightgbm as lgb\n",
    "import xgboost as xgb\n",
    "\n",
    "print(\"All modules have been imported\")"
   ]
  },
  {
   "cell_type": "code",
   "execution_count": 3,
   "id": "333cc777",
   "metadata": {
    "execution": {
     "iopub.execute_input": "2022-05-24T14:54:48.519739Z",
     "iopub.status.busy": "2022-05-24T14:54:48.519353Z",
     "iopub.status.idle": "2022-05-24T14:54:48.524983Z",
     "shell.execute_reply": "2022-05-24T14:54:48.524016Z"
    },
    "papermill": {
     "duration": 0.051528,
     "end_time": "2022-05-24T14:54:48.526979",
     "exception": false,
     "start_time": "2022-05-24T14:54:48.475451",
     "status": "completed"
    },
    "tags": []
   },
   "outputs": [],
   "source": [
    "sampling_seed=0\n",
    "size_4_training=5000\n",
    "img_size=224\n",
    "training_reshape=(-1, img_size, img_size, 3)\n",
    "epoch1=10\n",
    "epoch2=3"
   ]
  },
  {
   "cell_type": "markdown",
   "id": "30928133",
   "metadata": {
    "papermill": {
     "duration": 0.041659,
     "end_time": "2022-05-24T14:54:48.611232",
     "exception": false,
     "start_time": "2022-05-24T14:54:48.569573",
     "status": "completed"
    },
    "tags": []
   },
   "source": [
    "Image labelling"
   ]
  },
  {
   "cell_type": "code",
   "execution_count": 4,
   "id": "71b6de24",
   "metadata": {
    "execution": {
     "iopub.execute_input": "2022-05-24T14:54:48.697128Z",
     "iopub.status.busy": "2022-05-24T14:54:48.696559Z",
     "iopub.status.idle": "2022-05-24T14:58:34.550358Z",
     "shell.execute_reply": "2022-05-24T14:58:34.549445Z"
    },
    "papermill": {
     "duration": 225.899841,
     "end_time": "2022-05-24T14:58:34.553153",
     "exception": false,
     "start_time": "2022-05-24T14:54:48.653312",
     "status": "completed"
    },
    "tags": []
   },
   "outputs": [
    {
     "name": "stdout",
     "output_type": "stream",
     "text": [
      "['../input/breast-histopathology-images/IDC_regular_ps50_idx5/10295/0/10295_idx5_x1351_y1101_class0.png', '../input/breast-histopathology-images/IDC_regular_ps50_idx5/10295/0/10295_idx5_x1501_y501_class0.png', '../input/breast-histopathology-images/IDC_regular_ps50_idx5/10295/0/10295_idx5_x1501_y1101_class0.png', '../input/breast-histopathology-images/IDC_regular_ps50_idx5/10295/0/10295_idx5_x451_y901_class0.png', '../input/breast-histopathology-images/IDC_regular_ps50_idx5/10295/0/10295_idx5_x801_y451_class0.png', '../input/breast-histopathology-images/IDC_regular_ps50_idx5/10295/0/10295_idx5_x151_y1051_class0.png', '../input/breast-histopathology-images/IDC_regular_ps50_idx5/10295/0/10295_idx5_x1351_y901_class0.png', '../input/breast-histopathology-images/IDC_regular_ps50_idx5/10295/0/10295_idx5_x701_y651_class0.png', '../input/breast-histopathology-images/IDC_regular_ps50_idx5/10295/0/10295_idx5_x951_y1401_class0.png', '../input/breast-histopathology-images/IDC_regular_ps50_idx5/10295/0/10295_idx5_x601_y501_class0.png']\n"
     ]
    }
   ],
   "source": [
    "import random\n",
    "#make directory for labelling\n",
    "os.makedirs('../working/idc2/idc-minus/')     \n",
    "os.makedirs('../working/idc2/idc-plus/')  \n",
    "\n",
    "\n",
    "class0 = [] # 0 = idc+\n",
    "class1 = [] # 1 = idc-\n",
    "imagePatches = glob('../input/breast-histopathology-images/IDC_regular_ps50_idx5/**/*.png', recursive=True)\n",
    "for filename in imagePatches:\n",
    "    if filename.endswith(\"class0.png\"):\n",
    "         class0.append(filename)\n",
    "    else:\n",
    "        class1.append(filename)\n",
    "\n",
    "print(class0[0:10])\n",
    "\n",
    "#sampling 10000 images from class 0 and class 1 to train the model\n",
    "\n",
    "random.seed(sampling_seed)\n",
    "class0sample=random.sample(class0,size_4_training)\n",
    "class1sample=random.sample(class1,size_4_training)\n",
    "\n",
    "\n",
    "def read_and_save_data(path, file_name_array):\n",
    "    j=0\n",
    "    for i in file_name_array:\n",
    "        if i.endswith('.png'):\n",
    "          \n",
    "            \n",
    "            #second copy method\n",
    "            head, tail = os.path.split(i)\n",
    "            outputname=str(path+tail)\n",
    "            #outputname=str(path+str(j)+'.png')\n",
    "            #print(outputname)\n",
    "            shutil.copy(i, outputname)\n",
    "   \n",
    "            #print(status2)\n",
    "            \n",
    "            j=j+1\n",
    "            if j==120000:\n",
    "                break\n",
    "            \n",
    "   \n",
    "class0path='../working/idc2/idc-minus/'\n",
    "class1path='../working/idc2/idc-plus/'\n",
    "\n",
    "\n",
    "\n",
    "\n",
    "read_and_save_data(class0path,class0sample)\n",
    "read_and_save_data(class1path,class1sample)"
   ]
  },
  {
   "cell_type": "markdown",
   "id": "9deec7a7",
   "metadata": {
    "papermill": {
     "duration": 0.044674,
     "end_time": "2022-05-24T14:58:34.642680",
     "exception": false,
     "start_time": "2022-05-24T14:58:34.598006",
     "status": "completed"
    },
    "tags": []
   },
   "source": []
  },
  {
   "cell_type": "code",
   "execution_count": null,
   "id": "dff9ece3",
   "metadata": {
    "papermill": {
     "duration": 0.0427,
     "end_time": "2022-05-24T14:58:34.728148",
     "exception": false,
     "start_time": "2022-05-24T14:58:34.685448",
     "status": "completed"
    },
    "tags": []
   },
   "outputs": [],
   "source": [
    "\n"
   ]
  },
  {
   "cell_type": "code",
   "execution_count": 5,
   "id": "ac02b54f",
   "metadata": {
    "execution": {
     "iopub.execute_input": "2022-05-24T14:58:34.815834Z",
     "iopub.status.busy": "2022-05-24T14:58:34.814825Z",
     "iopub.status.idle": "2022-05-24T14:58:34.819846Z",
     "shell.execute_reply": "2022-05-24T14:58:34.818962Z"
    },
    "papermill": {
     "duration": 0.051311,
     "end_time": "2022-05-24T14:58:34.822128",
     "exception": false,
     "start_time": "2022-05-24T14:58:34.770817",
     "status": "completed"
    },
    "tags": []
   },
   "outputs": [],
   "source": [
    "\n",
    "from PIL import Image\n",
    "import glob\n"
   ]
  },
  {
   "cell_type": "code",
   "execution_count": null,
   "id": "b2d9aa3d",
   "metadata": {
    "papermill": {
     "duration": 0.043185,
     "end_time": "2022-05-24T14:58:34.909185",
     "exception": false,
     "start_time": "2022-05-24T14:58:34.866000",
     "status": "completed"
    },
    "tags": []
   },
   "outputs": [],
   "source": []
  },
  {
   "cell_type": "code",
   "execution_count": null,
   "id": "14d42571",
   "metadata": {
    "papermill": {
     "duration": 0.043289,
     "end_time": "2022-05-24T14:58:34.996288",
     "exception": false,
     "start_time": "2022-05-24T14:58:34.952999",
     "status": "completed"
    },
    "tags": []
   },
   "outputs": [],
   "source": []
  },
  {
   "cell_type": "code",
   "execution_count": 6,
   "id": "14dde612",
   "metadata": {
    "execution": {
     "iopub.execute_input": "2022-05-24T14:58:35.085726Z",
     "iopub.status.busy": "2022-05-24T14:58:35.085388Z",
     "iopub.status.idle": "2022-05-24T14:58:35.090385Z",
     "shell.execute_reply": "2022-05-24T14:58:35.089384Z"
    },
    "papermill": {
     "duration": 0.052059,
     "end_time": "2022-05-24T14:58:35.092653",
     "exception": false,
     "start_time": "2022-05-24T14:58:35.040594",
     "status": "completed"
    },
    "tags": []
   },
   "outputs": [],
   "source": [
    "import os #Operating System\n",
    "import sys #System\n",
    "# train_generator = train_datagen.flow(x_train, y_train, batch_size =)\n",
    "# val_generator = val_datagen.flow(x_val, y_val, batch_size = 64)\n",
    "# test_generator=test_datagen.flow(x_test,y_test,batch_size = 64)\n"
   ]
  },
  {
   "cell_type": "markdown",
   "id": "e73ce86c",
   "metadata": {
    "papermill": {
     "duration": 0.042684,
     "end_time": "2022-05-24T14:58:35.178746",
     "exception": false,
     "start_time": "2022-05-24T14:58:35.136062",
     "status": "completed"
    },
    "tags": []
   },
   "source": [
    "#import image"
   ]
  },
  {
   "cell_type": "code",
   "execution_count": 7,
   "id": "6259b4e3",
   "metadata": {
    "execution": {
     "iopub.execute_input": "2022-05-24T14:58:35.265868Z",
     "iopub.status.busy": "2022-05-24T14:58:35.265573Z",
     "iopub.status.idle": "2022-05-24T14:58:35.273324Z",
     "shell.execute_reply": "2022-05-24T14:58:35.272293Z"
    },
    "papermill": {
     "duration": 0.054425,
     "end_time": "2022-05-24T14:58:35.275875",
     "exception": false,
     "start_time": "2022-05-24T14:58:35.221450",
     "status": "completed"
    },
    "tags": []
   },
   "outputs": [],
   "source": [
    "import cv2\n",
    "'''\n",
    "def readImage(path, X, Y, label):\n",
    "    j=0\n",
    " \n",
    "    for i in os.listdir(path):\n",
    "        imgname=path+i\n",
    "        #print(imgname)\n",
    "        img = cv2.imread(imgname, cv2.IMREAD_COLOR)\n",
    "        img =cv2.resize(img,(50, 50))\n",
    "        X.append(img)\n",
    "        Y.append(label)\n",
    "        j=j+1\n",
    "        #if j==10:\n",
    "        #    break\n",
    "        \n",
    "    return X, Y\n",
    "    '''\n",
    "def readImage(path, tag):\n",
    "    j=0\n",
    "    image_array = []\n",
    "    for i in os.listdir(path):\n",
    "        imgname=path+i\n",
    "        #print(imgname)\n",
    "        img = cv2.imread(imgname, cv2.IMREAD_COLOR)\n",
    "        img_resized = cv2.resize(img, (img_size,img_size), interpolation=cv2.INTER_LINEAR)\n",
    "        image_array.append([img_resized, tag])\n",
    "        #print(img[1])\n",
    "        j=j+1\n",
    "        #if j==10:\n",
    "        #    break\n",
    "        \n",
    "    return image_array"
   ]
  },
  {
   "cell_type": "code",
   "execution_count": 8,
   "id": "58ebdb0f",
   "metadata": {
    "execution": {
     "iopub.execute_input": "2022-05-24T14:58:35.363710Z",
     "iopub.status.busy": "2022-05-24T14:58:35.362793Z",
     "iopub.status.idle": "2022-05-24T14:58:40.419963Z",
     "shell.execute_reply": "2022-05-24T14:58:40.418645Z"
    },
    "papermill": {
     "duration": 5.104199,
     "end_time": "2022-05-24T14:58:40.422804",
     "exception": false,
     "start_time": "2022-05-24T14:58:35.318605",
     "status": "completed"
    },
    "tags": []
   },
   "outputs": [
    {
     "name": "stdout",
     "output_type": "stream",
     "text": [
      "(5000, 2)\n",
      "(10000, 2)\n",
      "(10000, 224, 224, 3)\n"
     ]
    }
   ],
   "source": [
    "import numpy as np\n",
    "\n",
    "\n",
    "class0_array = readImage(class0path, 0)\n",
    "class1_array = readImage(class1path, 1)\n",
    "class0_array=np.array(class0_array)\n",
    "class1_array=np.array(class1_array)\n",
    "combined_data = np.concatenate((class0_array, class1_array))\n",
    "random.seed(41)\n",
    "random.shuffle(combined_data)\n",
    "print(class0_array.shape)\n",
    "print(combined_data.shape)\n",
    "\n",
    "X = []\n",
    "y = []\n",
    "\n",
    "for features,label in combined_data:\n",
    "    X.append(features)\n",
    "    y.append(label)\n",
    "#print(X.shape)\n",
    "#pring(y.shape)\n",
    "\n",
    "# reshape X data\n",
    "X = np.array(X).reshape(training_reshape)\n",
    "print(X.shape)"
   ]
  },
  {
   "cell_type": "code",
   "execution_count": 9,
   "id": "fae4ea89",
   "metadata": {
    "execution": {
     "iopub.execute_input": "2022-05-24T14:58:40.518595Z",
     "iopub.status.busy": "2022-05-24T14:58:40.517605Z",
     "iopub.status.idle": "2022-05-24T14:58:41.736539Z",
     "shell.execute_reply": "2022-05-24T14:58:41.735345Z"
    },
    "papermill": {
     "duration": 1.270883,
     "end_time": "2022-05-24T14:58:41.739235",
     "exception": false,
     "start_time": "2022-05-24T14:58:40.468352",
     "status": "completed"
    },
    "tags": []
   },
   "outputs": [
    {
     "name": "stdout",
     "output_type": "stream",
     "text": [
      "(7000, 224, 224, 3) (900, 224, 224, 3) (2100, 224, 224, 3) (7000, 2) (900, 2) (2100, 2)\n"
     ]
    }
   ],
   "source": [
    "X_train, X_test1, y_train, y_test1 = train_test_split(X, y, test_size=0.3, random_state=42)\n",
    "X_val, X_test, y_val, y_test = train_test_split(X_test1, y_test1, test_size=0.3, random_state=42)\n",
    "y_train = to_categorical(y_train)\n",
    "y_test = to_categorical(y_test)\n",
    "y_val = to_categorical(y_val)\n",
    "print(X_train.shape, X_test.shape, X_val.shape, y_train.shape, y_test.shape, y_val.shape)"
   ]
  },
  {
   "cell_type": "code",
   "execution_count": 10,
   "id": "a82dec1f",
   "metadata": {
    "execution": {
     "iopub.execute_input": "2022-05-24T14:58:41.830376Z",
     "iopub.status.busy": "2022-05-24T14:58:41.829055Z",
     "iopub.status.idle": "2022-05-24T14:58:41.836971Z",
     "shell.execute_reply": "2022-05-24T14:58:41.836230Z"
    },
    "papermill": {
     "duration": 0.055818,
     "end_time": "2022-05-24T14:58:41.839155",
     "exception": false,
     "start_time": "2022-05-24T14:58:41.783337",
     "status": "completed"
    },
    "tags": []
   },
   "outputs": [],
   "source": [
    "#Callbacks\n",
    "c2=tf.keras.callbacks.EarlyStopping(\n",
    "    monitor=\"val_loss\",\n",
    "    min_delta=0,\n",
    "    patience=6,\n",
    "    mode=\"auto\",\n",
    "    baseline=None,\n",
    "    restore_best_weights=True,\n",
    ")\n",
    "\n",
    "c3=tf.keras.callbacks.ReduceLROnPlateau(\n",
    "    monitor=\"val_loss\",\n",
    "    factor=0.1,\n",
    "    patience=6,\n",
    "    mode=\"auto\",\n",
    "    min_delta=0.0001,\n",
    "    cooldown=0,\n",
    "    min_lr=0.001\n",
    ")\n",
    "nClasses=2"
   ]
  },
  {
   "cell_type": "markdown",
   "id": "7a8069c4",
   "metadata": {
    "papermill": {
     "duration": 0.043636,
     "end_time": "2022-05-24T14:58:41.926680",
     "exception": false,
     "start_time": "2022-05-24T14:58:41.883044",
     "status": "completed"
    },
    "tags": []
   },
   "source": [
    "# MobileNet"
   ]
  },
  {
   "cell_type": "code",
   "execution_count": 11,
   "id": "2fb41e06",
   "metadata": {
    "execution": {
     "iopub.execute_input": "2022-05-24T14:58:42.018181Z",
     "iopub.status.busy": "2022-05-24T14:58:42.017551Z",
     "iopub.status.idle": "2022-05-24T14:58:50.126838Z",
     "shell.execute_reply": "2022-05-24T14:58:50.125591Z"
    },
    "papermill": {
     "duration": 8.159257,
     "end_time": "2022-05-24T14:58:50.130469",
     "exception": false,
     "start_time": "2022-05-24T14:58:41.971212",
     "status": "completed"
    },
    "tags": []
   },
   "outputs": [
    {
     "name": "stderr",
     "output_type": "stream",
     "text": [
      "2022-05-24 14:58:42.083204: I tensorflow/core/common_runtime/process_util.cc:146] Creating new thread pool with default inter op setting: 2. Tune using inter_op_parallelism_threads for best performance.\n"
     ]
    },
    {
     "name": "stdout",
     "output_type": "stream",
     "text": [
      "Downloading data from https://storage.googleapis.com/tensorflow/keras-applications/mobilenet_v2/mobilenet_v2_weights_tf_dim_ordering_tf_kernels_1.0_224_no_top.h5\n",
      "9412608/9406464 [==============================] - 0s 0us/step\n",
      "9420800/9406464 [==============================] - 0s 0us/step\n",
      "Model: \"sequential\"\n",
      "_________________________________________________________________\n",
      "Layer (type)                 Output Shape              Param #   \n",
      "=================================================================\n",
      "mobilenetv2_1.00_224 (Functi (None, 7, 7, 1280)        2257984   \n",
      "_________________________________________________________________\n",
      "flatten (Flatten)            (None, 62720)             0         \n",
      "_________________________________________________________________\n",
      "batch_normalization (BatchNo (None, 62720)             250880    \n",
      "_________________________________________________________________\n",
      "dense (Dense)                (None, 4096)              256905216 \n",
      "_________________________________________________________________\n",
      "batch_normalization_1 (Batch (None, 4096)              16384     \n",
      "_________________________________________________________________\n",
      "dense_1 (Dense)              (None, 4096)              16781312  \n",
      "_________________________________________________________________\n",
      "dropout (Dropout)            (None, 4096)              0         \n",
      "_________________________________________________________________\n",
      "dense_2 (Dense)              (None, 2096)              8587312   \n",
      "_________________________________________________________________\n",
      "dense_3 (Dense)              (None, 2)                 4194      \n",
      "=================================================================\n",
      "Total params: 284,803,282\n",
      "Trainable params: 282,411,666\n",
      "Non-trainable params: 2,391,616\n",
      "_________________________________________________________________\n"
     ]
    }
   ],
   "source": [
    "'''\n",
    "base_model = VGG16(include_top=False, input_shape=(img_size, img_size,3), weights='imagenet')\n",
    "# fix pretrained layers for deep feature extraction\n",
    "base_model.trainable = False\n",
    "# add custom top layers\n",
    "x = base_model.output\n",
    "x = GlobalAveragePooling2D()(x)\n",
    "x = Dropout(0.2)(x)\n",
    "x = Dense(4096,activation=\"relu\")(x)\n",
    "x = Dense(4096,activation=\"relu\")(x)\n",
    "x = Dropout(0.2)(x)\n",
    "x = Dense(2096,activation=\"relu\")(x)\n",
    "predictions = Dense(2, activation='sigmoid')(x)\n",
    "model = Model(inputs=base_model.input, outputs=predictions)\n",
    "model.summary()\n",
    "# confirm unfrozen layers\n",
    "for layer in model.layers:\n",
    "    if layer.trainable==True:\n",
    "        print(layer)\n",
    "    '''\n",
    "from tensorflow.keras.applications import MobileNetV2\n",
    "base_Neural_Net= MobileNetV2(input_shape=(224, 224, 3), weights='imagenet', include_top=False)\n",
    "base_Neural_Net.trainable = False\n",
    "model=Sequential()\n",
    "model.add(base_Neural_Net)\n",
    "model.add(Flatten())\n",
    "model.add(BatchNormalization())\n",
    "model.add(Dense(4096,kernel_initializer='he_uniform'))\n",
    "model.add(BatchNormalization())\n",
    "model.add(Dense(4096,activation=\"relu\"))\n",
    "#model.add(BatchNormalization())\n",
    "#model.add(Activation('relu'))\n",
    "model.add(Dropout(0.2))\n",
    "model.add(Dense(2096,activation=\"relu\"))\n",
    "model.add(Dense(2, activation='sigmoid'))\n",
    "#model = Model(inputs=resnet50_base_model.input, outputs=predictions)\n",
    "model.summary()\n"
   ]
  },
  {
   "cell_type": "code",
   "execution_count": 12,
   "id": "cb389808",
   "metadata": {
    "execution": {
     "iopub.execute_input": "2022-05-24T14:58:50.247513Z",
     "iopub.status.busy": "2022-05-24T14:58:50.247179Z",
     "iopub.status.idle": "2022-05-24T14:58:51.941139Z",
     "shell.execute_reply": "2022-05-24T14:58:51.931477Z"
    },
    "papermill": {
     "duration": 1.769195,
     "end_time": "2022-05-24T14:58:51.958422",
     "exception": false,
     "start_time": "2022-05-24T14:58:50.189227",
     "status": "completed"
    },
    "tags": []
   },
   "outputs": [
    {
     "data": {
      "image/png": "[encoded data removed]",
      "text/plain": [
       "<IPython.core.display.Image object>"
      ]
     },
     "execution_count": 12,
     "metadata": {},
     "output_type": "execute_result"
    }
   ],
   "source": [
    "from tensorflow.keras.utils import plot_model\n",
    "from IPython.display import Image\n",
    "plot_model(model, to_file='convnet.png', show_shapes=True,show_layer_names=True)\n",
    "Image(filename='convnet.png') "
   ]
  },
  {
   "cell_type": "code",
   "execution_count": 13,
   "id": "6fe34f85",
   "metadata": {
    "execution": {
     "iopub.execute_input": "2022-05-24T14:58:52.107364Z",
     "iopub.status.busy": "2022-05-24T14:58:52.106600Z",
     "iopub.status.idle": "2022-05-24T14:58:52.151171Z",
     "shell.execute_reply": "2022-05-24T14:58:52.150410Z"
    },
    "papermill": {
     "duration": 0.131569,
     "end_time": "2022-05-24T14:58:52.154405",
     "exception": false,
     "start_time": "2022-05-24T14:58:52.022836",
     "status": "completed"
    },
    "tags": []
   },
   "outputs": [],
   "source": [
    "callbacks1 = [EarlyStopping(monitor='val_loss', patience=5, verbose=1), ModelCheckpoint('model.hdf5', save_best_only=True)]\n",
    "opt = Adam(learning_rate=0.001)\n",
    "model.compile(loss='categorical_crossentropy', optimizer=opt, metrics=['accuracy'])"
   ]
  },
  {
   "cell_type": "code",
   "execution_count": 14,
   "id": "ae97357b",
   "metadata": {
    "execution": {
     "iopub.execute_input": "2022-05-24T14:58:52.273557Z",
     "iopub.status.busy": "2022-05-24T14:58:52.273284Z",
     "iopub.status.idle": "2022-05-24T15:44:39.505235Z",
     "shell.execute_reply": "2022-05-24T15:44:39.504018Z"
    },
    "papermill": {
     "duration": 2747.291524,
     "end_time": "2022-05-24T15:44:39.507759",
     "exception": false,
     "start_time": "2022-05-24T14:58:52.216235",
     "status": "completed"
    },
    "tags": []
   },
   "outputs": [
    {
     "name": "stdout",
     "output_type": "stream",
     "text": [
      "CPU times: user 6 µs, sys: 0 ns, total: 6 µs\n",
      "Wall time: 11.4 µs\n"
     ]
    },
    {
     "name": "stderr",
     "output_type": "stream",
     "text": [
      "2022-05-24 14:58:53.154821: I tensorflow/compiler/mlir/mlir_graph_optimization_pass.cc:185] None of the MLIR Optimization Passes are enabled (registered 2)\n"
     ]
    },
    {
     "name": "stdout",
     "output_type": "stream",
     "text": [
      "Epoch 1/10\n",
      "219/219 [==============================] - 398s 2s/step - loss: 0.6290 - accuracy: 0.8473 - val_loss: 0.2978 - val_accuracy: 0.8800\n",
      "Epoch 2/10\n",
      "219/219 [==============================] - 390s 2s/step - loss: 0.2733 - accuracy: 0.8871 - val_loss: 0.2609 - val_accuracy: 0.8944\n",
      "Epoch 3/10\n",
      "219/219 [==============================] - 387s 2s/step - loss: 0.1968 - accuracy: 0.9126 - val_loss: 0.2921 - val_accuracy: 0.9111\n",
      "Epoch 4/10\n",
      "219/219 [==============================] - 389s 2s/step - loss: 0.1403 - accuracy: 0.9429 - val_loss: 0.4846 - val_accuracy: 0.8767\n",
      "Epoch 5/10\n",
      "219/219 [==============================] - 385s 2s/step - loss: 0.1202 - accuracy: 0.9537 - val_loss: 0.5817 - val_accuracy: 0.9044\n",
      "Epoch 6/10\n",
      "219/219 [==============================] - 384s 2s/step - loss: 0.1259 - accuracy: 0.9623 - val_loss: 0.8454 - val_accuracy: 0.9200\n",
      "Epoch 7/10\n",
      "219/219 [==============================] - 383s 2s/step - loss: 0.0968 - accuracy: 0.9700 - val_loss: 1.5391 - val_accuracy: 0.9278\n",
      "Epoch 00007: early stopping\n"
     ]
    }
   ],
   "source": [
    "%time\n",
    "history1=model.fit(X_train, y_train,validation_data=(X_test, y_test),verbose = 1,epochs = epoch1,callbacks=callbacks1)"
   ]
  },
  {
   "cell_type": "code",
   "execution_count": 15,
   "id": "47d69103",
   "metadata": {
    "execution": {
     "iopub.execute_input": "2022-05-24T15:44:40.754464Z",
     "iopub.status.busy": "2022-05-24T15:44:40.752426Z",
     "iopub.status.idle": "2022-05-24T15:44:40.762281Z",
     "shell.execute_reply": "2022-05-24T15:44:40.761672Z"
    },
    "papermill": {
     "duration": 0.639665,
     "end_time": "2022-05-24T15:44:40.764321",
     "exception": false,
     "start_time": "2022-05-24T15:44:40.124656",
     "status": "completed"
    },
    "tags": []
   },
   "outputs": [],
   "source": [
    "def f1_score(y_true, y_pred): #taken from old keras source code\n",
    "    true_positives = K.sum(K.round(K.clip(y_true * y_pred, 0, 1)))\n",
    "    possible_positives = K.sum(K.round(K.clip(y_true, 0, 1)))\n",
    "    predicted_positives = K.sum(K.round(K.clip(y_pred, 0, 1)))\n",
    "    precision = true_positives / (predicted_positives + K.epsilon())\n",
    "    recall = true_positives / (possible_positives + K.epsilon())\n",
    "    f1_val = 2*(precision*recall)/(precision+recall+K.epsilon())\n",
    "    return f1_val"
   ]
  },
  {
   "cell_type": "code",
   "execution_count": 16,
   "id": "fdd01582",
   "metadata": {
    "execution": {
     "iopub.execute_input": "2022-05-24T15:44:42.088902Z",
     "iopub.status.busy": "2022-05-24T15:44:42.088566Z",
     "iopub.status.idle": "2022-05-24T15:45:22.129283Z",
     "shell.execute_reply": "2022-05-24T15:45:22.128175Z"
    },
    "papermill": {
     "duration": 40.736218,
     "end_time": "2022-05-24T15:45:22.132364",
     "exception": false,
     "start_time": "2022-05-24T15:44:41.396146",
     "status": "completed"
    },
    "tags": []
   },
   "outputs": [],
   "source": [
    "METRICS = [\n",
    "      tf.keras.metrics.BinaryAccuracy(name='accuracy'),\n",
    "      tf.keras.metrics.Precision(name='precision'),\n",
    "      tf.keras.metrics.Recall(name='recall'),  \n",
    "      tf.keras.metrics.AUC(name='auc'),\n",
    "        f1_score,\n",
    "]"
   ]
  },
  {
   "cell_type": "code",
   "execution_count": null,
   "id": "afd5b628",
   "metadata": {
    "execution": {
     "iopub.execute_input": "2022-05-06T15:08:04.489795Z",
     "iopub.status.busy": "2022-05-06T15:08:04.488846Z",
     "iopub.status.idle": "2022-05-06T15:08:04.918152Z",
     "shell.execute_reply": "2022-05-06T15:08:04.917046Z",
     "shell.execute_reply.started": "2022-05-06T15:08:04.489742Z"
    },
    "papermill": {
     "duration": 0.631136,
     "end_time": "2022-05-24T15:45:23.400292",
     "exception": false,
     "start_time": "2022-05-24T15:45:22.769156",
     "status": "completed"
    },
    "tags": []
   },
   "outputs": [],
   "source": []
  },
  {
   "cell_type": "code",
   "execution_count": 17,
   "id": "34628039",
   "metadata": {
    "execution": {
     "iopub.execute_input": "2022-05-24T15:45:24.743494Z",
     "iopub.status.busy": "2022-05-24T15:45:24.743202Z",
     "iopub.status.idle": "2022-05-24T15:46:12.758901Z",
     "shell.execute_reply": "2022-05-24T15:46:12.757692Z"
    },
    "papermill": {
     "duration": 49.409296,
     "end_time": "2022-05-24T15:46:13.439051",
     "exception": false,
     "start_time": "2022-05-24T15:45:24.029755",
     "status": "completed"
    },
    "tags": []
   },
   "outputs": [
    {
     "data": {
      "image/png": "[encoded data removed]",
      "text/plain": [
       "<Figure size 576x576 with 2 Axes>"
      ]
     },
     "metadata": {
      "needs_background": "light"
     },
     "output_type": "display_data"
    }
   ],
   "source": [
    "from sklearn.metrics import confusion_matrix\n",
    "import seaborn as sns\n",
    "\n",
    "Y_pred = model.predict(X_val)\n",
    "Y_pred_classes = np.argmax(Y_pred,axis = 1) \n",
    "Y_true = np.argmax(y_val,axis = 1) \n",
    "\n",
    "confusion_mtx = confusion_matrix(Y_true, Y_pred_classes) \n",
    "\n",
    "f,ax = plt.subplots(figsize=(8, 8))\n",
    "sns.heatmap(confusion_mtx, annot=True, linewidths=0.01,cmap=\"OrRd\",linecolor=\"black\", fmt= '.1f',ax=ax)\n",
    "plt.xlabel(\"Predicted Label\")\n",
    "plt.ylabel(\"True Label\")\n",
    "plt.title(\"Confusion Matrix\")\n",
    "plt.show()"
   ]
  },
  {
   "cell_type": "code",
   "execution_count": 18,
   "id": "31ea63bb",
   "metadata": {
    "execution": {
     "iopub.execute_input": "2022-05-24T15:46:14.722960Z",
     "iopub.status.busy": "2022-05-24T15:46:14.722189Z",
     "iopub.status.idle": "2022-05-24T15:46:14.734457Z",
     "shell.execute_reply": "2022-05-24T15:46:14.733853Z"
    },
    "papermill": {
     "duration": 0.643477,
     "end_time": "2022-05-24T15:46:14.736344",
     "exception": false,
     "start_time": "2022-05-24T15:46:14.092867",
     "status": "completed"
    },
    "tags": []
   },
   "outputs": [
    {
     "name": "stdout",
     "output_type": "stream",
     "text": [
      "              precision    recall  f1-score   support\n",
      "\n",
      "           0       0.95      0.98      0.96      1806\n",
      "           1       0.83      0.69      0.75       294\n",
      "\n",
      "    accuracy                           0.94      2100\n",
      "   macro avg       0.89      0.84      0.86      2100\n",
      "weighted avg       0.93      0.94      0.93      2100\n",
      "\n"
     ]
    }
   ],
   "source": [
    "from sklearn.metrics import classification_report\n",
    "\n",
    "print(classification_report(Y_true, Y_pred_classes))"
   ]
  },
  {
   "cell_type": "markdown",
   "id": "d0a4c12e",
   "metadata": {
    "papermill": {
     "duration": 0.642766,
     "end_time": "2022-05-24T15:46:16.023793",
     "exception": false,
     "start_time": "2022-05-24T15:46:15.381027",
     "status": "completed"
    },
    "tags": []
   },
   "source": []
  },
  {
   "cell_type": "code",
   "execution_count": null,
   "id": "e4b49c6b",
   "metadata": {
    "execution": {
     "iopub.execute_input": "2022-05-06T15:08:41.911737Z",
     "iopub.status.busy": "2022-05-06T15:08:41.911171Z",
     "iopub.status.idle": "2022-05-06T15:08:41.922881Z",
     "shell.execute_reply": "2022-05-06T15:08:41.922041Z",
     "shell.execute_reply.started": "2022-05-06T15:08:41.911677Z"
    },
    "papermill": {
     "duration": 0.639217,
     "end_time": "2022-05-24T15:46:17.284537",
     "exception": false,
     "start_time": "2022-05-24T15:46:16.645320",
     "status": "completed"
    },
    "tags": []
   },
   "outputs": [],
   "source": []
  },
  {
   "cell_type": "code",
   "execution_count": 19,
   "id": "6df9a7f6",
   "metadata": {
    "execution": {
     "iopub.execute_input": "2022-05-24T15:46:18.611376Z",
     "iopub.status.busy": "2022-05-24T15:46:18.610304Z",
     "iopub.status.idle": "2022-05-24T15:46:18.632554Z",
     "shell.execute_reply": "2022-05-24T15:46:18.631333Z"
    },
    "papermill": {
     "duration": 0.715995,
     "end_time": "2022-05-24T15:46:18.636478",
     "exception": false,
     "start_time": "2022-05-24T15:46:17.920483",
     "status": "completed"
    },
    "tags": []
   },
   "outputs": [],
   "source": [
    "from sklearn.metrics import f1_score, roc_auc_score, cohen_kappa_score, precision_score, recall_score, accuracy_score, confusion_matrix\n",
    "def get_accuracy_metrics(model, X_train, y_train, X_val, y_val, X_test, y_test):\n",
    "    y_train=np.argmax(y_train, axis=1)\n",
    "    y_test=np.argmax(y_test, axis=1)\n",
    "    y_val=np.argmax(y_val, axis=1)\n",
    "    y_train_pred=np.argmax(model.predict(X_train),axis=1)\n",
    "    y_test_pred=np.argmax(model.predict(X_test),axis=1)\n",
    "    y_val_pred=np.argmax(model.predict(X_val),axis=1)\n",
    "    #ps:all the Y value must turn back to 1 dimension array. otherwise, the scoring functions in sklearn cannot compare, and will give an error\n",
    "    #classification metrics can't handle a mix of continuous-multioutput and multi-label-indicator targets\n",
    "    \n",
    "    print(\"Train accuracy Score------------>\")\n",
    "    print (\"{0:.3f}\".format(accuracy_score(y_train, y_train_pred)*100), \"%\")\n",
    "    \n",
    "    print(\"Val accuracy Score--------->\")\n",
    "    \n",
    "    print(\"{0:.3f}\".format(accuracy_score(y_val, y_val_pred)*100), \"%\")\n",
    "    \n",
    "  \n",
    "    print(\"Test accuracy Score--------->\")\n",
    "    print(\"{0:.3f}\".format(accuracy_score(y_test, y_test_pred)*100), \"%\")\n",
    "    \n",
    "    print(\"F1 Score--------------->\")\n",
    "    print(\"{0:.3f}\".format(f1_score(y_test, y_test_pred, average = 'weighted')*100), \"%\")\n",
    "    \n",
    "    print(\"Cohen Kappa Score------------->\")\n",
    "    print(\"{0:.3f}\".format(cohen_kappa_score(y_test, y_test_pred)*100), \"%\")\n",
    "    \n",
    "    print(\"Recall-------------->\")\n",
    "    print(\"{0:.3f}\".format(recall_score(y_test, y_test_pred, average = 'weighted')*100), \"%\")\n",
    "    \n",
    "    print(\"Precision-------------->\")\n",
    "    print(\"{0:.3f}\".format(precision_score(y_test, y_test_pred, average = 'weighted')*100), \"%\")\n",
    "    \n",
    "    cf_matrix_test = confusion_matrix(y_test, y_test_pred)\n",
    "    cf_matrix_val = confusion_matrix(y_val, y_val_pred)\n",
    "    \n",
    "    plt.figure(figsize = (12, 6))\n",
    "    plt.subplot(121)\n",
    "    sns.heatmap(cf_matrix_val, annot=True, cmap='Blues')\n",
    "    plt.title(\"Val Confusion matrix\")\n",
    "    \n",
    "    plt.subplot(122)\n",
    "    sns.heatmap(cf_matrix_test, annot=True, cmap='Blues')\n",
    "    plt.title(\"Test Confusion matrix\")\n",
    "    \n",
    "    plt.show()"
   ]
  },
  {
   "cell_type": "code",
   "execution_count": null,
   "id": "b7c71961",
   "metadata": {
    "papermill": {
     "duration": 0.666233,
     "end_time": "2022-05-24T15:46:19.981481",
     "exception": false,
     "start_time": "2022-05-24T15:46:19.315248",
     "status": "completed"
    },
    "tags": []
   },
   "outputs": [],
   "source": []
  },
  {
   "cell_type": "code",
   "execution_count": 20,
   "id": "1ad8aa47",
   "metadata": {
    "execution": {
     "iopub.execute_input": "2022-05-24T15:46:21.257027Z",
     "iopub.status.busy": "2022-05-24T15:46:21.256274Z",
     "iopub.status.idle": "2022-05-24T15:50:00.635211Z",
     "shell.execute_reply": "2022-05-24T15:50:00.634315Z"
    },
    "papermill": {
     "duration": 220.39499,
     "end_time": "2022-05-24T15:50:01.011100",
     "exception": false,
     "start_time": "2022-05-24T15:46:20.616110",
     "status": "completed"
    },
    "tags": []
   },
   "outputs": [
    {
     "name": "stdout",
     "output_type": "stream",
     "text": [
      "Train accuracy Score------------>\n",
      "99.014 %\n",
      "Val accuracy Score--------->\n",
      "93.667 %\n",
      "Test accuracy Score--------->\n",
      "92.778 %\n",
      "F1 Score--------------->\n",
      "92.471 %\n",
      "Cohen Kappa Score------------->\n",
      "72.484 %\n",
      "Recall-------------->\n",
      "92.778 %\n",
      "Precision-------------->\n",
      "92.509 %\n"
     ]
    },
    {
     "data": {
      "image/png": "[encoded data removed]",
      "text/plain": [
       "<Figure size 864x432 with 4 Axes>"
      ]
     },
     "metadata": {
      "needs_background": "light"
     },
     "output_type": "display_data"
    }
   ],
   "source": [
    "get_accuracy_metrics(model,  X_train, y_train, X_val, y_val, X_test, y_test)"
   ]
  },
  {
   "cell_type": "code",
   "execution_count": 21,
   "id": "e423f1fd",
   "metadata": {
    "execution": {
     "iopub.execute_input": "2022-05-24T15:50:02.295536Z",
     "iopub.status.busy": "2022-05-24T15:50:02.294734Z",
     "iopub.status.idle": "2022-05-24T15:50:02.640297Z",
     "shell.execute_reply": "2022-05-24T15:50:02.639693Z"
    },
    "papermill": {
     "duration": 1.002563,
     "end_time": "2022-05-24T15:50:02.642940",
     "exception": false,
     "start_time": "2022-05-24T15:50:01.640377",
     "status": "completed"
    },
    "tags": []
   },
   "outputs": [
    {
     "data": {
      "image/png": "[encoded data removed]",
      "text/plain": [
       "<Figure size 864x432 with 2 Axes>"
      ]
     },
     "metadata": {
      "needs_background": "light"
     },
     "output_type": "display_data"
    }
   ],
   "source": [
    "import matplotlib.pyplot as plt\n",
    "import seaborn as sns\n",
    "plt.figure(figsize = (12, 6))\n",
    "plt.subplot(121)\n",
    "#plotting the Accuracy of test and training sets\n",
    "plt.plot(history1.history['accuracy'])\n",
    "plt.plot(history1.history['val_accuracy'])\n",
    "plt.title('1st training Model Accuracy')\n",
    "plt.ylabel('accuracy')\n",
    "plt.xlabel('epoch')\n",
    "plt.legend(['train', 'test'], loc='upper left')\n",
    "\n",
    "plt.subplot(122)\n",
    "#plotting the loss of test and training sets\n",
    "plt.plot(history1.history['loss'])\n",
    "plt.plot(history1.history['val_loss'])\n",
    "plt.title('1st training Model Loss')\n",
    "plt.ylabel('loss')\n",
    "plt.xlabel('epoch')\n",
    "plt.legend(['train', 'test'], loc='upper left')\n",
    "plt.show()"
   ]
  },
  {
   "cell_type": "markdown",
   "id": "c7faa4f4",
   "metadata": {
    "papermill": {
     "duration": 0.641056,
     "end_time": "2022-05-24T15:50:03.929324",
     "exception": false,
     "start_time": "2022-05-24T15:50:03.288268",
     "status": "completed"
    },
    "tags": []
   },
   "source": [
    "# Second Training Fine Tune"
   ]
  },
  {
   "cell_type": "code",
   "execution_count": 22,
   "id": "39e8a495",
   "metadata": {
    "execution": {
     "iopub.execute_input": "2022-05-24T15:50:05.357108Z",
     "iopub.status.busy": "2022-05-24T15:50:05.356826Z",
     "iopub.status.idle": "2022-05-24T15:50:05.369971Z",
     "shell.execute_reply": "2022-05-24T15:50:05.368381Z"
    },
    "papermill": {
     "duration": 0.721403,
     "end_time": "2022-05-24T15:50:05.372678",
     "exception": false,
     "start_time": "2022-05-24T15:50:04.651275",
     "status": "completed"
    },
    "tags": []
   },
   "outputs": [],
   "source": [
    "for model1 in model.layers:\n",
    "    model1.trainable = True"
   ]
  },
  {
   "cell_type": "code",
   "execution_count": 23,
   "id": "654355a9",
   "metadata": {
    "execution": {
     "iopub.execute_input": "2022-05-24T15:50:06.712634Z",
     "iopub.status.busy": "2022-05-24T15:50:06.712340Z",
     "iopub.status.idle": "2022-05-24T15:50:06.718187Z",
     "shell.execute_reply": "2022-05-24T15:50:06.717077Z"
    },
    "papermill": {
     "duration": 0.661229,
     "end_time": "2022-05-24T15:50:06.720309",
     "exception": false,
     "start_time": "2022-05-24T15:50:06.059080",
     "status": "completed"
    },
    "tags": []
   },
   "outputs": [],
   "source": [
    "callbacks2 = [EarlyStopping(monitor='val_loss', patience=5, verbose=1), ModelCheckpoint('test_model.hdf5', save_best_only=True)]\n",
    "opt = Adam(learning_rate=0.001)\n",
    "#model.compile(loss='categorical_crossentropy', optimizer=opt, metrics=['accuracy'])"
   ]
  },
  {
   "cell_type": "code",
   "execution_count": 24,
   "id": "28ee0c50",
   "metadata": {
    "execution": {
     "iopub.execute_input": "2022-05-24T15:50:08.019469Z",
     "iopub.status.busy": "2022-05-24T15:50:08.019165Z",
     "iopub.status.idle": "2022-05-24T16:09:49.280989Z",
     "shell.execute_reply": "2022-05-24T16:09:49.280210Z"
    },
    "papermill": {
     "duration": 1182.779471,
     "end_time": "2022-05-24T16:09:50.157756",
     "exception": false,
     "start_time": "2022-05-24T15:50:07.378285",
     "status": "completed"
    },
    "tags": []
   },
   "outputs": [
    {
     "name": "stdout",
     "output_type": "stream",
     "text": [
      "Epoch 1/3\n",
      "219/219 [==============================] - 388s 2s/step - loss: 0.1129 - accuracy: 0.9687 - val_loss: 1.0174 - val_accuracy: 0.9044\n",
      "Epoch 2/3\n",
      "219/219 [==============================] - 391s 2s/step - loss: 0.1660 - accuracy: 0.9680 - val_loss: 2.9803 - val_accuracy: 0.8856\n",
      "Epoch 3/3\n",
      "219/219 [==============================] - 387s 2s/step - loss: 0.0741 - accuracy: 0.9780 - val_loss: 1.8600 - val_accuracy: 0.9289\n"
     ]
    }
   ],
   "source": [
    "history2=model.fit(X_train, y_train,validation_data=(X_test, y_test),verbose = 1,epochs = epoch2,callbacks=callbacks2)"
   ]
  },
  {
   "cell_type": "code",
   "execution_count": 25,
   "id": "c42e1bf0",
   "metadata": {
    "execution": {
     "iopub.execute_input": "2022-05-24T16:09:51.926734Z",
     "iopub.status.busy": "2022-05-24T16:09:51.924201Z",
     "iopub.status.idle": "2022-05-24T16:10:37.914080Z",
     "shell.execute_reply": "2022-05-24T16:10:37.912858Z"
    },
    "papermill": {
     "duration": 47.813073,
     "end_time": "2022-05-24T16:10:38.851675",
     "exception": false,
     "start_time": "2022-05-24T16:09:51.038602",
     "status": "completed"
    },
    "tags": []
   },
   "outputs": [
    {
     "data": {
      "image/png": "[encoded data removed]",
      "text/plain": [
       "<Figure size 576x576 with 2 Axes>"
      ]
     },
     "metadata": {
      "needs_background": "light"
     },
     "output_type": "display_data"
    }
   ],
   "source": [
    "Y_pred = model.predict(X_val)\n",
    "Y_pred_classes = np.argmax(Y_pred,axis = 1) \n",
    "Y_true = np.argmax(y_val,axis = 1) \n",
    "\n",
    "confusion_mtx = confusion_matrix(Y_true, Y_pred_classes) \n",
    "\n",
    "f,ax = plt.subplots(figsize=(8, 8))\n",
    "sns.heatmap(confusion_mtx, annot=True, linewidths=0.01,cmap=\"OrRd\",linecolor=\"black\", fmt= '.1f',ax=ax)\n",
    "plt.xlabel(\"Predicted Label\")\n",
    "plt.ylabel(\"True Label\")\n",
    "plt.title(\"Confusion Matrix\")\n",
    "plt.show()"
   ]
  },
  {
   "cell_type": "code",
   "execution_count": 26,
   "id": "af0cdb1b",
   "metadata": {
    "execution": {
     "iopub.execute_input": "2022-05-24T16:10:40.770979Z",
     "iopub.status.busy": "2022-05-24T16:10:40.770676Z",
     "iopub.status.idle": "2022-05-24T16:10:40.784626Z",
     "shell.execute_reply": "2022-05-24T16:10:40.783500Z"
    },
    "papermill": {
     "duration": 0.947779,
     "end_time": "2022-05-24T16:10:40.786736",
     "exception": false,
     "start_time": "2022-05-24T16:10:39.838957",
     "status": "completed"
    },
    "tags": []
   },
   "outputs": [
    {
     "name": "stdout",
     "output_type": "stream",
     "text": [
      "              precision    recall  f1-score   support\n",
      "\n",
      "           0       0.96      0.96      0.96      1806\n",
      "           1       0.75      0.74      0.75       294\n",
      "\n",
      "    accuracy                           0.93      2100\n",
      "   macro avg       0.86      0.85      0.85      2100\n",
      "weighted avg       0.93      0.93      0.93      2100\n",
      "\n"
     ]
    }
   ],
   "source": [
    "print(classification_report(Y_true, Y_pred_classes))"
   ]
  },
  {
   "cell_type": "code",
   "execution_count": 27,
   "id": "b519cdb1",
   "metadata": {
    "execution": {
     "iopub.execute_input": "2022-05-24T16:10:42.548175Z",
     "iopub.status.busy": "2022-05-24T16:10:42.547631Z",
     "iopub.status.idle": "2022-05-24T16:14:25.015109Z",
     "shell.execute_reply": "2022-05-24T16:14:25.014141Z"
    },
    "papermill": {
     "duration": 223.986295,
     "end_time": "2022-05-24T16:14:25.656295",
     "exception": false,
     "start_time": "2022-05-24T16:10:41.670000",
     "status": "completed"
    },
    "tags": []
   },
   "outputs": [
    {
     "name": "stdout",
     "output_type": "stream",
     "text": [
      "Train accuracy Score------------>\n",
      "99.071 %\n",
      "Val accuracy Score--------->\n",
      "93.000 %\n",
      "Test accuracy Score--------->\n",
      "92.889 %\n",
      "F1 Score--------------->\n",
      "92.711 %\n",
      "Cohen Kappa Score------------->\n",
      "73.712 %\n",
      "Recall-------------->\n",
      "92.889 %\n",
      "Precision-------------->\n",
      "92.658 %\n"
     ]
    },
    {
     "data": {
      "image/png": "[encoded data removed]",
      "text/plain": [
       "<Figure size 864x432 with 4 Axes>"
      ]
     },
     "metadata": {
      "needs_background": "light"
     },
     "output_type": "display_data"
    }
   ],
   "source": [
    "get_accuracy_metrics(model,  X_train, y_train, X_val, y_val, X_test, y_test)"
   ]
  },
  {
   "cell_type": "code",
   "execution_count": 28,
   "id": "9f1cbe9c",
   "metadata": {
    "execution": {
     "iopub.execute_input": "2022-05-24T16:14:27.641425Z",
     "iopub.status.busy": "2022-05-24T16:14:27.641041Z",
     "iopub.status.idle": "2022-05-24T16:14:28.062080Z",
     "shell.execute_reply": "2022-05-24T16:14:28.060829Z"
    },
    "papermill": {
     "duration": 1.380852,
     "end_time": "2022-05-24T16:14:28.065232",
     "exception": false,
     "start_time": "2022-05-24T16:14:26.684380",
     "status": "completed"
    },
    "tags": []
   },
   "outputs": [
    {
     "data": {
      "image/png": "[encoded data removed]",
      "text/plain": [
       "<Figure size 864x432 with 2 Axes>"
      ]
     },
     "metadata": {
      "needs_background": "light"
     },
     "output_type": "display_data"
    }
   ],
   "source": [
    "plt.figure(figsize = (12, 6))\n",
    "plt.subplot(121)\n",
    "#plotting the Accuracy of test and training sets\n",
    "plt.plot(history2.history['accuracy'])\n",
    "plt.plot(history2.history['val_accuracy'])\n",
    "plt.title('1st training Model Accuracy')\n",
    "plt.ylabel('accuracy')\n",
    "plt.xlabel('epoch')\n",
    "plt.legend(['train', 'test'], loc='upper left')\n",
    "\n",
    "plt.subplot(122)\n",
    "#plotting the loss of test and training sets\n",
    "plt.plot(history2.history['loss'])\n",
    "plt.plot(history2.history['val_loss'])\n",
    "plt.title('1st training Model Loss')\n",
    "plt.ylabel('loss')\n",
    "plt.xlabel('epoch')\n",
    "plt.legend(['train', 'test'], loc='upper left')\n",
    "plt.show()"
   ]
  }
 ],
 "metadata": {
  "kernelspec": {
   "display_name": "Python 3",
   "language": "python",
   "name": "python3"
  },
  "language_info": {
   "codemirror_mode": {
    "name": "ipython",
    "version": 3
   },
   "file_extension": ".py",
   "mimetype": "text/x-python",
   "name": "python",
   "nbconvert_exporter": "python",
   "pygments_lexer": "ipython3",
   "version": "3.7.12"
  },
  "papermill": {
   "default_parameters": {},
   "duration": 4821.861039,
   "end_time": "2022-05-24T16:14:33.184350",
   "environment_variables": {},
   "exception": null,
   "input_path": "__notebook__.ipynb",
   "output_path": "__notebook__.ipynb",
   "parameters": {},
   "start_time": "2022-05-24T14:54:11.323311",
   "version": "2.3.4"
  }
 },
 "nbformat": 4,
 "nbformat_minor": 5
}
