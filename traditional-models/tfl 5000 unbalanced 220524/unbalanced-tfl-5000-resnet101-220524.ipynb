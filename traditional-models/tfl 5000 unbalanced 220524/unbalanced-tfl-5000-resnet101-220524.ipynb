{
 "cells": [
  {
   "cell_type": "code",
   "execution_count": 1,
   "id": "e70b3984",
   "metadata": {
    "_cell_guid": "b1076dfc-b9ad-4769-8c92-a6c4dae69d19",
    "_uuid": "8f2839f25d086af736a60e9eeb907d3b93b6e0e5",
    "execution": {
     "iopub.execute_input": "2022-05-24T14:56:08.340006Z",
     "iopub.status.busy": "2022-05-24T14:56:08.339688Z",
     "iopub.status.idle": "2022-05-24T14:56:21.349477Z",
     "shell.execute_reply": "2022-05-24T14:56:21.348585Z"
    },
    "papermill": {
     "duration": 13.05924,
     "end_time": "2022-05-24T14:56:21.352076",
     "exception": false,
     "start_time": "2022-05-24T14:56:08.292836",
     "status": "completed"
    },
    "tags": []
   },
   "outputs": [
    {
     "name": "stdout",
     "output_type": "stream",
     "text": [
      "Collecting Livelossplot\r\n",
      "  Downloading livelossplot-0.5.5-py3-none-any.whl (22 kB)\r\n",
      "Requirement already satisfied: ipython==7.* in /opt/conda/lib/python3.7/site-packages (from Livelossplot) (7.32.0)\r\n",
      "Requirement already satisfied: matplotlib in /opt/conda/lib/python3.7/site-packages (from Livelossplot) (3.5.2)\r\n",
      "Requirement already satisfied: bokeh in /opt/conda/lib/python3.7/site-packages (from Livelossplot) (2.4.2)\r\n",
      "Requirement already satisfied: numpy<1.22 in /opt/conda/lib/python3.7/site-packages (from Livelossplot) (1.21.6)\r\n",
      "Requirement already satisfied: setuptools>=18.5 in /opt/conda/lib/python3.7/site-packages (from ipython==7.*->Livelossplot) (59.8.0)\r\n",
      "Requirement already satisfied: traitlets>=4.2 in /opt/conda/lib/python3.7/site-packages (from ipython==7.*->Livelossplot) (5.1.1)\r\n",
      "Requirement already satisfied: pexpect>4.3 in /opt/conda/lib/python3.7/site-packages (from ipython==7.*->Livelossplot) (4.8.0)\r\n",
      "Requirement already satisfied: jedi>=0.16 in /opt/conda/lib/python3.7/site-packages (from ipython==7.*->Livelossplot) (0.18.1)\r\n",
      "Requirement already satisfied: prompt-toolkit!=3.0.0,!=3.0.1,<3.1.0,>=2.0.0 in /opt/conda/lib/python3.7/site-packages (from ipython==7.*->Livelossplot) (3.0.27)\r\n",
      "Requirement already satisfied: decorator in /opt/conda/lib/python3.7/site-packages (from ipython==7.*->Livelossplot) (5.1.1)\r\n",
      "Requirement already satisfied: backcall in /opt/conda/lib/python3.7/site-packages (from ipython==7.*->Livelossplot) (0.2.0)\r\n",
      "Requirement already satisfied: pygments in /opt/conda/lib/python3.7/site-packages (from ipython==7.*->Livelossplot) (2.11.2)\r\n",
      "Requirement already satisfied: pickleshare in /opt/conda/lib/python3.7/site-packages (from ipython==7.*->Livelossplot) (0.7.5)\r\n",
      "Requirement already satisfied: matplotlib-inline in /opt/conda/lib/python3.7/site-packages (from ipython==7.*->Livelossplot) (0.1.3)\r\n",
      "Requirement already satisfied: Jinja2>=2.9 in /opt/conda/lib/python3.7/site-packages (from bokeh->Livelossplot) (3.1.2)\r\n",
      "Requirement already satisfied: pillow>=7.1.0 in /opt/conda/lib/python3.7/site-packages (from bokeh->Livelossplot) (9.0.1)\r\n",
      "Requirement already satisfied: PyYAML>=3.10 in /opt/conda/lib/python3.7/site-packages (from bokeh->Livelossplot) (6.0)\r\n",
      "Requirement already satisfied: packaging>=16.8 in /opt/conda/lib/python3.7/site-packages (from bokeh->Livelossplot) (21.3)\r\n",
      "Requirement already satisfied: tornado>=5.1 in /opt/conda/lib/python3.7/site-packages (from bokeh->Livelossplot) (6.1)\r\n",
      "Requirement already satisfied: typing-extensions>=3.10.0 in /opt/conda/lib/python3.7/site-packages (from bokeh->Livelossplot) (4.2.0)\r\n",
      "Requirement already satisfied: python-dateutil>=2.7 in /opt/conda/lib/python3.7/site-packages (from matplotlib->Livelossplot) (2.8.2)\r\n",
      "Requirement already satisfied: fonttools>=4.22.0 in /opt/conda/lib/python3.7/site-packages (from matplotlib->Livelossplot) (4.30.0)\r\n",
      "Requirement already satisfied: cycler>=0.10 in /opt/conda/lib/python3.7/site-packages (from matplotlib->Livelossplot) (0.11.0)\r\n",
      "Requirement already satisfied: kiwisolver>=1.0.1 in /opt/conda/lib/python3.7/site-packages (from matplotlib->Livelossplot) (1.4.0)\r\n",
      "Requirement already satisfied: pyparsing>=2.2.1 in /opt/conda/lib/python3.7/site-packages (from matplotlib->Livelossplot) (3.0.7)\r\n",
      "Requirement already satisfied: parso<0.9.0,>=0.8.0 in /opt/conda/lib/python3.7/site-packages (from jedi>=0.16->ipython==7.*->Livelossplot) (0.8.3)\r\n",
      "Requirement already satisfied: MarkupSafe>=2.0 in /opt/conda/lib/python3.7/site-packages (from Jinja2>=2.9->bokeh->Livelossplot) (2.0.1)\r\n",
      "Requirement already satisfied: ptyprocess>=0.5 in /opt/conda/lib/python3.7/site-packages (from pexpect>4.3->ipython==7.*->Livelossplot) (0.7.0)\r\n",
      "Requirement already satisfied: wcwidth in /opt/conda/lib/python3.7/site-packages (from prompt-toolkit!=3.0.0,!=3.0.1,<3.1.0,>=2.0.0->ipython==7.*->Livelossplot) (0.2.5)\r\n",
      "Requirement already satisfied: six>=1.5 in /opt/conda/lib/python3.7/site-packages (from python-dateutil>=2.7->matplotlib->Livelossplot) (1.16.0)\r\n",
      "Installing collected packages: Livelossplot\r\n",
      "Successfully installed Livelossplot-0.5.5\r\n",
      "\u001b[33mWARNING: Running pip as the 'root' user can result in broken permissions and conflicting behaviour with the system package manager. It is recommended to use a virtual environment instead: https://pip.pypa.io/warnings/venv\u001b[0m\u001b[33m\r\n",
      "\u001b[0m"
     ]
    }
   ],
   "source": [
    "# This Python 3 environment comes with many helpful analytics libraries installed\n",
    "# It is defined by the kaggle/python Docker image: https://github.com/kaggle/docker-python\n",
    "# For example, here's several helpful packages to load\n",
    "\n",
    "import numpy as np # linear algebra\n",
    "import pandas as pd # data processing, CSV file I/O (e.g. pd.read_csv)\n",
    "\n",
    "# Input data files are available in the read-only \"../input/\" directory\n",
    "# For example, running this (by clicking run or pressing Shift+Enter) will list all files under the input directory\n",
    "\n",
    "import os\n",
    "\n",
    "import warnings\n",
    "warnings.filterwarnings('ignore')\n",
    "%matplotlib inline\n",
    "!pip install Livelossplot\n",
    "from livelossplot import PlotLossesKeras\n",
    "\n",
    "from glob import glob\n",
    "import os\n",
    "import shutil\n",
    "\n",
    "import numpy as np\n",
    "import pandas as pd\n",
    "# You can write up to 20GB to the current directory (/kaggle/working/) that gets preserved as output when you create a version using \"Save & Run All\" \n",
    "# You can also write temporary files to /kaggle/temp/, but they won't be saved outside of the current session"
   ]
  },
  {
   "cell_type": "markdown",
   "id": "62ffeaaa",
   "metadata": {
    "papermill": {
     "duration": 0.041837,
     "end_time": "2022-05-24T14:56:21.436760",
     "exception": false,
     "start_time": "2022-05-24T14:56:21.394923",
     "status": "completed"
    },
    "tags": []
   },
   "source": [
    "# AIM\n",
    "## To classify the images into \n",
    "### IDC+\n",
    "### IDC-\n",
    "\n",
    "# Validation Strategy:\n",
    "\n",
    "## Train Data Size= 0.7*Total_Data\n",
    "## Validation Data Size= 0.21* Total_Data\n",
    "## Test Data Size= 0.09 * Total_Data\n",
    "\n",
    "# Augmentaions Used:\n",
    "## Each Image is rotated through 45 angles\n"
   ]
  },
  {
   "cell_type": "code",
   "execution_count": 2,
   "id": "00722ecd",
   "metadata": {
    "execution": {
     "iopub.execute_input": "2022-05-24T14:56:21.521905Z",
     "iopub.status.busy": "2022-05-24T14:56:21.521600Z",
     "iopub.status.idle": "2022-05-24T14:56:31.067929Z",
     "shell.execute_reply": "2022-05-24T14:56:31.066223Z"
    },
    "papermill": {
     "duration": 9.590942,
     "end_time": "2022-05-24T14:56:31.070035",
     "exception": false,
     "start_time": "2022-05-24T14:56:21.479093",
     "status": "completed"
    },
    "tags": []
   },
   "outputs": [
    {
     "data": {
      "text/html": [
       "<style type='text/css'>\n",
       ".datatable table.frame { margin-bottom: 0; }\n",
       ".datatable table.frame thead { border-bottom: none; }\n",
       ".datatable table.frame tr.coltypes td {  color: #FFFFFF;  line-height: 6px;  padding: 0 0.5em;}\n",
       ".datatable .bool    { background: #DDDD99; }\n",
       ".datatable .object  { background: #565656; }\n",
       ".datatable .int     { background: #5D9E5D; }\n",
       ".datatable .float   { background: #4040CC; }\n",
       ".datatable .str     { background: #CC4040; }\n",
       ".datatable .time    { background: #40CC40; }\n",
       ".datatable .row_index {  background: var(--jp-border-color3);  border-right: 1px solid var(--jp-border-color0);  color: var(--jp-ui-font-color3);  font-size: 9px;}\n",
       ".datatable .frame tbody td { text-align: left; }\n",
       ".datatable .frame tr.coltypes .row_index {  background: var(--jp-border-color0);}\n",
       ".datatable th:nth-child(2) { padding-left: 12px; }\n",
       ".datatable .hellipsis {  color: var(--jp-cell-editor-border-color);}\n",
       ".datatable .vellipsis {  background: var(--jp-layout-color0);  color: var(--jp-cell-editor-border-color);}\n",
       ".datatable .na {  color: var(--jp-cell-editor-border-color);  font-size: 80%;}\n",
       ".datatable .sp {  opacity: 0.25;}\n",
       ".datatable .footer { font-size: 9px; }\n",
       ".datatable .frame_dimensions {  background: var(--jp-border-color3);  border-top: 1px solid var(--jp-border-color0);  color: var(--jp-ui-font-color3);  display: inline-block;  opacity: 0.6;  padding: 1px 10px 1px 5px;}\n",
       "</style>\n"
      ],
      "text/plain": [
       "<IPython.core.display.HTML object>"
      ]
     },
     "metadata": {},
     "output_type": "display_data"
    },
    {
     "name": "stdout",
     "output_type": "stream",
     "text": [
      "All modules have been imported\n"
     ]
    }
   ],
   "source": [
    "\n",
    "import numpy as np\n",
    "import pandas as pd\n",
    "import cv2\n",
    "from PIL import Image\n",
    "import scipy\n",
    "\n",
    "import tensorflow as tf\n",
    "from tensorflow.keras.applications import *\n",
    "from tensorflow.keras.optimizers import *\n",
    "from tensorflow.keras.losses import *\n",
    "from tensorflow.keras.layers import *\n",
    "from tensorflow.keras.models import *\n",
    "from tensorflow.keras.callbacks import *\n",
    "from tensorflow.keras.preprocessing.image import *\n",
    "from tensorflow.keras.utils import *\n",
    "# import pydot\n",
    "\n",
    "from sklearn.metrics import *\n",
    "from sklearn.model_selection import *\n",
    "import tensorflow.keras.backend as K\n",
    "\n",
    "from tqdm import tqdm, tqdm_notebook\n",
    "from colorama import Fore\n",
    "import json\n",
    "import matplotlib.pyplot as plt\n",
    "import seaborn as sns\n",
    "from glob import glob\n",
    "from skimage.io import *\n",
    "%config Completer.use_jedi = False\n",
    "import time\n",
    "from sklearn.decomposition import PCA\n",
    "from sklearn.svm import LinearSVC\n",
    "from sklearn.linear_model import LogisticRegression\n",
    "from sklearn.metrics import accuracy_score\n",
    "import lightgbm as lgb\n",
    "import xgboost as xgb\n",
    "\n",
    "print(\"All modules have been imported\")"
   ]
  },
  {
   "cell_type": "code",
   "execution_count": 3,
   "id": "0c77a841",
   "metadata": {
    "execution": {
     "iopub.execute_input": "2022-05-24T14:56:31.157911Z",
     "iopub.status.busy": "2022-05-24T14:56:31.157493Z",
     "iopub.status.idle": "2022-05-24T14:56:31.162334Z",
     "shell.execute_reply": "2022-05-24T14:56:31.161686Z"
    },
    "papermill": {
     "duration": 0.050054,
     "end_time": "2022-05-24T14:56:31.164177",
     "exception": false,
     "start_time": "2022-05-24T14:56:31.114123",
     "status": "completed"
    },
    "tags": []
   },
   "outputs": [],
   "source": [
    "sampling_seed=0\n",
    "size_4_training=5000\n",
    "img_size=224\n",
    "training_reshape=(-1, img_size, img_size, 3)\n",
    "epoch_4_test=10\n",
    "epoch1=10\n",
    "epoch2=3"
   ]
  },
  {
   "cell_type": "markdown",
   "id": "2af6333e",
   "metadata": {
    "papermill": {
     "duration": 0.041789,
     "end_time": "2022-05-24T14:56:31.248008",
     "exception": false,
     "start_time": "2022-05-24T14:56:31.206219",
     "status": "completed"
    },
    "tags": []
   },
   "source": [
    "Image labelling"
   ]
  },
  {
   "cell_type": "code",
   "execution_count": 4,
   "id": "f76b7af7",
   "metadata": {
    "execution": {
     "iopub.execute_input": "2022-05-24T14:56:31.333860Z",
     "iopub.status.busy": "2022-05-24T14:56:31.333441Z",
     "iopub.status.idle": "2022-05-24T15:01:52.045412Z",
     "shell.execute_reply": "2022-05-24T15:01:52.044452Z"
    },
    "papermill": {
     "duration": 320.758506,
     "end_time": "2022-05-24T15:01:52.048619",
     "exception": false,
     "start_time": "2022-05-24T14:56:31.290113",
     "status": "completed"
    },
    "tags": []
   },
   "outputs": [
    {
     "name": "stdout",
     "output_type": "stream",
     "text": [
      "['../input/breast-histopathology-images/IDC_regular_ps50_idx5/10295/0/10295_idx5_x1351_y1101_class0.png', '../input/breast-histopathology-images/IDC_regular_ps50_idx5/10295/0/10295_idx5_x1501_y501_class0.png', '../input/breast-histopathology-images/IDC_regular_ps50_idx5/10295/0/10295_idx5_x1501_y1101_class0.png', '../input/breast-histopathology-images/IDC_regular_ps50_idx5/10295/0/10295_idx5_x451_y901_class0.png', '../input/breast-histopathology-images/IDC_regular_ps50_idx5/10295/0/10295_idx5_x801_y451_class0.png', '../input/breast-histopathology-images/IDC_regular_ps50_idx5/10295/0/10295_idx5_x151_y1051_class0.png', '../input/breast-histopathology-images/IDC_regular_ps50_idx5/10295/0/10295_idx5_x1351_y901_class0.png', '../input/breast-histopathology-images/IDC_regular_ps50_idx5/10295/0/10295_idx5_x701_y651_class0.png', '../input/breast-histopathology-images/IDC_regular_ps50_idx5/10295/0/10295_idx5_x951_y1401_class0.png', '../input/breast-histopathology-images/IDC_regular_ps50_idx5/10295/0/10295_idx5_x601_y501_class0.png']\n"
     ]
    }
   ],
   "source": [
    "import random\n",
    "#make directory for labelling\n",
    "os.makedirs('../working/idc2/idc-minus/')     \n",
    "os.makedirs('../working/idc2/idc-plus/')  \n",
    "\n",
    "\n",
    "class0 = [] # 0 = idc+\n",
    "class1 = [] # 1 = idc-\n",
    "imagePatches = glob('../input/breast-histopathology-images/IDC_regular_ps50_idx5/**/*.png', recursive=True)\n",
    "for filename in imagePatches:\n",
    "    if filename.endswith(\"class0.png\"):\n",
    "         class0.append(filename)\n",
    "    else:\n",
    "        class1.append(filename)\n",
    "\n",
    "print(class0[0:10])\n",
    "\n",
    "#sampling 10000 images from class 0 and class 1 to train the model\n",
    "\n",
    "random.seed(sampling_seed)\n",
    "class0sample=random.sample(class0,size_4_training)\n",
    "class1sample=random.sample(class1,size_4_training)\n",
    "\n",
    "\n",
    "def read_and_save_data(path, file_name_array):\n",
    "    j=0\n",
    "    for i in file_name_array:\n",
    "        if i.endswith('.png'):\n",
    "          \n",
    "            \n",
    "            #second copy method\n",
    "            head, tail = os.path.split(i)\n",
    "            outputname=str(path+tail)\n",
    "            #outputname=str(path+str(j)+'.png')\n",
    "            #print(outputname)\n",
    "            shutil.copy(i, outputname)\n",
    "   \n",
    "            #print(status2)\n",
    "            \n",
    "            j=j+1\n",
    "            if j==120000:\n",
    "                break\n",
    "            \n",
    "   \n",
    "class0path='../working/idc2/idc-minus/'\n",
    "class1path='../working/idc2/idc-plus/'\n",
    "\n",
    "\n",
    "\n",
    "\n",
    "read_and_save_data(class0path,class0sample)\n",
    "read_and_save_data(class1path,class1sample)"
   ]
  },
  {
   "cell_type": "markdown",
   "id": "ce7e9db5",
   "metadata": {
    "papermill": {
     "duration": 0.041637,
     "end_time": "2022-05-24T15:01:52.134589",
     "exception": false,
     "start_time": "2022-05-24T15:01:52.092952",
     "status": "completed"
    },
    "tags": []
   },
   "source": []
  },
  {
   "cell_type": "code",
   "execution_count": null,
   "id": "a917e0ec",
   "metadata": {
    "papermill": {
     "duration": 0.041745,
     "end_time": "2022-05-24T15:01:52.219050",
     "exception": false,
     "start_time": "2022-05-24T15:01:52.177305",
     "status": "completed"
    },
    "tags": []
   },
   "outputs": [],
   "source": [
    "\n"
   ]
  },
  {
   "cell_type": "code",
   "execution_count": 5,
   "id": "a07437bc",
   "metadata": {
    "execution": {
     "iopub.execute_input": "2022-05-24T15:01:52.304584Z",
     "iopub.status.busy": "2022-05-24T15:01:52.304305Z",
     "iopub.status.idle": "2022-05-24T15:01:52.308290Z",
     "shell.execute_reply": "2022-05-24T15:01:52.307448Z"
    },
    "papermill": {
     "duration": 0.049267,
     "end_time": "2022-05-24T15:01:52.310295",
     "exception": false,
     "start_time": "2022-05-24T15:01:52.261028",
     "status": "completed"
    },
    "tags": []
   },
   "outputs": [],
   "source": [
    "\n",
    "from PIL import Image\n",
    "import glob\n"
   ]
  },
  {
   "cell_type": "code",
   "execution_count": null,
   "id": "a39483ec",
   "metadata": {
    "papermill": {
     "duration": 0.041732,
     "end_time": "2022-05-24T15:01:52.394570",
     "exception": false,
     "start_time": "2022-05-24T15:01:52.352838",
     "status": "completed"
    },
    "tags": []
   },
   "outputs": [],
   "source": []
  },
  {
   "cell_type": "code",
   "execution_count": null,
   "id": "987f647e",
   "metadata": {
    "papermill": {
     "duration": 0.041833,
     "end_time": "2022-05-24T15:01:52.478554",
     "exception": false,
     "start_time": "2022-05-24T15:01:52.436721",
     "status": "completed"
    },
    "tags": []
   },
   "outputs": [],
   "source": []
  },
  {
   "cell_type": "code",
   "execution_count": 6,
   "id": "088905b6",
   "metadata": {
    "execution": {
     "iopub.execute_input": "2022-05-24T15:01:52.564163Z",
     "iopub.status.busy": "2022-05-24T15:01:52.563445Z",
     "iopub.status.idle": "2022-05-24T15:01:52.567594Z",
     "shell.execute_reply": "2022-05-24T15:01:52.566757Z"
    },
    "papermill": {
     "duration": 0.049098,
     "end_time": "2022-05-24T15:01:52.569489",
     "exception": false,
     "start_time": "2022-05-24T15:01:52.520391",
     "status": "completed"
    },
    "tags": []
   },
   "outputs": [],
   "source": [
    "import os #Operating System\n",
    "import sys #System\n",
    "# train_generator = train_datagen.flow(x_train, y_train, batch_size =)\n",
    "# val_generator = val_datagen.flow(x_val, y_val, batch_size = 64)\n",
    "# test_generator=test_datagen.flow(x_test,y_test,batch_size = 64)\n"
   ]
  },
  {
   "cell_type": "markdown",
   "id": "327f520a",
   "metadata": {
    "papermill": {
     "duration": 0.041594,
     "end_time": "2022-05-24T15:01:52.652695",
     "exception": false,
     "start_time": "2022-05-24T15:01:52.611101",
     "status": "completed"
    },
    "tags": []
   },
   "source": [
    "#import image"
   ]
  },
  {
   "cell_type": "code",
   "execution_count": 7,
   "id": "e99d1de9",
   "metadata": {
    "execution": {
     "iopub.execute_input": "2022-05-24T15:01:52.738298Z",
     "iopub.status.busy": "2022-05-24T15:01:52.737699Z",
     "iopub.status.idle": "2022-05-24T15:01:52.744773Z",
     "shell.execute_reply": "2022-05-24T15:01:52.743929Z"
    },
    "papermill": {
     "duration": 0.052285,
     "end_time": "2022-05-24T15:01:52.746652",
     "exception": false,
     "start_time": "2022-05-24T15:01:52.694367",
     "status": "completed"
    },
    "tags": []
   },
   "outputs": [],
   "source": [
    "import cv2\n",
    "'''\n",
    "def readImage(path, X, Y, label):\n",
    "    j=0\n",
    " \n",
    "    for i in os.listdir(path):\n",
    "        imgname=path+i\n",
    "        #print(imgname)\n",
    "        img = cv2.imread(imgname, cv2.IMREAD_COLOR)\n",
    "        img =cv2.resize(img,(50, 50))\n",
    "        X.append(img)\n",
    "        Y.append(label)\n",
    "        j=j+1\n",
    "        #if j==10:\n",
    "        #    break\n",
    "        \n",
    "    return X, Y\n",
    "    '''\n",
    "def readImage(path, tag):\n",
    "    j=0\n",
    "    image_array = []\n",
    "    for i in os.listdir(path):\n",
    "        imgname=path+i\n",
    "        #print(imgname)\n",
    "        img = cv2.imread(imgname, cv2.IMREAD_COLOR)\n",
    "        img_resized = cv2.resize(img, (img_size,img_size), interpolation=cv2.INTER_LINEAR)\n",
    "        image_array.append([img_resized, tag])\n",
    "        #print(img[1])\n",
    "        j=j+1\n",
    "        #if j==10:\n",
    "        #    break\n",
    "        \n",
    "    return image_array"
   ]
  },
  {
   "cell_type": "code",
   "execution_count": 8,
   "id": "aeb45a7f",
   "metadata": {
    "execution": {
     "iopub.execute_input": "2022-05-24T15:01:52.832156Z",
     "iopub.status.busy": "2022-05-24T15:01:52.831888Z",
     "iopub.status.idle": "2022-05-24T15:01:56.782183Z",
     "shell.execute_reply": "2022-05-24T15:01:56.781036Z"
    },
    "papermill": {
     "duration": 3.995692,
     "end_time": "2022-05-24T15:01:56.784384",
     "exception": false,
     "start_time": "2022-05-24T15:01:52.788692",
     "status": "completed"
    },
    "tags": []
   },
   "outputs": [
    {
     "name": "stdout",
     "output_type": "stream",
     "text": [
      "(5000, 2)\n",
      "(10000, 2)\n",
      "(10000, 224, 224, 3)\n"
     ]
    }
   ],
   "source": [
    "import numpy as np\n",
    "\n",
    "\n",
    "class0_array = readImage(class0path, 0)\n",
    "class1_array = readImage(class1path, 1)\n",
    "class0_array=np.array(class0_array)\n",
    "class1_array=np.array(class1_array)\n",
    "combined_data = np.concatenate((class0_array, class1_array))\n",
    "random.seed(41)\n",
    "random.shuffle(combined_data)\n",
    "print(class0_array.shape)\n",
    "print(combined_data.shape)\n",
    "\n",
    "X = []\n",
    "y = []\n",
    "\n",
    "for features,label in combined_data:\n",
    "    X.append(features)\n",
    "    y.append(label)\n",
    "#print(X.shape)\n",
    "#pring(y.shape)\n",
    "\n",
    "# reshape X data\n",
    "X = np.array(X).reshape(training_reshape)\n",
    "print(X.shape)"
   ]
  },
  {
   "cell_type": "code",
   "execution_count": 9,
   "id": "f939aaf6",
   "metadata": {
    "execution": {
     "iopub.execute_input": "2022-05-24T15:01:56.872303Z",
     "iopub.status.busy": "2022-05-24T15:01:56.871559Z",
     "iopub.status.idle": "2022-05-24T15:01:57.675240Z",
     "shell.execute_reply": "2022-05-24T15:01:57.674019Z"
    },
    "papermill": {
     "duration": 0.851284,
     "end_time": "2022-05-24T15:01:57.678694",
     "exception": false,
     "start_time": "2022-05-24T15:01:56.827410",
     "status": "completed"
    },
    "tags": []
   },
   "outputs": [
    {
     "name": "stdout",
     "output_type": "stream",
     "text": [
      "(7000, 224, 224, 3) (900, 224, 224, 3) (2100, 224, 224, 3) (7000, 2) (900, 2) (2100, 2)\n"
     ]
    }
   ],
   "source": [
    "X_train, X_test1, y_train, y_test1 = train_test_split(X, y, test_size=0.3, random_state=42)\n",
    "X_val, X_test, y_val, y_test = train_test_split(X_test1, y_test1, test_size=0.3, random_state=42)\n",
    "y_train = to_categorical(y_train)\n",
    "y_test = to_categorical(y_test)\n",
    "y_val = to_categorical(y_val)\n",
    "print(X_train.shape, X_test.shape, X_val.shape, y_train.shape, y_test.shape, y_val.shape)"
   ]
  },
  {
   "cell_type": "code",
   "execution_count": 10,
   "id": "3665c0e2",
   "metadata": {
    "execution": {
     "iopub.execute_input": "2022-05-24T15:01:57.767926Z",
     "iopub.status.busy": "2022-05-24T15:01:57.767311Z",
     "iopub.status.idle": "2022-05-24T15:01:57.772920Z",
     "shell.execute_reply": "2022-05-24T15:01:57.772291Z"
    },
    "papermill": {
     "duration": 0.052124,
     "end_time": "2022-05-24T15:01:57.774759",
     "exception": false,
     "start_time": "2022-05-24T15:01:57.722635",
     "status": "completed"
    },
    "tags": []
   },
   "outputs": [],
   "source": [
    "#Callbacks\n",
    "c2=tf.keras.callbacks.EarlyStopping(\n",
    "    monitor=\"val_loss\",\n",
    "    min_delta=0,\n",
    "    patience=6,\n",
    "    mode=\"auto\",\n",
    "    baseline=None,\n",
    "    restore_best_weights=True,\n",
    ")\n",
    "\n",
    "c3=tf.keras.callbacks.ReduceLROnPlateau(\n",
    "    monitor=\"val_loss\",\n",
    "    factor=0.1,\n",
    "    patience=6,\n",
    "    mode=\"auto\",\n",
    "    min_delta=0.0001,\n",
    "    cooldown=0,\n",
    "    min_lr=0.001\n",
    ")\n",
    "nClasses=2"
   ]
  },
  {
   "cell_type": "markdown",
   "id": "7570d478",
   "metadata": {
    "papermill": {
     "duration": 0.043236,
     "end_time": "2022-05-24T15:01:57.861131",
     "exception": false,
     "start_time": "2022-05-24T15:01:57.817895",
     "status": "completed"
    },
    "tags": []
   },
   "source": [
    "# Model configure"
   ]
  },
  {
   "cell_type": "code",
   "execution_count": 11,
   "id": "55a1ccbf",
   "metadata": {
    "execution": {
     "iopub.execute_input": "2022-05-24T15:01:57.953254Z",
     "iopub.status.busy": "2022-05-24T15:01:57.952829Z",
     "iopub.status.idle": "2022-05-24T15:02:03.633276Z",
     "shell.execute_reply": "2022-05-24T15:02:03.632063Z"
    },
    "papermill": {
     "duration": 5.728735,
     "end_time": "2022-05-24T15:02:03.636211",
     "exception": false,
     "start_time": "2022-05-24T15:01:57.907476",
     "status": "completed"
    },
    "tags": []
   },
   "outputs": [
    {
     "name": "stderr",
     "output_type": "stream",
     "text": [
      "2022-05-24 15:01:58.019221: I tensorflow/core/common_runtime/process_util.cc:146] Creating new thread pool with default inter op setting: 2. Tune using inter_op_parallelism_threads for best performance.\n"
     ]
    },
    {
     "name": "stdout",
     "output_type": "stream",
     "text": [
      "Downloading data from https://storage.googleapis.com/tensorflow/keras-applications/resnet/resnet101_weights_tf_dim_ordering_tf_kernels_notop.h5\n",
      "171450368/171446536 [==============================] - 1s 0us/step\n",
      "171458560/171446536 [==============================] - 1s 0us/step\n",
      "Model: \"sequential\"\n",
      "_________________________________________________________________\n",
      "Layer (type)                 Output Shape              Param #   \n",
      "=================================================================\n",
      "resnet101 (Functional)       (None, 2048)              42658176  \n",
      "_________________________________________________________________\n",
      "flatten (Flatten)            (None, 2048)              0         \n",
      "_________________________________________________________________\n",
      "batch_normalization (BatchNo (None, 2048)              8192      \n",
      "_________________________________________________________________\n",
      "dense (Dense)                (None, 4096)              8392704   \n",
      "_________________________________________________________________\n",
      "batch_normalization_1 (Batch (None, 4096)              16384     \n",
      "_________________________________________________________________\n",
      "dense_1 (Dense)              (None, 4096)              16781312  \n",
      "_________________________________________________________________\n",
      "dropout (Dropout)            (None, 4096)              0         \n",
      "_________________________________________________________________\n",
      "dense_2 (Dense)              (None, 2096)              8587312   \n",
      "_________________________________________________________________\n",
      "dense_3 (Dense)              (None, 2)                 4194      \n",
      "=================================================================\n",
      "Total params: 76,448,274\n",
      "Trainable params: 33,777,810\n",
      "Non-trainable params: 42,670,464\n",
      "_________________________________________________________________\n"
     ]
    }
   ],
   "source": [
    "RESNET50_POOLING_AVERAGE = 'avg'\n",
    "DENSE_LAYER_ACTIVATION = 'sigmoid'\n",
    "OBJECTIVE_FUNCTION = 'categorical_crossentropy'\n",
    "\n",
    "# Common accuracy metric for all outputs, but can use different metrics for different output\n",
    "LOSS_METRICS = ['accuracy']\n",
    "\n",
    "# EARLY_STOP_PATIENCE must be < NUM_EPOCHS\n",
    "NUM_EPOCHS = 30\n",
    "EARLY_STOP_PATIENCE = 3\n",
    "#resnet_weights_path = '../input/resnet50/resnet50_weights_tf_dim_ordering_tf_kernels_notop.h5'\n",
    "\n",
    "from keras.applications import resnet\n",
    "base_model=resnet.ResNet101(include_top = False, pooling = RESNET50_POOLING_AVERAGE, weights = 'imagenet')\n",
    "base_model.trainable = False\n",
    "model=Sequential()\n",
    "model.add(base_model)\n",
    "model.add(Flatten())\n",
    "model.add(BatchNormalization())\n",
    "model.add(Dense(4096,kernel_initializer='he_uniform'))\n",
    "model.add(BatchNormalization())\n",
    "model.add(Dense(4096,activation=\"relu\"))\n",
    "#model.add(BatchNormalization())\n",
    "#model.add(Activation('relu'))\n",
    "model.add(Dropout(0.2))\n",
    "model.add(Dense(2096,activation=\"relu\"))\n",
    "model.add(Dense(2, activation='sigmoid'))\n",
    "#model = Model(inputs=resnet50_base_model.input, outputs=predictions)\n",
    "model.summary()\n"
   ]
  },
  {
   "cell_type": "code",
   "execution_count": 12,
   "id": "5e6b9fd0",
   "metadata": {
    "execution": {
     "iopub.execute_input": "2022-05-24T15:02:03.746745Z",
     "iopub.status.busy": "2022-05-24T15:02:03.746471Z",
     "iopub.status.idle": "2022-05-24T15:02:05.105942Z",
     "shell.execute_reply": "2022-05-24T15:02:05.105138Z"
    },
    "papermill": {
     "duration": 1.418174,
     "end_time": "2022-05-24T15:02:05.108203",
     "exception": false,
     "start_time": "2022-05-24T15:02:03.690029",
     "status": "completed"
    },
    "tags": []
   },
   "outputs": [
    {
     "data": {
      "image/png": "[encoded data removed]",
      "text/plain": [
       "<IPython.core.display.Image object>"
      ]
     },
     "execution_count": 12,
     "metadata": {},
     "output_type": "execute_result"
    }
   ],
   "source": [
    "from tensorflow.keras.utils import plot_model\n",
    "from IPython.display import Image\n",
    "plot_model(model, to_file='convnet.png', show_shapes=True,show_layer_names=True)\n",
    "Image(filename='convnet.png') "
   ]
  },
  {
   "cell_type": "code",
   "execution_count": 13,
   "id": "9a027d38",
   "metadata": {
    "execution": {
     "iopub.execute_input": "2022-05-24T15:02:05.226072Z",
     "iopub.status.busy": "2022-05-24T15:02:05.225521Z",
     "iopub.status.idle": "2022-05-24T15:02:05.251936Z",
     "shell.execute_reply": "2022-05-24T15:02:05.251203Z"
    },
    "papermill": {
     "duration": 0.088506,
     "end_time": "2022-05-24T15:02:05.254087",
     "exception": false,
     "start_time": "2022-05-24T15:02:05.165581",
     "status": "completed"
    },
    "tags": []
   },
   "outputs": [],
   "source": [
    "callbacks1 = [EarlyStopping(monitor='val_loss', patience=5, verbose=1), ModelCheckpoint('model.hdf5', save_best_only=True)]\n",
    "opt = Adam(learning_rate=0.001)\n",
    "model.compile(loss='categorical_crossentropy', optimizer=opt, metrics=['accuracy'])"
   ]
  },
  {
   "cell_type": "code",
   "execution_count": 14,
   "id": "7a72f7d2",
   "metadata": {
    "execution": {
     "iopub.execute_input": "2022-05-24T15:02:05.370341Z",
     "iopub.status.busy": "2022-05-24T15:02:05.369902Z",
     "iopub.status.idle": "2022-05-24T17:06:26.553854Z",
     "shell.execute_reply": "2022-05-24T17:06:26.551480Z"
    },
    "papermill": {
     "duration": 7461.856131,
     "end_time": "2022-05-24T17:06:27.167643",
     "exception": false,
     "start_time": "2022-05-24T15:02:05.311512",
     "status": "completed"
    },
    "tags": []
   },
   "outputs": [
    {
     "name": "stdout",
     "output_type": "stream",
     "text": [
      "CPU times: user 2 µs, sys: 1 µs, total: 3 µs\n",
      "Wall time: 7.39 µs\n"
     ]
    },
    {
     "name": "stderr",
     "output_type": "stream",
     "text": [
      "2022-05-24 15:02:06.463396: I tensorflow/compiler/mlir/mlir_graph_optimization_pass.cc:185] None of the MLIR Optimization Passes are enabled (registered 2)\n"
     ]
    },
    {
     "name": "stdout",
     "output_type": "stream",
     "text": [
      "Epoch 1/10\n",
      "219/219 [==============================] - 1067s 5s/step - loss: 0.4718 - accuracy: 0.8729 - val_loss: 0.3167 - val_accuracy: 0.8833\n",
      "Epoch 2/10\n",
      "219/219 [==============================] - 1062s 5s/step - loss: 0.2589 - accuracy: 0.9020 - val_loss: 0.3019 - val_accuracy: 0.8833\n",
      "Epoch 3/10\n",
      "219/219 [==============================] - 1064s 5s/step - loss: 0.2480 - accuracy: 0.9006 - val_loss: 0.3245 - val_accuracy: 0.8767\n",
      "Epoch 4/10\n",
      "219/219 [==============================] - 1063s 5s/step - loss: 0.2171 - accuracy: 0.9154 - val_loss: 0.3477 - val_accuracy: 0.8778\n",
      "Epoch 5/10\n",
      "219/219 [==============================] - 1065s 5s/step - loss: 0.2172 - accuracy: 0.9143 - val_loss: 0.3714 - val_accuracy: 0.8922\n",
      "Epoch 6/10\n",
      "219/219 [==============================] - 1067s 5s/step - loss: 0.1907 - accuracy: 0.9293 - val_loss: 0.3447 - val_accuracy: 0.9067\n",
      "Epoch 7/10\n",
      "219/219 [==============================] - 1067s 5s/step - loss: 0.1795 - accuracy: 0.9337 - val_loss: 0.4185 - val_accuracy: 0.8878\n",
      "Epoch 00007: early stopping\n"
     ]
    }
   ],
   "source": [
    "%time\n",
    "history1=model.fit(X_train, y_train,validation_data=(X_test, y_test),verbose = 1,epochs = epoch1,callbacks=callbacks1)"
   ]
  },
  {
   "cell_type": "code",
   "execution_count": 15,
   "id": "806242a7",
   "metadata": {
    "execution": {
     "iopub.execute_input": "2022-05-24T17:06:28.419818Z",
     "iopub.status.busy": "2022-05-24T17:06:28.419343Z",
     "iopub.status.idle": "2022-05-24T17:06:28.432915Z",
     "shell.execute_reply": "2022-05-24T17:06:28.432086Z"
    },
    "papermill": {
     "duration": 0.647715,
     "end_time": "2022-05-24T17:06:28.434846",
     "exception": false,
     "start_time": "2022-05-24T17:06:27.787131",
     "status": "completed"
    },
    "tags": []
   },
   "outputs": [],
   "source": [
    "def f1_score(y_true, y_pred): #taken from old keras source code\n",
    "    true_positives = K.sum(K.round(K.clip(y_true * y_pred, 0, 1)))\n",
    "    possible_positives = K.sum(K.round(K.clip(y_true, 0, 1)))\n",
    "    predicted_positives = K.sum(K.round(K.clip(y_pred, 0, 1)))\n",
    "    precision = true_positives / (predicted_positives + K.epsilon())\n",
    "    recall = true_positives / (possible_positives + K.epsilon())\n",
    "    f1_val = 2*(precision*recall)/(precision+recall+K.epsilon())\n",
    "    return f1_val"
   ]
  },
  {
   "cell_type": "code",
   "execution_count": 16,
   "id": "982d8cc2",
   "metadata": {
    "execution": {
     "iopub.execute_input": "2022-05-24T17:06:29.699506Z",
     "iopub.status.busy": "2022-05-24T17:06:29.698969Z",
     "iopub.status.idle": "2022-05-24T17:06:36.233473Z",
     "shell.execute_reply": "2022-05-24T17:06:36.232680Z"
    },
    "papermill": {
     "duration": 7.178075,
     "end_time": "2022-05-24T17:06:36.235968",
     "exception": false,
     "start_time": "2022-05-24T17:06:29.057893",
     "status": "completed"
    },
    "tags": []
   },
   "outputs": [],
   "source": [
    "METRICS = [\n",
    "      tf.keras.metrics.BinaryAccuracy(name='accuracy'),\n",
    "      tf.keras.metrics.Precision(name='precision'),\n",
    "      tf.keras.metrics.Recall(name='recall'),  \n",
    "      tf.keras.metrics.AUC(name='auc'),\n",
    "        f1_score,\n",
    "]"
   ]
  },
  {
   "cell_type": "code",
   "execution_count": null,
   "id": "753789e1",
   "metadata": {
    "execution": {
     "iopub.execute_input": "2022-05-06T15:08:04.489795Z",
     "iopub.status.busy": "2022-05-06T15:08:04.488846Z",
     "iopub.status.idle": "2022-05-06T15:08:04.918152Z",
     "shell.execute_reply": "2022-05-06T15:08:04.917046Z",
     "shell.execute_reply.started": "2022-05-06T15:08:04.489742Z"
    },
    "papermill": {
     "duration": 0.617224,
     "end_time": "2022-05-24T17:06:37.473041",
     "exception": false,
     "start_time": "2022-05-24T17:06:36.855817",
     "status": "completed"
    },
    "tags": []
   },
   "outputs": [],
   "source": []
  },
  {
   "cell_type": "code",
   "execution_count": 17,
   "id": "75b5425d",
   "metadata": {
    "execution": {
     "iopub.execute_input": "2022-05-24T17:06:38.713298Z",
     "iopub.status.busy": "2022-05-24T17:06:38.713014Z",
     "iopub.status.idle": "2022-05-24T17:11:18.559551Z",
     "shell.execute_reply": "2022-05-24T17:11:18.558504Z"
    },
    "papermill": {
     "duration": 281.09267,
     "end_time": "2022-05-24T17:11:19.185645",
     "exception": false,
     "start_time": "2022-05-24T17:06:38.092975",
     "status": "completed"
    },
    "tags": []
   },
   "outputs": [
    {
     "data": {
      "image/png": "[encoded data removed]",
      "text/plain": [
       "<Figure size 576x576 with 2 Axes>"
      ]
     },
     "metadata": {
      "needs_background": "light"
     },
     "output_type": "display_data"
    }
   ],
   "source": [
    "from sklearn.metrics import confusion_matrix\n",
    "import seaborn as sns\n",
    "\n",
    "Y_pred = model.predict(X_val)\n",
    "Y_pred_classes = np.argmax(Y_pred,axis = 1) \n",
    "Y_true = np.argmax(y_val,axis = 1) \n",
    "\n",
    "confusion_mtx = confusion_matrix(Y_true, Y_pred_classes) \n",
    "\n",
    "f,ax = plt.subplots(figsize=(8, 8))\n",
    "sns.heatmap(confusion_mtx, annot=True, linewidths=0.01,cmap=\"OrRd\",linecolor=\"black\", fmt= '.1f',ax=ax)\n",
    "plt.xlabel(\"Predicted Label\")\n",
    "plt.ylabel(\"True Label\")\n",
    "plt.title(\"Confusion Matrix\")\n",
    "plt.show()"
   ]
  },
  {
   "cell_type": "code",
   "execution_count": 18,
   "id": "a265c1de",
   "metadata": {
    "execution": {
     "iopub.execute_input": "2022-05-24T17:11:20.432421Z",
     "iopub.status.busy": "2022-05-24T17:11:20.431890Z",
     "iopub.status.idle": "2022-05-24T17:11:20.445441Z",
     "shell.execute_reply": "2022-05-24T17:11:20.444491Z"
    },
    "papermill": {
     "duration": 0.638995,
     "end_time": "2022-05-24T17:11:20.447377",
     "exception": false,
     "start_time": "2022-05-24T17:11:19.808382",
     "status": "completed"
    },
    "tags": []
   },
   "outputs": [
    {
     "name": "stdout",
     "output_type": "stream",
     "text": [
      "              precision    recall  f1-score   support\n",
      "\n",
      "           0       0.93      0.98      0.96      1806\n",
      "           1       0.83      0.55      0.67       294\n",
      "\n",
      "    accuracy                           0.92      2100\n",
      "   macro avg       0.88      0.77      0.81      2100\n",
      "weighted avg       0.92      0.92      0.92      2100\n",
      "\n"
     ]
    }
   ],
   "source": [
    "from sklearn.metrics import classification_report\n",
    "\n",
    "print(classification_report(Y_true, Y_pred_classes))"
   ]
  },
  {
   "cell_type": "markdown",
   "id": "310e5aa3",
   "metadata": {
    "papermill": {
     "duration": 0.623475,
     "end_time": "2022-05-24T17:11:21.697637",
     "exception": false,
     "start_time": "2022-05-24T17:11:21.074162",
     "status": "completed"
    },
    "tags": []
   },
   "source": []
  },
  {
   "cell_type": "code",
   "execution_count": null,
   "id": "59022e4b",
   "metadata": {
    "execution": {
     "iopub.execute_input": "2022-05-06T15:08:41.911737Z",
     "iopub.status.busy": "2022-05-06T15:08:41.911171Z",
     "iopub.status.idle": "2022-05-06T15:08:41.922881Z",
     "shell.execute_reply": "2022-05-06T15:08:41.922041Z",
     "shell.execute_reply.started": "2022-05-06T15:08:41.911677Z"
    },
    "papermill": {
     "duration": 0.62201,
     "end_time": "2022-05-24T17:11:22.940316",
     "exception": false,
     "start_time": "2022-05-24T17:11:22.318306",
     "status": "completed"
    },
    "tags": []
   },
   "outputs": [],
   "source": []
  },
  {
   "cell_type": "code",
   "execution_count": 19,
   "id": "ca0945fb",
   "metadata": {
    "execution": {
     "iopub.execute_input": "2022-05-24T17:11:24.190441Z",
     "iopub.status.busy": "2022-05-24T17:11:24.189660Z",
     "iopub.status.idle": "2022-05-24T17:11:24.205105Z",
     "shell.execute_reply": "2022-05-24T17:11:24.204233Z"
    },
    "papermill": {
     "duration": 0.64213,
     "end_time": "2022-05-24T17:11:24.207374",
     "exception": false,
     "start_time": "2022-05-24T17:11:23.565244",
     "status": "completed"
    },
    "tags": []
   },
   "outputs": [],
   "source": [
    "from sklearn.metrics import f1_score, roc_auc_score, cohen_kappa_score, precision_score, recall_score, accuracy_score, confusion_matrix\n",
    "def get_accuracy_metrics(model, X_train, y_train, X_val, y_val, X_test, y_test):\n",
    "    y_train=np.argmax(y_train, axis=1)\n",
    "    y_test=np.argmax(y_test, axis=1)\n",
    "    y_val=np.argmax(y_val, axis=1)\n",
    "    y_train_pred=np.argmax(model.predict(X_train),axis=1)\n",
    "    y_test_pred=np.argmax(model.predict(X_test),axis=1)\n",
    "    y_val_pred=np.argmax(model.predict(X_val),axis=1)\n",
    "    #ps:all the Y value must turn back to 1 dimension array. otherwise, the scoring functions in sklearn cannot compare, and will give an error\n",
    "    #classification metrics can't handle a mix of continuous-multioutput and multi-label-indicator targets\n",
    "    \n",
    "    print(\"Train accuracy Score------------>\")\n",
    "    print (\"{0:.3f}\".format(accuracy_score(y_train, y_train_pred)*100), \"%\")\n",
    "    \n",
    "    print(\"Val accuracy Score--------->\")\n",
    "    \n",
    "    print(\"{0:.3f}\".format(accuracy_score(y_val, y_val_pred)*100), \"%\")\n",
    "    \n",
    "  \n",
    "    print(\"Test accuracy Score--------->\")\n",
    "    print(\"{0:.3f}\".format(accuracy_score(y_test, y_test_pred)*100), \"%\")\n",
    "    \n",
    "    print(\"F1 Score--------------->\")\n",
    "    print(\"{0:.3f}\".format(f1_score(y_test, y_test_pred, average = 'weighted')*100), \"%\")\n",
    "    \n",
    "    print(\"Cohen Kappa Score------------->\")\n",
    "    print(\"{0:.3f}\".format(cohen_kappa_score(y_test, y_test_pred)*100), \"%\")\n",
    "    \n",
    "    print(\"Recall-------------->\")\n",
    "    print(\"{0:.3f}\".format(recall_score(y_test, y_test_pred, average = 'weighted')*100), \"%\")\n",
    "    \n",
    "    print(\"Precision-------------->\")\n",
    "    print(\"{0:.3f}\".format(precision_score(y_test, y_test_pred, average = 'weighted')*100), \"%\")\n",
    "    \n",
    "    cf_matrix_test = confusion_matrix(y_test, y_test_pred)\n",
    "    cf_matrix_val = confusion_matrix(y_val, y_val_pred)\n",
    "    \n",
    "    plt.figure(figsize = (12, 6))\n",
    "    plt.subplot(121)\n",
    "    sns.heatmap(cf_matrix_val, annot=True, cmap='Blues')\n",
    "    plt.title(\"Val Confusion matrix\")\n",
    "    \n",
    "    plt.subplot(122)\n",
    "    sns.heatmap(cf_matrix_test, annot=True, cmap='Blues')\n",
    "    plt.title(\"Test Confusion matrix\")\n",
    "    \n",
    "    plt.show()"
   ]
  },
  {
   "cell_type": "code",
   "execution_count": null,
   "id": "048445c5",
   "metadata": {
    "papermill": {
     "duration": 0.623309,
     "end_time": "2022-05-24T17:11:25.455226",
     "exception": false,
     "start_time": "2022-05-24T17:11:24.831917",
     "status": "completed"
    },
    "tags": []
   },
   "outputs": [],
   "source": []
  },
  {
   "cell_type": "code",
   "execution_count": 20,
   "id": "4401a8ab",
   "metadata": {
    "execution": {
     "iopub.execute_input": "2022-05-24T17:11:26.735696Z",
     "iopub.status.busy": "2022-05-24T17:11:26.735244Z",
     "iopub.status.idle": "2022-05-24T17:33:21.884704Z",
     "shell.execute_reply": "2022-05-24T17:33:21.883803Z"
    },
    "papermill": {
     "duration": 1316.215127,
     "end_time": "2022-05-24T17:33:22.295089",
     "exception": false,
     "start_time": "2022-05-24T17:11:26.079962",
     "status": "completed"
    },
    "tags": []
   },
   "outputs": [
    {
     "name": "stdout",
     "output_type": "stream",
     "text": [
      "Train accuracy Score------------>\n",
      "94.743 %\n",
      "Val accuracy Score--------->\n",
      "92.190 %\n",
      "Test accuracy Score--------->\n",
      "88.778 %\n",
      "F1 Score--------------->\n",
      "87.710 %\n",
      "Cohen Kappa Score------------->\n",
      "53.628 %\n",
      "Recall-------------->\n",
      "88.778 %\n",
      "Precision-------------->\n",
      "87.964 %\n"
     ]
    },
    {
     "data": {
      "image/png": "[encoded data removed]",
      "text/plain": [
       "<Figure size 864x432 with 4 Axes>"
      ]
     },
     "metadata": {
      "needs_background": "light"
     },
     "output_type": "display_data"
    }
   ],
   "source": [
    "get_accuracy_metrics(model,  X_train, y_train, X_val, y_val, X_test, y_test)"
   ]
  },
  {
   "cell_type": "code",
   "execution_count": 21,
   "id": "dae12bc6",
   "metadata": {
    "execution": {
     "iopub.execute_input": "2022-05-24T17:33:23.553798Z",
     "iopub.status.busy": "2022-05-24T17:33:23.553222Z",
     "iopub.status.idle": "2022-05-24T17:33:23.894665Z",
     "shell.execute_reply": "2022-05-24T17:33:23.893790Z"
    },
    "papermill": {
     "duration": 0.976705,
     "end_time": "2022-05-24T17:33:23.897201",
     "exception": false,
     "start_time": "2022-05-24T17:33:22.920496",
     "status": "completed"
    },
    "tags": []
   },
   "outputs": [
    {
     "data": {
      "image/png": "[encoded data removed]",
      "text/plain": [
       "<Figure size 864x432 with 2 Axes>"
      ]
     },
     "metadata": {
      "needs_background": "light"
     },
     "output_type": "display_data"
    }
   ],
   "source": [
    "import matplotlib.pyplot as plt\n",
    "import seaborn as sns\n",
    "plt.figure(figsize = (12, 6))\n",
    "plt.subplot(121)\n",
    "#plotting the Accuracy of test and training sets\n",
    "plt.plot(history1.history['accuracy'])\n",
    "plt.plot(history1.history['val_accuracy'])\n",
    "plt.title('1st training Model Accuracy')\n",
    "plt.ylabel('accuracy')\n",
    "plt.xlabel('epoch')\n",
    "plt.legend(['train', 'test'], loc='upper left')\n",
    "\n",
    "plt.subplot(122)\n",
    "#plotting the loss of test and training sets\n",
    "plt.plot(history1.history['loss'])\n",
    "plt.plot(history1.history['val_loss'])\n",
    "plt.title('1st training Model Loss')\n",
    "plt.ylabel('loss')\n",
    "plt.xlabel('epoch')\n",
    "plt.legend(['train', 'test'], loc='upper left')\n",
    "plt.show()"
   ]
  },
  {
   "cell_type": "markdown",
   "id": "9a64a660",
   "metadata": {
    "papermill": {
     "duration": 0.628262,
     "end_time": "2022-05-24T17:33:25.149600",
     "exception": false,
     "start_time": "2022-05-24T17:33:24.521338",
     "status": "completed"
    },
    "tags": []
   },
   "source": [
    "# Second Training Fine Tune"
   ]
  },
  {
   "cell_type": "code",
   "execution_count": 22,
   "id": "cb4b1f5f",
   "metadata": {
    "execution": {
     "iopub.execute_input": "2022-05-24T17:33:26.503683Z",
     "iopub.status.busy": "2022-05-24T17:33:26.503429Z",
     "iopub.status.idle": "2022-05-24T17:33:26.521782Z",
     "shell.execute_reply": "2022-05-24T17:33:26.521199Z"
    },
    "papermill": {
     "duration": 0.74366,
     "end_time": "2022-05-24T17:33:26.523692",
     "exception": false,
     "start_time": "2022-05-24T17:33:25.780032",
     "status": "completed"
    },
    "tags": []
   },
   "outputs": [],
   "source": [
    "for model1 in model.layers:\n",
    "    model1.trainable = True"
   ]
  },
  {
   "cell_type": "code",
   "execution_count": 23,
   "id": "8e0ce932",
   "metadata": {
    "execution": {
     "iopub.execute_input": "2022-05-24T17:33:27.787201Z",
     "iopub.status.busy": "2022-05-24T17:33:27.786913Z",
     "iopub.status.idle": "2022-05-24T17:33:27.793069Z",
     "shell.execute_reply": "2022-05-24T17:33:27.792230Z"
    },
    "papermill": {
     "duration": 0.6406,
     "end_time": "2022-05-24T17:33:27.795199",
     "exception": false,
     "start_time": "2022-05-24T17:33:27.154599",
     "status": "completed"
    },
    "tags": []
   },
   "outputs": [],
   "source": [
    "callbacks2 = [EarlyStopping(monitor='val_loss', patience=5, verbose=1), ModelCheckpoint('test_model.hdf5', save_best_only=True)]\n",
    "opt = Adam(learning_rate=0.001)\n",
    "#model.compile(loss='categorical_crossentropy', optimizer=opt, metrics=['accuracy'])"
   ]
  },
  {
   "cell_type": "code",
   "execution_count": 24,
   "id": "8824b004",
   "metadata": {
    "execution": {
     "iopub.execute_input": "2022-05-24T17:33:29.109739Z",
     "iopub.status.busy": "2022-05-24T17:33:29.109465Z",
     "iopub.status.idle": "2022-05-24T18:27:28.501776Z",
     "shell.execute_reply": "2022-05-24T18:27:28.500478Z"
    },
    "papermill": {
     "duration": 3240.881792,
     "end_time": "2022-05-24T18:27:29.358551",
     "exception": false,
     "start_time": "2022-05-24T17:33:28.476759",
     "status": "completed"
    },
    "tags": []
   },
   "outputs": [
    {
     "name": "stdout",
     "output_type": "stream",
     "text": [
      "Epoch 1/3\n",
      "219/219 [==============================] - 1078s 5s/step - loss: 0.1688 - accuracy: 0.9374 - val_loss: 0.4379 - val_accuracy: 0.8956\n",
      "Epoch 2/3\n",
      "219/219 [==============================] - 1077s 5s/step - loss: 0.2210 - accuracy: 0.9306 - val_loss: 0.6342 - val_accuracy: 0.8989\n",
      "Epoch 3/3\n",
      "219/219 [==============================] - 1080s 5s/step - loss: 0.1881 - accuracy: 0.9313 - val_loss: 0.5142 - val_accuracy: 0.8844\n"
     ]
    }
   ],
   "source": [
    "history2=model.fit(X_train, y_train,validation_data=(X_test, y_test),verbose = 1,epochs = epoch2,callbacks=callbacks2)"
   ]
  },
  {
   "cell_type": "code",
   "execution_count": 25,
   "id": "4fffc855",
   "metadata": {
    "execution": {
     "iopub.execute_input": "2022-05-24T18:27:31.098073Z",
     "iopub.status.busy": "2022-05-24T18:27:31.097773Z",
     "iopub.status.idle": "2022-05-24T18:32:07.512215Z",
     "shell.execute_reply": "2022-05-24T18:32:07.503940Z"
    },
    "papermill": {
     "duration": 278.194545,
     "end_time": "2022-05-24T18:32:08.420675",
     "exception": false,
     "start_time": "2022-05-24T18:27:30.226130",
     "status": "completed"
    },
    "tags": []
   },
   "outputs": [
    {
     "data": {
      "image/png": "[encoded data removed]",
      "text/plain": [
       "<Figure size 576x576 with 2 Axes>"
      ]
     },
     "metadata": {
      "needs_background": "light"
     },
     "output_type": "display_data"
    }
   ],
   "source": [
    "Y_pred = model.predict(X_val)\n",
    "Y_pred_classes = np.argmax(Y_pred,axis = 1) \n",
    "Y_true = np.argmax(y_val,axis = 1) \n",
    "\n",
    "confusion_mtx = confusion_matrix(Y_true, Y_pred_classes) \n",
    "\n",
    "f,ax = plt.subplots(figsize=(8, 8))\n",
    "sns.heatmap(confusion_mtx, annot=True, linewidths=0.01,cmap=\"OrRd\",linecolor=\"black\", fmt= '.1f',ax=ax)\n",
    "plt.xlabel(\"Predicted Label\")\n",
    "plt.ylabel(\"True Label\")\n",
    "plt.title(\"Confusion Matrix\")\n",
    "plt.show()"
   ]
  },
  {
   "cell_type": "code",
   "execution_count": 26,
   "id": "182073b7",
   "metadata": {
    "execution": {
     "iopub.execute_input": "2022-05-24T18:32:10.181459Z",
     "iopub.status.busy": "2022-05-24T18:32:10.181134Z",
     "iopub.status.idle": "2022-05-24T18:32:10.194047Z",
     "shell.execute_reply": "2022-05-24T18:32:10.193129Z"
    },
    "papermill": {
     "duration": 0.887591,
     "end_time": "2022-05-24T18:32:10.196326",
     "exception": false,
     "start_time": "2022-05-24T18:32:09.308735",
     "status": "completed"
    },
    "tags": []
   },
   "outputs": [
    {
     "name": "stdout",
     "output_type": "stream",
     "text": [
      "              precision    recall  f1-score   support\n",
      "\n",
      "           0       0.95      0.93      0.94      1806\n",
      "           1       0.61      0.70      0.66       294\n",
      "\n",
      "    accuracy                           0.90      2100\n",
      "   macro avg       0.78      0.81      0.80      2100\n",
      "weighted avg       0.90      0.90      0.90      2100\n",
      "\n"
     ]
    }
   ],
   "source": [
    "print(classification_report(Y_true, Y_pred_classes))"
   ]
  },
  {
   "cell_type": "code",
   "execution_count": 27,
   "id": "a764643d",
   "metadata": {
    "execution": {
     "iopub.execute_input": "2022-05-24T18:32:11.945008Z",
     "iopub.status.busy": "2022-05-24T18:32:11.943869Z",
     "iopub.status.idle": "2022-05-24T18:54:08.445912Z",
     "shell.execute_reply": "2022-05-24T18:54:08.445293Z"
    },
    "papermill": {
     "duration": 1318.045974,
     "end_time": "2022-05-24T18:54:09.108136",
     "exception": false,
     "start_time": "2022-05-24T18:32:11.062162",
     "status": "completed"
    },
    "tags": []
   },
   "outputs": [
    {
     "name": "stdout",
     "output_type": "stream",
     "text": [
      "Train accuracy Score------------>\n",
      "94.557 %\n",
      "Val accuracy Score--------->\n",
      "89.667 %\n",
      "Test accuracy Score--------->\n",
      "88.444 %\n",
      "F1 Score--------------->\n",
      "88.641 %\n",
      "Cohen Kappa Score------------->\n",
      "60.682 %\n",
      "Recall-------------->\n",
      "88.444 %\n",
      "Precision-------------->\n",
      "88.895 %\n"
     ]
    },
    {
     "data": {
      "image/png": "[encoded data removed]",
      "text/plain": [
       "<Figure size 864x432 with 4 Axes>"
      ]
     },
     "metadata": {
      "needs_background": "light"
     },
     "output_type": "display_data"
    }
   ],
   "source": [
    "get_accuracy_metrics(model,  X_train, y_train, X_val, y_val, X_test, y_test)"
   ]
  },
  {
   "cell_type": "code",
   "execution_count": 28,
   "id": "1e56a20e",
   "metadata": {
    "execution": {
     "iopub.execute_input": "2022-05-24T18:54:10.859252Z",
     "iopub.status.busy": "2022-05-24T18:54:10.858178Z",
     "iopub.status.idle": "2022-05-24T18:54:11.211751Z",
     "shell.execute_reply": "2022-05-24T18:54:11.210752Z"
    },
    "papermill": {
     "duration": 1.233026,
     "end_time": "2022-05-24T18:54:11.214134",
     "exception": false,
     "start_time": "2022-05-24T18:54:09.981108",
     "status": "completed"
    },
    "tags": []
   },
   "outputs": [
    {
     "data": {
      "image/png": "[encoded data removed]",
      "text/plain": [
       "<Figure size 864x432 with 2 Axes>"
      ]
     },
     "metadata": {
      "needs_background": "light"
     },
     "output_type": "display_data"
    }
   ],
   "source": [
    "plt.figure(figsize = (12, 6))\n",
    "plt.subplot(121)\n",
    "#plotting the Accuracy of test and training sets\n",
    "plt.plot(history2.history['accuracy'])\n",
    "plt.plot(history2.history['val_accuracy'])\n",
    "plt.title('2nd training Model Accuracy')\n",
    "plt.ylabel('accuracy')\n",
    "plt.xlabel('epoch')\n",
    "plt.legend(['train', 'test'], loc='upper left')\n",
    "\n",
    "plt.subplot(122)\n",
    "#plotting the loss of test and training sets\n",
    "plt.plot(history2.history['loss'])\n",
    "plt.plot(history2.history['val_loss'])\n",
    "plt.title('2nd training Model Loss')\n",
    "plt.ylabel('loss')\n",
    "plt.xlabel('epoch')\n",
    "plt.legend(['train', 'test'], loc='upper left')\n",
    "plt.show()"
   ]
  }
 ],
 "metadata": {
  "kernelspec": {
   "display_name": "Python 3",
   "language": "python",
   "name": "python3"
  },
  "language_info": {
   "codemirror_mode": {
    "name": "ipython",
    "version": 3
   },
   "file_extension": ".py",
   "mimetype": "text/x-python",
   "name": "python",
   "nbconvert_exporter": "python",
   "pygments_lexer": "ipython3",
   "version": "3.7.12"
  },
  "papermill": {
   "default_parameters": {},
   "duration": 14297.501651,
   "end_time": "2022-05-24T18:54:15.949678",
   "environment_variables": {},
   "exception": null,
   "input_path": "__notebook__.ipynb",
   "output_path": "__notebook__.ipynb",
   "parameters": {},
   "start_time": "2022-05-24T14:55:58.448027",
   "version": "2.3.4"
  }
 },
 "nbformat": 4,
 "nbformat_minor": 5
}
