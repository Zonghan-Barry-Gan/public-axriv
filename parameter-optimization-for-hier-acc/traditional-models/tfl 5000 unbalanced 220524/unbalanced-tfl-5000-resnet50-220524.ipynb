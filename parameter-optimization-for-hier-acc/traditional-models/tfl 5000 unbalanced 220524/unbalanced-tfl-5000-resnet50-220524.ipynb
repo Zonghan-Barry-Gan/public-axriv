{
 "cells": [
  {
   "cell_type": "code",
   "execution_count": 1,
   "id": "26a15740",
   "metadata": {
    "_cell_guid": "b1076dfc-b9ad-4769-8c92-a6c4dae69d19",
    "_uuid": "8f2839f25d086af736a60e9eeb907d3b93b6e0e5",
    "execution": {
     "iopub.execute_input": "2022-05-24T14:54:45.804697Z",
     "iopub.status.busy": "2022-05-24T14:54:45.803162Z",
     "iopub.status.idle": "2022-05-24T14:54:59.132927Z",
     "shell.execute_reply": "2022-05-24T14:54:59.131628Z"
    },
    "papermill": {
     "duration": 13.375393,
     "end_time": "2022-05-24T14:54:59.136321",
     "exception": false,
     "start_time": "2022-05-24T14:54:45.760928",
     "status": "completed"
    },
    "tags": []
   },
   "outputs": [
    {
     "name": "stdout",
     "output_type": "stream",
     "text": [
      "Collecting Livelossplot\r\n",
      "  Downloading livelossplot-0.5.5-py3-none-any.whl (22 kB)\r\n",
      "Requirement already satisfied: bokeh in /opt/conda/lib/python3.7/site-packages (from Livelossplot) (2.4.2)\r\n",
      "Requirement already satisfied: ipython==7.* in /opt/conda/lib/python3.7/site-packages (from Livelossplot) (7.32.0)\r\n",
      "Requirement already satisfied: numpy<1.22 in /opt/conda/lib/python3.7/site-packages (from Livelossplot) (1.21.6)\r\n",
      "Requirement already satisfied: matplotlib in /opt/conda/lib/python3.7/site-packages (from Livelossplot) (3.5.2)\r\n",
      "Requirement already satisfied: pygments in /opt/conda/lib/python3.7/site-packages (from ipython==7.*->Livelossplot) (2.11.2)\r\n",
      "Requirement already satisfied: traitlets>=4.2 in /opt/conda/lib/python3.7/site-packages (from ipython==7.*->Livelossplot) (5.1.1)\r\n",
      "Requirement already satisfied: pickleshare in /opt/conda/lib/python3.7/site-packages (from ipython==7.*->Livelossplot) (0.7.5)\r\n",
      "Requirement already satisfied: prompt-toolkit!=3.0.0,!=3.0.1,<3.1.0,>=2.0.0 in /opt/conda/lib/python3.7/site-packages (from ipython==7.*->Livelossplot) (3.0.27)\r\n",
      "Requirement already satisfied: pexpect>4.3 in /opt/conda/lib/python3.7/site-packages (from ipython==7.*->Livelossplot) (4.8.0)\r\n",
      "Requirement already satisfied: backcall in /opt/conda/lib/python3.7/site-packages (from ipython==7.*->Livelossplot) (0.2.0)\r\n",
      "Requirement already satisfied: matplotlib-inline in /opt/conda/lib/python3.7/site-packages (from ipython==7.*->Livelossplot) (0.1.3)\r\n",
      "Requirement already satisfied: setuptools>=18.5 in /opt/conda/lib/python3.7/site-packages (from ipython==7.*->Livelossplot) (59.8.0)\r\n",
      "Requirement already satisfied: jedi>=0.16 in /opt/conda/lib/python3.7/site-packages (from ipython==7.*->Livelossplot) (0.18.1)\r\n",
      "Requirement already satisfied: decorator in /opt/conda/lib/python3.7/site-packages (from ipython==7.*->Livelossplot) (5.1.1)\r\n",
      "Requirement already satisfied: tornado>=5.1 in /opt/conda/lib/python3.7/site-packages (from bokeh->Livelossplot) (6.1)\r\n",
      "Requirement already satisfied: Jinja2>=2.9 in /opt/conda/lib/python3.7/site-packages (from bokeh->Livelossplot) (3.1.2)\r\n",
      "Requirement already satisfied: typing-extensions>=3.10.0 in /opt/conda/lib/python3.7/site-packages (from bokeh->Livelossplot) (4.2.0)\r\n",
      "Requirement already satisfied: pillow>=7.1.0 in /opt/conda/lib/python3.7/site-packages (from bokeh->Livelossplot) (9.0.1)\r\n",
      "Requirement already satisfied: PyYAML>=3.10 in /opt/conda/lib/python3.7/site-packages (from bokeh->Livelossplot) (6.0)\r\n",
      "Requirement already satisfied: packaging>=16.8 in /opt/conda/lib/python3.7/site-packages (from bokeh->Livelossplot) (21.3)\r\n",
      "Requirement already satisfied: pyparsing>=2.2.1 in /opt/conda/lib/python3.7/site-packages (from matplotlib->Livelossplot) (3.0.7)\r\n",
      "Requirement already satisfied: python-dateutil>=2.7 in /opt/conda/lib/python3.7/site-packages (from matplotlib->Livelossplot) (2.8.2)\r\n",
      "Requirement already satisfied: fonttools>=4.22.0 in /opt/conda/lib/python3.7/site-packages (from matplotlib->Livelossplot) (4.30.0)\r\n",
      "Requirement already satisfied: kiwisolver>=1.0.1 in /opt/conda/lib/python3.7/site-packages (from matplotlib->Livelossplot) (1.4.0)\r\n",
      "Requirement already satisfied: cycler>=0.10 in /opt/conda/lib/python3.7/site-packages (from matplotlib->Livelossplot) (0.11.0)\r\n",
      "Requirement already satisfied: parso<0.9.0,>=0.8.0 in /opt/conda/lib/python3.7/site-packages (from jedi>=0.16->ipython==7.*->Livelossplot) (0.8.3)\r\n",
      "Requirement already satisfied: MarkupSafe>=2.0 in /opt/conda/lib/python3.7/site-packages (from Jinja2>=2.9->bokeh->Livelossplot) (2.0.1)\r\n",
      "Requirement already satisfied: ptyprocess>=0.5 in /opt/conda/lib/python3.7/site-packages (from pexpect>4.3->ipython==7.*->Livelossplot) (0.7.0)\r\n",
      "Requirement already satisfied: wcwidth in /opt/conda/lib/python3.7/site-packages (from prompt-toolkit!=3.0.0,!=3.0.1,<3.1.0,>=2.0.0->ipython==7.*->Livelossplot) (0.2.5)\r\n",
      "Requirement already satisfied: six>=1.5 in /opt/conda/lib/python3.7/site-packages (from python-dateutil>=2.7->matplotlib->Livelossplot) (1.16.0)\r\n",
      "Installing collected packages: Livelossplot\r\n",
      "Successfully installed Livelossplot-0.5.5\r\n",
      "\u001b[33mWARNING: Running pip as the 'root' user can result in broken permissions and conflicting behaviour with the system package manager. It is recommended to use a virtual environment instead: https://pip.pypa.io/warnings/venv\u001b[0m\u001b[33m\r\n",
      "\u001b[0m"
     ]
    }
   ],
   "source": [
    "# This Python 3 environment comes with many helpful analytics libraries installed\n",
    "# It is defined by the kaggle/python Docker image: https://github.com/kaggle/docker-python\n",
    "# For example, here's several helpful packages to load\n",
    "\n",
    "import numpy as np # linear algebra\n",
    "import pandas as pd # data processing, CSV file I/O (e.g. pd.read_csv)\n",
    "\n",
    "# Input data files are available in the read-only \"../input/\" directory\n",
    "# For example, running this (by clicking run or pressing Shift+Enter) will list all files under the input directory\n",
    "\n",
    "import os\n",
    "\n",
    "import warnings\n",
    "warnings.filterwarnings('ignore')\n",
    "%matplotlib inline\n",
    "!pip install Livelossplot\n",
    "from livelossplot import PlotLossesKeras\n",
    "\n",
    "from glob import glob\n",
    "import os\n",
    "import shutil\n",
    "\n",
    "import numpy as np\n",
    "import pandas as pd\n",
    "# You can write up to 20GB to the current directory (/kaggle/working/) that gets preserved as output when you create a version using \"Save & Run All\" \n",
    "# You can also write temporary files to /kaggle/temp/, but they won't be saved outside of the current session"
   ]
  },
  {
   "cell_type": "markdown",
   "id": "50d684ba",
   "metadata": {
    "papermill": {
     "duration": 0.041483,
     "end_time": "2022-05-24T14:54:59.219914",
     "exception": false,
     "start_time": "2022-05-24T14:54:59.178431",
     "status": "completed"
    },
    "tags": []
   },
   "source": [
    "# AIM\n",
    "## To classify the images into \n",
    "### IDC+\n",
    "### IDC-\n",
    "\n",
    "# Validation Strategy:\n",
    "\n",
    "## Train Data Size= 0.7*Total_Data\n",
    "## Validation Data Size= 0.21* Total_Data\n",
    "## Test Data Size= 0.09 * Total_Data\n",
    "\n",
    "# Augmentaions Used:\n",
    "## Each Image is rotated through 45 angles\n"
   ]
  },
  {
   "cell_type": "code",
   "execution_count": 2,
   "id": "e6445333",
   "metadata": {
    "execution": {
     "iopub.execute_input": "2022-05-24T14:54:59.304911Z",
     "iopub.status.busy": "2022-05-24T14:54:59.303747Z",
     "iopub.status.idle": "2022-05-24T14:55:09.489797Z",
     "shell.execute_reply": "2022-05-24T14:55:09.488763Z"
    },
    "papermill": {
     "duration": 10.231401,
     "end_time": "2022-05-24T14:55:09.492813",
     "exception": false,
     "start_time": "2022-05-24T14:54:59.261412",
     "status": "completed"
    },
    "tags": []
   },
   "outputs": [
    {
     "data": {
      "text/html": [
       "<style type='text/css'>\n",
       ".datatable table.frame { margin-bottom: 0; }\n",
       ".datatable table.frame thead { border-bottom: none; }\n",
       ".datatable table.frame tr.coltypes td {  color: #FFFFFF;  line-height: 6px;  padding: 0 0.5em;}\n",
       ".datatable .bool    { background: #DDDD99; }\n",
       ".datatable .object  { background: #565656; }\n",
       ".datatable .int     { background: #5D9E5D; }\n",
       ".datatable .float   { background: #4040CC; }\n",
       ".datatable .str     { background: #CC4040; }\n",
       ".datatable .time    { background: #40CC40; }\n",
       ".datatable .row_index {  background: var(--jp-border-color3);  border-right: 1px solid var(--jp-border-color0);  color: var(--jp-ui-font-color3);  font-size: 9px;}\n",
       ".datatable .frame tbody td { text-align: left; }\n",
       ".datatable .frame tr.coltypes .row_index {  background: var(--jp-border-color0);}\n",
       ".datatable th:nth-child(2) { padding-left: 12px; }\n",
       ".datatable .hellipsis {  color: var(--jp-cell-editor-border-color);}\n",
       ".datatable .vellipsis {  background: var(--jp-layout-color0);  color: var(--jp-cell-editor-border-color);}\n",
       ".datatable .na {  color: var(--jp-cell-editor-border-color);  font-size: 80%;}\n",
       ".datatable .sp {  opacity: 0.25;}\n",
       ".datatable .footer { font-size: 9px; }\n",
       ".datatable .frame_dimensions {  background: var(--jp-border-color3);  border-top: 1px solid var(--jp-border-color0);  color: var(--jp-ui-font-color3);  display: inline-block;  opacity: 0.6;  padding: 1px 10px 1px 5px;}\n",
       "</style>\n"
      ],
      "text/plain": [
       "<IPython.core.display.HTML object>"
      ]
     },
     "metadata": {},
     "output_type": "display_data"
    },
    {
     "name": "stdout",
     "output_type": "stream",
     "text": [
      "All modules have been imported\n"
     ]
    }
   ],
   "source": [
    "\n",
    "import numpy as np\n",
    "import pandas as pd\n",
    "import cv2\n",
    "from PIL import Image\n",
    "import scipy\n",
    "\n",
    "import tensorflow as tf\n",
    "from tensorflow.keras.applications import *\n",
    "from tensorflow.keras.optimizers import *\n",
    "from tensorflow.keras.losses import *\n",
    "from tensorflow.keras.layers import *\n",
    "from tensorflow.keras.models import *\n",
    "from tensorflow.keras.callbacks import *\n",
    "from tensorflow.keras.preprocessing.image import *\n",
    "from tensorflow.keras.utils import *\n",
    "# import pydot\n",
    "\n",
    "from sklearn.metrics import *\n",
    "from sklearn.model_selection import *\n",
    "import tensorflow.keras.backend as K\n",
    "\n",
    "from tqdm import tqdm, tqdm_notebook\n",
    "from colorama import Fore\n",
    "import json\n",
    "import matplotlib.pyplot as plt\n",
    "import seaborn as sns\n",
    "from glob import glob\n",
    "from skimage.io import *\n",
    "%config Completer.use_jedi = False\n",
    "import time\n",
    "from sklearn.decomposition import PCA\n",
    "from sklearn.svm import LinearSVC\n",
    "from sklearn.linear_model import LogisticRegression\n",
    "from sklearn.metrics import accuracy_score\n",
    "import lightgbm as lgb\n",
    "import xgboost as xgb\n",
    "\n",
    "print(\"All modules have been imported\")"
   ]
  },
  {
   "cell_type": "code",
   "execution_count": 3,
   "id": "d786928e",
   "metadata": {
    "execution": {
     "iopub.execute_input": "2022-05-24T14:55:09.582813Z",
     "iopub.status.busy": "2022-05-24T14:55:09.582474Z",
     "iopub.status.idle": "2022-05-24T14:55:09.587535Z",
     "shell.execute_reply": "2022-05-24T14:55:09.586720Z"
    },
    "papermill": {
     "duration": 0.051023,
     "end_time": "2022-05-24T14:55:09.589398",
     "exception": false,
     "start_time": "2022-05-24T14:55:09.538375",
     "status": "completed"
    },
    "tags": []
   },
   "outputs": [],
   "source": [
    "sampling_seed=0\n",
    "size_4_training=5000\n",
    "img_size=224\n",
    "training_reshape=(-1, img_size, img_size, 3)\n",
    "epoch1=10\n",
    "epoch2=3"
   ]
  },
  {
   "cell_type": "markdown",
   "id": "241eb4b9",
   "metadata": {
    "papermill": {
     "duration": 0.042553,
     "end_time": "2022-05-24T14:55:09.676038",
     "exception": false,
     "start_time": "2022-05-24T14:55:09.633485",
     "status": "completed"
    },
    "tags": []
   },
   "source": [
    "Image labelling"
   ]
  },
  {
   "cell_type": "code",
   "execution_count": 4,
   "id": "f1fe8948",
   "metadata": {
    "execution": {
     "iopub.execute_input": "2022-05-24T14:55:09.766554Z",
     "iopub.status.busy": "2022-05-24T14:55:09.765945Z",
     "iopub.status.idle": "2022-05-24T14:58:34.551140Z",
     "shell.execute_reply": "2022-05-24T14:58:34.549872Z"
    },
    "papermill": {
     "duration": 204.834299,
     "end_time": "2022-05-24T14:58:34.554073",
     "exception": false,
     "start_time": "2022-05-24T14:55:09.719774",
     "status": "completed"
    },
    "tags": []
   },
   "outputs": [
    {
     "name": "stdout",
     "output_type": "stream",
     "text": [
      "['../input/breast-histopathology-images/IDC_regular_ps50_idx5/10295/0/10295_idx5_x1351_y1101_class0.png', '../input/breast-histopathology-images/IDC_regular_ps50_idx5/10295/0/10295_idx5_x1501_y501_class0.png', '../input/breast-histopathology-images/IDC_regular_ps50_idx5/10295/0/10295_idx5_x1501_y1101_class0.png', '../input/breast-histopathology-images/IDC_regular_ps50_idx5/10295/0/10295_idx5_x451_y901_class0.png', '../input/breast-histopathology-images/IDC_regular_ps50_idx5/10295/0/10295_idx5_x801_y451_class0.png', '../input/breast-histopathology-images/IDC_regular_ps50_idx5/10295/0/10295_idx5_x151_y1051_class0.png', '../input/breast-histopathology-images/IDC_regular_ps50_idx5/10295/0/10295_idx5_x1351_y901_class0.png', '../input/breast-histopathology-images/IDC_regular_ps50_idx5/10295/0/10295_idx5_x701_y651_class0.png', '../input/breast-histopathology-images/IDC_regular_ps50_idx5/10295/0/10295_idx5_x951_y1401_class0.png', '../input/breast-histopathology-images/IDC_regular_ps50_idx5/10295/0/10295_idx5_x601_y501_class0.png']\n"
     ]
    }
   ],
   "source": [
    "import random\n",
    "#make directory for labelling\n",
    "os.makedirs('../working/idc2/idc-minus/')     \n",
    "os.makedirs('../working/idc2/idc-plus/')  \n",
    "\n",
    "\n",
    "class0 = [] # 0 = idc+\n",
    "class1 = [] # 1 = idc-\n",
    "imagePatches = glob('../input/breast-histopathology-images/IDC_regular_ps50_idx5/**/*.png', recursive=True)\n",
    "for filename in imagePatches:\n",
    "    if filename.endswith(\"class0.png\"):\n",
    "         class0.append(filename)\n",
    "    else:\n",
    "        class1.append(filename)\n",
    "\n",
    "print(class0[0:10])\n",
    "\n",
    "#sampling 10000 images from class 0 and class 1 to train the model\n",
    "\n",
    "random.seed(sampling_seed)\n",
    "class0sample=random.sample(class0,size_4_training)\n",
    "class1sample=random.sample(class1,size_4_training)\n",
    "\n",
    "\n",
    "def read_and_save_data(path, file_name_array):\n",
    "    j=0\n",
    "    for i in file_name_array:\n",
    "        if i.endswith('.png'):\n",
    "          \n",
    "            \n",
    "            #second copy method\n",
    "            head, tail = os.path.split(i)\n",
    "            outputname=str(path+tail)\n",
    "            #outputname=str(path+str(j)+'.png')\n",
    "            #print(outputname)\n",
    "            shutil.copy(i, outputname)\n",
    "   \n",
    "            #print(status2)\n",
    "            \n",
    "            j=j+1\n",
    "            if j==120000:\n",
    "                break\n",
    "            \n",
    "   \n",
    "class0path='../working/idc2/idc-minus/'\n",
    "class1path='../working/idc2/idc-plus/'\n",
    "\n",
    "\n",
    "\n",
    "\n",
    "read_and_save_data(class0path,class0sample)\n",
    "read_and_save_data(class1path,class1sample)"
   ]
  },
  {
   "cell_type": "markdown",
   "id": "a0badef2",
   "metadata": {
    "papermill": {
     "duration": 0.041575,
     "end_time": "2022-05-24T14:58:34.638816",
     "exception": false,
     "start_time": "2022-05-24T14:58:34.597241",
     "status": "completed"
    },
    "tags": []
   },
   "source": []
  },
  {
   "cell_type": "code",
   "execution_count": null,
   "id": "b69d3786",
   "metadata": {
    "papermill": {
     "duration": 0.041616,
     "end_time": "2022-05-24T14:58:34.722557",
     "exception": false,
     "start_time": "2022-05-24T14:58:34.680941",
     "status": "completed"
    },
    "tags": []
   },
   "outputs": [],
   "source": [
    "\n"
   ]
  },
  {
   "cell_type": "code",
   "execution_count": 5,
   "id": "dff25de4",
   "metadata": {
    "execution": {
     "iopub.execute_input": "2022-05-24T14:58:34.808092Z",
     "iopub.status.busy": "2022-05-24T14:58:34.807779Z",
     "iopub.status.idle": "2022-05-24T14:58:34.812204Z",
     "shell.execute_reply": "2022-05-24T14:58:34.811175Z"
    },
    "papermill": {
     "duration": 0.050314,
     "end_time": "2022-05-24T14:58:34.814665",
     "exception": false,
     "start_time": "2022-05-24T14:58:34.764351",
     "status": "completed"
    },
    "tags": []
   },
   "outputs": [],
   "source": [
    "\n",
    "from PIL import Image\n",
    "import glob\n"
   ]
  },
  {
   "cell_type": "code",
   "execution_count": null,
   "id": "a43af301",
   "metadata": {
    "papermill": {
     "duration": 0.041592,
     "end_time": "2022-05-24T14:58:34.898277",
     "exception": false,
     "start_time": "2022-05-24T14:58:34.856685",
     "status": "completed"
    },
    "tags": []
   },
   "outputs": [],
   "source": []
  },
  {
   "cell_type": "code",
   "execution_count": null,
   "id": "3fecffb2",
   "metadata": {
    "papermill": {
     "duration": 0.041343,
     "end_time": "2022-05-24T14:58:34.982110",
     "exception": false,
     "start_time": "2022-05-24T14:58:34.940767",
     "status": "completed"
    },
    "tags": []
   },
   "outputs": [],
   "source": []
  },
  {
   "cell_type": "code",
   "execution_count": 6,
   "id": "ef88d182",
   "metadata": {
    "execution": {
     "iopub.execute_input": "2022-05-24T14:58:35.068292Z",
     "iopub.status.busy": "2022-05-24T14:58:35.068016Z",
     "iopub.status.idle": "2022-05-24T14:58:35.072177Z",
     "shell.execute_reply": "2022-05-24T14:58:35.071217Z"
    },
    "papermill": {
     "duration": 0.05038,
     "end_time": "2022-05-24T14:58:35.074350",
     "exception": false,
     "start_time": "2022-05-24T14:58:35.023970",
     "status": "completed"
    },
    "tags": []
   },
   "outputs": [],
   "source": [
    "import os #Operating System\n",
    "import sys #System\n",
    "# train_generator = train_datagen.flow(x_train, y_train, batch_size =)\n",
    "# val_generator = val_datagen.flow(x_val, y_val, batch_size = 64)\n",
    "# test_generator=test_datagen.flow(x_test,y_test,batch_size = 64)\n"
   ]
  },
  {
   "cell_type": "markdown",
   "id": "c2bf60fb",
   "metadata": {
    "papermill": {
     "duration": 0.042772,
     "end_time": "2022-05-24T14:58:35.159366",
     "exception": false,
     "start_time": "2022-05-24T14:58:35.116594",
     "status": "completed"
    },
    "tags": []
   },
   "source": [
    "#import image"
   ]
  },
  {
   "cell_type": "code",
   "execution_count": 7,
   "id": "516f28ec",
   "metadata": {
    "execution": {
     "iopub.execute_input": "2022-05-24T14:58:35.245268Z",
     "iopub.status.busy": "2022-05-24T14:58:35.244991Z",
     "iopub.status.idle": "2022-05-24T14:58:35.252355Z",
     "shell.execute_reply": "2022-05-24T14:58:35.251339Z"
    },
    "papermill": {
     "duration": 0.052673,
     "end_time": "2022-05-24T14:58:35.254412",
     "exception": false,
     "start_time": "2022-05-24T14:58:35.201739",
     "status": "completed"
    },
    "tags": []
   },
   "outputs": [],
   "source": [
    "import cv2\n",
    "'''\n",
    "def readImage(path, X, Y, label):\n",
    "    j=0\n",
    " \n",
    "    for i in os.listdir(path):\n",
    "        imgname=path+i\n",
    "        #print(imgname)\n",
    "        img = cv2.imread(imgname, cv2.IMREAD_COLOR)\n",
    "        img =cv2.resize(img,(50, 50))\n",
    "        X.append(img)\n",
    "        Y.append(label)\n",
    "        j=j+1\n",
    "        #if j==10:\n",
    "        #    break\n",
    "        \n",
    "    return X, Y\n",
    "    '''\n",
    "def readImage(path, tag):\n",
    "    j=0\n",
    "    image_array = []\n",
    "    for i in os.listdir(path):\n",
    "        imgname=path+i\n",
    "        #print(imgname)\n",
    "        img = cv2.imread(imgname, cv2.IMREAD_COLOR)\n",
    "        img_resized = cv2.resize(img, (img_size,img_size), interpolation=cv2.INTER_LINEAR)\n",
    "        image_array.append([img_resized, tag])\n",
    "        #print(img[1])\n",
    "        j=j+1\n",
    "        #if j==10:\n",
    "        #    break\n",
    "        \n",
    "    return image_array"
   ]
  },
  {
   "cell_type": "code",
   "execution_count": 8,
   "id": "bc9a4c06",
   "metadata": {
    "execution": {
     "iopub.execute_input": "2022-05-24T14:58:35.340286Z",
     "iopub.status.busy": "2022-05-24T14:58:35.340019Z",
     "iopub.status.idle": "2022-05-24T14:58:39.697052Z",
     "shell.execute_reply": "2022-05-24T14:58:39.696115Z"
    },
    "papermill": {
     "duration": 4.402904,
     "end_time": "2022-05-24T14:58:39.699226",
     "exception": false,
     "start_time": "2022-05-24T14:58:35.296322",
     "status": "completed"
    },
    "tags": []
   },
   "outputs": [
    {
     "name": "stdout",
     "output_type": "stream",
     "text": [
      "(5000, 2)\n",
      "(10000, 2)\n",
      "(10000, 224, 224, 3)\n"
     ]
    }
   ],
   "source": [
    "import numpy as np\n",
    "\n",
    "\n",
    "class0_array = readImage(class0path, 0)\n",
    "class1_array = readImage(class1path, 1)\n",
    "class0_array=np.array(class0_array)\n",
    "class1_array=np.array(class1_array)\n",
    "combined_data = np.concatenate((class0_array, class1_array))\n",
    "random.seed(41)\n",
    "random.shuffle(combined_data)\n",
    "print(class0_array.shape)\n",
    "print(combined_data.shape)\n",
    "\n",
    "X = []\n",
    "y = []\n",
    "\n",
    "for features,label in combined_data:\n",
    "    X.append(features)\n",
    "    y.append(label)\n",
    "#print(X.shape)\n",
    "#pring(y.shape)\n",
    "\n",
    "# reshape X data\n",
    "X = np.array(X).reshape(training_reshape)\n",
    "print(X.shape)"
   ]
  },
  {
   "cell_type": "code",
   "execution_count": 9,
   "id": "f045c3b4",
   "metadata": {
    "execution": {
     "iopub.execute_input": "2022-05-24T14:58:39.785965Z",
     "iopub.status.busy": "2022-05-24T14:58:39.785403Z",
     "iopub.status.idle": "2022-05-24T14:58:40.705682Z",
     "shell.execute_reply": "2022-05-24T14:58:40.704677Z"
    },
    "papermill": {
     "duration": 0.966768,
     "end_time": "2022-05-24T14:58:40.708472",
     "exception": false,
     "start_time": "2022-05-24T14:58:39.741704",
     "status": "completed"
    },
    "tags": []
   },
   "outputs": [
    {
     "name": "stdout",
     "output_type": "stream",
     "text": [
      "(7000, 224, 224, 3) (900, 224, 224, 3) (2100, 224, 224, 3) (7000, 2) (900, 2) (2100, 2)\n"
     ]
    }
   ],
   "source": [
    "X_train, X_test1, y_train, y_test1 = train_test_split(X, y, test_size=0.3, random_state=42)\n",
    "X_val, X_test, y_val, y_test = train_test_split(X_test1, y_test1, test_size=0.3, random_state=42)\n",
    "y_train = to_categorical(y_train)\n",
    "y_test = to_categorical(y_test)\n",
    "y_val = to_categorical(y_val)\n",
    "print(X_train.shape, X_test.shape, X_val.shape, y_train.shape, y_test.shape, y_val.shape)"
   ]
  },
  {
   "cell_type": "code",
   "execution_count": 10,
   "id": "62723190",
   "metadata": {
    "execution": {
     "iopub.execute_input": "2022-05-24T14:58:40.797963Z",
     "iopub.status.busy": "2022-05-24T14:58:40.797424Z",
     "iopub.status.idle": "2022-05-24T14:58:40.802689Z",
     "shell.execute_reply": "2022-05-24T14:58:40.802100Z"
    },
    "papermill": {
     "duration": 0.051924,
     "end_time": "2022-05-24T14:58:40.804508",
     "exception": false,
     "start_time": "2022-05-24T14:58:40.752584",
     "status": "completed"
    },
    "tags": []
   },
   "outputs": [],
   "source": [
    "#Callbacks\n",
    "c2=tf.keras.callbacks.EarlyStopping(\n",
    "    monitor=\"val_loss\",\n",
    "    min_delta=0,\n",
    "    patience=6,\n",
    "    mode=\"auto\",\n",
    "    baseline=None,\n",
    "    restore_best_weights=True,\n",
    ")\n",
    "\n",
    "c3=tf.keras.callbacks.ReduceLROnPlateau(\n",
    "    monitor=\"val_loss\",\n",
    "    factor=0.1,\n",
    "    patience=6,\n",
    "    mode=\"auto\",\n",
    "    min_delta=0.0001,\n",
    "    cooldown=0,\n",
    "    min_lr=0.001\n",
    ")\n",
    "nClasses=2"
   ]
  },
  {
   "cell_type": "markdown",
   "id": "190e2619",
   "metadata": {
    "papermill": {
     "duration": 0.043193,
     "end_time": "2022-05-24T14:58:40.890956",
     "exception": false,
     "start_time": "2022-05-24T14:58:40.847763",
     "status": "completed"
    },
    "tags": []
   },
   "source": [
    "# Model configure"
   ]
  },
  {
   "cell_type": "code",
   "execution_count": 11,
   "id": "497ce476",
   "metadata": {
    "execution": {
     "iopub.execute_input": "2022-05-24T14:58:40.977852Z",
     "iopub.status.busy": "2022-05-24T14:58:40.977341Z",
     "iopub.status.idle": "2022-05-24T14:58:44.530205Z",
     "shell.execute_reply": "2022-05-24T14:58:44.529333Z"
    },
    "papermill": {
     "duration": 3.599578,
     "end_time": "2022-05-24T14:58:44.533255",
     "exception": false,
     "start_time": "2022-05-24T14:58:40.933677",
     "status": "completed"
    },
    "tags": []
   },
   "outputs": [
    {
     "name": "stderr",
     "output_type": "stream",
     "text": [
      "2022-05-24 14:58:41.041753: I tensorflow/core/common_runtime/process_util.cc:146] Creating new thread pool with default inter op setting: 2. Tune using inter_op_parallelism_threads for best performance.\n"
     ]
    },
    {
     "name": "stdout",
     "output_type": "stream",
     "text": [
      "Downloading data from https://storage.googleapis.com/tensorflow/keras-applications/resnet/resnet50_weights_tf_dim_ordering_tf_kernels_notop.h5\n",
      "94773248/94765736 [==============================] - 1s 0us/step\n",
      "94781440/94765736 [==============================] - 1s 0us/step\n",
      "Model: \"sequential\"\n",
      "_________________________________________________________________\n",
      "Layer (type)                 Output Shape              Param #   \n",
      "=================================================================\n",
      "resnet50 (Functional)        (None, 2048)              23587712  \n",
      "_________________________________________________________________\n",
      "flatten (Flatten)            (None, 2048)              0         \n",
      "_________________________________________________________________\n",
      "batch_normalization (BatchNo (None, 2048)              8192      \n",
      "_________________________________________________________________\n",
      "dense (Dense)                (None, 4096)              8392704   \n",
      "_________________________________________________________________\n",
      "batch_normalization_1 (Batch (None, 4096)              16384     \n",
      "_________________________________________________________________\n",
      "dense_1 (Dense)              (None, 4096)              16781312  \n",
      "_________________________________________________________________\n",
      "dropout (Dropout)            (None, 4096)              0         \n",
      "_________________________________________________________________\n",
      "dense_2 (Dense)              (None, 2096)              8587312   \n",
      "_________________________________________________________________\n",
      "dense_3 (Dense)              (None, 2)                 4194      \n",
      "=================================================================\n",
      "Total params: 57,377,810\n",
      "Trainable params: 33,777,810\n",
      "Non-trainable params: 23,600,000\n",
      "_________________________________________________________________\n"
     ]
    }
   ],
   "source": [
    "RESNET50_POOLING_AVERAGE = 'avg'\n",
    "DENSE_LAYER_ACTIVATION = 'sigmoid'\n",
    "OBJECTIVE_FUNCTION = 'categorical_crossentropy'\n",
    "\n",
    "# Common accuracy metric for all outputs, but can use different metrics for different output\n",
    "LOSS_METRICS = ['accuracy']\n",
    "\n",
    "# EARLY_STOP_PATIENCE must be < NUM_EPOCHS\n",
    "NUM_EPOCHS = 30\n",
    "EARLY_STOP_PATIENCE = 3\n",
    "#resnet_weights_path = '../input/resnet50/resnet50_weights_tf_dim_ordering_tf_kernels_notop.h5'\n",
    "\n",
    "from keras.applications import resnet\n",
    "base_Neural_Net=resnet.ResNet50(include_top = False, pooling = RESNET50_POOLING_AVERAGE, weights = 'imagenet')\n",
    "base_Neural_Net.trainable = False\n",
    "model=Sequential()\n",
    "model.add(base_Neural_Net)\n",
    "model.add(Flatten())\n",
    "model.add(BatchNormalization())\n",
    "model.add(Dense(4096,kernel_initializer='he_uniform'))\n",
    "model.add(BatchNormalization())\n",
    "model.add(Dense(4096,activation=\"relu\"))\n",
    "#model.add(BatchNormalization())\n",
    "#model.add(Activation('relu'))\n",
    "model.add(Dropout(0.2))\n",
    "model.add(Dense(2096,activation=\"relu\"))\n",
    "model.add(Dense(2, activation='sigmoid'))\n",
    "#model = Model(inputs=resnet50_base_model.input, outputs=predictions)\n",
    "model.summary()\n"
   ]
  },
  {
   "cell_type": "code",
   "execution_count": 12,
   "id": "0c00f9e7",
   "metadata": {
    "execution": {
     "iopub.execute_input": "2022-05-24T14:58:44.636102Z",
     "iopub.status.busy": "2022-05-24T14:58:44.635006Z",
     "iopub.status.idle": "2022-05-24T14:58:45.972654Z",
     "shell.execute_reply": "2022-05-24T14:58:45.971518Z"
    },
    "papermill": {
     "duration": 1.392399,
     "end_time": "2022-05-24T14:58:45.976273",
     "exception": false,
     "start_time": "2022-05-24T14:58:44.583874",
     "status": "completed"
    },
    "tags": []
   },
   "outputs": [
    {
     "data": {
      "image/png": "[encoded data removed]",
      "text/plain": [
       "<IPython.core.display.Image object>"
      ]
     },
     "execution_count": 12,
     "metadata": {},
     "output_type": "execute_result"
    }
   ],
   "source": [
    "from tensorflow.keras.utils import plot_model\n",
    "from IPython.display import Image\n",
    "plot_model(model, to_file='convnet.png', show_shapes=True,show_layer_names=True)\n",
    "Image(filename='convnet.png') "
   ]
  },
  {
   "cell_type": "code",
   "execution_count": 13,
   "id": "374d24a8",
   "metadata": {
    "execution": {
     "iopub.execute_input": "2022-05-24T14:58:46.083973Z",
     "iopub.status.busy": "2022-05-24T14:58:46.083676Z",
     "iopub.status.idle": "2022-05-24T14:58:46.106603Z",
     "shell.execute_reply": "2022-05-24T14:58:46.105900Z"
    },
    "papermill": {
     "duration": 0.079405,
     "end_time": "2022-05-24T14:58:46.108685",
     "exception": false,
     "start_time": "2022-05-24T14:58:46.029280",
     "status": "completed"
    },
    "tags": []
   },
   "outputs": [],
   "source": [
    "callbacks1 = [EarlyStopping(monitor='val_loss', patience=5, verbose=1), ModelCheckpoint('model.hdf5', save_best_only=True)]\n",
    "opt = Adam(learning_rate=0.001)\n",
    "model.compile(loss='categorical_crossentropy', optimizer=opt, metrics=['accuracy'])"
   ]
  },
  {
   "cell_type": "code",
   "execution_count": 14,
   "id": "2219b44e",
   "metadata": {
    "execution": {
     "iopub.execute_input": "2022-05-24T14:58:46.214308Z",
     "iopub.status.busy": "2022-05-24T14:58:46.213907Z",
     "iopub.status.idle": "2022-05-24T16:06:29.300856Z",
     "shell.execute_reply": "2022-05-24T16:06:29.299119Z"
    },
    "papermill": {
     "duration": 4063.757049,
     "end_time": "2022-05-24T16:06:29.917133",
     "exception": false,
     "start_time": "2022-05-24T14:58:46.160084",
     "status": "completed"
    },
    "tags": []
   },
   "outputs": [
    {
     "name": "stdout",
     "output_type": "stream",
     "text": [
      "CPU times: user 2 µs, sys: 1e+03 ns, total: 3 µs\n",
      "Wall time: 7.87 µs\n"
     ]
    },
    {
     "name": "stderr",
     "output_type": "stream",
     "text": [
      "2022-05-24 14:58:47.396845: I tensorflow/compiler/mlir/mlir_graph_optimization_pass.cc:185] None of the MLIR Optimization Passes are enabled (registered 2)\n"
     ]
    },
    {
     "name": "stdout",
     "output_type": "stream",
     "text": [
      "Epoch 1/10\n",
      "219/219 [==============================] - 582s 3s/step - loss: 0.4727 - accuracy: 0.8791 - val_loss: 0.3564 - val_accuracy: 0.8922\n",
      "Epoch 2/10\n",
      "219/219 [==============================] - 579s 3s/step - loss: 0.2375 - accuracy: 0.9036 - val_loss: 0.2360 - val_accuracy: 0.9078\n",
      "Epoch 3/10\n",
      "219/219 [==============================] - 581s 3s/step - loss: 0.2272 - accuracy: 0.9116 - val_loss: 0.2674 - val_accuracy: 0.9033\n",
      "Epoch 4/10\n",
      "219/219 [==============================] - 577s 3s/step - loss: 0.2037 - accuracy: 0.9160 - val_loss: 0.2767 - val_accuracy: 0.9133\n",
      "Epoch 5/10\n",
      "219/219 [==============================] - 578s 3s/step - loss: 0.2024 - accuracy: 0.9220 - val_loss: 0.3134 - val_accuracy: 0.9144\n",
      "Epoch 6/10\n",
      "219/219 [==============================] - 579s 3s/step - loss: 0.1716 - accuracy: 0.9316 - val_loss: 0.3626 - val_accuracy: 0.8933\n",
      "Epoch 7/10\n",
      "219/219 [==============================] - 582s 3s/step - loss: 0.1675 - accuracy: 0.9344 - val_loss: 0.3238 - val_accuracy: 0.9078\n",
      "Epoch 00007: early stopping\n"
     ]
    }
   ],
   "source": [
    "%time\n",
    "history1=model.fit(X_train, y_train,validation_data=(X_test, y_test),verbose = 1,epochs = epoch1,callbacks=callbacks1)"
   ]
  },
  {
   "cell_type": "code",
   "execution_count": 15,
   "id": "37887c6e",
   "metadata": {
    "execution": {
     "iopub.execute_input": "2022-05-24T16:06:31.169826Z",
     "iopub.status.busy": "2022-05-24T16:06:31.168976Z",
     "iopub.status.idle": "2022-05-24T16:06:31.181138Z",
     "shell.execute_reply": "2022-05-24T16:06:31.180494Z"
    },
    "papermill": {
     "duration": 0.643633,
     "end_time": "2022-05-24T16:06:31.183322",
     "exception": false,
     "start_time": "2022-05-24T16:06:30.539689",
     "status": "completed"
    },
    "tags": []
   },
   "outputs": [],
   "source": [
    "def f1_score(y_true, y_pred): #taken from old keras source code\n",
    "    true_positives = K.sum(K.round(K.clip(y_true * y_pred, 0, 1)))\n",
    "    possible_positives = K.sum(K.round(K.clip(y_true, 0, 1)))\n",
    "    predicted_positives = K.sum(K.round(K.clip(y_pred, 0, 1)))\n",
    "    precision = true_positives / (predicted_positives + K.epsilon())\n",
    "    recall = true_positives / (possible_positives + K.epsilon())\n",
    "    f1_val = 2*(precision*recall)/(precision+recall+K.epsilon())\n",
    "    return f1_val"
   ]
  },
  {
   "cell_type": "code",
   "execution_count": 16,
   "id": "fe70b321",
   "metadata": {
    "execution": {
     "iopub.execute_input": "2022-05-24T16:06:32.442052Z",
     "iopub.status.busy": "2022-05-24T16:06:32.441718Z",
     "iopub.status.idle": "2022-05-24T16:07:13.739002Z",
     "shell.execute_reply": "2022-05-24T16:07:13.738279Z"
    },
    "papermill": {
     "duration": 41.931837,
     "end_time": "2022-05-24T16:07:13.741688",
     "exception": false,
     "start_time": "2022-05-24T16:06:31.809851",
     "status": "completed"
    },
    "tags": []
   },
   "outputs": [],
   "source": [
    "METRICS = [\n",
    "      tf.keras.metrics.BinaryAccuracy(name='accuracy'),\n",
    "      tf.keras.metrics.Precision(name='precision'),\n",
    "      tf.keras.metrics.Recall(name='recall'),  \n",
    "      tf.keras.metrics.AUC(name='auc'),\n",
    "        f1_score,\n",
    "]"
   ]
  },
  {
   "cell_type": "code",
   "execution_count": null,
   "id": "a6994013",
   "metadata": {
    "execution": {
     "iopub.execute_input": "2022-05-06T15:08:04.489795Z",
     "iopub.status.busy": "2022-05-06T15:08:04.488846Z",
     "iopub.status.idle": "2022-05-06T15:08:04.918152Z",
     "shell.execute_reply": "2022-05-06T15:08:04.917046Z",
     "shell.execute_reply.started": "2022-05-06T15:08:04.489742Z"
    },
    "papermill": {
     "duration": 0.655611,
     "end_time": "2022-05-24T16:07:15.039713",
     "exception": false,
     "start_time": "2022-05-24T16:07:14.384102",
     "status": "completed"
    },
    "tags": []
   },
   "outputs": [],
   "source": []
  },
  {
   "cell_type": "code",
   "execution_count": 17,
   "id": "b88b787e",
   "metadata": {
    "execution": {
     "iopub.execute_input": "2022-05-24T16:07:16.295157Z",
     "iopub.status.busy": "2022-05-24T16:07:16.294669Z",
     "iopub.status.idle": "2022-05-24T16:09:45.367556Z",
     "shell.execute_reply": "2022-05-24T16:09:45.366778Z"
    },
    "papermill": {
     "duration": 150.335084,
     "end_time": "2022-05-24T16:09:46.001628",
     "exception": false,
     "start_time": "2022-05-24T16:07:15.666544",
     "status": "completed"
    },
    "tags": []
   },
   "outputs": [
    {
     "data": {
      "image/png": "[encoded data removed]",
      "text/plain": [
       "<Figure size 576x576 with 2 Axes>"
      ]
     },
     "metadata": {
      "needs_background": "light"
     },
     "output_type": "display_data"
    }
   ],
   "source": [
    "from sklearn.metrics import confusion_matrix\n",
    "import seaborn as sns\n",
    "\n",
    "Y_pred = model.predict(X_val)\n",
    "Y_pred_classes = np.argmax(Y_pred,axis = 1) \n",
    "Y_true = np.argmax(y_val,axis = 1) \n",
    "\n",
    "confusion_mtx = confusion_matrix(Y_true, Y_pred_classes) \n",
    "\n",
    "f,ax = plt.subplots(figsize=(8, 8))\n",
    "sns.heatmap(confusion_mtx, annot=True, linewidths=0.01,cmap=\"OrRd\",linecolor=\"black\", fmt= '.1f',ax=ax)\n",
    "plt.xlabel(\"Predicted Label\")\n",
    "plt.ylabel(\"True Label\")\n",
    "plt.title(\"Confusion Matrix\")\n",
    "plt.show()"
   ]
  },
  {
   "cell_type": "code",
   "execution_count": 18,
   "id": "f4343e61",
   "metadata": {
    "execution": {
     "iopub.execute_input": "2022-05-24T16:09:47.265528Z",
     "iopub.status.busy": "2022-05-24T16:09:47.265075Z",
     "iopub.status.idle": "2022-05-24T16:09:47.278902Z",
     "shell.execute_reply": "2022-05-24T16:09:47.277662Z"
    },
    "papermill": {
     "duration": 0.643627,
     "end_time": "2022-05-24T16:09:47.281359",
     "exception": false,
     "start_time": "2022-05-24T16:09:46.637732",
     "status": "completed"
    },
    "tags": []
   },
   "outputs": [
    {
     "name": "stdout",
     "output_type": "stream",
     "text": [
      "              precision    recall  f1-score   support\n",
      "\n",
      "           0       0.95      0.96      0.95      1806\n",
      "           1       0.73      0.70      0.72       294\n",
      "\n",
      "    accuracy                           0.92      2100\n",
      "   macro avg       0.84      0.83      0.84      2100\n",
      "weighted avg       0.92      0.92      0.92      2100\n",
      "\n"
     ]
    }
   ],
   "source": [
    "from sklearn.metrics import classification_report\n",
    "\n",
    "print(classification_report(Y_true, Y_pred_classes))"
   ]
  },
  {
   "cell_type": "markdown",
   "id": "ddfc287a",
   "metadata": {
    "papermill": {
     "duration": 0.632667,
     "end_time": "2022-05-24T16:09:48.542371",
     "exception": false,
     "start_time": "2022-05-24T16:09:47.909704",
     "status": "completed"
    },
    "tags": []
   },
   "source": []
  },
  {
   "cell_type": "code",
   "execution_count": null,
   "id": "51e292ac",
   "metadata": {
    "execution": {
     "iopub.execute_input": "2022-05-06T15:08:41.911737Z",
     "iopub.status.busy": "2022-05-06T15:08:41.911171Z",
     "iopub.status.idle": "2022-05-06T15:08:41.922881Z",
     "shell.execute_reply": "2022-05-06T15:08:41.922041Z",
     "shell.execute_reply.started": "2022-05-06T15:08:41.911677Z"
    },
    "papermill": {
     "duration": 0.638264,
     "end_time": "2022-05-24T16:09:49.814393",
     "exception": false,
     "start_time": "2022-05-24T16:09:49.176129",
     "status": "completed"
    },
    "tags": []
   },
   "outputs": [],
   "source": []
  },
  {
   "cell_type": "code",
   "execution_count": 19,
   "id": "e562dfe6",
   "metadata": {
    "execution": {
     "iopub.execute_input": "2022-05-24T16:09:51.076847Z",
     "iopub.status.busy": "2022-05-24T16:09:51.076380Z",
     "iopub.status.idle": "2022-05-24T16:09:51.091225Z",
     "shell.execute_reply": "2022-05-24T16:09:51.090508Z"
    },
    "papermill": {
     "duration": 0.648607,
     "end_time": "2022-05-24T16:09:51.093483",
     "exception": false,
     "start_time": "2022-05-24T16:09:50.444876",
     "status": "completed"
    },
    "tags": []
   },
   "outputs": [],
   "source": [
    "from sklearn.metrics import f1_score, roc_auc_score, cohen_kappa_score, precision_score, recall_score, accuracy_score, confusion_matrix\n",
    "def get_accuracy_metrics(model, X_train, y_train, X_val, y_val, X_test, y_test):\n",
    "    y_train=np.argmax(y_train, axis=1)\n",
    "    y_test=np.argmax(y_test, axis=1)\n",
    "    y_val=np.argmax(y_val, axis=1)\n",
    "    y_train_pred=np.argmax(model.predict(X_train),axis=1)\n",
    "    y_test_pred=np.argmax(model.predict(X_test),axis=1)\n",
    "    y_val_pred=np.argmax(model.predict(X_val),axis=1)\n",
    "    #ps:all the Y value must turn back to 1 dimension array. otherwise, the scoring functions in sklearn cannot compare, and will give an error\n",
    "    #classification metrics can't handle a mix of continuous-multioutput and multi-label-indicator targets\n",
    "    \n",
    "    print(\"Train accuracy Score------------>\")\n",
    "    print (\"{0:.3f}\".format(accuracy_score(y_train, y_train_pred)*100), \"%\")\n",
    "    \n",
    "    print(\"Val accuracy Score--------->\")\n",
    "    \n",
    "    print(\"{0:.3f}\".format(accuracy_score(y_val, y_val_pred)*100), \"%\")\n",
    "    \n",
    "  \n",
    "    print(\"Test accuracy Score--------->\")\n",
    "    print(\"{0:.3f}\".format(accuracy_score(y_test, y_test_pred)*100), \"%\")\n",
    "    \n",
    "    print(\"F1 Score--------------->\")\n",
    "    print(\"{0:.3f}\".format(f1_score(y_test, y_test_pred, average = 'weighted')*100), \"%\")\n",
    "    \n",
    "    print(\"Cohen Kappa Score------------->\")\n",
    "    print(\"{0:.3f}\".format(cohen_kappa_score(y_test, y_test_pred)*100), \"%\")\n",
    "    \n",
    "    print(\"Recall-------------->\")\n",
    "    print(\"{0:.3f}\".format(recall_score(y_test, y_test_pred, average = 'weighted')*100), \"%\")\n",
    "    \n",
    "    print(\"Precision-------------->\")\n",
    "    print(\"{0:.3f}\".format(precision_score(y_test, y_test_pred, average = 'weighted')*100), \"%\")\n",
    "    \n",
    "    cf_matrix_test = confusion_matrix(y_test, y_test_pred)\n",
    "    cf_matrix_val = confusion_matrix(y_val, y_val_pred)\n",
    "    \n",
    "    plt.figure(figsize = (12, 6))\n",
    "    plt.subplot(121)\n",
    "    sns.heatmap(cf_matrix_val, annot=True, cmap='Blues')\n",
    "    plt.title(\"Val Confusion matrix\")\n",
    "    \n",
    "    plt.subplot(122)\n",
    "    sns.heatmap(cf_matrix_test, annot=True, cmap='Blues')\n",
    "    plt.title(\"Test Confusion matrix\")\n",
    "    \n",
    "    plt.show()"
   ]
  },
  {
   "cell_type": "code",
   "execution_count": null,
   "id": "dc8b1b2e",
   "metadata": {
    "papermill": {
     "duration": 0.633718,
     "end_time": "2022-05-24T16:09:52.360084",
     "exception": false,
     "start_time": "2022-05-24T16:09:51.726366",
     "status": "completed"
    },
    "tags": []
   },
   "outputs": [],
   "source": []
  },
  {
   "cell_type": "code",
   "execution_count": 20,
   "id": "272d08d2",
   "metadata": {
    "execution": {
     "iopub.execute_input": "2022-05-24T16:09:53.629440Z",
     "iopub.status.busy": "2022-05-24T16:09:53.629023Z",
     "iopub.status.idle": "2022-05-24T16:21:34.708816Z",
     "shell.execute_reply": "2022-05-24T16:21:34.707879Z"
    },
    "papermill": {
     "duration": 702.168786,
     "end_time": "2022-05-24T16:21:35.163688",
     "exception": false,
     "start_time": "2022-05-24T16:09:52.994902",
     "status": "completed"
    },
    "tags": []
   },
   "outputs": [
    {
     "name": "stdout",
     "output_type": "stream",
     "text": [
      "Train accuracy Score------------>\n",
      "95.529 %\n",
      "Val accuracy Score--------->\n",
      "92.190 %\n",
      "Test accuracy Score--------->\n",
      "90.778 %\n",
      "F1 Score--------------->\n",
      "90.446 %\n",
      "Cohen Kappa Score------------->\n",
      "65.251 %\n",
      "Recall-------------->\n",
      "90.778 %\n",
      "Precision-------------->\n",
      "90.348 %\n"
     ]
    },
    {
     "data": {
      "image/png": "[encoded data removed]",
      "text/plain": [
       "<Figure size 864x432 with 4 Axes>"
      ]
     },
     "metadata": {
      "needs_background": "light"
     },
     "output_type": "display_data"
    }
   ],
   "source": [
    "get_accuracy_metrics(model,  X_train, y_train, X_val, y_val, X_test, y_test)"
   ]
  },
  {
   "cell_type": "code",
   "execution_count": 21,
   "id": "441f9fa6",
   "metadata": {
    "execution": {
     "iopub.execute_input": "2022-05-24T16:21:36.518145Z",
     "iopub.status.busy": "2022-05-24T16:21:36.517844Z",
     "iopub.status.idle": "2022-05-24T16:21:36.902274Z",
     "shell.execute_reply": "2022-05-24T16:21:36.901189Z"
    },
    "papermill": {
     "duration": 1.032675,
     "end_time": "2022-05-24T16:21:36.905334",
     "exception": false,
     "start_time": "2022-05-24T16:21:35.872659",
     "status": "completed"
    },
    "tags": []
   },
   "outputs": [
    {
     "data": {
      "image/png": "[encoded data removed]",
      "text/plain": [
       "<Figure size 864x432 with 2 Axes>"
      ]
     },
     "metadata": {
      "needs_background": "light"
     },
     "output_type": "display_data"
    }
   ],
   "source": [
    "import matplotlib.pyplot as plt\n",
    "import seaborn as sns\n",
    "plt.figure(figsize = (12, 6))\n",
    "plt.subplot(121)\n",
    "#plotting the Accuracy of test and training sets\n",
    "plt.plot(history1.history['accuracy'])\n",
    "plt.plot(history1.history['val_accuracy'])\n",
    "plt.title('1st training Model Accuracy')\n",
    "plt.ylabel('accuracy')\n",
    "plt.xlabel('epoch')\n",
    "plt.legend(['train', 'test'], loc='upper left')\n",
    "\n",
    "plt.subplot(122)\n",
    "#plotting the loss of test and training sets\n",
    "plt.plot(history1.history['loss'])\n",
    "plt.plot(history1.history['val_loss'])\n",
    "plt.title('1st training Model Loss')\n",
    "plt.ylabel('loss')\n",
    "plt.xlabel('epoch')\n",
    "plt.legend(['train', 'test'], loc='upper left')\n",
    "plt.show()"
   ]
  },
  {
   "cell_type": "markdown",
   "id": "0d7f9424",
   "metadata": {
    "papermill": {
     "duration": 0.635307,
     "end_time": "2022-05-24T16:21:38.223810",
     "exception": false,
     "start_time": "2022-05-24T16:21:37.588503",
     "status": "completed"
    },
    "tags": []
   },
   "source": [
    "# Second Training Fine Tune"
   ]
  },
  {
   "cell_type": "code",
   "execution_count": 22,
   "id": "be0f9015",
   "metadata": {
    "execution": {
     "iopub.execute_input": "2022-05-24T16:21:39.507703Z",
     "iopub.status.busy": "2022-05-24T16:21:39.507396Z",
     "iopub.status.idle": "2022-05-24T16:21:39.519288Z",
     "shell.execute_reply": "2022-05-24T16:21:39.518621Z"
    },
    "papermill": {
     "duration": 0.642239,
     "end_time": "2022-05-24T16:21:39.521154",
     "exception": false,
     "start_time": "2022-05-24T16:21:38.878915",
     "status": "completed"
    },
    "tags": []
   },
   "outputs": [],
   "source": [
    "for model1 in model.layers:\n",
    "    model1.trainable = True"
   ]
  },
  {
   "cell_type": "code",
   "execution_count": 23,
   "id": "007acb7b",
   "metadata": {
    "execution": {
     "iopub.execute_input": "2022-05-24T16:21:40.769163Z",
     "iopub.status.busy": "2022-05-24T16:21:40.768862Z",
     "iopub.status.idle": "2022-05-24T16:21:40.774462Z",
     "shell.execute_reply": "2022-05-24T16:21:40.773502Z"
    },
    "papermill": {
     "duration": 0.629565,
     "end_time": "2022-05-24T16:21:40.776150",
     "exception": false,
     "start_time": "2022-05-24T16:21:40.146585",
     "status": "completed"
    },
    "tags": []
   },
   "outputs": [],
   "source": [
    "callbacks2 = [EarlyStopping(monitor='val_loss', patience=5, verbose=1), ModelCheckpoint('test_model.hdf5', save_best_only=True)]\n",
    "opt = Adam(learning_rate=0.001)\n",
    "#model.compile(loss='categorical_crossentropy', optimizer=opt, metrics=['accuracy'])"
   ]
  },
  {
   "cell_type": "code",
   "execution_count": 24,
   "id": "5474286a",
   "metadata": {
    "execution": {
     "iopub.execute_input": "2022-05-24T16:21:42.033534Z",
     "iopub.status.busy": "2022-05-24T16:21:42.032983Z",
     "iopub.status.idle": "2022-05-24T16:51:04.452510Z",
     "shell.execute_reply": "2022-05-24T16:51:04.449169Z"
    },
    "papermill": {
     "duration": 1763.055943,
     "end_time": "2022-05-24T16:51:04.455710",
     "exception": false,
     "start_time": "2022-05-24T16:21:41.399767",
     "status": "completed"
    },
    "tags": []
   },
   "outputs": [
    {
     "name": "stdout",
     "output_type": "stream",
     "text": [
      "Epoch 1/3\n",
      "219/219 [==============================] - 580s 3s/step - loss: 0.1777 - accuracy: 0.9376 - val_loss: 0.4096 - val_accuracy: 0.9000\n",
      "Epoch 2/3\n",
      "219/219 [==============================] - 581s 3s/step - loss: 0.1399 - accuracy: 0.9494 - val_loss: 0.5955 - val_accuracy: 0.9200\n",
      "Epoch 3/3\n",
      "219/219 [==============================] - 582s 3s/step - loss: 0.1758 - accuracy: 0.9419 - val_loss: 0.6090 - val_accuracy: 0.9144\n"
     ]
    }
   ],
   "source": [
    "history2=model.fit(X_train, y_train,validation_data=(X_test, y_test),verbose = 1,epochs = epoch2,callbacks=callbacks2)"
   ]
  },
  {
   "cell_type": "code",
   "execution_count": 25,
   "id": "140a252f",
   "metadata": {
    "execution": {
     "iopub.execute_input": "2022-05-24T16:51:06.186823Z",
     "iopub.status.busy": "2022-05-24T16:51:06.186038Z",
     "iopub.status.idle": "2022-05-24T16:53:32.997739Z",
     "shell.execute_reply": "2022-05-24T16:53:32.996940Z"
    },
    "papermill": {
     "duration": 148.545448,
     "end_time": "2022-05-24T16:53:33.865481",
     "exception": false,
     "start_time": "2022-05-24T16:51:05.320033",
     "status": "completed"
    },
    "tags": []
   },
   "outputs": [
    {
     "data": {
      "image/png": "[encoded data removed]",
      "text/plain": [
       "<Figure size 576x576 with 2 Axes>"
      ]
     },
     "metadata": {
      "needs_background": "light"
     },
     "output_type": "display_data"
    }
   ],
   "source": [
    "Y_pred = model.predict(X_val)\n",
    "Y_pred_classes = np.argmax(Y_pred,axis = 1) \n",
    "Y_true = np.argmax(y_val,axis = 1) \n",
    "\n",
    "confusion_mtx = confusion_matrix(Y_true, Y_pred_classes) \n",
    "\n",
    "f,ax = plt.subplots(figsize=(8, 8))\n",
    "sns.heatmap(confusion_mtx, annot=True, linewidths=0.01,cmap=\"OrRd\",linecolor=\"black\", fmt= '.1f',ax=ax)\n",
    "plt.xlabel(\"Predicted Label\")\n",
    "plt.ylabel(\"True Label\")\n",
    "plt.title(\"Confusion Matrix\")\n",
    "plt.show()"
   ]
  },
  {
   "cell_type": "code",
   "execution_count": 26,
   "id": "171d4021",
   "metadata": {
    "execution": {
     "iopub.execute_input": "2022-05-24T16:53:35.606877Z",
     "iopub.status.busy": "2022-05-24T16:53:35.606567Z",
     "iopub.status.idle": "2022-05-24T16:53:35.618433Z",
     "shell.execute_reply": "2022-05-24T16:53:35.617516Z"
    },
    "papermill": {
     "duration": 0.88367,
     "end_time": "2022-05-24T16:53:35.620287",
     "exception": false,
     "start_time": "2022-05-24T16:53:34.736617",
     "status": "completed"
    },
    "tags": []
   },
   "outputs": [
    {
     "name": "stdout",
     "output_type": "stream",
     "text": [
      "              precision    recall  f1-score   support\n",
      "\n",
      "           0       0.96      0.95      0.96      1806\n",
      "           1       0.73      0.77      0.75       294\n",
      "\n",
      "    accuracy                           0.93      2100\n",
      "   macro avg       0.85      0.86      0.85      2100\n",
      "weighted avg       0.93      0.93      0.93      2100\n",
      "\n"
     ]
    }
   ],
   "source": [
    "print(classification_report(Y_true, Y_pred_classes))"
   ]
  },
  {
   "cell_type": "code",
   "execution_count": 27,
   "id": "9dc02991",
   "metadata": {
    "execution": {
     "iopub.execute_input": "2022-05-24T16:53:37.361484Z",
     "iopub.status.busy": "2022-05-24T16:53:37.361145Z",
     "iopub.status.idle": "2022-05-24T17:05:17.356530Z",
     "shell.execute_reply": "2022-05-24T17:05:17.355521Z"
    },
    "papermill": {
     "duration": 701.575592,
     "end_time": "2022-05-24T17:05:18.061293",
     "exception": false,
     "start_time": "2022-05-24T16:53:36.485701",
     "status": "completed"
    },
    "tags": []
   },
   "outputs": [
    {
     "name": "stdout",
     "output_type": "stream",
     "text": [
      "Train accuracy Score------------>\n",
      "96.429 %\n",
      "Val accuracy Score--------->\n",
      "92.810 %\n",
      "Test accuracy Score--------->\n",
      "91.444 %\n",
      "F1 Score--------------->\n",
      "91.455 %\n",
      "Cohen Kappa Score------------->\n",
      "69.917 %\n",
      "Recall-------------->\n",
      "91.444 %\n",
      "Precision-------------->\n",
      "91.467 %\n"
     ]
    },
    {
     "data": {
      "image/png": "[encoded data removed]",
      "text/plain": [
       "<Figure size 864x432 with 4 Axes>"
      ]
     },
     "metadata": {
      "needs_background": "light"
     },
     "output_type": "display_data"
    }
   ],
   "source": [
    "get_accuracy_metrics(model,  X_train, y_train, X_val, y_val, X_test, y_test)"
   ]
  },
  {
   "cell_type": "code",
   "execution_count": 28,
   "id": "47f99722",
   "metadata": {
    "execution": {
     "iopub.execute_input": "2022-05-24T17:05:19.840983Z",
     "iopub.status.busy": "2022-05-24T17:05:19.840201Z",
     "iopub.status.idle": "2022-05-24T17:05:20.186181Z",
     "shell.execute_reply": "2022-05-24T17:05:20.185506Z"
    },
    "papermill": {
     "duration": 1.238316,
     "end_time": "2022-05-24T17:05:20.188114",
     "exception": false,
     "start_time": "2022-05-24T17:05:18.949798",
     "status": "completed"
    },
    "tags": []
   },
   "outputs": [
    {
     "data": {
      "image/png": "[encoded data removed]",
      "text/plain": [
       "<Figure size 864x432 with 2 Axes>"
      ]
     },
     "metadata": {
      "needs_background": "light"
     },
     "output_type": "display_data"
    }
   ],
   "source": [
    "plt.figure(figsize = (12, 6))\n",
    "plt.subplot(121)\n",
    "#plotting the Accuracy of test and training sets\n",
    "plt.plot(history2.history['accuracy'])\n",
    "plt.plot(history2.history['val_accuracy'])\n",
    "plt.title('1st training Model Accuracy')\n",
    "plt.ylabel('accuracy')\n",
    "plt.xlabel('epoch')\n",
    "plt.legend(['train', 'test'], loc='upper left')\n",
    "\n",
    "plt.subplot(122)\n",
    "#plotting the loss of test and training sets\n",
    "plt.plot(history2.history['loss'])\n",
    "plt.plot(history2.history['val_loss'])\n",
    "plt.title('1st training Model Loss')\n",
    "plt.ylabel('loss')\n",
    "plt.xlabel('epoch')\n",
    "plt.legend(['train', 'test'], loc='upper left')\n",
    "plt.show()"
   ]
  }
 ],
 "metadata": {
  "kernelspec": {
   "display_name": "Python 3",
   "language": "python",
   "name": "python3"
  },
  "language_info": {
   "codemirror_mode": {
    "name": "ipython",
    "version": 3
   },
   "file_extension": ".py",
   "mimetype": "text/x-python",
   "name": "python",
   "nbconvert_exporter": "python",
   "pygments_lexer": "ipython3",
   "version": "3.7.12"
  },
  "papermill": {
   "default_parameters": {},
   "duration": 7848.966073,
   "end_time": "2022-05-24T17:05:24.393241",
   "environment_variables": {},
   "exception": null,
   "input_path": "__notebook__.ipynb",
   "output_path": "__notebook__.ipynb",
   "parameters": {},
   "start_time": "2022-05-24T14:54:35.427168",
   "version": "2.3.4"
  }
 },
 "nbformat": 4,
 "nbformat_minor": 5
}
