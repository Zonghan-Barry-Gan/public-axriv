{
 "cells": [
  {
   "cell_type": "code",
   "execution_count": 1,
   "id": "3c3c2a86",
   "metadata": {
    "_cell_guid": "b1076dfc-b9ad-4769-8c92-a6c4dae69d19",
    "_uuid": "8f2839f25d086af736a60e9eeb907d3b93b6e0e5",
    "execution": {
     "iopub.execute_input": "2022-05-24T15:01:50.973566Z",
     "iopub.status.busy": "2022-05-24T15:01:50.973257Z",
     "iopub.status.idle": "2022-05-24T15:02:05.044944Z",
     "shell.execute_reply": "2022-05-24T15:02:05.044161Z"
    },
    "papermill": {
     "duration": 14.123333,
     "end_time": "2022-05-24T15:02:05.047008",
     "exception": false,
     "start_time": "2022-05-24T15:01:50.923675",
     "status": "completed"
    },
    "tags": []
   },
   "outputs": [
    {
     "name": "stdout",
     "output_type": "stream",
     "text": [
      "Collecting Livelossplot\r\n",
      "  Downloading livelossplot-0.5.5-py3-none-any.whl (22 kB)\r\n",
      "Requirement already satisfied: numpy<1.22 in /opt/conda/lib/python3.7/site-packages (from Livelossplot) (1.21.6)\r\n",
      "Requirement already satisfied: matplotlib in /opt/conda/lib/python3.7/site-packages (from Livelossplot) (3.5.2)\r\n",
      "Requirement already satisfied: ipython==7.* in /opt/conda/lib/python3.7/site-packages (from Livelossplot) (7.32.0)\r\n",
      "Requirement already satisfied: bokeh in /opt/conda/lib/python3.7/site-packages (from Livelossplot) (2.4.2)\r\n",
      "Requirement already satisfied: matplotlib-inline in /opt/conda/lib/python3.7/site-packages (from ipython==7.*->Livelossplot) (0.1.3)\r\n",
      "Requirement already satisfied: decorator in /opt/conda/lib/python3.7/site-packages (from ipython==7.*->Livelossplot) (5.1.1)\r\n",
      "Requirement already satisfied: pygments in /opt/conda/lib/python3.7/site-packages (from ipython==7.*->Livelossplot) (2.11.2)\r\n",
      "Requirement already satisfied: pexpect>4.3 in /opt/conda/lib/python3.7/site-packages (from ipython==7.*->Livelossplot) (4.8.0)\r\n",
      "Requirement already satisfied: backcall in /opt/conda/lib/python3.7/site-packages (from ipython==7.*->Livelossplot) (0.2.0)\r\n",
      "Requirement already satisfied: pickleshare in /opt/conda/lib/python3.7/site-packages (from ipython==7.*->Livelossplot) (0.7.5)\r\n",
      "Requirement already satisfied: setuptools>=18.5 in /opt/conda/lib/python3.7/site-packages (from ipython==7.*->Livelossplot) (59.8.0)\r\n",
      "Requirement already satisfied: prompt-toolkit!=3.0.0,!=3.0.1,<3.1.0,>=2.0.0 in /opt/conda/lib/python3.7/site-packages (from ipython==7.*->Livelossplot) (3.0.27)\r\n",
      "Requirement already satisfied: jedi>=0.16 in /opt/conda/lib/python3.7/site-packages (from ipython==7.*->Livelossplot) (0.18.1)\r\n",
      "Requirement already satisfied: traitlets>=4.2 in /opt/conda/lib/python3.7/site-packages (from ipython==7.*->Livelossplot) (5.1.1)\r\n",
      "Requirement already satisfied: PyYAML>=3.10 in /opt/conda/lib/python3.7/site-packages (from bokeh->Livelossplot) (6.0)\r\n",
      "Requirement already satisfied: tornado>=5.1 in /opt/conda/lib/python3.7/site-packages (from bokeh->Livelossplot) (6.1)\r\n",
      "Requirement already satisfied: Jinja2>=2.9 in /opt/conda/lib/python3.7/site-packages (from bokeh->Livelossplot) (3.1.2)\r\n",
      "Requirement already satisfied: typing-extensions>=3.10.0 in /opt/conda/lib/python3.7/site-packages (from bokeh->Livelossplot) (4.2.0)\r\n",
      "Requirement already satisfied: packaging>=16.8 in /opt/conda/lib/python3.7/site-packages (from bokeh->Livelossplot) (21.3)\r\n",
      "Requirement already satisfied: pillow>=7.1.0 in /opt/conda/lib/python3.7/site-packages (from bokeh->Livelossplot) (9.0.1)\r\n",
      "Requirement already satisfied: fonttools>=4.22.0 in /opt/conda/lib/python3.7/site-packages (from matplotlib->Livelossplot) (4.30.0)\r\n",
      "Requirement already satisfied: cycler>=0.10 in /opt/conda/lib/python3.7/site-packages (from matplotlib->Livelossplot) (0.11.0)\r\n",
      "Requirement already satisfied: python-dateutil>=2.7 in /opt/conda/lib/python3.7/site-packages (from matplotlib->Livelossplot) (2.8.2)\r\n",
      "Requirement already satisfied: kiwisolver>=1.0.1 in /opt/conda/lib/python3.7/site-packages (from matplotlib->Livelossplot) (1.4.0)\r\n",
      "Requirement already satisfied: pyparsing>=2.2.1 in /opt/conda/lib/python3.7/site-packages (from matplotlib->Livelossplot) (3.0.7)\r\n",
      "Requirement already satisfied: parso<0.9.0,>=0.8.0 in /opt/conda/lib/python3.7/site-packages (from jedi>=0.16->ipython==7.*->Livelossplot) (0.8.3)\r\n",
      "Requirement already satisfied: MarkupSafe>=2.0 in /opt/conda/lib/python3.7/site-packages (from Jinja2>=2.9->bokeh->Livelossplot) (2.0.1)\r\n",
      "Requirement already satisfied: ptyprocess>=0.5 in /opt/conda/lib/python3.7/site-packages (from pexpect>4.3->ipython==7.*->Livelossplot) (0.7.0)\r\n",
      "Requirement already satisfied: wcwidth in /opt/conda/lib/python3.7/site-packages (from prompt-toolkit!=3.0.0,!=3.0.1,<3.1.0,>=2.0.0->ipython==7.*->Livelossplot) (0.2.5)\r\n",
      "Requirement already satisfied: six>=1.5 in /opt/conda/lib/python3.7/site-packages (from python-dateutil>=2.7->matplotlib->Livelossplot) (1.16.0)\r\n",
      "Installing collected packages: Livelossplot\r\n",
      "Successfully installed Livelossplot-0.5.5\r\n",
      "\u001b[33mWARNING: Running pip as the 'root' user can result in broken permissions and conflicting behaviour with the system package manager. It is recommended to use a virtual environment instead: https://pip.pypa.io/warnings/venv\u001b[0m\u001b[33m\r\n",
      "\u001b[0m"
     ]
    }
   ],
   "source": [
    "# This Python 3 environment comes with many helpful analytics libraries installed\n",
    "# It is defined by the kaggle/python Docker image: https://github.com/kaggle/docker-python\n",
    "# For example, here's several helpful packages to load\n",
    "\n",
    "import numpy as np # linear algebra\n",
    "import pandas as pd # data processing, CSV file I/O (e.g. pd.read_csv)\n",
    "\n",
    "# Input data files are available in the read-only \"../input/\" directory\n",
    "# For example, running this (by clicking run or pressing Shift+Enter) will list all files under the input directory\n",
    "\n",
    "import os\n",
    "\n",
    "import warnings\n",
    "warnings.filterwarnings('ignore')\n",
    "%matplotlib inline\n",
    "!pip install Livelossplot\n",
    "from livelossplot import PlotLossesKeras\n",
    "\n",
    "from glob import glob\n",
    "import os\n",
    "import shutil\n",
    "\n",
    "import numpy as np\n",
    "import pandas as pd\n",
    "# You can write up to 20GB to the current directory (/kaggle/working/) that gets preserved as output when you create a version using \"Save & Run All\" \n",
    "# You can also write temporary files to /kaggle/temp/, but they won't be saved outside of the current session"
   ]
  },
  {
   "cell_type": "markdown",
   "id": "d1a1b58e",
   "metadata": {
    "papermill": {
     "duration": 0.031594,
     "end_time": "2022-05-24T15:02:05.111291",
     "exception": false,
     "start_time": "2022-05-24T15:02:05.079697",
     "status": "completed"
    },
    "tags": []
   },
   "source": [
    "# AIM\n",
    "## To classify the images into \n",
    "### IDC+\n",
    "### IDC-\n",
    "\n",
    "# Validation Strategy:\n",
    "\n",
    "## Train Data Size= 0.7*Total_Data\n",
    "## Validation Data Size= 0.21* Total_Data\n",
    "## Test Data Size= 0.09 * Total_Data\n",
    "\n",
    "# Augmentaions Used:\n",
    "## Each Image is rotated through 45 angles\n"
   ]
  },
  {
   "cell_type": "code",
   "execution_count": 2,
   "id": "09703d9a",
   "metadata": {
    "execution": {
     "iopub.execute_input": "2022-05-24T15:02:05.176382Z",
     "iopub.status.busy": "2022-05-24T15:02:05.176127Z",
     "iopub.status.idle": "2022-05-24T15:02:14.569259Z",
     "shell.execute_reply": "2022-05-24T15:02:14.568058Z"
    },
    "papermill": {
     "duration": 9.428327,
     "end_time": "2022-05-24T15:02:14.571385",
     "exception": false,
     "start_time": "2022-05-24T15:02:05.143058",
     "status": "completed"
    },
    "tags": []
   },
   "outputs": [
    {
     "data": {
      "text/html": [
       "<style type='text/css'>\n",
       ".datatable table.frame { margin-bottom: 0; }\n",
       ".datatable table.frame thead { border-bottom: none; }\n",
       ".datatable table.frame tr.coltypes td {  color: #FFFFFF;  line-height: 6px;  padding: 0 0.5em;}\n",
       ".datatable .bool    { background: #DDDD99; }\n",
       ".datatable .object  { background: #565656; }\n",
       ".datatable .int     { background: #5D9E5D; }\n",
       ".datatable .float   { background: #4040CC; }\n",
       ".datatable .str     { background: #CC4040; }\n",
       ".datatable .time    { background: #40CC40; }\n",
       ".datatable .row_index {  background: var(--jp-border-color3);  border-right: 1px solid var(--jp-border-color0);  color: var(--jp-ui-font-color3);  font-size: 9px;}\n",
       ".datatable .frame tbody td { text-align: left; }\n",
       ".datatable .frame tr.coltypes .row_index {  background: var(--jp-border-color0);}\n",
       ".datatable th:nth-child(2) { padding-left: 12px; }\n",
       ".datatable .hellipsis {  color: var(--jp-cell-editor-border-color);}\n",
       ".datatable .vellipsis {  background: var(--jp-layout-color0);  color: var(--jp-cell-editor-border-color);}\n",
       ".datatable .na {  color: var(--jp-cell-editor-border-color);  font-size: 80%;}\n",
       ".datatable .sp {  opacity: 0.25;}\n",
       ".datatable .footer { font-size: 9px; }\n",
       ".datatable .frame_dimensions {  background: var(--jp-border-color3);  border-top: 1px solid var(--jp-border-color0);  color: var(--jp-ui-font-color3);  display: inline-block;  opacity: 0.6;  padding: 1px 10px 1px 5px;}\n",
       "</style>\n"
      ],
      "text/plain": [
       "<IPython.core.display.HTML object>"
      ]
     },
     "metadata": {},
     "output_type": "display_data"
    },
    {
     "name": "stdout",
     "output_type": "stream",
     "text": [
      "All modules have been imported\n"
     ]
    }
   ],
   "source": [
    "\n",
    "import numpy as np\n",
    "import pandas as pd\n",
    "import cv2\n",
    "from PIL import Image\n",
    "import scipy\n",
    "\n",
    "import tensorflow as tf\n",
    "from tensorflow.keras.applications import *\n",
    "from tensorflow.keras.optimizers import *\n",
    "from tensorflow.keras.losses import *\n",
    "from tensorflow.keras.layers import *\n",
    "from tensorflow.keras.models import *\n",
    "from tensorflow.keras.callbacks import *\n",
    "from tensorflow.keras.preprocessing.image import *\n",
    "from tensorflow.keras.utils import *\n",
    "# import pydot\n",
    "\n",
    "from sklearn.metrics import *\n",
    "from sklearn.model_selection import *\n",
    "import tensorflow.keras.backend as K\n",
    "\n",
    "from tqdm import tqdm, tqdm_notebook\n",
    "from colorama import Fore\n",
    "import json\n",
    "import matplotlib.pyplot as plt\n",
    "import seaborn as sns\n",
    "from glob import glob\n",
    "from skimage.io import *\n",
    "%config Completer.use_jedi = False\n",
    "import time\n",
    "from sklearn.decomposition import PCA\n",
    "from sklearn.svm import LinearSVC\n",
    "from sklearn.linear_model import LogisticRegression\n",
    "from sklearn.metrics import accuracy_score\n",
    "import lightgbm as lgb\n",
    "import xgboost as xgb\n",
    "\n",
    "print(\"All modules have been imported\")"
   ]
  },
  {
   "cell_type": "code",
   "execution_count": 3,
   "id": "53643b6b",
   "metadata": {
    "execution": {
     "iopub.execute_input": "2022-05-24T15:02:14.677719Z",
     "iopub.status.busy": "2022-05-24T15:02:14.676963Z",
     "iopub.status.idle": "2022-05-24T15:02:14.680810Z",
     "shell.execute_reply": "2022-05-24T15:02:14.680269Z"
    },
    "papermill": {
     "duration": 0.058239,
     "end_time": "2022-05-24T15:02:14.682877",
     "exception": false,
     "start_time": "2022-05-24T15:02:14.624638",
     "status": "completed"
    },
    "tags": []
   },
   "outputs": [],
   "source": [
    "sampling_seed=0\n",
    "size_4_training=5000\n",
    "img_size=224\n",
    "training_reshape=(-1, img_size, img_size, 3)\n",
    "epoch_4_test=10\n",
    "epoch1=10\n",
    "epoch2=3"
   ]
  },
  {
   "cell_type": "markdown",
   "id": "803514dd",
   "metadata": {
    "papermill": {
     "duration": 0.05136,
     "end_time": "2022-05-24T15:02:14.785709",
     "exception": false,
     "start_time": "2022-05-24T15:02:14.734349",
     "status": "completed"
    },
    "tags": []
   },
   "source": [
    "Image labelling"
   ]
  },
  {
   "cell_type": "code",
   "execution_count": 4,
   "id": "74000c52",
   "metadata": {
    "execution": {
     "iopub.execute_input": "2022-05-24T15:02:14.889713Z",
     "iopub.status.busy": "2022-05-24T15:02:14.889330Z",
     "iopub.status.idle": "2022-05-24T15:04:22.455635Z",
     "shell.execute_reply": "2022-05-24T15:04:22.454925Z"
    },
    "papermill": {
     "duration": 127.621457,
     "end_time": "2022-05-24T15:04:22.458417",
     "exception": false,
     "start_time": "2022-05-24T15:02:14.836960",
     "status": "completed"
    },
    "tags": []
   },
   "outputs": [
    {
     "name": "stdout",
     "output_type": "stream",
     "text": [
      "['../input/breast-histopathology-images/IDC_regular_ps50_idx5/10295/0/10295_idx5_x1351_y1101_class0.png', '../input/breast-histopathology-images/IDC_regular_ps50_idx5/10295/0/10295_idx5_x1501_y501_class0.png', '../input/breast-histopathology-images/IDC_regular_ps50_idx5/10295/0/10295_idx5_x1501_y1101_class0.png', '../input/breast-histopathology-images/IDC_regular_ps50_idx5/10295/0/10295_idx5_x451_y901_class0.png', '../input/breast-histopathology-images/IDC_regular_ps50_idx5/10295/0/10295_idx5_x801_y451_class0.png', '../input/breast-histopathology-images/IDC_regular_ps50_idx5/10295/0/10295_idx5_x151_y1051_class0.png', '../input/breast-histopathology-images/IDC_regular_ps50_idx5/10295/0/10295_idx5_x1351_y901_class0.png', '../input/breast-histopathology-images/IDC_regular_ps50_idx5/10295/0/10295_idx5_x701_y651_class0.png', '../input/breast-histopathology-images/IDC_regular_ps50_idx5/10295/0/10295_idx5_x951_y1401_class0.png', '../input/breast-histopathology-images/IDC_regular_ps50_idx5/10295/0/10295_idx5_x601_y501_class0.png']\n"
     ]
    }
   ],
   "source": [
    "import random\n",
    "#make directory for labelling\n",
    "os.makedirs('../working/idc2/idc-minus/')     \n",
    "os.makedirs('../working/idc2/idc-plus/')  \n",
    "\n",
    "\n",
    "class0 = [] # 0 = idc+\n",
    "class1 = [] # 1 = idc-\n",
    "imagePatches = glob('../input/breast-histopathology-images/IDC_regular_ps50_idx5/**/*.png', recursive=True)\n",
    "for filename in imagePatches:\n",
    "    if filename.endswith(\"class0.png\"):\n",
    "         class0.append(filename)\n",
    "    else:\n",
    "        class1.append(filename)\n",
    "\n",
    "print(class0[0:10])\n",
    "\n",
    "#sampling 10000 images from class 0 and class 1 to train the model\n",
    "\n",
    "random.seed(sampling_seed)\n",
    "class0sample=random.sample(class0,size_4_training)\n",
    "class1sample=random.sample(class1,size_4_training)\n",
    "\n",
    "\n",
    "def read_and_save_data(path, file_name_array):\n",
    "    j=0\n",
    "    for i in file_name_array:\n",
    "        if i.endswith('.png'):\n",
    "          \n",
    "            \n",
    "            #second copy method\n",
    "            head, tail = os.path.split(i)\n",
    "            outputname=str(path+tail)\n",
    "            #outputname=str(path+str(j)+'.png')\n",
    "            #print(outputname)\n",
    "            shutil.copy(i, outputname)\n",
    "   \n",
    "            #print(status2)\n",
    "            \n",
    "            j=j+1\n",
    "            if j==120000:\n",
    "                break\n",
    "            \n",
    "   \n",
    "class0path='../working/idc2/idc-minus/'\n",
    "class1path='../working/idc2/idc-plus/'\n",
    "\n",
    "\n",
    "\n",
    "\n",
    "read_and_save_data(class0path,class0sample)\n",
    "read_and_save_data(class1path,class1sample)"
   ]
  },
  {
   "cell_type": "markdown",
   "id": "d9908f92",
   "metadata": {
    "papermill": {
     "duration": 0.051409,
     "end_time": "2022-05-24T15:04:22.561774",
     "exception": false,
     "start_time": "2022-05-24T15:04:22.510365",
     "status": "completed"
    },
    "tags": []
   },
   "source": []
  },
  {
   "cell_type": "code",
   "execution_count": null,
   "id": "2e41e885",
   "metadata": {
    "papermill": {
     "duration": 0.051029,
     "end_time": "2022-05-24T15:04:22.664206",
     "exception": false,
     "start_time": "2022-05-24T15:04:22.613177",
     "status": "completed"
    },
    "tags": []
   },
   "outputs": [],
   "source": [
    "\n"
   ]
  },
  {
   "cell_type": "code",
   "execution_count": 5,
   "id": "b881d259",
   "metadata": {
    "execution": {
     "iopub.execute_input": "2022-05-24T15:04:22.768569Z",
     "iopub.status.busy": "2022-05-24T15:04:22.768218Z",
     "iopub.status.idle": "2022-05-24T15:04:22.772029Z",
     "shell.execute_reply": "2022-05-24T15:04:22.771071Z"
    },
    "papermill": {
     "duration": 0.058256,
     "end_time": "2022-05-24T15:04:22.773781",
     "exception": false,
     "start_time": "2022-05-24T15:04:22.715525",
     "status": "completed"
    },
    "tags": []
   },
   "outputs": [],
   "source": [
    "\n",
    "from PIL import Image\n",
    "import glob\n"
   ]
  },
  {
   "cell_type": "code",
   "execution_count": null,
   "id": "7ebd8b10",
   "metadata": {
    "papermill": {
     "duration": 0.050663,
     "end_time": "2022-05-24T15:04:22.875508",
     "exception": false,
     "start_time": "2022-05-24T15:04:22.824845",
     "status": "completed"
    },
    "tags": []
   },
   "outputs": [],
   "source": []
  },
  {
   "cell_type": "code",
   "execution_count": null,
   "id": "d8c20409",
   "metadata": {
    "papermill": {
     "duration": 0.050601,
     "end_time": "2022-05-24T15:04:22.977022",
     "exception": false,
     "start_time": "2022-05-24T15:04:22.926421",
     "status": "completed"
    },
    "tags": []
   },
   "outputs": [],
   "source": []
  },
  {
   "cell_type": "code",
   "execution_count": 6,
   "id": "7fb2c657",
   "metadata": {
    "execution": {
     "iopub.execute_input": "2022-05-24T15:04:23.081051Z",
     "iopub.status.busy": "2022-05-24T15:04:23.080480Z",
     "iopub.status.idle": "2022-05-24T15:04:23.084212Z",
     "shell.execute_reply": "2022-05-24T15:04:23.083556Z"
    },
    "papermill": {
     "duration": 0.057517,
     "end_time": "2022-05-24T15:04:23.086048",
     "exception": false,
     "start_time": "2022-05-24T15:04:23.028531",
     "status": "completed"
    },
    "tags": []
   },
   "outputs": [],
   "source": [
    "import os #Operating System\n",
    "import sys #System\n",
    "# train_generator = train_datagen.flow(x_train, y_train, batch_size =)\n",
    "# val_generator = val_datagen.flow(x_val, y_val, batch_size = 64)\n",
    "# test_generator=test_datagen.flow(x_test,y_test,batch_size = 64)\n"
   ]
  },
  {
   "cell_type": "markdown",
   "id": "2b0dbb16",
   "metadata": {
    "papermill": {
     "duration": 0.050269,
     "end_time": "2022-05-24T15:04:23.186879",
     "exception": false,
     "start_time": "2022-05-24T15:04:23.136610",
     "status": "completed"
    },
    "tags": []
   },
   "source": [
    "#import image"
   ]
  },
  {
   "cell_type": "code",
   "execution_count": 7,
   "id": "f2e1dcb0",
   "metadata": {
    "execution": {
     "iopub.execute_input": "2022-05-24T15:04:23.290569Z",
     "iopub.status.busy": "2022-05-24T15:04:23.290341Z",
     "iopub.status.idle": "2022-05-24T15:04:23.296349Z",
     "shell.execute_reply": "2022-05-24T15:04:23.295444Z"
    },
    "papermill": {
     "duration": 0.060929,
     "end_time": "2022-05-24T15:04:23.298824",
     "exception": false,
     "start_time": "2022-05-24T15:04:23.237895",
     "status": "completed"
    },
    "tags": []
   },
   "outputs": [],
   "source": [
    "import cv2\n",
    "'''\n",
    "def readImage(path, X, Y, label):\n",
    "    j=0\n",
    " \n",
    "    for i in os.listdir(path):\n",
    "        imgname=path+i\n",
    "        #print(imgname)\n",
    "        img = cv2.imread(imgname, cv2.IMREAD_COLOR)\n",
    "        img =cv2.resize(img,(50, 50))\n",
    "        X.append(img)\n",
    "        Y.append(label)\n",
    "        j=j+1\n",
    "        #if j==10:\n",
    "        #    break\n",
    "        \n",
    "    return X, Y\n",
    "    '''\n",
    "def readImage(path, tag):\n",
    "    j=0\n",
    "    image_array = []\n",
    "    for i in os.listdir(path):\n",
    "        imgname=path+i\n",
    "        #print(imgname)\n",
    "        img = cv2.imread(imgname, cv2.IMREAD_COLOR)\n",
    "        img_resized = cv2.resize(img, (img_size,img_size), interpolation=cv2.INTER_LINEAR)\n",
    "        image_array.append([img_resized, tag])\n",
    "        #print(img[1])\n",
    "        j=j+1\n",
    "        #if j==10:\n",
    "        #    break\n",
    "        \n",
    "    return image_array"
   ]
  },
  {
   "cell_type": "code",
   "execution_count": 8,
   "id": "d721d494",
   "metadata": {
    "execution": {
     "iopub.execute_input": "2022-05-24T15:04:23.402880Z",
     "iopub.status.busy": "2022-05-24T15:04:23.402670Z",
     "iopub.status.idle": "2022-05-24T15:04:27.206877Z",
     "shell.execute_reply": "2022-05-24T15:04:27.205712Z"
    },
    "papermill": {
     "duration": 3.858311,
     "end_time": "2022-05-24T15:04:27.208688",
     "exception": false,
     "start_time": "2022-05-24T15:04:23.350377",
     "status": "completed"
    },
    "tags": []
   },
   "outputs": [
    {
     "name": "stdout",
     "output_type": "stream",
     "text": [
      "(5000, 2)\n",
      "(10000, 2)\n",
      "(10000, 224, 224, 3)\n"
     ]
    }
   ],
   "source": [
    "import numpy as np\n",
    "\n",
    "\n",
    "class0_array = readImage(class0path, 0)\n",
    "class1_array = readImage(class1path, 1)\n",
    "class0_array=np.array(class0_array)\n",
    "class1_array=np.array(class1_array)\n",
    "combined_data = np.concatenate((class0_array, class1_array))\n",
    "random.seed(41)\n",
    "random.shuffle(combined_data)\n",
    "print(class0_array.shape)\n",
    "print(combined_data.shape)\n",
    "\n",
    "X = []\n",
    "y = []\n",
    "\n",
    "for features,label in combined_data:\n",
    "    X.append(features)\n",
    "    y.append(label)\n",
    "#print(X.shape)\n",
    "#pring(y.shape)\n",
    "\n",
    "# reshape X data\n",
    "X = np.array(X).reshape(training_reshape)\n",
    "print(X.shape)"
   ]
  },
  {
   "cell_type": "code",
   "execution_count": 9,
   "id": "b0035a4e",
   "metadata": {
    "execution": {
     "iopub.execute_input": "2022-05-24T15:04:27.279158Z",
     "iopub.status.busy": "2022-05-24T15:04:27.278699Z",
     "iopub.status.idle": "2022-05-24T15:04:27.649514Z",
     "shell.execute_reply": "2022-05-24T15:04:27.648528Z"
    },
    "papermill": {
     "duration": 0.407992,
     "end_time": "2022-05-24T15:04:27.651094",
     "exception": false,
     "start_time": "2022-05-24T15:04:27.243102",
     "status": "completed"
    },
    "tags": []
   },
   "outputs": [
    {
     "name": "stdout",
     "output_type": "stream",
     "text": [
      "(7000, 224, 224, 3) (900, 224, 224, 3) (2100, 224, 224, 3) (7000, 2) (900, 2) (2100, 2)\n"
     ]
    }
   ],
   "source": [
    "X_train, X_test1, y_train, y_test1 = train_test_split(X, y, test_size=0.3, random_state=42)\n",
    "X_val, X_test, y_val, y_test = train_test_split(X_test1, y_test1, test_size=0.3, random_state=42)\n",
    "y_train = to_categorical(y_train)\n",
    "y_test = to_categorical(y_test)\n",
    "y_val = to_categorical(y_val)\n",
    "print(X_train.shape, X_test.shape, X_val.shape, y_train.shape, y_test.shape, y_val.shape)"
   ]
  },
  {
   "cell_type": "code",
   "execution_count": 10,
   "id": "1737a44d",
   "metadata": {
    "execution": {
     "iopub.execute_input": "2022-05-24T15:04:27.723150Z",
     "iopub.status.busy": "2022-05-24T15:04:27.722873Z",
     "iopub.status.idle": "2022-05-24T15:04:27.728401Z",
     "shell.execute_reply": "2022-05-24T15:04:27.727558Z"
    },
    "papermill": {
     "duration": 0.04373,
     "end_time": "2022-05-24T15:04:27.730334",
     "exception": false,
     "start_time": "2022-05-24T15:04:27.686604",
     "status": "completed"
    },
    "tags": []
   },
   "outputs": [],
   "source": [
    "#Callbacks\n",
    "c2=tf.keras.callbacks.EarlyStopping(\n",
    "    monitor=\"val_loss\",\n",
    "    min_delta=0,\n",
    "    patience=6,\n",
    "    mode=\"auto\",\n",
    "    baseline=None,\n",
    "    restore_best_weights=True,\n",
    ")\n",
    "\n",
    "c3=tf.keras.callbacks.ReduceLROnPlateau(\n",
    "    monitor=\"val_loss\",\n",
    "    factor=0.1,\n",
    "    patience=6,\n",
    "    mode=\"auto\",\n",
    "    min_delta=0.0001,\n",
    "    cooldown=0,\n",
    "    min_lr=0.001\n",
    ")\n",
    "nClasses=2"
   ]
  },
  {
   "cell_type": "markdown",
   "id": "12111c9b",
   "metadata": {
    "papermill": {
     "duration": 0.034959,
     "end_time": "2022-05-24T15:04:27.799955",
     "exception": false,
     "start_time": "2022-05-24T15:04:27.764996",
     "status": "completed"
    },
    "tags": []
   },
   "source": [
    "# Model configure"
   ]
  },
  {
   "cell_type": "code",
   "execution_count": 11,
   "id": "6e36495b",
   "metadata": {
    "execution": {
     "iopub.execute_input": "2022-05-24T15:04:27.872295Z",
     "iopub.status.busy": "2022-05-24T15:04:27.871704Z",
     "iopub.status.idle": "2022-05-24T15:04:33.420446Z",
     "shell.execute_reply": "2022-05-24T15:04:33.419777Z"
    },
    "papermill": {
     "duration": 5.588018,
     "end_time": "2022-05-24T15:04:33.423007",
     "exception": false,
     "start_time": "2022-05-24T15:04:27.834989",
     "status": "completed"
    },
    "tags": []
   },
   "outputs": [
    {
     "name": "stderr",
     "output_type": "stream",
     "text": [
      "2022-05-24 15:04:27.929680: I tensorflow/core/common_runtime/process_util.cc:146] Creating new thread pool with default inter op setting: 2. Tune using inter_op_parallelism_threads for best performance.\n"
     ]
    },
    {
     "name": "stdout",
     "output_type": "stream",
     "text": [
      "Downloading data from https://storage.googleapis.com/tensorflow/keras-applications/vgg19/vgg19_weights_tf_dim_ordering_tf_kernels_notop.h5\n",
      "80142336/80134624 [==============================] - 3s 0us/step\n",
      "80150528/80134624 [==============================] - 3s 0us/step\n",
      "Model: \"sequential\"\n",
      "_________________________________________________________________\n",
      "Layer (type)                 Output Shape              Param #   \n",
      "=================================================================\n",
      "vgg19 (Functional)           (None, 7, 7, 512)         20024384  \n",
      "_________________________________________________________________\n",
      "flatten (Flatten)            (None, 25088)             0         \n",
      "_________________________________________________________________\n",
      "batch_normalization (BatchNo (None, 25088)             100352    \n",
      "_________________________________________________________________\n",
      "dense (Dense)                (None, 4096)              102764544 \n",
      "_________________________________________________________________\n",
      "batch_normalization_1 (Batch (None, 4096)              16384     \n",
      "_________________________________________________________________\n",
      "dense_1 (Dense)              (None, 4096)              16781312  \n",
      "_________________________________________________________________\n",
      "dropout (Dropout)            (None, 4096)              0         \n",
      "_________________________________________________________________\n",
      "dense_2 (Dense)              (None, 2096)              8587312   \n",
      "_________________________________________________________________\n",
      "dense_3 (Dense)              (None, 2)                 4194      \n",
      "=================================================================\n",
      "Total params: 148,278,482\n",
      "Trainable params: 128,195,730\n",
      "Non-trainable params: 20,082,752\n",
      "_________________________________________________________________\n"
     ]
    }
   ],
   "source": [
    "RESNET50_POOLING_AVERAGE = 'avg'\n",
    "DENSE_LAYER_ACTIVATION = 'sigmoid'\n",
    "OBJECTIVE_FUNCTION = 'categorical_crossentropy'\n",
    "\n",
    "# Common accuracy metric for all outputs, but can use different metrics for different output\n",
    "LOSS_METRICS = ['accuracy']\n",
    "\n",
    "# EARLY_STOP_PATIENCE must be < NUM_EPOCHS\n",
    "NUM_EPOCHS = 30\n",
    "EARLY_STOP_PATIENCE = 3\n",
    "#resnet_weights_path = '../input/resnet50/resnet50_weights_tf_dim_ordering_tf_kernels_notop.h5'\n",
    "\n",
    "\n",
    "# fix pretrained layers for deep fea\n",
    "from keras.applications.vgg19 import VGG19\n",
    "base_model=VGG19(include_top=False, input_shape=(img_size, img_size,3), weights='imagenet')\n",
    "base_model.trainable = False\n",
    "model=Sequential()\n",
    "model.add(base_model)\n",
    "model.add(Flatten())\n",
    "model.add(BatchNormalization())\n",
    "model.add(Dense(4096,kernel_initializer='he_uniform'))\n",
    "model.add(BatchNormalization())\n",
    "model.add(Dense(4096,activation=\"relu\"))\n",
    "#model.add(BatchNormalization())\n",
    "#model.add(Activation('relu'))\n",
    "model.add(Dropout(0.2))\n",
    "model.add(Dense(2096,activation=\"relu\"))\n",
    "model.add(Dense(2, activation='sigmoid'))\n",
    "#model = Model(inputs=resnet50_base_model.input, outputs=predictions)\n",
    "model.summary()\n"
   ]
  },
  {
   "cell_type": "code",
   "execution_count": 12,
   "id": "9949f93d",
   "metadata": {
    "execution": {
     "iopub.execute_input": "2022-05-24T15:04:33.604164Z",
     "iopub.status.busy": "2022-05-24T15:04:33.603695Z",
     "iopub.status.idle": "2022-05-24T15:04:35.031778Z",
     "shell.execute_reply": "2022-05-24T15:04:35.029358Z"
    },
    "papermill": {
     "duration": 1.520496,
     "end_time": "2022-05-24T15:04:35.034212",
     "exception": false,
     "start_time": "2022-05-24T15:04:33.513716",
     "status": "completed"
    },
    "tags": []
   },
   "outputs": [
    {
     "data": {
      "image/png": "[encoded data removed]",
      "text/plain": [
       "<IPython.core.display.Image object>"
      ]
     },
     "execution_count": 12,
     "metadata": {},
     "output_type": "execute_result"
    }
   ],
   "source": [
    "from tensorflow.keras.utils import plot_model\n",
    "from IPython.display import Image\n",
    "plot_model(model, to_file='convnet.png', show_shapes=True,show_layer_names=True)\n",
    "Image(filename='convnet.png') "
   ]
  },
  {
   "cell_type": "code",
   "execution_count": 13,
   "id": "8ca60baa",
   "metadata": {
    "execution": {
     "iopub.execute_input": "2022-05-24T15:04:35.200820Z",
     "iopub.status.busy": "2022-05-24T15:04:35.200551Z",
     "iopub.status.idle": "2022-05-24T15:04:35.220341Z",
     "shell.execute_reply": "2022-05-24T15:04:35.219762Z"
    },
    "papermill": {
     "duration": 0.114085,
     "end_time": "2022-05-24T15:04:35.222249",
     "exception": false,
     "start_time": "2022-05-24T15:04:35.108164",
     "status": "completed"
    },
    "tags": []
   },
   "outputs": [],
   "source": [
    "callbacks1 = [EarlyStopping(monitor='val_loss', patience=5, verbose=1), ModelCheckpoint('model.hdf5', save_best_only=True)]\n",
    "opt = Adam(learning_rate=0.001)\n",
    "model.compile(loss='categorical_crossentropy', optimizer=opt, metrics=['accuracy'])"
   ]
  },
  {
   "cell_type": "code",
   "execution_count": 14,
   "id": "c258db80",
   "metadata": {
    "execution": {
     "iopub.execute_input": "2022-05-24T15:04:35.342878Z",
     "iopub.status.busy": "2022-05-24T15:04:35.342482Z",
     "iopub.status.idle": "2022-05-24T19:19:29.894613Z",
     "shell.execute_reply": "2022-05-24T19:19:29.892756Z"
    },
    "papermill": {
     "duration": 15295.074583,
     "end_time": "2022-05-24T19:19:30.357445",
     "exception": false,
     "start_time": "2022-05-24T15:04:35.282862",
     "status": "completed"
    },
    "tags": []
   },
   "outputs": [
    {
     "name": "stdout",
     "output_type": "stream",
     "text": [
      "CPU times: user 3 µs, sys: 2 µs, total: 5 µs\n",
      "Wall time: 17.9 µs\n"
     ]
    },
    {
     "name": "stderr",
     "output_type": "stream",
     "text": [
      "2022-05-24 15:04:36.776364: I tensorflow/compiler/mlir/mlir_graph_optimization_pass.cc:185] None of the MLIR Optimization Passes are enabled (registered 2)\n"
     ]
    },
    {
     "name": "stdout",
     "output_type": "stream",
     "text": [
      "Epoch 1/10\n",
      "219/219 [==============================] - 2533s 12s/step - loss: 0.5681 - accuracy: 0.8581 - val_loss: 0.2933 - val_accuracy: 0.8789\n",
      "Epoch 2/10\n",
      "219/219 [==============================] - 2562s 12s/step - loss: 0.1686 - accuracy: 0.9349 - val_loss: 0.3209 - val_accuracy: 0.9000\n",
      "Epoch 3/10\n",
      "219/219 [==============================] - 2562s 12s/step - loss: 0.1096 - accuracy: 0.9620 - val_loss: 0.4193 - val_accuracy: 0.8889\n",
      "Epoch 4/10\n",
      "219/219 [==============================] - 2539s 12s/step - loss: 0.0927 - accuracy: 0.9693 - val_loss: 0.6456 - val_accuracy: 0.9011\n",
      "Epoch 5/10\n",
      "219/219 [==============================] - 2542s 12s/step - loss: 0.1006 - accuracy: 0.9689 - val_loss: 0.8221 - val_accuracy: 0.8856\n",
      "Epoch 6/10\n",
      "219/219 [==============================] - 2552s 12s/step - loss: 0.1210 - accuracy: 0.9704 - val_loss: 1.8830 - val_accuracy: 0.8856\n",
      "Epoch 00006: early stopping\n"
     ]
    }
   ],
   "source": [
    "%time\n",
    "history1=model.fit(X_train, y_train,validation_data=(X_test, y_test),verbose = 1,epochs = epoch1,callbacks=callbacks1)"
   ]
  },
  {
   "cell_type": "code",
   "execution_count": 15,
   "id": "2ae6a870",
   "metadata": {
    "execution": {
     "iopub.execute_input": "2022-05-24T19:19:31.284121Z",
     "iopub.status.busy": "2022-05-24T19:19:31.283818Z",
     "iopub.status.idle": "2022-05-24T19:19:31.293387Z",
     "shell.execute_reply": "2022-05-24T19:19:31.292303Z"
    },
    "papermill": {
     "duration": 0.47751,
     "end_time": "2022-05-24T19:19:31.296301",
     "exception": false,
     "start_time": "2022-05-24T19:19:30.818791",
     "status": "completed"
    },
    "tags": []
   },
   "outputs": [],
   "source": [
    "def f1_score(y_true, y_pred): #taken from old keras source code\n",
    "    true_positives = K.sum(K.round(K.clip(y_true * y_pred, 0, 1)))\n",
    "    possible_positives = K.sum(K.round(K.clip(y_true, 0, 1)))\n",
    "    predicted_positives = K.sum(K.round(K.clip(y_pred, 0, 1)))\n",
    "    precision = true_positives / (predicted_positives + K.epsilon())\n",
    "    recall = true_positives / (possible_positives + K.epsilon())\n",
    "    f1_val = 2*(precision*recall)/(precision+recall+K.epsilon())\n",
    "    return f1_val"
   ]
  },
  {
   "cell_type": "code",
   "execution_count": 16,
   "id": "d2dbd4c5",
   "metadata": {
    "execution": {
     "iopub.execute_input": "2022-05-24T19:19:32.211683Z",
     "iopub.status.busy": "2022-05-24T19:19:32.211426Z",
     "iopub.status.idle": "2022-05-24T19:20:00.845080Z",
     "shell.execute_reply": "2022-05-24T19:20:00.844096Z"
    },
    "papermill": {
     "duration": 29.085177,
     "end_time": "2022-05-24T19:20:00.847045",
     "exception": false,
     "start_time": "2022-05-24T19:19:31.761868",
     "status": "completed"
    },
    "tags": []
   },
   "outputs": [],
   "source": [
    "METRICS = [\n",
    "      tf.keras.metrics.BinaryAccuracy(name='accuracy'),\n",
    "      tf.keras.metrics.Precision(name='precision'),\n",
    "      tf.keras.metrics.Recall(name='recall'),  \n",
    "      tf.keras.metrics.AUC(name='auc'),\n",
    "        f1_score,\n",
    "]"
   ]
  },
  {
   "cell_type": "code",
   "execution_count": null,
   "id": "ef2fd61b",
   "metadata": {
    "execution": {
     "iopub.execute_input": "2022-05-06T15:08:04.489795Z",
     "iopub.status.busy": "2022-05-06T15:08:04.488846Z",
     "iopub.status.idle": "2022-05-06T15:08:04.918152Z",
     "shell.execute_reply": "2022-05-06T15:08:04.917046Z",
     "shell.execute_reply.started": "2022-05-06T15:08:04.489742Z"
    },
    "papermill": {
     "duration": 0.701176,
     "end_time": "2022-05-24T19:20:02.154030",
     "exception": false,
     "start_time": "2022-05-24T19:20:01.452854",
     "status": "completed"
    },
    "tags": []
   },
   "outputs": [],
   "source": []
  },
  {
   "cell_type": "code",
   "execution_count": 17,
   "id": "920e59e2",
   "metadata": {
    "execution": {
     "iopub.execute_input": "2022-05-24T19:20:03.563681Z",
     "iopub.status.busy": "2022-05-24T19:20:03.563443Z",
     "iopub.status.idle": "2022-05-24T19:30:56.183960Z",
     "shell.execute_reply": "2022-05-24T19:30:56.182767Z"
    },
    "papermill": {
     "duration": 654.040813,
     "end_time": "2022-05-24T19:30:56.899570",
     "exception": false,
     "start_time": "2022-05-24T19:20:02.858757",
     "status": "completed"
    },
    "tags": []
   },
   "outputs": [
    {
     "data": {
      "image/png": "[encoded data removed]",
      "text/plain": [
       "<Figure size 576x576 with 2 Axes>"
      ]
     },
     "metadata": {
      "needs_background": "light"
     },
     "output_type": "display_data"
    }
   ],
   "source": [
    "from sklearn.metrics import confusion_matrix\n",
    "import seaborn as sns\n",
    "\n",
    "Y_pred = model.predict(X_val)\n",
    "Y_pred_classes = np.argmax(Y_pred,axis = 1) \n",
    "Y_true = np.argmax(y_val,axis = 1) \n",
    "\n",
    "confusion_mtx = confusion_matrix(Y_true, Y_pred_classes) \n",
    "\n",
    "f,ax = plt.subplots(figsize=(8, 8))\n",
    "sns.heatmap(confusion_mtx, annot=True, linewidths=0.01,cmap=\"OrRd\",linecolor=\"black\", fmt= '.1f',ax=ax)\n",
    "plt.xlabel(\"Predicted Label\")\n",
    "plt.ylabel(\"True Label\")\n",
    "plt.title(\"Confusion Matrix\")\n",
    "plt.show()"
   ]
  },
  {
   "cell_type": "code",
   "execution_count": 18,
   "id": "c4f022c2",
   "metadata": {
    "execution": {
     "iopub.execute_input": "2022-05-24T19:30:58.435372Z",
     "iopub.status.busy": "2022-05-24T19:30:58.434968Z",
     "iopub.status.idle": "2022-05-24T19:30:58.443692Z",
     "shell.execute_reply": "2022-05-24T19:30:58.443227Z"
    },
    "papermill": {
     "duration": 0.733005,
     "end_time": "2022-05-24T19:30:58.446166",
     "exception": false,
     "start_time": "2022-05-24T19:30:57.713161",
     "status": "completed"
    },
    "tags": []
   },
   "outputs": [
    {
     "name": "stdout",
     "output_type": "stream",
     "text": [
      "              precision    recall  f1-score   support\n",
      "\n",
      "           0       0.96      0.94      0.95      1806\n",
      "           1       0.67      0.73      0.70       294\n",
      "\n",
      "    accuracy                           0.91      2100\n",
      "   macro avg       0.81      0.83      0.82      2100\n",
      "weighted avg       0.92      0.91      0.91      2100\n",
      "\n"
     ]
    }
   ],
   "source": [
    "from sklearn.metrics import classification_report\n",
    "\n",
    "print(classification_report(Y_true, Y_pred_classes))"
   ]
  },
  {
   "cell_type": "markdown",
   "id": "98b7d636",
   "metadata": {
    "papermill": {
     "duration": 0.705349,
     "end_time": "2022-05-24T19:30:59.857763",
     "exception": false,
     "start_time": "2022-05-24T19:30:59.152414",
     "status": "completed"
    },
    "tags": []
   },
   "source": []
  },
  {
   "cell_type": "code",
   "execution_count": null,
   "id": "2d2ef9b0",
   "metadata": {
    "execution": {
     "iopub.execute_input": "2022-05-06T15:08:41.911737Z",
     "iopub.status.busy": "2022-05-06T15:08:41.911171Z",
     "iopub.status.idle": "2022-05-06T15:08:41.922881Z",
     "shell.execute_reply": "2022-05-06T15:08:41.922041Z",
     "shell.execute_reply.started": "2022-05-06T15:08:41.911677Z"
    },
    "papermill": {
     "duration": 0.708241,
     "end_time": "2022-05-24T19:31:01.224658",
     "exception": false,
     "start_time": "2022-05-24T19:31:00.516417",
     "status": "completed"
    },
    "tags": []
   },
   "outputs": [],
   "source": []
  },
  {
   "cell_type": "code",
   "execution_count": 19,
   "id": "70e327a9",
   "metadata": {
    "execution": {
     "iopub.execute_input": "2022-05-24T19:31:02.609506Z",
     "iopub.status.busy": "2022-05-24T19:31:02.609188Z",
     "iopub.status.idle": "2022-05-24T19:31:02.622209Z",
     "shell.execute_reply": "2022-05-24T19:31:02.621741Z"
    },
    "papermill": {
     "duration": 0.704857,
     "end_time": "2022-05-24T19:31:02.624280",
     "exception": false,
     "start_time": "2022-05-24T19:31:01.919423",
     "status": "completed"
    },
    "tags": []
   },
   "outputs": [],
   "source": [
    "from sklearn.metrics import f1_score, roc_auc_score, cohen_kappa_score, precision_score, recall_score, accuracy_score, confusion_matrix\n",
    "def get_accuracy_metrics(model, X_train, y_train, X_val, y_val, X_test, y_test):\n",
    "    y_train=np.argmax(y_train, axis=1)\n",
    "    y_test=np.argmax(y_test, axis=1)\n",
    "    y_val=np.argmax(y_val, axis=1)\n",
    "    y_train_pred=np.argmax(model.predict(X_train),axis=1)\n",
    "    y_test_pred=np.argmax(model.predict(X_test),axis=1)\n",
    "    y_val_pred=np.argmax(model.predict(X_val),axis=1)\n",
    "    #ps:all the Y value must turn back to 1 dimension array. otherwise, the scoring functions in sklearn cannot compare, and will give an error\n",
    "    #classification metrics can't handle a mix of continuous-multioutput and multi-label-indicator targets\n",
    "    \n",
    "    print(\"Train accuracy Score------------>\")\n",
    "    print (\"{0:.3f}\".format(accuracy_score(y_train, y_train_pred)*100), \"%\")\n",
    "    \n",
    "    print(\"Val accuracy Score--------->\")\n",
    "    \n",
    "    print(\"{0:.3f}\".format(accuracy_score(y_val, y_val_pred)*100), \"%\")\n",
    "    \n",
    "  \n",
    "    print(\"Test accuracy Score--------->\")\n",
    "    print(\"{0:.3f}\".format(accuracy_score(y_test, y_test_pred)*100), \"%\")\n",
    "    \n",
    "    print(\"F1 Score--------------->\")\n",
    "    print(\"{0:.3f}\".format(f1_score(y_test, y_test_pred, average = 'weighted')*100), \"%\")\n",
    "    \n",
    "    print(\"Cohen Kappa Score------------->\")\n",
    "    print(\"{0:.3f}\".format(cohen_kappa_score(y_test, y_test_pred)*100), \"%\")\n",
    "    \n",
    "    print(\"Recall-------------->\")\n",
    "    print(\"{0:.3f}\".format(recall_score(y_test, y_test_pred, average = 'weighted')*100), \"%\")\n",
    "    \n",
    "    print(\"Precision-------------->\")\n",
    "    print(\"{0:.3f}\".format(precision_score(y_test, y_test_pred, average = 'weighted')*100), \"%\")\n",
    "    \n",
    "    cf_matrix_test = confusion_matrix(y_test, y_test_pred)\n",
    "    cf_matrix_val = confusion_matrix(y_val, y_val_pred)\n",
    "    \n",
    "    plt.figure(figsize = (12, 6))\n",
    "    plt.subplot(121)\n",
    "    sns.heatmap(cf_matrix_val, annot=True, cmap='Blues')\n",
    "    plt.title(\"Val Confusion matrix\")\n",
    "    \n",
    "    plt.subplot(122)\n",
    "    sns.heatmap(cf_matrix_test, annot=True, cmap='Blues')\n",
    "    plt.title(\"Test Confusion matrix\")\n",
    "    \n",
    "    plt.show()"
   ]
  },
  {
   "cell_type": "code",
   "execution_count": null,
   "id": "6316153a",
   "metadata": {
    "papermill": {
     "duration": 0.693833,
     "end_time": "2022-05-24T19:31:04.027498",
     "exception": false,
     "start_time": "2022-05-24T19:31:03.333665",
     "status": "completed"
    },
    "tags": []
   },
   "outputs": [],
   "source": []
  },
  {
   "cell_type": "code",
   "execution_count": 20,
   "id": "e1d8a389",
   "metadata": {
    "execution": {
     "iopub.execute_input": "2022-05-24T19:31:05.443739Z",
     "iopub.status.busy": "2022-05-24T19:31:05.443290Z",
     "iopub.status.idle": "2022-05-24T20:22:54.537693Z",
     "shell.execute_reply": "2022-05-24T20:22:54.536407Z"
    },
    "papermill": {
     "duration": 3110.200406,
     "end_time": "2022-05-24T20:22:54.926356",
     "exception": false,
     "start_time": "2022-05-24T19:31:04.725950",
     "status": "completed"
    },
    "tags": []
   },
   "outputs": [
    {
     "name": "stdout",
     "output_type": "stream",
     "text": [
      "Train accuracy Score------------>\n",
      "97.071 %\n",
      "Val accuracy Score--------->\n",
      "91.190 %\n",
      "Test accuracy Score--------->\n",
      "88.556 %\n",
      "F1 Score--------------->\n",
      "88.737 %\n",
      "Cohen Kappa Score------------->\n",
      "60.963 %\n",
      "Recall-------------->\n",
      "88.556 %\n",
      "Precision-------------->\n",
      "88.969 %\n"
     ]
    },
    {
     "data": {
      "image/png": "[encoded data removed]",
      "text/plain": [
       "<Figure size 864x432 with 4 Axes>"
      ]
     },
     "metadata": {
      "needs_background": "light"
     },
     "output_type": "display_data"
    }
   ],
   "source": [
    "get_accuracy_metrics(model,  X_train, y_train, X_val, y_val, X_test, y_test)"
   ]
  },
  {
   "cell_type": "code",
   "execution_count": 21,
   "id": "66125ae5",
   "metadata": {
    "execution": {
     "iopub.execute_input": "2022-05-24T20:22:55.857902Z",
     "iopub.status.busy": "2022-05-24T20:22:55.857670Z",
     "iopub.status.idle": "2022-05-24T20:22:56.140654Z",
     "shell.execute_reply": "2022-05-24T20:22:56.140120Z"
    },
    "papermill": {
     "duration": 0.739113,
     "end_time": "2022-05-24T20:22:56.142448",
     "exception": false,
     "start_time": "2022-05-24T20:22:55.403335",
     "status": "completed"
    },
    "tags": []
   },
   "outputs": [
    {
     "data": {
      "image/png": "[encoded data removed]",
      "text/plain": [
       "<Figure size 864x432 with 2 Axes>"
      ]
     },
     "metadata": {
      "needs_background": "light"
     },
     "output_type": "display_data"
    }
   ],
   "source": [
    "import matplotlib.pyplot as plt\n",
    "import seaborn as sns\n",
    "plt.figure(figsize = (12, 6))\n",
    "plt.subplot(121)\n",
    "#plotting the Accuracy of test and training sets\n",
    "plt.plot(history1.history['accuracy'])\n",
    "plt.plot(history1.history['val_accuracy'])\n",
    "plt.title('1st training Model Accuracy')\n",
    "plt.ylabel('accuracy')\n",
    "plt.xlabel('epoch')\n",
    "plt.legend(['train', 'test'], loc='upper left')\n",
    "\n",
    "plt.subplot(122)\n",
    "#plotting the loss of test and training sets\n",
    "plt.plot(history1.history['loss'])\n",
    "plt.plot(history1.history['val_loss'])\n",
    "plt.title('1st training Model Loss')\n",
    "plt.ylabel('loss')\n",
    "plt.xlabel('epoch')\n",
    "plt.legend(['train', 'test'], loc='upper left')\n",
    "plt.show()"
   ]
  },
  {
   "cell_type": "markdown",
   "id": "6f21f99d",
   "metadata": {
    "papermill": {
     "duration": 0.452744,
     "end_time": "2022-05-24T20:22:57.066632",
     "exception": false,
     "start_time": "2022-05-24T20:22:56.613888",
     "status": "completed"
    },
    "tags": []
   },
   "source": [
    "# Second Training Fine Tune"
   ]
  },
  {
   "cell_type": "code",
   "execution_count": 22,
   "id": "4814d88c",
   "metadata": {
    "execution": {
     "iopub.execute_input": "2022-05-24T20:22:57.952744Z",
     "iopub.status.busy": "2022-05-24T20:22:57.952326Z",
     "iopub.status.idle": "2022-05-24T20:22:57.956533Z",
     "shell.execute_reply": "2022-05-24T20:22:57.955956Z"
    },
    "papermill": {
     "duration": 0.461135,
     "end_time": "2022-05-24T20:22:57.957776",
     "exception": false,
     "start_time": "2022-05-24T20:22:57.496641",
     "status": "completed"
    },
    "tags": []
   },
   "outputs": [],
   "source": [
    "for model1 in model.layers:\n",
    "    model1.trainable = True"
   ]
  },
  {
   "cell_type": "code",
   "execution_count": 23,
   "id": "6d9b3336",
   "metadata": {
    "execution": {
     "iopub.execute_input": "2022-05-24T20:22:58.867069Z",
     "iopub.status.busy": "2022-05-24T20:22:58.866790Z",
     "iopub.status.idle": "2022-05-24T20:22:58.871067Z",
     "shell.execute_reply": "2022-05-24T20:22:58.870693Z"
    },
    "papermill": {
     "duration": 0.461715,
     "end_time": "2022-05-24T20:22:58.872595",
     "exception": false,
     "start_time": "2022-05-24T20:22:58.410880",
     "status": "completed"
    },
    "tags": []
   },
   "outputs": [],
   "source": [
    "callbacks2 = [EarlyStopping(monitor='val_loss', patience=5, verbose=1), ModelCheckpoint('test_model.hdf5', save_best_only=True)]\n",
    "opt = Adam(learning_rate=0.001)\n",
    "#model.compile(loss='categorical_crossentropy', optimizer=opt, metrics=['accuracy'])"
   ]
  },
  {
   "cell_type": "code",
   "execution_count": 24,
   "id": "78664a17",
   "metadata": {
    "execution": {
     "iopub.execute_input": "2022-05-24T20:22:59.799018Z",
     "iopub.status.busy": "2022-05-24T20:22:59.798613Z",
     "iopub.status.idle": "2022-05-24T22:28:42.383553Z",
     "shell.execute_reply": "2022-05-24T22:28:42.382427Z"
    },
    "papermill": {
     "duration": 7543.724367,
     "end_time": "2022-05-24T22:28:43.055188",
     "exception": false,
     "start_time": "2022-05-24T20:22:59.330821",
     "status": "completed"
    },
    "tags": []
   },
   "outputs": [
    {
     "name": "stdout",
     "output_type": "stream",
     "text": [
      "Epoch 1/3\n",
      "219/219 [==============================] - 2503s 11s/step - loss: 0.0978 - accuracy: 0.9751 - val_loss: 1.1703 - val_accuracy: 0.9133\n",
      "Epoch 2/3\n",
      "219/219 [==============================] - 2495s 11s/step - loss: 0.0514 - accuracy: 0.9849 - val_loss: 0.9019 - val_accuracy: 0.9078\n",
      "Epoch 3/3\n",
      "219/219 [==============================] - 2538s 12s/step - loss: 0.0438 - accuracy: 0.9857 - val_loss: 2.1881 - val_accuracy: 0.8933\n"
     ]
    }
   ],
   "source": [
    "history2=model.fit(X_train, y_train,validation_data=(X_test, y_test),verbose = 1,epochs = epoch2,callbacks=callbacks2)"
   ]
  },
  {
   "cell_type": "code",
   "execution_count": 25,
   "id": "20483565",
   "metadata": {
    "execution": {
     "iopub.execute_input": "2022-05-24T22:28:44.411343Z",
     "iopub.status.busy": "2022-05-24T22:28:44.411066Z",
     "iopub.status.idle": "2022-05-24T22:39:35.378911Z",
     "shell.execute_reply": "2022-05-24T22:39:35.375161Z"
    },
    "papermill": {
     "duration": 652.545453,
     "end_time": "2022-05-24T22:39:36.271346",
     "exception": false,
     "start_time": "2022-05-24T22:28:43.725893",
     "status": "completed"
    },
    "tags": []
   },
   "outputs": [
    {
     "data": {
      "image/png": "[encoded data removed]",
      "text/plain": [
       "<Figure size 576x576 with 2 Axes>"
      ]
     },
     "metadata": {
      "needs_background": "light"
     },
     "output_type": "display_data"
    }
   ],
   "source": [
    "Y_pred = model.predict(X_val)\n",
    "Y_pred_classes = np.argmax(Y_pred,axis = 1) \n",
    "Y_true = np.argmax(y_val,axis = 1) \n",
    "\n",
    "confusion_mtx = confusion_matrix(Y_true, Y_pred_classes) \n",
    "\n",
    "f,ax = plt.subplots(figsize=(8, 8))\n",
    "sns.heatmap(confusion_mtx, annot=True, linewidths=0.01,cmap=\"OrRd\",linecolor=\"black\", fmt= '.1f',ax=ax)\n",
    "plt.xlabel(\"Predicted Label\")\n",
    "plt.ylabel(\"True Label\")\n",
    "plt.title(\"Confusion Matrix\")\n",
    "plt.show()"
   ]
  },
  {
   "cell_type": "code",
   "execution_count": 26,
   "id": "e8954b76",
   "metadata": {
    "execution": {
     "iopub.execute_input": "2022-05-24T22:39:38.299783Z",
     "iopub.status.busy": "2022-05-24T22:39:38.299496Z",
     "iopub.status.idle": "2022-05-24T22:39:38.310397Z",
     "shell.execute_reply": "2022-05-24T22:39:38.309080Z"
    },
    "papermill": {
     "duration": 1.031446,
     "end_time": "2022-05-24T22:39:38.312672",
     "exception": false,
     "start_time": "2022-05-24T22:39:37.281226",
     "status": "completed"
    },
    "tags": []
   },
   "outputs": [
    {
     "name": "stdout",
     "output_type": "stream",
     "text": [
      "              precision    recall  f1-score   support\n",
      "\n",
      "           0       0.96      0.95      0.95      1806\n",
      "           1       0.70      0.76      0.72       294\n",
      "\n",
      "    accuracy                           0.92      2100\n",
      "   macro avg       0.83      0.85      0.84      2100\n",
      "weighted avg       0.92      0.92      0.92      2100\n",
      "\n"
     ]
    }
   ],
   "source": [
    "print(classification_report(Y_true, Y_pred_classes))"
   ]
  },
  {
   "cell_type": "code",
   "execution_count": 27,
   "id": "f393f373",
   "metadata": {
    "execution": {
     "iopub.execute_input": "2022-05-24T22:39:39.925260Z",
     "iopub.status.busy": "2022-05-24T22:39:39.924971Z",
     "iopub.status.idle": "2022-05-24T23:31:31.923482Z",
     "shell.execute_reply": "2022-05-24T23:31:31.922347Z"
    },
    "papermill": {
     "duration": 3113.717352,
     "end_time": "2022-05-24T23:31:32.727026",
     "exception": false,
     "start_time": "2022-05-24T22:39:39.009674",
     "status": "completed"
    },
    "tags": []
   },
   "outputs": [
    {
     "name": "stdout",
     "output_type": "stream",
     "text": [
      "Train accuracy Score------------>\n",
      "98.271 %\n",
      "Val accuracy Score--------->\n",
      "91.952 %\n",
      "Test accuracy Score--------->\n",
      "89.333 %\n",
      "F1 Score--------------->\n",
      "89.220 %\n",
      "Cohen Kappa Score------------->\n",
      "61.605 %\n",
      "Recall-------------->\n",
      "89.333 %\n",
      "Precision-------------->\n",
      "89.127 %\n"
     ]
    },
    {
     "data": {
      "image/png": "[encoded data removed]",
      "text/plain": [
       "<Figure size 864x432 with 4 Axes>"
      ]
     },
     "metadata": {
      "needs_background": "light"
     },
     "output_type": "display_data"
    }
   ],
   "source": [
    "get_accuracy_metrics(model,  X_train, y_train, X_val, y_val, X_test, y_test)"
   ]
  },
  {
   "cell_type": "code",
   "execution_count": 28,
   "id": "99954d26",
   "metadata": {
    "execution": {
     "iopub.execute_input": "2022-05-24T23:31:34.060283Z",
     "iopub.status.busy": "2022-05-24T23:31:34.060052Z",
     "iopub.status.idle": "2022-05-24T23:31:34.371882Z",
     "shell.execute_reply": "2022-05-24T23:31:34.371290Z"
    },
    "papermill": {
     "duration": 0.979498,
     "end_time": "2022-05-24T23:31:34.374264",
     "exception": false,
     "start_time": "2022-05-24T23:31:33.394766",
     "status": "completed"
    },
    "tags": []
   },
   "outputs": [
    {
     "data": {
      "image/png": "[encoded data removed]",
      "text/plain": [
       "<Figure size 864x432 with 2 Axes>"
      ]
     },
     "metadata": {
      "needs_background": "light"
     },
     "output_type": "display_data"
    }
   ],
   "source": [
    "plt.figure(figsize = (12, 6))\n",
    "plt.subplot(121)\n",
    "#plotting the Accuracy of test and training sets\n",
    "plt.plot(history2.history['accuracy'])\n",
    "plt.plot(history2.history['val_accuracy'])\n",
    "plt.title('2nd training Model Accuracy')\n",
    "plt.ylabel('accuracy')\n",
    "plt.xlabel('epoch')\n",
    "plt.legend(['train', 'test'], loc='upper left')\n",
    "\n",
    "plt.subplot(122)\n",
    "#plotting the loss of test and training sets\n",
    "plt.plot(history2.history['loss'])\n",
    "plt.plot(history2.history['val_loss'])\n",
    "plt.title('2nd training Model Loss')\n",
    "plt.ylabel('loss')\n",
    "plt.xlabel('epoch')\n",
    "plt.legend(['train', 'test'], loc='upper left')\n",
    "plt.show()"
   ]
  }
 ],
 "metadata": {
  "kernelspec": {
   "display_name": "Python 3",
   "language": "python",
   "name": "python3"
  },
  "language_info": {
   "codemirror_mode": {
    "name": "ipython",
    "version": 3
   },
   "file_extension": ".py",
   "mimetype": "text/x-python",
   "name": "python",
   "nbconvert_exporter": "python",
   "pygments_lexer": "ipython3",
   "version": "3.7.12"
  },
  "papermill": {
   "default_parameters": {},
   "duration": 30598.351613,
   "end_time": "2022-05-24T23:31:38.691987",
   "environment_variables": {},
   "exception": null,
   "input_path": "__notebook__.ipynb",
   "output_path": "__notebook__.ipynb",
   "parameters": {},
   "start_time": "2022-05-24T15:01:40.340374",
   "version": "2.3.4"
  }
 },
 "nbformat": 4,
 "nbformat_minor": 5
}
